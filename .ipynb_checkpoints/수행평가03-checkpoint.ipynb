{
 "cells": [
  {
   "cell_type": "markdown",
   "metadata": {},
   "source": [
    "###### 2020-10-14 수요일"
   ]
  },
  {
   "cell_type": "markdown",
   "metadata": {},
   "source": [
    "# Numpy : np.array 실습\n",
    "> - pandas를 사용하지않고 풀어보라!\n",
    "\n",
    "##### rating.data - 영화평점 데이터\n",
    "   - loadtxt()\n",
    "   - delimiter\n",
    "   - dtype()"
   ]
  },
  {
   "cell_type": "code",
   "execution_count": 1,
   "metadata": {},
   "outputs": [],
   "source": [
    "import pandas as pd\n",
    "import numpy as np\n",
    "import matplotlib.pyplot as plt"
   ]
  },
  {
   "cell_type": "markdown",
   "metadata": {},
   "source": [
    "##### 1.데이터 로드"
   ]
  },
  {
   "cell_type": "code",
   "execution_count": 2,
   "metadata": {},
   "outputs": [
    {
     "data": {
      "text/plain": [
       "array([[        1,      1193,         5, 978300760],\n",
       "       [        1,       661,         3, 978302109],\n",
       "       [        1,       914,         3, 978301968],\n",
       "       ...,\n",
       "       [     6040,       562,         5, 956704746],\n",
       "       [     6040,      1096,         4, 956715648],\n",
       "       [     6040,      1097,         4, 956715569]], dtype=int64)"
      ]
     },
     "execution_count": 2,
     "metadata": {},
     "output_type": "execute_result"
    }
   ],
   "source": [
    "# pandas의 데이터프레임으로 불러 올 수도 있지만,\n",
    "# numpy를 이용해서 한번 불러봅시다.\n",
    "\n",
    "data = np.loadtxt('./실습데이터/ratings.dat', delimiter='::', dtype=np.int64)\n",
    "data\n",
    "\n",
    "# 칼럼이름 userid, movieid, 평점, 날짜"
   ]
  },
  {
   "cell_type": "markdown",
   "metadata": {},
   "source": [
    "##### 2. 데이터 정보 확인"
   ]
  },
  {
   "cell_type": "code",
   "execution_count": 3,
   "metadata": {},
   "outputs": [],
   "source": [
    "def arrinfo(arr):\n",
    "    print('type : {}' .format(type(arr)))\n",
    "    print('shape : {}' .format(arr.shape))\n",
    "    print('dimension : {}' .format(arr.ndim))\n",
    "    print('dtype : {}' .format(arr.dtype))\n",
    "    print('Array Data : \\n', arr)\n",
    "    print()"
   ]
  },
  {
   "cell_type": "code",
   "execution_count": 4,
   "metadata": {},
   "outputs": [
    {
     "name": "stdout",
     "output_type": "stream",
     "text": [
      "type : <class 'numpy.ndarray'>\n",
      "shape : (1000209, 4)\n",
      "dimension : 2\n",
      "dtype : int64\n",
      "Array Data : \n",
      " [[        1      1193         5 978300760]\n",
      " [        1       661         3 978302109]\n",
      " [        1       914         3 978301968]\n",
      " ...\n",
      " [     6040       562         5 956704746]\n",
      " [     6040      1096         4 956715648]\n",
      " [     6040      1097         4 956715569]]\n",
      "\n"
     ]
    }
   ],
   "source": [
    "arrinfo(data)"
   ]
  },
  {
   "cell_type": "markdown",
   "metadata": {},
   "source": [
    "##### 3. 데이터의 첫 5개의 행만 확인"
   ]
  },
  {
   "cell_type": "code",
   "execution_count": 5,
   "metadata": {},
   "outputs": [
    {
     "data": {
      "text/plain": [
       "array([[        1,      1193,         5, 978300760],\n",
       "       [        1,       661,         3, 978302109],\n",
       "       [        1,       914,         3, 978301968],\n",
       "       [        1,      3408,         4, 978300275],\n",
       "       [        1,      2355,         5, 978824291]], dtype=int64)"
      ]
     },
     "execution_count": 5,
     "metadata": {},
     "output_type": "execute_result"
    }
   ],
   "source": [
    "data[0:5]"
   ]
  },
  {
   "cell_type": "markdown",
   "metadata": {},
   "source": [
    "##### 4. 데이터의 형태 확인"
   ]
  },
  {
   "cell_type": "code",
   "execution_count": 6,
   "metadata": {},
   "outputs": [
    {
     "data": {
      "text/plain": [
       "(1000209, 4)"
      ]
     },
     "execution_count": 6,
     "metadata": {},
     "output_type": "execute_result"
    }
   ],
   "source": [
    "data.shape"
   ]
  },
  {
   "cell_type": "markdown",
   "metadata": {},
   "source": [
    "##### 5. 전체평균평점 계산"
   ]
  },
  {
   "cell_type": "code",
   "execution_count": 7,
   "metadata": {},
   "outputs": [
    {
     "data": {
      "text/plain": [
       "3.581564453029317"
      ]
     },
     "execution_count": 7,
     "metadata": {},
     "output_type": "execute_result"
    }
   ],
   "source": [
    "data[:, 2].mean()"
   ]
  },
  {
   "cell_type": "markdown",
   "metadata": {},
   "source": [
    "##### 6. 사용자 아이디 수집"
   ]
  },
  {
   "cell_type": "code",
   "execution_count": 9,
   "metadata": {},
   "outputs": [
    {
     "name": "stdout",
     "output_type": "stream",
     "text": [
      "<class 'numpy.ndarray'>\n",
      "[   1    2    3 ... 6038 6039 6040]\n"
     ]
    }
   ],
   "source": [
    "user_id = np.unique(data[:, 0])\n",
    "print(type(user_id))\n",
    "print(user_id)"
   ]
  },
  {
   "cell_type": "markdown",
   "metadata": {},
   "source": [
    "##### 7. 사용자별 평점 확인"
   ]
  },
  {
   "cell_type": "code",
   "execution_count": 16,
   "metadata": {},
   "outputs": [
    {
     "name": "stdout",
     "output_type": "stream",
     "text": [
      "[[1, 4.188679245283019], [2, 3.7131782945736433], [3, 3.9019607843137254], [4, 4.190476190476191], [5, 3.1464646464646466]]\n",
      "<class 'list'>\n"
     ]
    }
   ],
   "source": [
    "### 7. 사용자별로 영화에 매긴 평점을 평균내어라\n",
    "mean_user_rating = []\n",
    "for user in user_id:\n",
    "    user_rating = data[data[:, 0] ==  user][:, 2].mean()\n",
    "    mean_user_rating.append([user, user_rating])\n",
    "    \n",
    "print(mean_user_rating[:5])\n",
    "print(type(mean_user_rating))\n"
   ]
  },
  {
   "cell_type": "markdown",
   "metadata": {},
   "source": [
    "##### 8. 리스트를 ndarray로 변환"
   ]
  },
  {
   "cell_type": "code",
   "execution_count": 18,
   "metadata": {},
   "outputs": [
    {
     "data": {
      "text/plain": [
       "array([[1.00000000e+00, 4.18867925e+00],\n",
       "       [2.00000000e+00, 3.71317829e+00],\n",
       "       [3.00000000e+00, 3.90196078e+00],\n",
       "       ...,\n",
       "       [6.03800000e+03, 3.80000000e+00],\n",
       "       [6.03900000e+03, 3.87804878e+00],\n",
       "       [6.04000000e+03, 3.57771261e+00]])"
      ]
     },
     "execution_count": 18,
     "metadata": {},
     "output_type": "execute_result"
    }
   ],
   "source": [
    "type_ndarray = np.array(mean_user_rating)\n",
    "type_ndarray"
   ]
  },
  {
   "cell_type": "markdown",
   "metadata": {},
   "source": [
    "##### 9. movies_mean.csv 파일로 저장"
   ]
  },
  {
   "cell_type": "code",
   "execution_count": 19,
   "metadata": {},
   "outputs": [
    {
     "ename": "TypeError",
     "evalue": "_savetxt_dispatcher() got an unexpected keyword argument 'delmiter'",
     "output_type": "error",
     "traceback": [
      "\u001b[1;31m---------------------------------------------------------------------------\u001b[0m",
      "\u001b[1;31mTypeError\u001b[0m                                 Traceback (most recent call last)",
      "\u001b[1;32m<ipython-input-19-7d4ce0fff750>\u001b[0m in \u001b[0;36m<module>\u001b[1;34m\u001b[0m\n\u001b[1;32m----> 1\u001b[1;33m \u001b[0mnp\u001b[0m\u001b[1;33m.\u001b[0m\u001b[0msavetxt\u001b[0m\u001b[1;33m(\u001b[0m\u001b[1;34m'./실습데이터/movies_mean_userids_jslim.csv'\u001b[0m\u001b[1;33m,\u001b[0m \u001b[0mtype_ndarray\u001b[0m\u001b[1;33m,\u001b[0m \u001b[0mdelmiter\u001b[0m\u001b[1;33m=\u001b[0m\u001b[1;34m','\u001b[0m\u001b[1;33m,\u001b[0m \u001b[0mfmt\u001b[0m\u001b[1;33m=\u001b[0m\u001b[1;34m'%.1f'\u001b[0m\u001b[1;33m)\u001b[0m\u001b[1;33m\u001b[0m\u001b[1;33m\u001b[0m\u001b[0m\n\u001b[0m",
      "\u001b[1;32m<__array_function__ internals>\u001b[0m in \u001b[0;36msavetxt\u001b[1;34m(*args, **kwargs)\u001b[0m\n",
      "\u001b[1;31mTypeError\u001b[0m: _savetxt_dispatcher() got an unexpected keyword argument 'delmiter'"
     ]
    }
   ],
   "source": [
    "np.savetxt('./실습데이터/movies_mean_userids_jslim.csv', type_ndarray, delmiter=',', fmt='%.1f')"
   ]
  }
 ],
 "metadata": {
  "kernelspec": {
   "display_name": "Python 3",
   "language": "python",
   "name": "python3"
  },
  "language_info": {
   "codemirror_mode": {
    "name": "ipython",
    "version": 3
   },
   "file_extension": ".py",
   "mimetype": "text/x-python",
   "name": "python",
   "nbconvert_exporter": "python",
   "pygments_lexer": "ipython3",
   "version": "3.7.6"
  }
 },
 "nbformat": 4,
 "nbformat_minor": 4
}
