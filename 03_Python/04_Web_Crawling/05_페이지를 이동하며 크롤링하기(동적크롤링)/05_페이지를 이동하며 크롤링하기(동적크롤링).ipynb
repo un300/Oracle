{
 "cells": [
  {
   "cell_type": "markdown",
   "metadata": {},
   "source": [
    "###### 2020-10-07 화요일\n",
    "\n",
    "# 페이지를 이동하며 크롤링하기 : 동적크롤링\n",
    "\n",
    "### - 목차\n",
    "##### 1. 이미지 스크랩\n",
    "##### 2. 네이버 블로그 스크랩\n",
    "##### 3. 동적스크랩 : 네이버 쇼핑 (selenium 사용 x)"
   ]
  },
  {
   "cell_type": "markdown",
   "metadata": {},
   "source": [
    "## 1. 이미지 스크랩\n",
    "\n",
    "> - 네이버 이미지에서 `코로나`를 검색하고 스크랩을 진행해봅시다.\n",
    "> - 이 과정은 url을 두 파트로 나누어 하나는 변하지 않는 부분 (`base_url`), 하나는 변하는 부분(`key_word`)로 나누어 진행할 거에요. 이렇게 하는 이유는 나중에 동적으로 페이지를 이동시키면서 동적인 스크랩을 진행하기 위해서, 연습하는거라고 생각하면 될거 같습니다 ㅎㅎ "
   ]
  },
  {
   "cell_type": "code",
   "execution_count": 7,
   "metadata": {},
   "outputs": [],
   "source": [
    "from urllib.request import urlopen\n",
    "from bs4 import BeautifulSoup\n",
    "from urllib.error import HTTPError\n",
    "from urllib.error import URLError\n",
    "from urllib.parse import quote_plus"
   ]
  },
  {
   "cell_type": "markdown",
   "metadata": {},
   "source": [
    "#### (1) url 두 부분으로 나누기\n",
    "> - base_url은 url에서 변하지않는 부분 / key_word는 url에서 변하는 부분입니다"
   ]
  },
  {
   "cell_type": "code",
   "execution_count": 4,
   "metadata": {},
   "outputs": [
    {
     "name": "stdout",
     "output_type": "stream",
     "text": [
      "검색어 입력 :코로나\n",
      "스크랩 할 이미지 개수 :50\n"
     ]
    }
   ],
   "source": [
    "base_url = \"https://search.naver.com/search.naver?where=image&sm=tab_jum&query=\"\n",
    "key_word = input('검색어 입력 :')\n",
    "imgCnt = int(input('스크랩 할 이미지 개수 :'))\n",
    "\n",
    "try:\n",
    "    url = base_url + quote_plus(key_word)  # url 주소에 한글이 들어가면안됨, quote_plus는 한글을 변형시켜주는 함수\n",
    "    html = urlopen(url)\n",
    "except HTTPError as he:\n",
    "    print(\"http error\")\n",
    "except URLError as ue:\n",
    "    print(\"url error\")\n",
    "else :\n",
    "    soup = BeautifulSoup(html.read(), \"html.parser\", from_encoding='UTF-8')"
   ]
  },
  {
   "cell_type": "markdown",
   "metadata": {},
   "source": [
    "### (2) 이미지 파일 추출 / 저장하기"
   ]
  },
  {
   "cell_type": "markdown",
   "metadata": {},
   "source": [
    "> - `img` 태그를 찾아 이미지를 추출해 봅시다"
   ]
  },
  {
   "cell_type": "code",
   "execution_count": 33,
   "metadata": {},
   "outputs": [],
   "source": [
    "img = soup.findAll(\"img\", {\"class\" : \"_img\"})"
   ]
  },
  {
   "cell_type": "markdown",
   "metadata": {},
   "source": [
    "###### 이미지를 추출하고 저장하는 과정입니다."
   ]
  },
  {
   "cell_type": "code",
   "execution_count": 34,
   "metadata": {},
   "outputs": [
    {
     "name": "stdout",
     "output_type": "stream",
     "text": [
      "Image download success\n"
     ]
    }
   ],
   "source": [
    "cnt = 1\n",
    "for i in img :\n",
    "    imgUrl = i['data-source']\n",
    "    with urlopen(imgUrl) as file:\n",
    "        with open('./images/' + str(cnt) + '.jpg', 'wb') as imgFile:\n",
    "            temp = file.read()\n",
    "            imgFile.write(temp)\n",
    "    cnt += 1\n",
    "    if cnt > imgCnt :\n",
    "        break\n",
    "print('Image download success')"
   ]
  },
  {
   "cell_type": "markdown",
   "metadata": {},
   "source": [
    "##### 이 파일과 동일한 디렉토리에 있는 `images`폴더에 이미지가 저장되어 있음을 확인해보세요!"
   ]
  },
  {
   "cell_type": "markdown",
   "metadata": {},
   "source": [
    "## 2. 네이버 블로그 스크랩\n",
    "> - 이 파트 역시 url을 두 부분으로 나누어 진행할 거에요~ 동적스크랩 연습이라고 보시면 됩니다!\n",
    "> - 네이버 블로그에서 `파이썬`을 검색하고 첫 페이지를 스크랩할 거에요\n",
    "> - 마찬가지로 `base_url`은 url의 변하지 않는 부분, `key_word` url은 변하는 부분이에요"
   ]
  },
  {
   "cell_type": "code",
   "execution_count": 44,
   "metadata": {},
   "outputs": [
    {
     "name": "stdout",
     "output_type": "stream",
     "text": [
      "검색어 입력 :파이썬\n"
     ]
    }
   ],
   "source": [
    "base_url = \"https://search.naver.com/search.naver?where=post&sm=tab_jum&query=\"\n",
    "key_word = input('검색어 입력 :')\n",
    "\n",
    "try:\n",
    "    url = base_url + quote_plus(key_word)\n",
    "    html = urlopen(url)\n",
    "except HTTPError as he:\n",
    "    print(\"http error\")\n",
    "except URLError as ue:\n",
    "    print(\"url error\")\n",
    "else :\n",
    "    soup = BeautifulSoup(html.read(), \"html.parser\", from_encoding='UTF-8')"
   ]
  },
  {
   "cell_type": "markdown",
   "metadata": {},
   "source": [
    "### (1) 네이버 블로그 스크랩하기\n",
    "> - 블로그의 제목과 링크를 스크랩하는 과정이에요"
   ]
  },
  {
   "cell_type": "code",
   "execution_count": 45,
   "metadata": {
    "scrolled": false
   },
   "outputs": [
    {
     "name": "stdout",
     "output_type": "stream",
     "text": [
      "['파이썬 숫자 출력하기_하루 10분 혼공', '[Python] 파이썬이 인기있는 이유', '파이썬 웹 프로그래밍 Django로 입문', '[P056] 파이썬의 정형화된 출력형식(Formatted Output of Python)', '알고리즘 트레이딩 - 파이썬을 활용한 금융 API 준비하는 방법은?', '[아두이노 QnA] 파이썬으로 아두이노 제어하기_2', '파이썬인강 프로그래밍 막막하셨다면', '[책 구매 / 리뷰] 파이썬 알고리즘 인터뷰', '파이썬 인강 ☞ Python 기초 개념부터 배우기 초보자 특별 강좌', '파이썬독학 충분히 쉽다는 책']\n",
      "['https://blog.naver.com/nasu0210?Redirect=Log&logNo=222105195536', 'https://blog.naver.com/dktmrorl?Redirect=Log&logNo=222104270383', 'https://blog.naver.com/urmyver?Redirect=Log&logNo=222079389364', 'https://blog.naver.com/choi_s_h?Redirect=Log&logNo=222103125184', 'https://blog.naver.com/ridesafe?Redirect=Log&logNo=222069600885', 'https://blog.naver.com/dokkosam?Redirect=Log&logNo=222091055778', 'https://blog.naver.com/skyktc?Redirect=Log&logNo=222070357069', 'https://blog.naver.com/dsz08082?Redirect=Log&logNo=222097605931', 'https://blog.naver.com/beta700?Redirect=Log&logNo=222091992623', 'https://blog.naver.com/gogwangjin?Redirect=Log&logNo=222107477542']\n"
     ]
    }
   ],
   "source": [
    "title = soup.findAll(\"a\", {\"class\" : \"sh_blog_title _sp_each_url _sp_each_title\"})\n",
    "\n",
    "# 블로그 제목\n",
    "title_list = [element['title'] for element in title]\n",
    "print(title_list)\n",
    "\n",
    "# 블로그 링크\n",
    "link_list = [element['href'] for element in title]\n",
    "print(link_list)"
   ]
  },
  {
   "cell_type": "markdown",
   "metadata": {},
   "source": [
    "### (2) 스크랩한 데이터 csv파일로 저장하기\n",
    "> - 스크랩한 데이터를 DataFrame으로 저장하고 `blog_scrap.csv`파일로 저장합니다."
   ]
  },
  {
   "cell_type": "code",
   "execution_count": 54,
   "metadata": {},
   "outputs": [],
   "source": [
    "import pandas as pd\n",
    "\n",
    "data = {\"title\" : title_list,\n",
    "       \"link\" : link_list}\n",
    "\n",
    "df = pd.DataFrame(data)\n",
    "df.to_csv(\"blog_scrap.csv\", mode='w', encoding='utf-8', index=False) # 판다스는 기본적으로 index열을 포함하여 csv파일로 저장한다\n",
    "                                                                      # 그래서 index를 제거하고 저장"
   ]
  },
  {
   "cell_type": "markdown",
   "metadata": {},
   "source": [
    "### (3) 저장한 csv파일 불러보기"
   ]
  },
  {
   "cell_type": "code",
   "execution_count": 58,
   "metadata": {},
   "outputs": [
    {
     "data": {
      "text/html": [
       "<div>\n",
       "<style scoped>\n",
       "    .dataframe tbody tr th:only-of-type {\n",
       "        vertical-align: middle;\n",
       "    }\n",
       "\n",
       "    .dataframe tbody tr th {\n",
       "        vertical-align: top;\n",
       "    }\n",
       "\n",
       "    .dataframe thead th {\n",
       "        text-align: right;\n",
       "    }\n",
       "</style>\n",
       "<table border=\"1\" class=\"dataframe\">\n",
       "  <thead>\n",
       "    <tr style=\"text-align: right;\">\n",
       "      <th></th>\n",
       "      <th>title</th>\n",
       "      <th>link</th>\n",
       "    </tr>\n",
       "  </thead>\n",
       "  <tbody>\n",
       "    <tr>\n",
       "      <th>0</th>\n",
       "      <td>파이썬 숫자 출력하기_하루 10분 혼공</td>\n",
       "      <td>https://blog.naver.com/nasu0210?Redirect=Log&amp;l...</td>\n",
       "    </tr>\n",
       "    <tr>\n",
       "      <th>1</th>\n",
       "      <td>[Python] 파이썬이 인기있는 이유</td>\n",
       "      <td>https://blog.naver.com/dktmrorl?Redirect=Log&amp;l...</td>\n",
       "    </tr>\n",
       "    <tr>\n",
       "      <th>2</th>\n",
       "      <td>파이썬 웹 프로그래밍 Django로 입문</td>\n",
       "      <td>https://blog.naver.com/urmyver?Redirect=Log&amp;lo...</td>\n",
       "    </tr>\n",
       "    <tr>\n",
       "      <th>3</th>\n",
       "      <td>[P056] 파이썬의 정형화된 출력형식(Formatted Output of Python)</td>\n",
       "      <td>https://blog.naver.com/choi_s_h?Redirect=Log&amp;l...</td>\n",
       "    </tr>\n",
       "    <tr>\n",
       "      <th>4</th>\n",
       "      <td>알고리즘 트레이딩 - 파이썬을 활용한 금융 API 준비하는 방법은?</td>\n",
       "      <td>https://blog.naver.com/ridesafe?Redirect=Log&amp;l...</td>\n",
       "    </tr>\n",
       "    <tr>\n",
       "      <th>5</th>\n",
       "      <td>[아두이노 QnA] 파이썬으로 아두이노 제어하기_2</td>\n",
       "      <td>https://blog.naver.com/dokkosam?Redirect=Log&amp;l...</td>\n",
       "    </tr>\n",
       "    <tr>\n",
       "      <th>6</th>\n",
       "      <td>파이썬인강 프로그래밍 막막하셨다면</td>\n",
       "      <td>https://blog.naver.com/skyktc?Redirect=Log&amp;log...</td>\n",
       "    </tr>\n",
       "    <tr>\n",
       "      <th>7</th>\n",
       "      <td>[책 구매 / 리뷰] 파이썬 알고리즘 인터뷰</td>\n",
       "      <td>https://blog.naver.com/dsz08082?Redirect=Log&amp;l...</td>\n",
       "    </tr>\n",
       "    <tr>\n",
       "      <th>8</th>\n",
       "      <td>파이썬 인강 ☞ Python 기초 개념부터 배우기 초보자 특별 강좌</td>\n",
       "      <td>https://blog.naver.com/beta700?Redirect=Log&amp;lo...</td>\n",
       "    </tr>\n",
       "    <tr>\n",
       "      <th>9</th>\n",
       "      <td>파이썬독학 충분히 쉽다는 책</td>\n",
       "      <td>https://blog.naver.com/gogwangjin?Redirect=Log...</td>\n",
       "    </tr>\n",
       "  </tbody>\n",
       "</table>\n",
       "</div>"
      ],
      "text/plain": [
       "                                               title  \\\n",
       "0                              파이썬 숫자 출력하기_하루 10분 혼공   \n",
       "1                              [Python] 파이썬이 인기있는 이유   \n",
       "2                             파이썬 웹 프로그래밍 Django로 입문   \n",
       "3  [P056] 파이썬의 정형화된 출력형식(Formatted Output of Python)   \n",
       "4              알고리즘 트레이딩 - 파이썬을 활용한 금융 API 준비하는 방법은?   \n",
       "5                       [아두이노 QnA] 파이썬으로 아두이노 제어하기_2   \n",
       "6                                 파이썬인강 프로그래밍 막막하셨다면   \n",
       "7                           [책 구매 / 리뷰] 파이썬 알고리즘 인터뷰   \n",
       "8              파이썬 인강 ☞ Python 기초 개념부터 배우기 초보자 특별 강좌   \n",
       "9                                    파이썬독학 충분히 쉽다는 책   \n",
       "\n",
       "                                                link  \n",
       "0  https://blog.naver.com/nasu0210?Redirect=Log&l...  \n",
       "1  https://blog.naver.com/dktmrorl?Redirect=Log&l...  \n",
       "2  https://blog.naver.com/urmyver?Redirect=Log&lo...  \n",
       "3  https://blog.naver.com/choi_s_h?Redirect=Log&l...  \n",
       "4  https://blog.naver.com/ridesafe?Redirect=Log&l...  \n",
       "5  https://blog.naver.com/dokkosam?Redirect=Log&l...  \n",
       "6  https://blog.naver.com/skyktc?Redirect=Log&log...  \n",
       "7  https://blog.naver.com/dsz08082?Redirect=Log&l...  \n",
       "8  https://blog.naver.com/beta700?Redirect=Log&lo...  \n",
       "9  https://blog.naver.com/gogwangjin?Redirect=Log...  "
      ]
     },
     "execution_count": 58,
     "metadata": {},
     "output_type": "execute_result"
    }
   ],
   "source": [
    "# 저장한 csv 파일을 불러옵시다\n",
    "\n",
    "read_df = pd.read_csv(\"./blog_scrap.csv\", encoding=\"utf-8\")\n",
    "read_df"
   ]
  },
  {
   "cell_type": "markdown",
   "metadata": {},
   "source": [
    "### 3. 동적스크랩 : 네이버 쇼핑 (selenium 사용 x)\n",
    "> - 지금까지 url을 두 부분으로 나누어 스크랩을 진행해보았습니다. 이번에는 두 부분으로 나누고 (`base_url`과 `key_word`) `key_word`부분을 바꿈으로써 페이지를 넘겨 동적 스크랩을 진행해 봅시다.\n",
    "> - 예제는 네이버 쇼핑입니다"
   ]
  },
  {
   "cell_type": "code",
   "execution_count": 77,
   "metadata": {},
   "outputs": [],
   "source": [
    "from time import sleep\n",
    "from random import randint\n",
    "import pandas as pd\n",
    "from IPython.core.display import clear_output\n",
    "from time import time\n",
    "from bs4 import BeautifulSoup\n",
    "from requests import get\n"
   ]
  },
  {
   "cell_type": "markdown",
   "metadata": {},
   "source": [
    "### (1) 시간계산 함수 실습해보기\n",
    "> - 동적스크랩(=크롤링)의 경우, 네이버와 같은 홈페이지에서 시간 딜레이를 적용하지 않고 시행하게되면, 홈페이지에서 크롤링 행위를 홈페이지 공격 행위로 간주하여 IP를 차단할 수 있습니다. 그래서 1~2초 정도의 딜레이를 주는것이 좋아요. 그래서 한번 연습해보는 단계라고 보시면 됩니다!"
   ]
  },
  {
   "cell_type": "code",
   "execution_count": 4,
   "metadata": {},
   "outputs": [
    {
     "name": "stdout",
     "output_type": "stream",
     "text": [
      "request : 5, frequency : 0.45411056992310866\n"
     ]
    }
   ],
   "source": [
    "# loop 사이에 잘 진행되고 있는지를 보기위한 indicator sentence\n",
    "\n",
    "start_time = time()\n",
    "# start_time  # 밀리언 세컨드로 나오기 때문에 의미는 없다\n",
    "\n",
    "\n",
    "requests = 0\n",
    "for _ in range(5):\n",
    "    requests += 1\n",
    "    sleep(randint(1, 3))\n",
    "    current_time = time()\n",
    "    elapsed_time = current_time - start_time\n",
    "    print(\"request : {}, frequency : {}\" .format(requests, requests/elapsed_time))\n",
    "    clear_output(wait=True)\n",
    "\n"
   ]
  },
  {
   "cell_type": "markdown",
   "metadata": {},
   "source": [
    "### (2) 네이버 쇼핑 동적스크랩 실습\n",
    "> - 이전 시간에 배웠던 `tqdm` 패키지를 적용해서 동적 스크랩을 진행해 볼까요?"
   ]
  },
  {
   "cell_type": "code",
   "execution_count": 8,
   "metadata": {},
   "outputs": [
    {
     "name": "stdout",
     "output_type": "stream",
     "text": [
      "검색어 입력 :파이썬\n"
     ]
    }
   ],
   "source": [
    "base_url = \"https://search.naver.com/search.naver?where=post&sm=tab_jum&query=\"\n",
    "key_word = input('검색어 입력 :')\n",
    "\n",
    "try:\n",
    "    url = base_url + quote_plus(key_word)\n",
    "    html = urlopen(url)\n",
    "except HTTPError as he:\n",
    "    print(\"http error\")\n",
    "except URLError as ue:\n",
    "    print(\"url error\")\n",
    "else :\n",
    "    soup = BeautifulSoup(html.read(), \"html.parser\", from_encoding='UTF-8')"
   ]
  },
  {
   "cell_type": "code",
   "execution_count": 9,
   "metadata": {},
   "outputs": [],
   "source": [
    "title = soup.findAll(\"a\", {\"class\" : \"sh_blog_title _sp_each_url _sp_each_title\"})"
   ]
  },
  {
   "cell_type": "code",
   "execution_count": 55,
   "metadata": {
    "scrolled": true
   },
   "outputs": [
    {
     "data": {
      "text/plain": [
       "['1', '2', '3', '4', '5', '6', '7', '8', '9', '10']"
      ]
     },
     "execution_count": 55,
     "metadata": {},
     "output_type": "execute_result"
    }
   ],
   "source": [
    "pages = [str(num) for num in range(1, 11)]\n",
    "pages"
   ]
  },
  {
   "cell_type": "code",
   "execution_count": 80,
   "metadata": {},
   "outputs": [
    {
     "name": "stderr",
     "output_type": "stream",
     "text": [
      "C:\\Users\\lan41\\Anaconda3\\lib\\site-packages\\ipykernel_launcher.py:11: TqdmDeprecationWarning: This function will be removed in tqdm==5.0.0\n",
      "Please use `tqdm.notebook.tqdm` instead of `tqdm.tqdm_notebook`\n",
      "  # This is added back by InteractiveShellApp.init_path()\n"
     ]
    },
    {
     "data": {
      "application/vnd.jupyter.widget-view+json": {
       "model_id": "c8044fca499147ec8e63b347220c3182",
       "version_major": 2,
       "version_minor": 0
      },
      "text/plain": [
       "HBox(children=(FloatProgress(value=0.0, max=10.0), HTML(value='')))"
      ]
     },
     "metadata": {},
     "output_type": "display_data"
    },
    {
     "name": "stderr",
     "output_type": "stream",
     "text": [
      "C:\\Users\\lan41\\Anaconda3\\lib\\site-packages\\ipykernel_launcher.py:22: TqdmDeprecationWarning: This function will be removed in tqdm==5.0.0\n",
      "Please use `tqdm.notebook.tqdm` instead of `tqdm.tqdm_notebook`\n"
     ]
    },
    {
     "data": {
      "application/vnd.jupyter.widget-view+json": {
       "model_id": "f7f107a741ee4f0c963b3318920e81ac",
       "version_major": 2,
       "version_minor": 0
      },
      "text/plain": [
       "HBox(children=(FloatProgress(value=0.0, max=5.0), HTML(value='')))"
      ]
     },
     "metadata": {},
     "output_type": "display_data"
    },
    {
     "name": "stdout",
     "output_type": "stream",
     "text": [
      "\n",
      "처리페이지 :  1\n",
      "걸린시간 :  1.5657811164855957\n"
     ]
    },
    {
     "data": {
      "application/vnd.jupyter.widget-view+json": {
       "model_id": "8b33dc5bf0ae4b7992714185e3030b73",
       "version_major": 2,
       "version_minor": 0
      },
      "text/plain": [
       "HBox(children=(FloatProgress(value=0.0, max=5.0), HTML(value='')))"
      ]
     },
     "metadata": {},
     "output_type": "display_data"
    },
    {
     "name": "stdout",
     "output_type": "stream",
     "text": [
      "\n",
      "처리페이지 :  2\n",
      "걸린시간 :  3.2293341159820557\n"
     ]
    },
    {
     "data": {
      "application/vnd.jupyter.widget-view+json": {
       "model_id": "a8a0eae256c14fa385a5db880a814b63",
       "version_major": 2,
       "version_minor": 0
      },
      "text/plain": [
       "HBox(children=(FloatProgress(value=0.0, max=5.0), HTML(value='')))"
      ]
     },
     "metadata": {},
     "output_type": "display_data"
    },
    {
     "name": "stdout",
     "output_type": "stream",
     "text": [
      "\n",
      "처리페이지 :  3\n",
      "걸린시간 :  4.80013632774353\n"
     ]
    },
    {
     "data": {
      "application/vnd.jupyter.widget-view+json": {
       "model_id": "3a1956f388354174b2e8912ea62907d1",
       "version_major": 2,
       "version_minor": 0
      },
      "text/plain": [
       "HBox(children=(FloatProgress(value=0.0, max=5.0), HTML(value='')))"
      ]
     },
     "metadata": {},
     "output_type": "display_data"
    },
    {
     "name": "stdout",
     "output_type": "stream",
     "text": [
      "\n",
      "처리페이지 :  4\n",
      "걸린시간 :  6.466681718826294\n"
     ]
    },
    {
     "data": {
      "application/vnd.jupyter.widget-view+json": {
       "model_id": "cee0a0e24a054d239519f59fbaa7c4fc",
       "version_major": 2,
       "version_minor": 0
      },
      "text/plain": [
       "HBox(children=(FloatProgress(value=0.0, max=5.0), HTML(value='')))"
      ]
     },
     "metadata": {},
     "output_type": "display_data"
    },
    {
     "name": "stdout",
     "output_type": "stream",
     "text": [
      "\n",
      "처리페이지 :  5\n",
      "걸린시간 :  8.068400144577026\n"
     ]
    },
    {
     "data": {
      "application/vnd.jupyter.widget-view+json": {
       "model_id": "8fafb2b5dbaa4c3da24fb7cb43ec5b8a",
       "version_major": 2,
       "version_minor": 0
      },
      "text/plain": [
       "HBox(children=(FloatProgress(value=0.0, max=5.0), HTML(value='')))"
      ]
     },
     "metadata": {},
     "output_type": "display_data"
    },
    {
     "name": "stdout",
     "output_type": "stream",
     "text": [
      "\n",
      "처리페이지 :  6\n",
      "걸린시간 :  9.727962732315063\n"
     ]
    },
    {
     "data": {
      "application/vnd.jupyter.widget-view+json": {
       "model_id": "9975ddd620f54c2faafaa5c87cbd2dc4",
       "version_major": 2,
       "version_minor": 0
      },
      "text/plain": [
       "HBox(children=(FloatProgress(value=0.0, max=5.0), HTML(value='')))"
      ]
     },
     "metadata": {},
     "output_type": "display_data"
    },
    {
     "name": "stdout",
     "output_type": "stream",
     "text": [
      "\n",
      "처리페이지 :  7\n",
      "걸린시간 :  11.390520095825195\n"
     ]
    },
    {
     "data": {
      "application/vnd.jupyter.widget-view+json": {
       "model_id": "e1fce663444541cd9b7d7ce399e77387",
       "version_major": 2,
       "version_minor": 0
      },
      "text/plain": [
       "HBox(children=(FloatProgress(value=0.0, max=5.0), HTML(value='')))"
      ]
     },
     "metadata": {},
     "output_type": "display_data"
    },
    {
     "name": "stdout",
     "output_type": "stream",
     "text": [
      "\n",
      "처리페이지 :  8\n",
      "걸린시간 :  12.916439294815063\n"
     ]
    },
    {
     "data": {
      "application/vnd.jupyter.widget-view+json": {
       "model_id": "918ed4d5e62b454ba72ba5914ff1ae28",
       "version_major": 2,
       "version_minor": 0
      },
      "text/plain": [
       "HBox(children=(FloatProgress(value=0.0, max=5.0), HTML(value='')))"
      ]
     },
     "metadata": {},
     "output_type": "display_data"
    },
    {
     "name": "stdout",
     "output_type": "stream",
     "text": [
      "\n",
      "처리페이지 :  9\n",
      "걸린시간 :  14.388506650924683\n"
     ]
    },
    {
     "data": {
      "application/vnd.jupyter.widget-view+json": {
       "model_id": "5eb1d131e81d4b789268a2214c2c8be3",
       "version_major": 2,
       "version_minor": 0
      },
      "text/plain": [
       "HBox(children=(FloatProgress(value=0.0, max=5.0), HTML(value='')))"
      ]
     },
     "metadata": {},
     "output_type": "display_data"
    },
    {
     "name": "stdout",
     "output_type": "stream",
     "text": [
      "\n",
      "처리페이지 :  10\n",
      "걸린시간 :  16.112894296646118\n",
      "\n"
     ]
    }
   ],
   "source": [
    "from tqdm import tqdm_notebook\n",
    "\n",
    "requests = 0\n",
    "\n",
    "title_list = []\n",
    "price_list = []\n",
    "link_list = []\n",
    "\n",
    "start_time = time()\n",
    "\n",
    "for page in tqdm_notebook(pages):\n",
    "    requests += 1\n",
    "    \n",
    "    # 네이버 쇼핑 URL\n",
    "    html = urlopen(\"https://search.shopping.naver.com/search/all?frm=NVSHATC&origQuery=%EC%BD%94%ED%8A%B8&pagingIndex=\" + page + \"&pagingSize=40&productSet=total&query=%EC%BD%94%ED%8A%B8&sort=rel&timestamp=&viewType=list\")\n",
    "    \n",
    "    sleep(1) # 동적크롤링을 빠르게 시행하는 경우 홈페이지에 대한 공격으로 간주되어 내 IP가 블락 당할수있다. 그러므로 1~2초 여유를 두는것\n",
    "             # time 패키지에 있는 sleep 함수 \n",
    "    soup = BeautifulSoup(html.read(), \"html.parser\")\n",
    "    \n",
    "    temp_list = soup.findAll(\"li\", {\"class\" : \"basicList_item__2XT81\"})\n",
    "    \n",
    "    for element in tqdm_notebook(temp_list) :\n",
    "        title_list.append(element.find(\"a\", {\"class\" : \"basicList_link__1MaTN\"}).text)\n",
    "        price_list.append(element.find(\"span\", {\"class\" : \"price_num__2WUXn\"}).text)\n",
    "        link_list.append(element.find(\"a\", {\"class\" : \"basicList_link__1MaTN\"})['href'])\n",
    "        \n",
    "    current_time = time()\n",
    "    elapsed_time = current_time - start_time\n",
    "    print('처리페이지 : ', page)\n",
    "    print('걸린시간 : ', elapsed_time)\n"
   ]
  },
  {
   "cell_type": "code",
   "execution_count": 82,
   "metadata": {},
   "outputs": [
    {
     "name": "stdout",
     "output_type": "stream",
     "text": [
      "50\n",
      "50\n",
      "50\n"
     ]
    }
   ],
   "source": [
    "## 한페이지에서 5개의 상품 정보밖에 가져오지 못하고 있다\n",
    "# 왜그런진 모르겟어 ㅠㅠ\n",
    "\n",
    "\n",
    "print(len(title_list))\n",
    "print(len(price_list))\n",
    "print(len(link_list))"
   ]
  },
  {
   "cell_type": "code",
   "execution_count": 83,
   "metadata": {},
   "outputs": [],
   "source": [
    "## 데이터프레임 만들고 csv파일 저장하기\n",
    "\n",
    "data = {\"title\" : title_list,\n",
    "       \"price\" : price_list,\n",
    "       \"link\" : link_list}\n",
    "\n",
    "df = pd.DataFrame(data)\n",
    "\n",
    "df.to_csv(\"shopping_data.csv\", encoding='UTF-8', index=False)"
   ]
  }
 ],
 "metadata": {
  "kernelspec": {
   "display_name": "Python 3",
   "language": "python",
   "name": "python3"
  },
  "language_info": {
   "codemirror_mode": {
    "name": "ipython",
    "version": 3
   },
   "file_extension": ".py",
   "mimetype": "text/x-python",
   "name": "python",
   "nbconvert_exporter": "python",
   "pygments_lexer": "ipython3",
   "version": "3.7.6"
  }
 },
 "nbformat": 4,
 "nbformat_minor": 4
}
