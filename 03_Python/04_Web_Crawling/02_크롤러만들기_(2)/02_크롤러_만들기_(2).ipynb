{
 "cells": [
  {
   "cell_type": "markdown",
   "metadata": {},
   "source": [
    "###### 2020년 10월 5일 월요일\n",
    "\n",
    "# 크롤러 만들기 (2)\n",
    "##### 2020.09.28 (월) '삼성 멀티캠퍼스 4차산업혁명 선도양성과정' 수업에서 진행한 내용을 개인적으로 공부한 내용입니다. \n",
    "##### 그 당시 2020빅콘테스트 제출을 위해 수업에 참여하지 못하여 개인 공부로 대신함을 알려드립니다.\n",
    "\n",
    "\n",
    "## 1. 네이버 메뉴이름 뽑아내기\n",
    "> - 네이버 첫 페이지에서 메뉴에 있는 '메일', '카페', '블로그' 등의 글자를 뽑아 보자.\n",
    "> - 네이버 첫페이지의 메뉴 이름을 뽑는 방법은 뉴스 페이지에서 뉴스 제목을 뽑는 방법과 아주 유사하기 때문에, 메뉴 이름을 뽑아보는 행위는 매우 의미있다."
   ]
  },
  {
   "cell_type": "code",
   "execution_count": 24,
   "metadata": {},
   "outputs": [
    {
     "name": "stdout",
     "output_type": "stream",
     "text": [
      "[<a class=\"nav\" data-clk=\"svc.mail\" href=\"https://mail.naver.com/\"><i class=\"ico_mail\"></i>메일</a>, <a class=\"nav\" data-clk=\"svc.cafe\" href=\"https://section.cafe.naver.com/\">카페</a>, <a class=\"nav\" data-clk=\"svc.blog\" href=\"https://section.blog.naver.com/\">블로그</a>, <a class=\"nav\" data-clk=\"svc.kin\" href=\"https://kin.naver.com/\">지식iN</a>, <a class=\"nav\" data-clk=\"svc.shopping\" href=\"https://shopping.naver.com/\">쇼핑</a>, <a class=\"nav\" data-clk=\"svc.pay\" href=\"https://order.pay.naver.com/home\">Pay</a>, <a class=\"nav\" data-clk=\"svc.tvcast\" href=\"https://tv.naver.com/\"><i class=\"ico_tv\"></i>TV</a>]\n",
      "메일\n",
      "카페\n",
      "블로그\n",
      "지식iN\n",
      "쇼핑\n",
      "Pay\n",
      "TV\n"
     ]
    }
   ],
   "source": [
    "import bs4\n",
    "import urllib.request\n",
    "\n",
    "url = \"https://www.naver.com\"\n",
    "html = urllib.request.urlopen(url)\n",
    "\n",
    "bs_obj = bs4.BeautifulSoup(html, \"html.parser\")\n",
    "\n",
    "ul = bs_obj.find(\"ul\", {\"class\" : \"list_nav type_fix\"})\n",
    "menu_list = ul.findAll(\"a\")\n",
    "\n",
    "\n",
    "for menu in menu_list:\n",
    "    print(menu.text)\n",
    "    \n",
    "    "
   ]
  },
  {
   "cell_type": "markdown",
   "metadata": {},
   "source": [
    "##### Repeat Again 위에꺼 안보고 다시한번 해보소 ㅎㅎ"
   ]
  },
  {
   "cell_type": "code",
   "execution_count": 43,
   "metadata": {},
   "outputs": [
    {
     "name": "stdout",
     "output_type": "stream",
     "text": [
      "메일\n",
      "카페\n",
      "블로그\n",
      "지식iN\n",
      "쇼핑\n",
      "Pay\n",
      "TV\n"
     ]
    }
   ],
   "source": [
    "import bs4\n",
    "import urllib.request\n",
    "\n",
    "url = \"https://www.naver.com\"\n",
    "html = urllib.request.urlopen(url)\n",
    "\n",
    "bs_obj = bs4.BeautifulSoup(html, \"html.parser\")\n",
    "\n",
    "ul = bs_obj.find(\"ul\", {\"class\" : \"list_nav type_fix\"})\n",
    "a_all = ul.findAll(\"a\")\n",
    "\n",
    "for a in a_all:\n",
    "    print(a.text)\n",
    "\n"
   ]
  },
  {
   "cell_type": "markdown",
   "metadata": {},
   "source": [
    "## 2. 당근마켓 판매제목 크롤링하기\n",
    "> - 원레는 책에 나온대로 네이버 뉴스제목을 크롤링 해야하나.. 이상하게 urllib로 불러와 지지 않음\n",
    "> - 그래서 당근마켓 판매제목 크롤링하기로 대체한다.\n",
    "> - \"당근마켓 인기매물\"의 제목을 크롤링 / 파싱하라 \n",
    "\n",
    "\n",
    "###### 책을 보지않고 한번 해보세요"
   ]
  },
  {
   "cell_type": "code",
   "execution_count": 64,
   "metadata": {},
   "outputs": [
    {
     "name": "stdout",
     "output_type": "stream",
     "text": [
      "LG 휘센 제습기\n",
      "위닉스 제습기 판매합니다\n",
      "캠핑의자\n",
      "캠핑난로 팔아요\n",
      "텐트 캠핑용 의자 무료드림\n",
      "시디즈 명품 책상의자판매합니다! \n",
      "스팸\n",
      "(무료)파세코 팬히터 필요하신분.\n",
      "제습기\n",
      "침낭 드림\n",
      "다혼 뮤p8  미니벨로판매\n",
      "막타기좋은MTB 자전거\n",
      "르라보향수 베르가못22 어나더13  50미리\n",
      "요가매트.폼롤러\n",
      "실내자전거 드립니다.\n",
      "동원참치세트\n",
      "6단 서랍장 /진열장 팔아요\n",
      "미니접이식 자전거 판매합니다.\n",
      "삼천리 자전거 아주 저렴하게 판매합니다\n",
      "골프클럽셋+타이틀리스트백\n",
      "제습기 팝니다\n",
      "20인치 접이식 자전거\n",
      "이케아 철제 선반\n",
      "스팸세트\n",
      "자전거\n",
      "메리다 빅나인500 mtb자전거\n",
      "다혼 p8 접이식 자전거\n",
      "파세코 섞유난로\n",
      "파세코 난로 캠핑용\n",
      "캠핑 의자 레저맨\n",
      "이고진 치닝디핑 턱걸이\n",
      "인버터 냉난방기(히터,에어컨)\n",
      "접이식 자전거\n",
      "타이틀리스트 골프백\n",
      "제습기 팝니다\n",
      "LG DIOS 와인셀러 R-WZ61GJX2\n",
      "제습기\n",
      "아이폰7 판매합니다 \n",
      "캠핑용난로\n",
      "삼성 노트북\n",
      "27단 MTB 자전거 입니다.\n",
      "콜맨 루미에르 랜턴\n",
      "lg제습기 \n",
      "쿨맨 캠핑용 롤테이블 상태 A+급 팔아요 : )\n",
      "제습기\n",
      "파세코 23N 난로 팝니다\n",
      "엔틱콘솔\n",
      "스노우라인 캠핑의자(폴딩 벤치의자)\n",
      "아이폰se64기가\n",
      "낚시대\n",
      "일리 캡슐 디카페나토 ( 디카페인 ) , 클라시코 18캡슐\n",
      "헹거 무료 드림\n",
      "샤넬 빈티지 클래식 백 \n",
      "이케아 레르베리 선반 \n",
      "파세코 캠프27 아이보리 팝니다\n",
      "스팸\n",
      "캠핑난로 팔아요\n",
      "쌀20kg\n",
      "쿠비녹스 와플메이커\n",
      "(완전새것) 포트메리온 보타닉가든 오트밀 17cm\n",
      "파세코 캠프10  판매합니다.\n",
      "이케아철제선반\n",
      "아일랜드식탁\n",
      "이케아 철제선반\n",
      "돌 절구 가지고 가실분!!!\n",
      "과자드려요 필요하신분 갖고가세요\n",
      "쇼파, 식탁\n",
      "락토핏 생유산균 골드\n",
      "골프캐디백\n",
      "ort1-3 책.워크북.cd\n",
      "벨라 아기침대\n",
      "6단선반 팝니다\n",
      "인테리어 라탄 원목 의자\n",
      "스팸 판매합니다\n",
      "벤츠골프캐디백\n",
      "피아노,런닝머신 필요하신분 무료로 드립니다\n",
      "삼성 전자렌지\n",
      "자전거\n",
      "캠핑의자\n",
      "3단 선반 5천원\n",
      "사이언싱 톡톡\n",
      "루이비똥 빈티지백\n",
      "포커스 위슬러 mtb 자전거 판매합니다\n",
      "버버리 떡볶이코트\n",
      "캠핑테이블 좌식\n",
      "커블체어 와이더 블랙 새거 팝니다\n",
      "삼천리 파스칼a30 (26인치) MTB 자전거\n",
      "휘슬러압력솥\n",
      "로얄 알버트 커피잔 셋트 4벌\n",
      "전자렌지\n",
      "의자팝니다\n",
      "5단 철제 선반 팔아요\n",
      "32인치 TV모니터 무료드립니다\n",
      "3단 이동식 트롤리 철제 핸들 카트\n",
      "캠핑 릴렉스체어\n",
      "골프 퍼팅매트\n",
      "캠핑용   릴선\n"
     ]
    }
   ],
   "source": [
    "import urllib.request\n",
    "import bs4\n",
    "\n",
    "url = \"https://www.daangn.com/hot_articles\"\n",
    "html = urllib.request.urlopen(url)\n",
    "\n",
    "bs_obj = bs4.BeautifulSoup(html, \"html.parser\")\n",
    "\n",
    "section = bs_obj.find(\"section\", {\"class\" : \"cards-wrap\"})\n",
    "img = section.findAll(\"img\")\n",
    "\n",
    "\n",
    "for element in img:\n",
    "    print(element[\"alt\"])\n",
    "\n",
    "    \n",
    "## 책보지 않고 했습니다!! 쉽네 ㅎㅎㅎㅎㅎㅎㅎㅎㅎㅎㅎㅎㅎㅎㅎㅎ"
   ]
  },
  {
   "cell_type": "code",
   "execution_count": null,
   "metadata": {},
   "outputs": [],
   "source": []
  },
  {
   "cell_type": "code",
   "execution_count": null,
   "metadata": {},
   "outputs": [],
   "source": []
  },
  {
   "cell_type": "code",
   "execution_count": null,
   "metadata": {},
   "outputs": [],
   "source": []
  },
  {
   "cell_type": "code",
   "execution_count": null,
   "metadata": {},
   "outputs": [],
   "source": []
  },
  {
   "cell_type": "code",
   "execution_count": null,
   "metadata": {},
   "outputs": [],
   "source": []
  }
 ],
 "metadata": {
  "kernelspec": {
   "display_name": "Python 3",
   "language": "python",
   "name": "python3"
  },
  "language_info": {
   "codemirror_mode": {
    "name": "ipython",
    "version": 3
   },
   "file_extension": ".py",
   "mimetype": "text/x-python",
   "name": "python",
   "nbconvert_exporter": "python",
   "pygments_lexer": "ipython3",
   "version": "3.7.6"
  }
 },
 "nbformat": 4,
 "nbformat_minor": 4
}
