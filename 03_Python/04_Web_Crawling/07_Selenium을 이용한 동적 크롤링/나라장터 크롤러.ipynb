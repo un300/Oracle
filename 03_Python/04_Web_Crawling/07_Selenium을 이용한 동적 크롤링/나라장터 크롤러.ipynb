{
 "cells": [
  {
   "cell_type": "code",
   "execution_count": 1,
   "metadata": {},
   "outputs": [],
   "source": [
    "import warnings\n",
    "\n",
    "warnings.filterwarnings('ignore')"
   ]
  },
  {
   "cell_type": "code",
   "execution_count": 2,
   "metadata": {},
   "outputs": [],
   "source": [
    "from selenium import webdriver\n",
    "from selenium.webdriver.support.select import Select\n",
    "from tqdm import tqdm_notebook\n",
    "\n",
    "\n",
    "import time\n",
    "import pandas as pd\n",
    "import numpy as np\n"
   ]
  },
  {
   "cell_type": "markdown",
   "metadata": {},
   "source": [
    "## 1. '입찰정보'로 화면전환"
   ]
  },
  {
   "cell_type": "code",
   "execution_count": 3,
   "metadata": {},
   "outputs": [],
   "source": [
    "path = '../chromedriver/chromedriver'\n",
    "driver = webdriver.Chrome(path)\n",
    "driver.get('http://www.g2b.go.kr')\n",
    "\n",
    "time.sleep(5)\n",
    "\n",
    "# 셀레니움은 iframe에 직접 접근하지 못함\n",
    "# 그래서 frame으로 변환해 주어야 접근할 수 있음\n",
    "# iframe의 id값을 이용해 frame으로 변환\n",
    "\n",
    "driver.switch_to.frame('maintop_iframe')\n",
    "\n",
    "# '입찰정보'로 화면전환\n",
    "iframe = driver.find_element_by_xpath('//*[@id=\"gnb_logout\"]/ul/li[1]/a/img')\n",
    "iframe.click()\n",
    "\n",
    "time.sleep(3)"
   ]
  },
  {
   "cell_type": "markdown",
   "metadata": {},
   "source": [
    "## 2. '공고명', '참가제한지역' 입력\n",
    "   - 공고명에는 '통신', 참가제한지역에는 '서울'을 입력"
   ]
  },
  {
   "cell_type": "code",
   "execution_count": 4,
   "metadata": {},
   "outputs": [],
   "source": [
    "# 이것 또한 frame태그에 접근하기 위한 코드\n",
    "driver.switch_to.frame('sub')\n",
    "driver.switch_to.frame('main')\n",
    "\n",
    "gongo_myung = driver.find_element_by_xpath('//*[@id=\"bidNm\"]')\n",
    "gongo_myung.send_keys('통신')\n",
    "\n",
    "arae = Select(driver.find_element_by_xpath('//*[@id=\"area\"]'))\n",
    "arae.select_by_value('11')\n",
    "\n",
    "time.sleep(2)\n",
    "\n",
    "driver.find_element_by_xpath('//*[@id=\"buttonwrap\"]/div/a[1]').click()"
   ]
  },
  {
   "cell_type": "markdown",
   "metadata": {},
   "source": [
    "## 3. 게시물 클릭하고 데이터 크롤링하기"
   ]
  },
  {
   "cell_type": "code",
   "execution_count": 5,
   "metadata": {},
   "outputs": [
    {
     "data": {
      "application/vnd.jupyter.widget-view+json": {
       "model_id": "4fb2ac98a1f24b6ba0d6d3c93ec76051",
       "version_major": 2,
       "version_minor": 0
      },
      "text/plain": [
       "HBox(children=(HTML(value=''), FloatProgress(value=0.0, max=1.0), HTML(value='')))"
      ]
     },
     "metadata": {},
     "output_type": "display_data"
    },
    {
     "name": "stdout",
     "output_type": "stream",
     "text": [
      "\n"
     ]
    }
   ],
   "source": [
    "post_data = []\n",
    "now = time.strftime('%Y/%m/%d %H:%M', time.localtime(time.time()))\n",
    "while 1 :\n",
    "    try:\n",
    "        driver.switch_to.frame('sub')\n",
    "        driver.switch_to.frame('main')\n",
    "    except:\n",
    "        pass\n",
    "    \n",
    "    gongo = driver.find_element_by_xpath('//*[@id=\"resultForm\"]/div[2]/table/tbody')\n",
    "    gongo_list = np.array(gongo.find_elements_by_css_selector('tr'))\n",
    "    \n",
    "    daed_line_temp = [temp.find_element_by_css_selector('td.tc > div > span').text for temp in gongo_list]\n",
    "    dead_line = np.array(list(map(lambda x: x[1:len(x)-1], daed_line_temp)))\n",
    "    index = dead_line > now\n",
    "    ing_list = np.array(range(len(gongo_list)))[index]\n",
    "    \n",
    "    if len(ing_list)==0:\n",
    "        break\n",
    "    \n",
    "    for idx in tqdm_notebook(ing_list):\n",
    "\n",
    "        gongo_list[idx].find_element_by_css_selector('td.tl > div > a').click()\n",
    "\n",
    "        # 1. 공고일반\n",
    "        table_01 = driver.find_element_by_xpath('//*[@id=\"container\"]/div[5]/table/tbody')\n",
    "\n",
    "        tr_list = table_01.find_elements_by_css_selector('tr')\n",
    "        data_dict = {}\n",
    "\n",
    "        time.sleep(1)\n",
    "\n",
    "        for tr in tr_list:\n",
    "            th_list = tr.find_elements_by_css_selector('th')\n",
    "            td_list = tr.find_elements_by_css_selector('td')\n",
    "\n",
    "            for i in range(len(th_list)):\n",
    "                key = th_list[i].text\n",
    "                value = td_list[i].text\n",
    "                data_dict[key] = value\n",
    "\n",
    "        time.sleep(1)\n",
    "\n",
    "        # 2. 입찰집행 및 진행 정보\n",
    "        table_02 = driver.find_element_by_xpath('//*[@id=\"container\"]/div[7]/table/tbody')\n",
    "\n",
    "        tr_list = table_02.find_elements_by_css_selector('tr')\n",
    "\n",
    "        for tr in tr_list:\n",
    "            th_list = tr.find_elements_by_css_selector('th')\n",
    "            td_list = tr.find_elements_by_css_selector('td')\n",
    "\n",
    "            for i in range(len(th_list)):\n",
    "                key = th_list[i].text\n",
    "                value = td_list[i].text\n",
    "                data_dict[key] = value    \n",
    "\n",
    "        time.sleep(1)\n",
    "\n",
    "        # 3. 예정가격 결정 및 입찰금액 정보\n",
    "        table_03 = driver.find_element_by_xpath('//*[@id=\"container\"]/div[9]/table/tbody')\n",
    "\n",
    "        tr_list = table_02.find_elements_by_css_selector('tr')\n",
    "\n",
    "        for tr in tr_list:\n",
    "            th_list = tr.find_elements_by_css_selector('th')\n",
    "            td_list = tr.find_elements_by_css_selector('td')\n",
    "\n",
    "            for i in range(len(th_list)):\n",
    "                key = th_list[i].text\n",
    "                value = td_list[i].text\n",
    "                data_dict[key] = value    \n",
    "\n",
    "        time.sleep(1)\n",
    "\n",
    "        # 4. 기초금액공개\n",
    "        try:\n",
    "            basic_price = driver.find_element_by_css_selector('table.table_list_baseEstiPriceTbl > tbody > tr > td.tr').text\n",
    "        except :\n",
    "            basic_price = ''\n",
    "        \n",
    "        data_dict['기초금액'] = basic_price\n",
    "        \n",
    "        \n",
    "        post_data.append(data_dict)\n",
    "\n",
    "        driver.back()\n",
    "        time.sleep(1)\n",
    "\n",
    "        # 뒤로가기 하면 'gongo', 'gongo_list'초기화됨\n",
    "        driver.switch_to.frame('sub')\n",
    "        driver.switch_to.frame('main')\n",
    "        gongo = driver.find_element_by_xpath('//*[@id=\"resultForm\"]/div[2]/table/tbody')\n",
    "        gongo_list = gongo.find_elements_by_css_selector('tr')        \n",
    "\n",
    "        \n",
    "    try :\n",
    "        driver.find_element_by_xpath('//*[@id=\"pagination\"]/a').click()\n",
    "    except:\n",
    "        break\n",
    "    \n",
    "    time.sleep(2)"
   ]
  },
  {
   "cell_type": "code",
   "execution_count": 6,
   "metadata": {},
   "outputs": [
    {
     "data": {
      "text/plain": [
       "[{'공고종류': '실공고',\n",
       "  '게시일시': '2020/12/24 20:52',\n",
       "  '입찰공고번호': '20201238499 - 00',\n",
       "  '참조번호': '항대 20-44호 (C)',\n",
       "  '공고명': '전자관 4층 환경개선 정보통신공사\\n본 공고는 지문인식 전자입찰제도가 적용되오니 미리 지문보안토큰에 지문정보를 등록하여야 합니다.\\n본 공고는 \"나라장터 안전 입찰서비스\"를 이용하여야만 전자입찰서를 제출 할 수 있습니다. 유의사항 안내',\n",
       "  '공고기관': '한국항공대학교',\n",
       "  '수요기관': '한국항공대학교',\n",
       "  '입찰방식': '전자입찰',\n",
       "  '낙찰방법': '공고서 참조',\n",
       "  '계약방법': '제한경쟁',\n",
       "  '국제입찰구분': '국내입찰',\n",
       "  '재입찰': '재입찰 허용',\n",
       "  '발주계획번호': '3-1-2020-7002246-000013',\n",
       "  '공사현장': '경기도 고양시 덕양구',\n",
       "  '국내/국제 입찰사유': '국제입찰 비대상(고시금액 이하 또는 대상기관아님)',\n",
       "  'WTO품목번호': '건설공사',\n",
       "  '입찰자격': '공고서 참조',\n",
       "  '관련공고': '',\n",
       "  '공고담당자': '손동기 (02-300-0213)',\n",
       "  '집행관': '손동기',\n",
       "  '입찰개시일시': '2020/12/24 21:00:00',\n",
       "  '입찰마감일시': '2021/01/04 11:00:00',\n",
       "  '개찰(입찰)일시': '2021/01/04 13:00:00',\n",
       "  '개찰장소': '국가종합전자조달시스템(나라장터)',\n",
       "  '입찰참가자격등록\\n마감일시': '2020/12/31 18:00:00\\n조달청 입찰참가등록 가능시간은 평일 09:00~18:00 이며, 토요일, 일요일 및 공휴일은 업무처리가 불가합니다.\\n본 입찰에 참여하는 업체는 입찰참가자격등록마감일시까지 나라장터에 경쟁입찰참가자격등록(특히 물품, 업종 등 자격제한 사항 필히 확인)을 해야 합니다.',\n",
       "  '보증서접수마감일시': '보증서 접수마감일시를 입력하지 않은 경우에는, 입찰서 접수마감일 전일 18시까지 제출이 가능합니다.\\n(단, 입찰보증금지급각서로 대체하는 경우 보증금이 면제됩니다.)',\n",
       "  '공동수급협정서\\n접수여부': '방식: 공고서참조',\n",
       "  '공동수급협정서\\n마감일시': '마감: 공고서 참조',\n",
       "  'PQ심사신청서': '방식: 없음',\n",
       "  'PQ심사신청서\\n신청기한': '',\n",
       "  '실적심사신청서': '방식: 없음',\n",
       "  '실적심사신청서\\n신청기한': '',\n",
       "  '현장설명장소': '',\n",
       "  '현장설명일시': '',\n",
       "  '현장설명서': '',\n",
       "  '입찰내역작성프로그램': '',\n",
       "  '공내역서': '',\n",
       "  '세부심사요령': '',\n",
       "  '동가입찰 낙찰자\\n자동추첨프로그램': '이용',\n",
       "  '채권자명': '한국항공대학교총장',\n",
       "  '기초금액': ''}]"
      ]
     },
     "execution_count": 6,
     "metadata": {},
     "output_type": "execute_result"
    }
   ],
   "source": [
    "post_data"
   ]
  },
  {
   "cell_type": "code",
   "execution_count": 7,
   "metadata": {},
   "outputs": [],
   "source": [
    "# 공고번호, 공고명, 기관 ,입찰개시일시, 입찰마감일시, 기초가격\n",
    "\n",
    "\n",
    "data = {\n",
    "    '공고번호'     : [temp['입찰공고번호'] for temp in post_data],\n",
    "    '공고명'       : [temp['공고명'] for temp in post_data],\n",
    "    '공고기관'     : [temp['공고기관'] for temp in post_data],\n",
    "    '입찰개시일시' : [temp['입찰개시일시'] for temp in post_data],\n",
    "    '입찰마김일시' : [temp['입찰마감일시'] for temp in post_data],\n",
    "    '기초금액'     : [temp['기초금액'] for temp in post_data]\n",
    "}\n",
    "\n",
    "df = pd.DataFrame(data)"
   ]
  },
  {
   "cell_type": "code",
   "execution_count": 8,
   "metadata": {},
   "outputs": [],
   "source": [
    "df['공고명'] = df['공고명'].str.split('\\n').map(lambda x : x[0])"
   ]
  },
  {
   "cell_type": "code",
   "execution_count": 9,
   "metadata": {},
   "outputs": [
    {
     "data": {
      "text/html": [
       "<div>\n",
       "<style scoped>\n",
       "    .dataframe tbody tr th:only-of-type {\n",
       "        vertical-align: middle;\n",
       "    }\n",
       "\n",
       "    .dataframe tbody tr th {\n",
       "        vertical-align: top;\n",
       "    }\n",
       "\n",
       "    .dataframe thead th {\n",
       "        text-align: right;\n",
       "    }\n",
       "</style>\n",
       "<table border=\"1\" class=\"dataframe\">\n",
       "  <thead>\n",
       "    <tr style=\"text-align: right;\">\n",
       "      <th></th>\n",
       "      <th>공고번호</th>\n",
       "      <th>공고명</th>\n",
       "      <th>공고기관</th>\n",
       "      <th>입찰개시일시</th>\n",
       "      <th>입찰마김일시</th>\n",
       "      <th>기초금액</th>\n",
       "    </tr>\n",
       "  </thead>\n",
       "  <tbody>\n",
       "    <tr>\n",
       "      <th>0</th>\n",
       "      <td>20201238499 - 00</td>\n",
       "      <td>전자관 4층 환경개선 정보통신공사</td>\n",
       "      <td>한국항공대학교</td>\n",
       "      <td>2020/12/24 21:00:00</td>\n",
       "      <td>2021/01/04 11:00:00</td>\n",
       "      <td></td>\n",
       "    </tr>\n",
       "  </tbody>\n",
       "</table>\n",
       "</div>"
      ],
      "text/plain": [
       "               공고번호                 공고명     공고기관               입찰개시일시  \\\n",
       "0  20201238499 - 00  전자관 4층 환경개선 정보통신공사  한국항공대학교  2020/12/24 21:00:00   \n",
       "\n",
       "                입찰마김일시 기초금액  \n",
       "0  2021/01/04 11:00:00       "
      ]
     },
     "execution_count": 9,
     "metadata": {},
     "output_type": "execute_result"
    }
   ],
   "source": [
    "df"
   ]
  },
  {
   "cell_type": "code",
   "execution_count": 10,
   "metadata": {},
   "outputs": [],
   "source": [
    "df.to_csv('나라장터크롤링[2020-12-29].csv', encoding='UTF-8-SIG')"
   ]
  }
 ],
 "metadata": {
  "kernelspec": {
   "display_name": "Python 3",
   "language": "python",
   "name": "python3"
  },
  "language_info": {
   "codemirror_mode": {
    "name": "ipython",
    "version": 3
   },
   "file_extension": ".py",
   "mimetype": "text/x-python",
   "name": "python",
   "nbconvert_exporter": "python",
   "pygments_lexer": "ipython3",
   "version": "3.8.5"
  }
 },
 "nbformat": 4,
 "nbformat_minor": 4
}
