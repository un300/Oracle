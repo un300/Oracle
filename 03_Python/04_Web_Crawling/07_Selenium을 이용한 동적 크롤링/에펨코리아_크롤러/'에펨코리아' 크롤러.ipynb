{
 "cells": [
  {
   "cell_type": "markdown",
   "metadata": {},
   "source": [
    "###### 2020-01-25"
   ]
  },
  {
   "cell_type": "code",
   "execution_count": 1,
   "metadata": {},
   "outputs": [],
   "source": [
    "import warnings\n",
    "warnings.filterwarnings('ignore')"
   ]
  },
  {
   "cell_type": "code",
   "execution_count": 61,
   "metadata": {},
   "outputs": [],
   "source": [
    "from selenium import webdriver\n",
    "from selenium.webdriver.common.keys import Keys\n",
    "\n",
    "import pandas as pd\n",
    "import time"
   ]
  },
  {
   "cell_type": "markdown",
   "metadata": {},
   "source": [
    "# 1. '에펨 코리아' 크롤러"
   ]
  },
  {
   "cell_type": "code",
   "execution_count": 80,
   "metadata": {},
   "outputs": [],
   "source": [
    "path = './크롬드라이버/chromedriver'\n",
    "driver = webdriver.Chrome(path)\n",
    "\n",
    "time.sleep(3)"
   ]
  },
  {
   "cell_type": "code",
   "execution_count": null,
   "metadata": {},
   "outputs": [
    {
     "name": "stdout",
     "output_type": "stream",
     "text": [
      "현재 페이지 : 5 / 현재 게시물번호 : 1\n",
      "현재 크롤링한 데이터수 : 85\n",
      "현재 페이지 : 5 / 현재 게시물번호 : 2\n",
      "현재 크롤링한 데이터수 : 235\n",
      "현재 페이지 : 5 / 현재 게시물번호 : 3\n",
      "현재 크롤링한 데이터수 : 328\n",
      "현재 페이지 : 5 / 현재 게시물번호 : 4\n",
      "현재 크롤링한 데이터수 : 467\n",
      "현재 페이지 : 5 / 현재 게시물번호 : 5\n",
      "현재 크롤링한 데이터수 : 517\n",
      "현재 페이지 : 5 / 현재 게시물번호 : 6\n",
      "현재 크롤링한 데이터수 : 567\n",
      "현재 페이지 : 5 / 현재 게시물번호 : 7\n",
      "현재 크롤링한 데이터수 : 651\n",
      "현재 페이지 : 5 / 현재 게시물번호 : 8\n",
      "현재 크롤링한 데이터수 : 766\n",
      "현재 페이지 : 5 / 현재 게시물번호 : 9\n",
      "현재 크롤링한 데이터수 : 872\n",
      "현재 페이지 : 5 / 현재 게시물번호 : 10\n",
      "현재 크롤링한 데이터수 : 987\n",
      "현재 페이지 : 5 / 현재 게시물번호 : 11\n",
      "현재 크롤링한 데이터수 : 1032\n",
      "현재 페이지 : 5 / 현재 게시물번호 : 12\n",
      "현재 크롤링한 데이터수 : 1132\n",
      "현재 페이지 : 5 / 현재 게시물번호 : 13\n",
      "현재 크롤링한 데이터수 : 1167\n",
      "현재 페이지 : 5 / 현재 게시물번호 : 14\n",
      "현재 크롤링한 데이터수 : 1209\n",
      "현재 페이지 : 5 / 현재 게시물번호 : 15\n",
      "현재 크롤링한 데이터수 : 1307\n"
     ]
    }
   ],
   "source": [
    "main_url = 'https://www.fmkorea.com/index.php?mid=best&page='\n",
    "url_page_list = list(range(5, 7))\n",
    "\n",
    "\n",
    "comment_data = []\n",
    "\n",
    "for url_page in url_page_list:\n",
    "    url = main_url + str(url_page)\n",
    "    \n",
    "    driver.get(url)\n",
    "    \n",
    "    time.sleep(2)\n",
    "    \n",
    "    \n",
    "    post_list = driver.find_elements_by_css_selector('div.fm_best_widget > ul > li')\n",
    "\n",
    "    for idx in range(len(post_list)):\n",
    "        \n",
    "        print('현재 페이지 : {} / 현재 게시물번호 : {}' .format(url_page, idx+1))\n",
    "        post_list[idx].find_element_by_css_selector('div > a').click()\n",
    "\n",
    "        time.sleep(2)\n",
    "\n",
    "\n",
    "        # 댓글 페이지를 담는 리스트\n",
    "        page_list = driver.find_elements_by_css_selector('div#cmtPosition > div.bd_pg > a')\n",
    "        page_list = page_list[1:len(page_list)-1]\n",
    "        \n",
    "        max_page = len(page_list)\n",
    "        k = 1\n",
    "        while True :\n",
    "\n",
    "            time.sleep(2)\n",
    "\n",
    "            # 댓글을 담고있는 리스트\n",
    "            comment_list = driver.find_elements_by_css_selector('div#cmtPosition > ul.fdb_lst_ul > li')\n",
    "\n",
    "            # 댓글 크롤링\n",
    "            for comment in comment_list:\n",
    "                crawled_comment = comment.find_elements_by_css_selector('li > div')[1].text\n",
    "                comment_data.append(crawled_comment)\n",
    "                \n",
    "            if (k == max_page+1) | (not page_list):\n",
    "                break\n",
    "            else :\n",
    "                # 댓글 페이지 순차적으로 이동\n",
    "                page_list = driver.find_elements_by_css_selector('div#cmtPosition > div.bd_pg > a')\n",
    "                page_list = page_list[1:len(page_list)-1]\n",
    "                \n",
    "                for element in page_list :\n",
    "                    if element.text == str(k):\n",
    "                        page = element\n",
    "                page.send_keys('\\n')\n",
    "                k += 1\n",
    "                \n",
    "                \n",
    "        print('현재 크롤링한 데이터수 : {}' .format(len(comment_data)))\n",
    "        driver.back()\n",
    "\n",
    "        time.sleep(2)\n",
    "        \n",
    "        # 뒤돌아 가기하면 'post_list'가 초기화 된다(없어져버린다)\n",
    "        # 그래서 다시 지정해 주어 가장 밖의 for문에서 에러가 나지 않도록 한다.\n",
    "        post_list = driver.find_elements_by_css_selector('div.fm_best_widget > ul > li')\n"
   ]
  },
  {
   "cell_type": "code",
   "execution_count": 73,
   "metadata": {},
   "outputs": [],
   "source": [
    "page_list = driver.find_elements_by_css_selector('div#cmtPosition > div.bd_pg > a')\n",
    "page_list = page_list[1:len(page_list)-1]"
   ]
  },
  {
   "cell_type": "code",
   "execution_count": 74,
   "metadata": {},
   "outputs": [
    {
     "data": {
      "text/plain": [
       "'1'"
      ]
     },
     "execution_count": 74,
     "metadata": {},
     "output_type": "execute_result"
    }
   ],
   "source": [
    "page_list[0].text"
   ]
  },
  {
   "cell_type": "code",
   "execution_count": 12,
   "metadata": {},
   "outputs": [],
   "source": [
    "data = {'txt' : comment_data}\n",
    "add_review_df = pd.DataFrame(data)\n",
    "\n",
    "add_review_df.drop_duplicates(keep='first', inplace=True)"
   ]
  },
  {
   "cell_type": "markdown",
   "metadata": {},
   "source": [
    "# 2. 크롤링한 리뷰 데이터 전처리"
   ]
  },
  {
   "cell_type": "code",
   "execution_count": 13,
   "metadata": {},
   "outputs": [],
   "source": [
    "stop_words =  '''◆ ■ ★ = ● ※ ▷ ▶ ▲ ● ~ ◀ \\ ＆ # : @ ○ ▽ ♤ [ ] * ♡ + { } ♬ ♪ ^ ◈ _ . ↑ ◎ ♥ ↔ → ♩ ← ☆ ↓ - ◁ △ ▼ ♠ ◀ ◑ ◐ ↔ ♣ ＠ 〓 % ▣ □ ( ) \\' \\\" ＃ ⊙ § ; ◇ | ` $ ♧ ટૂ ○ & / ! < > ? , 「 」 ㆍ ？ ℵ ’ ‘ “ ” ↗ ， ！ · † Ф 十 ど デ タ ベ は 結 論 を 出 す こ と が で き な い 。 い つ も や ね ぇ 故 山 ‥ 有 点 童 年 的 味'''\n",
    "stop_words_list = stop_words.split(' ')\n",
    "\n",
    "for stop_words in stop_words_list : \n",
    "    add_review_df['txt'] = add_review_df['txt'].str.replace(stop_words, '')"
   ]
  },
  {
   "cell_type": "code",
   "execution_count": 14,
   "metadata": {},
   "outputs": [],
   "source": [
    "# 의미가 존재하는 기호를 사전형태로 의미를 정리한다.\n",
    "substitution_dict = {}\n",
    "\n",
    "############ 아스키코드 규칙성을 보이는 특수기호들\n",
    "# 1. ㄱ / ㄴ / ㅓ / ㅏ\n",
    "temp_list01 = [(chr(element), 'ㄱ') for element in range(9488, 9491+1)]\n",
    "temp_list02 = [(chr(element), 'ㄴ') for element in range(9492, 9495+1)]\n",
    "temp_list03 = [(chr(element), 'ㅏ') for element in range(9500, 9507+1)]\n",
    "temp_list04 = [(chr(element), 'ㅓ') for element in range(9508, 9516+1)]\n",
    "weird_symbol_list = temp_list01 + temp_list02 + temp_list03 + temp_list04\n",
    "\n",
    "for weird_symbol, substitution in weird_symbol_list:\n",
    "    substitution_dict[weird_symbol] = substitution\n",
    "\n",
    "# 2. 자음\n",
    "substitution_dict['⊂'] = 'ㄷ'\n",
    "substitution_dict['Ø'] = 'ㅇ'\n",
    "substitution_dict['人'] = 'ㅅ'\n",
    "substitution_dict['乙'] = 'ㄹ'\n",
    "substitution_dict['ス'] = 'ㅈ'\n",
    "substitution_dict['て'] = 'ㄷ'\n",
    "\n",
    "# 3. 아랍어\n",
    "# સ\n",
    "substitution_dict['ગ'] = '이'\n",
    "substitution_dict['લ'] = '더'\n",
    "substitution_dict['નુ'] = '엉'\n",
    "substitution_dict['ન'] = '어'\n",
    "substitution_dict['ㄐ'] = '니'\n",
    "substitution_dict['પ'] = '니'\n",
    "substitution_dict['શ'] = '리'\n",
    "substitution_dict['ય'] = '러'\n",
    "substitution_dict['સ'] = '러'\n",
    "\n",
    "# 4. 알파벳\n",
    "substitution_dict['α'] = 'a'\n",
    "substitution_dict['ɕ'] = 'c'\n",
    "substitution_dict['с'] = 'c'\n",
    "\n",
    "# 5. 한글 자음\n",
    "korean_ja_eum_list = ['ㄱ', 'ㄴ', 'ㄷ', 'ㄹ', 'ㅁ', 'ㅂ', 'ㅅ', 'ㅇ', 'ㅈ', 'ㅊ', 'ㅋ', 'ㅌ', 'ㅍ', 'ㅎ']\n",
    "substitution_ja_eum01 = [ chr(element) for element in range(ord('㈀'), ord('㈍')+1) ]\n",
    "substitution_ja_eum02 = [ chr(element) for element in range(ord('㉠'), ord('㉭')+1) ]\n",
    "\n",
    "for real_ja_eum, bracket_ja_eum, circle_ja_eum in zip(korean_ja_eum_list, substitution_ja_eum01, substitution_ja_eum02):\n",
    "    substitution_dict[bracket_ja_eum] = real_ja_eum\n",
    "    substitution_dict[circle_ja_eum]  = real_ja_eum\n",
    "\n",
    "# 6. 한글 음절 (아)\n",
    "korean_syllable_list = ['가', '나', '다', '라', '마', '바', '사', '아', '자', '차', '카', '타', '파', '하']\n",
    "substitution_syllable01 = [ chr(element) for element in range(ord('㈎'), ord('㈛')+1) ]\n",
    "substitution_syllable02 = [ chr(element) for element in range(ord('㉮'), ord('㉻')+1) ]\n",
    "\n",
    "for real_syllable, bracket_syllable, circle_syllable in zip(korean_syllable_list, substitution_syllable01, substitution_syllable02):\n",
    "    substitution_dict[bracket_syllable] = real_syllable\n",
    "    substitution_dict[circle_syllable]  = real_syllable\n",
    "\n",
    "\n",
    "# 7. 숫자\n",
    "number_list = list(map(str, range(1, 21)))\n",
    "substitution_num01 = [ chr(element) for element in range(ord('⑴'), ord('⒇')+1) ]\n",
    "substitution_num02 = [ chr(element) for element in range(ord('①'), ord('⑳')+1) ]\n",
    "\n",
    "for num, bracket_num, circle_num in zip(number_list, substitution_num01, substitution_num02):\n",
    "    substitution_dict[bracket_num] = num\n",
    "    substitution_dict[circle_num]  = num\n",
    "\n",
    "# 8. 또다른 숫자\n",
    "number_list = list(map(str, range(1, 10)))\n",
    "substitution_num = [ chr(element) for element in range(ord('１'), ord('９')+1) ]\n",
    "\n",
    "for num, symbol_num in zip(number_list, substitution_num):\n",
    "    substitution_dict[symbol_num] = num\n",
    "\n",
    "# 9. 알파벳\n",
    "lower_alphabet_list = list('abcdefghijklmnopqrstuvwxyz')\n",
    "circle_lower_alphabet_list = [ chr(element) for element in range(ord('ⓐ'), ord('ⓩ')+1) ]\n",
    "\n",
    "for lower_alphabet, circle_lower_alphabet in zip(lower_alphabet_list , circle_lower_alphabet_list):\n",
    "    substitution_dict[circle_lower_alphabet] = lower_alphabet\n",
    "\n",
    "\n",
    "    \n",
    "######################## 아스키코드 규칙성을 지키지 않는 특수문자 \n",
    "# 10. 아스키 규칙성을 보이지 않는 문자 \n",
    "substitution_dict['盧'] = '노'\n",
    "substitution_dict['乂'] = 'x'\n",
    "substitution_dict['ㄋ'] = '3'\n",
    "substitution_dict['З'] = '3'\n",
    "substitution_dict['э'] = '3'\n",
    "substitution_dict['б'] = '6'\n",
    "substitution_dict['Э'] = '3'\n",
    "substitution_dict['з'] = '3'\n",
    "substitution_dict['м'] = '3'\n",
    "substitution_dict['ё'] = 'e'\n",
    "substitution_dict['Н'] = 'H'\n",
    "substitution_dict['Р'] = 'P'\n",
    "substitution_dict['β'] = 'b'\n",
    "substitution_dict['Д'] = 'A'\n",
    "substitution_dict['ß'] = 'b'\n",
    "substitution_dict['я'] = 'r'\n",
    "substitution_dict['丅'] = 'T'\n",
    "substitution_dict['д'] = 'A'\n",
    "substitution_dict['ℳ'] = 'M'\n",
    "substitution_dict['р'] = 'p'\n",
    "substitution_dict['М'] = 'M'\n",
    "substitution_dict['古'] = '고'\n",
    "substitution_dict['典'] = '전'\n",
    "substitution_dict['И'] = 'N'\n",
    "substitution_dict['ί'] = 'i'\n",
    "substitution_dict['Я'] = 'R'\n",
    "substitution_dict['у'] = 'y'\n",
    "substitution_dict['Ɔ'] = 'C'\n",
    "substitution_dict['ф'] = 'o'\n",
    "substitution_dict['⻏'] = 'B'\n",
    "substitution_dict['℘'] = 'G'\n",
    "substitution_dict['Ｏ'] = 'o'\n",
    "substitution_dict['Щ'] = 'w'\n",
    "substitution_dict['С'] = 'c'\n",
    "substitution_dict['無'] = '무'\n",
    "substitution_dict['間'] = '간'\n",
    "substitution_dict['道'] = '도'\n",
    "substitution_dict['₂'] = '2'\n",
    "substitution_dict['日'] = '일'\n",
    "substitution_dict['й'] = 'N'\n",
    "substitution_dict['Ｈ'] = 'H'\n",
    "substitution_dict['Ｃ'] = 'C'\n",
    "substitution_dict['ｏ'] = 'o'"
   ]
  },
  {
   "cell_type": "code",
   "execution_count": 15,
   "metadata": {},
   "outputs": [],
   "source": [
    "for target, substitution in substitution_dict.items():\n",
    "    add_review_df['txt'] = add_review_df['txt'].str.replace(target, substitution)"
   ]
  },
  {
   "cell_type": "code",
   "execution_count": 16,
   "metadata": {},
   "outputs": [],
   "source": [
    "lower_alphabet_list = list('abcdefghijklmnopqrstuvwxyz')\n",
    "upper_alphabet_list = list('ABCDEFGHIJKLMNOPQRSTUVWXYZ')\n",
    "\n",
    "for upper, lower in zip(upper_alphabet_list, lower_alphabet_list):\n",
    "    add_review_df['txt'] = add_review_df['txt'].str.replace(upper, lower)"
   ]
  },
  {
   "cell_type": "code",
   "execution_count": 17,
   "metadata": {},
   "outputs": [
    {
     "name": "stdout",
     "output_type": "stream",
     "text": [
      "Before :  (4534, 1)\n",
      "After :  (4531, 1)\n"
     ]
    }
   ],
   "source": [
    "print('Before : ', add_review_df.shape)\n",
    "\n",
    "index1 = add_review_df['txt'] == ''\n",
    "index2 = add_review_df['txt'] == ' '\n",
    "index3 = add_review_df['txt'] == '  '\n",
    "\n",
    "index = index1 | index2 | index3\n",
    "add_review_df = add_review_df[~index]\n",
    "\n",
    "print('After : ', add_review_df.shape)"
   ]
  },
  {
   "cell_type": "markdown",
   "metadata": {},
   "source": [
    "#### 데이터라벨링을 위해 소분화 저장\n",
    "   - 영화관련된 내용의 문장인지 아닌지 라벨링 부여"
   ]
  },
  {
   "cell_type": "code",
   "execution_count": 18,
   "metadata": {},
   "outputs": [],
   "source": [
    "lookback = 500\n",
    "mok = len(add_review_df) // lookback\n",
    "\n",
    "\n",
    "for i in range(mok):\n",
    "    temp_df = add_review_df.iloc[i*500 : 500*i+500, ]\n",
    "    temp_df.to_csv('./add_commentdf_' + str(i+1) + '.csv', encoding='UTF-8-SIG')\n",
    "add_review_df[mok*500:].to_csv('./add_comment_df_' + str(mok) +'.csv', encoding='UTF-8-SIG')"
   ]
  }
 ],
 "metadata": {
  "kernelspec": {
   "display_name": "Python 3",
   "language": "python",
   "name": "python3"
  },
  "language_info": {
   "codemirror_mode": {
    "name": "ipython",
    "version": 3
   },
   "file_extension": ".py",
   "mimetype": "text/x-python",
   "name": "python",
   "nbconvert_exporter": "python",
   "pygments_lexer": "ipython3",
   "version": "3.8.5"
  }
 },
 "nbformat": 4,
 "nbformat_minor": 4
}
