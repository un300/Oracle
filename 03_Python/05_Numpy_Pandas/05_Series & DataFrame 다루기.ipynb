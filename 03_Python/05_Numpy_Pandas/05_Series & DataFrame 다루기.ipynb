{
 "cells": [
  {
   "cell_type": "markdown",
   "metadata": {},
   "source": [
    "###### 2020-10-13 화요일 / 2020-10-14 수요일"
   ]
  },
  {
   "cell_type": "markdown",
   "metadata": {},
   "source": [
    "# Series & DataFrame 다루기\n",
    "\n",
    "\n",
    "   ### 목차\n",
    "\n",
    "   ##### 1. index 이름으로 값 변경하기\n",
    "   ##### 2. index 이름을 이용한 연산\n",
    "   ##### 3. 결측치(NaN) 처리\n",
    "   ##### 4. DataFrame\n",
    "   ##### 5. DataFrame 데이터 갱신\n",
    "   ##### 6. DataFrame row indexing\n",
    "   ##### 7. 데이터 입출력\n",
    "   ##### 8. DataFrame 문자열 처리"
   ]
  },
  {
   "cell_type": "code",
   "execution_count": 2,
   "metadata": {},
   "outputs": [],
   "source": [
    "import pandas as pd\n",
    "import numpy as np\n",
    "import matplotlib.pyplot as plt"
   ]
  },
  {
   "cell_type": "code",
   "execution_count": 4,
   "metadata": {},
   "outputs": [],
   "source": [
    "def seriesinfo(s):\n",
    "    print('value :', s.values)\n",
    "    print('value type :', type(s.values))\n",
    "    print('index :', s.index)\n",
    "    print('index type :', type(s.index))\n",
    "    print('index + value :\\n', s)"
   ]
  },
  {
   "cell_type": "markdown",
   "metadata": {},
   "source": [
    "## 1. index 이름으로 값 변경하기"
   ]
  },
  {
   "cell_type": "markdown",
   "metadata": {},
   "source": [
    "    - 실습을 위한 시리즈를 만들어 줍시다."
   ]
  },
  {
   "cell_type": "code",
   "execution_count": 6,
   "metadata": {},
   "outputs": [
    {
     "name": "stdout",
     "output_type": "stream",
     "text": [
      "value : [4000 3000 3500 2000]\n",
      "value type : <class 'numpy.ndarray'>\n",
      "index : Index(['a', 'b', 'c', 'd'], dtype='object')\n",
      "index type : <class 'pandas.core.indexes.base.Index'>\n",
      "index + value :\n",
      " a    4000\n",
      "b    3000\n",
      "c    3500\n",
      "d    2000\n",
      "dtype: int64\n"
     ]
    }
   ],
   "source": [
    "price_series = pd.Series([4000, 3000, 3500, 2000],\n",
    "                        index = ['a', 'b', 'c', 'd'])\n",
    "seriesinfo(price_series)"
   ]
  },
  {
   "cell_type": "code",
   "execution_count": 11,
   "metadata": {
    "scrolled": true
   },
   "outputs": [
    {
     "name": "stdout",
     "output_type": "stream",
     "text": [
      "value : [5000 3000 3500 2000]\n",
      "value type : <class 'numpy.ndarray'>\n",
      "index : Index(['a', 'b', 'c', 'd'], dtype='object')\n",
      "index type : <class 'pandas.core.indexes.base.Index'>\n",
      "index + value :\n",
      " a    5000\n",
      "b    3000\n",
      "c    3500\n",
      "d    2000\n",
      "dtype: int64\n"
     ]
    }
   ],
   "source": [
    "# index의 이름을 지정해서 값을 변경할 수 있다.\n",
    "price_series['a'] = 5000\n",
    "seriesinfo(price_series)"
   ]
  },
  {
   "cell_type": "code",
   "execution_count": 13,
   "metadata": {},
   "outputs": [
    {
     "name": "stdout",
     "output_type": "stream",
     "text": [
      "value : [4000 3000 3500 2000]\n",
      "value type : <class 'numpy.ndarray'>\n",
      "index : Index(['a', 'b', 'c', 'd'], dtype='object')\n",
      "index type : <class 'pandas.core.indexes.base.Index'>\n",
      "index + value :\n",
      " a    4000\n",
      "b    3000\n",
      "c    3500\n",
      "d    2000\n",
      "dtype: int64\n"
     ]
    }
   ],
   "source": [
    "# index의 번호를 지정해서 값을 변경할 수 있다.\n",
    "price_series[0] = 4000\n",
    "seriesinfo(price_series)"
   ]
  },
  {
   "cell_type": "code",
   "execution_count": 18,
   "metadata": {},
   "outputs": [
    {
     "name": "stdout",
     "output_type": "stream",
     "text": [
      "value : [4000 3000 3500 2000 1000]\n",
      "value type : <class 'numpy.ndarray'>\n",
      "index : Index(['a', 'b', 'c', 'd', 'e'], dtype='object')\n",
      "index type : <class 'pandas.core.indexes.base.Index'>\n",
      "index + value :\n",
      " a    4000\n",
      "b    3000\n",
      "c    3500\n",
      "d    2000\n",
      "e    1000\n",
      "dtype: int64\n"
     ]
    }
   ],
   "source": [
    "# index에 이름을 접근해서 값을 추가할 수도 있다.\n",
    "price_series['e'] = 1000\n",
    "seriesinfo(price_series)"
   ]
  },
  {
   "cell_type": "code",
   "execution_count": 19,
   "metadata": {},
   "outputs": [
    {
     "name": "stdout",
     "output_type": "stream",
     "text": [
      "value : [4000 3000 3500 2000]\n",
      "value type : <class 'numpy.ndarray'>\n",
      "index : Index(['a', 'b', 'c', 'd'], dtype='object')\n",
      "index type : <class 'pandas.core.indexes.base.Index'>\n",
      "index + value :\n",
      " a    4000\n",
      "b    3000\n",
      "c    3500\n",
      "d    2000\n",
      "dtype: int64\n"
     ]
    }
   ],
   "source": [
    "# index의 이름으로 접근해서 원소값을 삭제할 수도 있다.\n",
    "del price_series['e']\n",
    "seriesinfo(price_series)"
   ]
  },
  {
   "cell_type": "code",
   "execution_count": 21,
   "metadata": {},
   "outputs": [
    {
     "name": "stdout",
     "output_type": "stream",
     "text": [
      "value : [40 10 50 20 30]\n",
      "value type : <class 'numpy.ndarray'>\n",
      "index : RangeIndex(start=0, stop=5, step=1)\n",
      "index type : <class 'pandas.core.indexes.range.RangeIndex'>\n",
      "index + value :\n",
      " 0    40\n",
      "1    10\n",
      "2    50\n",
      "3    20\n",
      "4    30\n",
      "dtype: int64\n"
     ]
    }
   ],
   "source": [
    "set = pd.Series(list({10 ,20, 30, 40, 50}))\n",
    "seriesinfo(set)"
   ]
  },
  {
   "cell_type": "markdown",
   "metadata": {},
   "source": [
    "## 2. index 이름을 이용한 연산"
   ]
  },
  {
   "cell_type": "code",
   "execution_count": 28,
   "metadata": {},
   "outputs": [
    {
     "name": "stdout",
     "output_type": "stream",
     "text": [
      "value : [100 200 300 350]\n",
      "value type : <class 'numpy.ndarray'>\n",
      "index : Index(['a', 'o', 'k', 'm'], dtype='object')\n",
      "index type : <class 'pandas.core.indexes.base.Index'>\n",
      "index + value :\n",
      " a    100\n",
      "o    200\n",
      "k    300\n",
      "m    350\n",
      "dtype: int64\n",
      "value : [400 200 350 450]\n",
      "value type : <class 'numpy.ndarray'>\n",
      "index : Index(['o', 'a', 'h', 'm'], dtype='object')\n",
      "index type : <class 'pandas.core.indexes.base.Index'>\n",
      "index + value :\n",
      " o    400\n",
      "a    200\n",
      "h    350\n",
      "m    450\n",
      "dtype: int64\n"
     ]
    }
   ],
   "source": [
    "ser01 = pd.Series([100, 200, 300, 350],\n",
    "                 index = ['a', 'o', 'k', 'm'])\n",
    "\n",
    "ser02 = pd.Series([400, 200, 350, 450],\n",
    "                 index = ['o', 'a', 'h', 'm'])\n",
    "\n",
    "seriesinfo(ser01)\n",
    "seriesinfo(ser02)"
   ]
  },
  {
   "cell_type": "markdown",
   "metadata": {},
   "source": [
    "##### 두 가지의 np.Series를 연산할 때,\n",
    "    - 두 np.Series의 index name이 같아야 연산이 수행된다. 만약 동일한 index 이름이 없다면 결측치(NaN) 값으로 나타난다."
   ]
  },
  {
   "cell_type": "code",
   "execution_count": 30,
   "metadata": {
    "scrolled": true
   },
   "outputs": [
    {
     "name": "stdout",
     "output_type": "stream",
     "text": [
      "value : [300.  nan  nan 800. 600.]\n",
      "value type : <class 'numpy.ndarray'>\n",
      "index : Index(['a', 'h', 'k', 'm', 'o'], dtype='object')\n",
      "index type : <class 'pandas.core.indexes.base.Index'>\n",
      "index + value :\n",
      " a    300.0\n",
      "h      NaN\n",
      "k      NaN\n",
      "m    800.0\n",
      "o    600.0\n",
      "dtype: float64\n"
     ]
    }
   ],
   "source": [
    "# index의 label이 동일한 행만 연산이 수행된다.\n",
    "ser03 = ser01 + ser02\n",
    "seriesinfo(ser03)  # index의 label이 일치하지 않는 경우에는 NaN으로 나타난다."
   ]
  },
  {
   "cell_type": "markdown",
   "metadata": {},
   "source": [
    "##### 만약 동일한 index 이름이 없는데도 연산을 수행하고 싶다면..?\n",
    "    - `+` `/` `*` 와 같은 수식을 이용한 방법말고, `.add`와 같은 함수에 `fill_value`라는 옵션을 지정해주면 된다.\n",
    "    - 자세한 설명은 코드를 참조해주세요"
   ]
  },
  {
   "cell_type": "code",
   "execution_count": 32,
   "metadata": {
    "scrolled": true
   },
   "outputs": [
    {
     "name": "stdout",
     "output_type": "stream",
     "text": [
      "value : [300. 350. 300. 800. 600.]\n",
      "value type : <class 'numpy.ndarray'>\n",
      "index : Index(['a', 'h', 'k', 'm', 'o'], dtype='object')\n",
      "index type : <class 'pandas.core.indexes.base.Index'>\n",
      "index + value :\n",
      " a    300.0\n",
      "h    350.0\n",
      "k    300.0\n",
      "m    800.0\n",
      "o    600.0\n",
      "dtype: float64\n"
     ]
    }
   ],
   "source": [
    "# NaN 값을 안뜨게 하려면, 함수를 사용해서 처리하면 된다.\n",
    "ser04 = ser01.add(ser02, fill_value=0)\n",
    "seriesinfo(ser04)"
   ]
  },
  {
   "cell_type": "markdown",
   "metadata": {},
   "source": [
    "## 3. 결측치(NaN) 처리\n",
    "\n",
    "    - 파이썬에서는 결측치를 NaN으로 표시한다. 그래서 pd.NaN으로 결측치를 지정할 수 있다."
   ]
  },
  {
   "cell_type": "code",
   "execution_count": 22,
   "metadata": {},
   "outputs": [
    {
     "data": {
      "text/plain": [
       "0    False\n",
       "1    False\n",
       "2    False\n",
       "3    False\n",
       "4    False\n",
       "dtype: bool"
      ]
     },
     "execution_count": 22,
     "metadata": {},
     "output_type": "execute_result"
    }
   ],
   "source": [
    "# Null 값을 확인시켜주는 함수 : pd.isnull\n",
    "pd.isnull(set)"
   ]
  },
  {
   "cell_type": "code",
   "execution_count": 25,
   "metadata": {},
   "outputs": [
    {
     "name": "stdout",
     "output_type": "stream",
     "text": [
      "value : [nan 10. 50. 20. 30.]\n",
      "value type : <class 'numpy.ndarray'>\n",
      "index : RangeIndex(start=0, stop=5, step=1)\n",
      "index type : <class 'pandas.core.indexes.range.RangeIndex'>\n",
      "index + value :\n",
      " 0     NaN\n",
      "1    10.0\n",
      "2    50.0\n",
      "3    20.0\n",
      "4    30.0\n",
      "dtype: float64\n"
     ]
    }
   ],
   "source": [
    "# python에서는 Null 값을 NaN으로 처리한다,\n",
    "# Null값을 넣기 위해서는 numpy에서 제공하는 np.NaN을 사용한다.\n",
    "\n",
    "set[0] = np.NaN\n",
    "seriesinfo(set)"
   ]
  },
  {
   "cell_type": "markdown",
   "metadata": {},
   "source": [
    "##### 결측치를 처리하는 함수\n",
    "    - [객체].fillna('채워넣을값')"
   ]
  },
  {
   "cell_type": "code",
   "execution_count": 37,
   "metadata": {
    "scrolled": true
   },
   "outputs": [
    {
     "data": {
      "text/plain": [
       "a    300.000000\n",
       "h    566.666667\n",
       "k    566.666667\n",
       "m    800.000000\n",
       "o    600.000000\n",
       "dtype: float64"
      ]
     },
     "execution_count": 37,
     "metadata": {},
     "output_type": "execute_result"
    }
   ],
   "source": [
    "ser03.fillna(np.mean(ser03))"
   ]
  },
  {
   "cell_type": "markdown",
   "metadata": {},
   "source": [
    "##### 결측치를 제거하는 방법\n",
    "   - `pd.notnull('결측치를 찾을 객체')`를 이용해서 결측치인 index를 제외한다."
   ]
  },
  {
   "cell_type": "code",
   "execution_count": 41,
   "metadata": {},
   "outputs": [
    {
     "name": "stdout",
     "output_type": "stream",
     "text": [
      "value : [300. 800. 600.]\n",
      "value type : <class 'numpy.ndarray'>\n",
      "index : Index(['a', 'm', 'o'], dtype='object')\n",
      "index type : <class 'pandas.core.indexes.base.Index'>\n",
      "index + value :\n",
      " a    300.0\n",
      "m    800.0\n",
      "o    600.0\n",
      "dtype: float64\n"
     ]
    }
   ],
   "source": [
    "# 결측값을 제거하는 방법\n",
    "exist_index = pd.notnull(ser03)  # pd.isnull() 함수와 비교하세요\n",
    "seriesinfo(ser03[exist_index])"
   ]
  },
  {
   "cell_type": "markdown",
   "metadata": {},
   "source": [
    "## 4. DataFrame\n",
    "\n",
    "\n",
    "    - 2차원 행렬 데이터에 인덱스를 붙인 것과 동일하다.\n",
    "    - 행 인덱스 / 열 인덱스 붙일 수 있다."
   ]
  },
  {
   "cell_type": "code",
   "execution_count": 55,
   "metadata": {},
   "outputs": [
    {
     "data": {
      "text/html": [
       "<div>\n",
       "<style scoped>\n",
       "    .dataframe tbody tr th:only-of-type {\n",
       "        vertical-align: middle;\n",
       "    }\n",
       "\n",
       "    .dataframe tbody tr th {\n",
       "        vertical-align: top;\n",
       "    }\n",
       "\n",
       "    .dataframe thead th {\n",
       "        text-align: right;\n",
       "    }\n",
       "</style>\n",
       "<table border=\"1\" class=\"dataframe\">\n",
       "  <thead>\n",
       "    <tr style=\"text-align: right;\">\n",
       "      <th></th>\n",
       "      <th>지역</th>\n",
       "      <th>2014</th>\n",
       "      <th>2016</th>\n",
       "      <th>2018</th>\n",
       "      <th>2020</th>\n",
       "      <th>증가율</th>\n",
       "    </tr>\n",
       "  </thead>\n",
       "  <tbody>\n",
       "    <tr>\n",
       "      <th>서울</th>\n",
       "      <td>수도권</td>\n",
       "      <td>8346293</td>\n",
       "      <td>7846293</td>\n",
       "      <td>4846293</td>\n",
       "      <td>9910293</td>\n",
       "      <td>0.2343</td>\n",
       "    </tr>\n",
       "    <tr>\n",
       "      <th>부산</th>\n",
       "      <td>경산권</td>\n",
       "      <td>5715521</td>\n",
       "      <td>1816521</td>\n",
       "      <td>2816521</td>\n",
       "      <td>8384050</td>\n",
       "      <td>0.0434</td>\n",
       "    </tr>\n",
       "    <tr>\n",
       "      <th>경기</th>\n",
       "      <td>수도권</td>\n",
       "      <td>3022185</td>\n",
       "      <td>8952185</td>\n",
       "      <td>3952185</td>\n",
       "      <td>2856372</td>\n",
       "      <td>0.0944</td>\n",
       "    </tr>\n",
       "    <tr>\n",
       "      <th>대구</th>\n",
       "      <td>경상권</td>\n",
       "      <td>7469165</td>\n",
       "      <td>3469165</td>\n",
       "      <td>2469165</td>\n",
       "      <td>9583027</td>\n",
       "      <td>0.0034</td>\n",
       "    </tr>\n",
       "  </tbody>\n",
       "</table>\n",
       "</div>"
      ],
      "text/plain": [
       "     지역     2014     2016     2018     2020     증가율\n",
       "서울  수도권  8346293  7846293  4846293  9910293  0.2343\n",
       "부산  경산권  5715521  1816521  2816521  8384050  0.0434\n",
       "경기  수도권  3022185  8952185  3952185  2856372  0.0944\n",
       "대구  경상권  7469165  3469165  2469165  9583027  0.0034"
      ]
     },
     "execution_count": 55,
     "metadata": {},
     "output_type": "execute_result"
    }
   ],
   "source": [
    "# 연도에 해당하는 도시별 인구수를 정의한다면?\n",
    "\n",
    "data = {\n",
    "    '2020'   : [9910293, 8384050, 2856372, 9583027],\n",
    "    '2018'   : [4846293, 2816521, 3952185, 2469165],\n",
    "    '2016'   : [7846293, 1816521, 8952185, 3469165],\n",
    "    '2014'   : [8346293, 5715521, 3022185, 7469165],\n",
    "    '지역'   : ['수도권', '경산권', '수도권', '경상권'],\n",
    "    '증가율' : [0.2343, 0.0434, 0.0944, 0.0034]\n",
    "}\n",
    "\n",
    "\n",
    "columns = ['지역', '2014', '2016', '2018', '2020', '증가율']\n",
    "pop_df = pd.DataFrame(data,\n",
    "                     index   = ['서울', '부산', '경기', '대구'],\n",
    "                     columns = columns)\n",
    "pop_df"
   ]
  },
  {
   "cell_type": "code",
   "execution_count": 58,
   "metadata": {},
   "outputs": [
    {
     "data": {
      "text/plain": [
       "Index(['지역', '2014', '2016', '2018', '2020', '증가율'], dtype='object')"
      ]
     },
     "execution_count": 58,
     "metadata": {},
     "output_type": "execute_result"
    }
   ],
   "source": [
    "# 데이터프레임의 칼럼이름을 보고싶을때\n",
    "pop_df.columns"
   ]
  },
  {
   "cell_type": "code",
   "execution_count": 59,
   "metadata": {},
   "outputs": [
    {
     "data": {
      "text/plain": [
       "Index(['서울', '부산', '경기', '대구'], dtype='object')"
      ]
     },
     "execution_count": 59,
     "metadata": {},
     "output_type": "execute_result"
    }
   ],
   "source": [
    "# 데이터프레임의 행 index이름을 보고싶을때\n",
    "pop_df.index"
   ]
  },
  {
   "cell_type": "markdown",
   "metadata": {},
   "source": [
    "    - 데이터프레임의 index이름과 columns이름을 지정할 때"
   ]
  },
  {
   "cell_type": "code",
   "execution_count": 72,
   "metadata": {},
   "outputs": [
    {
     "data": {
      "text/html": [
       "<div>\n",
       "<style scoped>\n",
       "    .dataframe tbody tr th:only-of-type {\n",
       "        vertical-align: middle;\n",
       "    }\n",
       "\n",
       "    .dataframe tbody tr th {\n",
       "        vertical-align: top;\n",
       "    }\n",
       "\n",
       "    .dataframe thead th {\n",
       "        text-align: right;\n",
       "    }\n",
       "</style>\n",
       "<table border=\"1\" class=\"dataframe\">\n",
       "  <thead>\n",
       "    <tr style=\"text-align: right;\">\n",
       "      <th>특성</th>\n",
       "      <th>지역</th>\n",
       "      <th>2014</th>\n",
       "      <th>2016</th>\n",
       "      <th>2018</th>\n",
       "      <th>2020</th>\n",
       "      <th>증가율</th>\n",
       "    </tr>\n",
       "    <tr>\n",
       "      <th>도시</th>\n",
       "      <th></th>\n",
       "      <th></th>\n",
       "      <th></th>\n",
       "      <th></th>\n",
       "      <th></th>\n",
       "      <th></th>\n",
       "    </tr>\n",
       "  </thead>\n",
       "  <tbody>\n",
       "    <tr>\n",
       "      <th>서울</th>\n",
       "      <td>수도권</td>\n",
       "      <td>8346293</td>\n",
       "      <td>7846293</td>\n",
       "      <td>4846293</td>\n",
       "      <td>9910293</td>\n",
       "      <td>0.2343</td>\n",
       "    </tr>\n",
       "    <tr>\n",
       "      <th>부산</th>\n",
       "      <td>경산권</td>\n",
       "      <td>5715521</td>\n",
       "      <td>1816521</td>\n",
       "      <td>2816521</td>\n",
       "      <td>8384050</td>\n",
       "      <td>0.0434</td>\n",
       "    </tr>\n",
       "    <tr>\n",
       "      <th>경기</th>\n",
       "      <td>수도권</td>\n",
       "      <td>3022185</td>\n",
       "      <td>8952185</td>\n",
       "      <td>3952185</td>\n",
       "      <td>2856372</td>\n",
       "      <td>0.0944</td>\n",
       "    </tr>\n",
       "    <tr>\n",
       "      <th>대구</th>\n",
       "      <td>경상권</td>\n",
       "      <td>7469165</td>\n",
       "      <td>3469165</td>\n",
       "      <td>2469165</td>\n",
       "      <td>9583027</td>\n",
       "      <td>0.0034</td>\n",
       "    </tr>\n",
       "  </tbody>\n",
       "</table>\n",
       "</div>"
      ],
      "text/plain": [
       "특성   지역     2014     2016     2018     2020     증가율\n",
       "도시                                                 \n",
       "서울  수도권  8346293  7846293  4846293  9910293  0.2343\n",
       "부산  경산권  5715521  1816521  2816521  8384050  0.0434\n",
       "경기  수도권  3022185  8952185  3952185  2856372  0.0944\n",
       "대구  경상권  7469165  3469165  2469165  9583027  0.0034"
      ]
     },
     "execution_count": 72,
     "metadata": {},
     "output_type": "execute_result"
    }
   ],
   "source": [
    "pop_df.index.name = '도시'\n",
    "pop_df.columns.name = '특성'\n",
    "pop_df"
   ]
  },
  {
   "cell_type": "code",
   "execution_count": 76,
   "metadata": {},
   "outputs": [],
   "source": [
    "def dfinfo(df) :\n",
    "    print('df shape        : {}' .format(df.shape))\n",
    "    print('df size         : {}' .format(df.size))\n",
    "    print('df ndim         : {}' .format(df.ndim))\n",
    "    print('df index        : {}' .format(df.index))\n",
    "    print('df index type   : {}' .format(type(df.index)))\n",
    "    print('df columns      : {}' .format(df.columns))\n",
    "    print('df columns type : {}' .format(type(df.columns)))"
   ]
  },
  {
   "cell_type": "code",
   "execution_count": 77,
   "metadata": {},
   "outputs": [
    {
     "name": "stdout",
     "output_type": "stream",
     "text": [
      "df shape        : (4, 6)\n",
      "df size         : 24\n",
      "df ndim         : 2\n",
      "df index        : Index(['서울', '부산', '경기', '대구'], dtype='object', name='도시')\n",
      "df index type   : <class 'pandas.core.indexes.base.Index'>\n",
      "df columns      : Index(['지역', '2014', '2016', '2018', '2020', '증가율'], dtype='object', name='특성')\n",
      "df columns type : <class 'pandas.core.indexes.base.Index'>\n"
     ]
    }
   ],
   "source": [
    "dfinfo(pop_df)"
   ]
  },
  {
   "cell_type": "markdown",
   "metadata": {},
   "source": [
    "#### pd.DataFrame 출력\n",
    "   - 데이터프레임을 출력할때, `print()`함수를 사용하게 되면, 문자 형식으로 출력된다.\n",
    "   - 그러므로 표 형식으로 출력하고자 할때는 `display()`함수를 사용한다"
   ]
  },
  {
   "cell_type": "code",
   "execution_count": 73,
   "metadata": {
    "scrolled": true
   },
   "outputs": [
    {
     "data": {
      "text/html": [
       "<div>\n",
       "<style scoped>\n",
       "    .dataframe tbody tr th:only-of-type {\n",
       "        vertical-align: middle;\n",
       "    }\n",
       "\n",
       "    .dataframe tbody tr th {\n",
       "        vertical-align: top;\n",
       "    }\n",
       "\n",
       "    .dataframe thead th {\n",
       "        text-align: right;\n",
       "    }\n",
       "</style>\n",
       "<table border=\"1\" class=\"dataframe\">\n",
       "  <thead>\n",
       "    <tr style=\"text-align: right;\">\n",
       "      <th>특성</th>\n",
       "      <th>지역</th>\n",
       "      <th>2014</th>\n",
       "      <th>2016</th>\n",
       "      <th>2018</th>\n",
       "      <th>2020</th>\n",
       "      <th>증가율</th>\n",
       "    </tr>\n",
       "    <tr>\n",
       "      <th>도시</th>\n",
       "      <th></th>\n",
       "      <th></th>\n",
       "      <th></th>\n",
       "      <th></th>\n",
       "      <th></th>\n",
       "      <th></th>\n",
       "    </tr>\n",
       "  </thead>\n",
       "  <tbody>\n",
       "    <tr>\n",
       "      <th>서울</th>\n",
       "      <td>수도권</td>\n",
       "      <td>8346293</td>\n",
       "      <td>7846293</td>\n",
       "      <td>4846293</td>\n",
       "      <td>9910293</td>\n",
       "      <td>0.2343</td>\n",
       "    </tr>\n",
       "    <tr>\n",
       "      <th>부산</th>\n",
       "      <td>경산권</td>\n",
       "      <td>5715521</td>\n",
       "      <td>1816521</td>\n",
       "      <td>2816521</td>\n",
       "      <td>8384050</td>\n",
       "      <td>0.0434</td>\n",
       "    </tr>\n",
       "    <tr>\n",
       "      <th>경기</th>\n",
       "      <td>수도권</td>\n",
       "      <td>3022185</td>\n",
       "      <td>8952185</td>\n",
       "      <td>3952185</td>\n",
       "      <td>2856372</td>\n",
       "      <td>0.0944</td>\n",
       "    </tr>\n",
       "    <tr>\n",
       "      <th>대구</th>\n",
       "      <td>경상권</td>\n",
       "      <td>7469165</td>\n",
       "      <td>3469165</td>\n",
       "      <td>2469165</td>\n",
       "      <td>9583027</td>\n",
       "      <td>0.0034</td>\n",
       "    </tr>\n",
       "  </tbody>\n",
       "</table>\n",
       "</div>"
      ],
      "text/plain": [
       "특성   지역     2014     2016     2018     2020     증가율\n",
       "도시                                                 \n",
       "서울  수도권  8346293  7846293  4846293  9910293  0.2343\n",
       "부산  경산권  5715521  1816521  2816521  8384050  0.0434\n",
       "경기  수도권  3022185  8952185  3952185  2856372  0.0944\n",
       "대구  경상권  7469165  3469165  2469165  9583027  0.0034"
      ]
     },
     "metadata": {},
     "output_type": "display_data"
    }
   ],
   "source": [
    "# print(\"데이터프레임\")으로 하면 그리드 형식으로 프레임이 출력되지 않는다\n",
    "# 그래서 display() 함수를 사용하면 된다.\n",
    "\n",
    "display(pop_df)"
   ]
  },
  {
   "cell_type": "markdown",
   "metadata": {},
   "source": [
    "##### 실습!"
   ]
  },
  {
   "cell_type": "code",
   "execution_count": 313,
   "metadata": {
    "scrolled": true
   },
   "outputs": [
    {
     "data": {
      "text/html": [
       "<div>\n",
       "<style scoped>\n",
       "    .dataframe tbody tr th:only-of-type {\n",
       "        vertical-align: middle;\n",
       "    }\n",
       "\n",
       "    .dataframe tbody tr th {\n",
       "        vertical-align: top;\n",
       "    }\n",
       "\n",
       "    .dataframe thead th {\n",
       "        text-align: right;\n",
       "    }\n",
       "</style>\n",
       "<table border=\"1\" class=\"dataframe\">\n",
       "  <thead>\n",
       "    <tr style=\"text-align: right;\">\n",
       "      <th></th>\n",
       "      <th>날짜</th>\n",
       "      <th>문자</th>\n",
       "      <th>정수</th>\n",
       "      <th>표준정규분포난수</th>\n",
       "      <th>균일분포난수</th>\n",
       "    </tr>\n",
       "  </thead>\n",
       "  <tbody>\n",
       "    <tr>\n",
       "      <th>A</th>\n",
       "      <td>2020-10-13</td>\n",
       "      <td>배고파</td>\n",
       "      <td>9</td>\n",
       "      <td>0.799992</td>\n",
       "      <td>0.523944</td>\n",
       "    </tr>\n",
       "    <tr>\n",
       "      <th>B</th>\n",
       "      <td>2020-10-14</td>\n",
       "      <td>뭐먹지</td>\n",
       "      <td>67</td>\n",
       "      <td>-0.508377</td>\n",
       "      <td>0.800418</td>\n",
       "    </tr>\n",
       "    <tr>\n",
       "      <th>C</th>\n",
       "      <td>2020-10-15</td>\n",
       "      <td>메뉴</td>\n",
       "      <td>46</td>\n",
       "      <td>-0.738264</td>\n",
       "      <td>0.497684</td>\n",
       "    </tr>\n",
       "    <tr>\n",
       "      <th>D</th>\n",
       "      <td>2020-10-16</td>\n",
       "      <td>추천좀</td>\n",
       "      <td>67</td>\n",
       "      <td>-0.193731</td>\n",
       "      <td>0.977954</td>\n",
       "    </tr>\n",
       "    <tr>\n",
       "      <th>E</th>\n",
       "      <td>2020-10-17</td>\n",
       "      <td>해주세요</td>\n",
       "      <td>99</td>\n",
       "      <td>1.684797</td>\n",
       "      <td>0.950934</td>\n",
       "    </tr>\n",
       "    <tr>\n",
       "      <th>F</th>\n",
       "      <td>2020-10-18</td>\n",
       "      <td>치킨</td>\n",
       "      <td>77</td>\n",
       "      <td>0.741927</td>\n",
       "      <td>0.970611</td>\n",
       "    </tr>\n",
       "    <tr>\n",
       "      <th>G</th>\n",
       "      <td>2020-10-19</td>\n",
       "      <td>먹고</td>\n",
       "      <td>86</td>\n",
       "      <td>-1.071301</td>\n",
       "      <td>0.884700</td>\n",
       "    </tr>\n",
       "    <tr>\n",
       "      <th>H</th>\n",
       "      <td>2020-10-20</td>\n",
       "      <td>싶다</td>\n",
       "      <td>32</td>\n",
       "      <td>-0.113964</td>\n",
       "      <td>0.912154</td>\n",
       "    </tr>\n",
       "    <tr>\n",
       "      <th>I</th>\n",
       "      <td>2020-10-21</td>\n",
       "      <td>먹으로</td>\n",
       "      <td>82</td>\n",
       "      <td>-2.360020</td>\n",
       "      <td>0.123777</td>\n",
       "    </tr>\n",
       "    <tr>\n",
       "      <th>J</th>\n",
       "      <td>2020-10-22</td>\n",
       "      <td>갈사람?</td>\n",
       "      <td>93</td>\n",
       "      <td>-0.226112</td>\n",
       "      <td>0.088913</td>\n",
       "    </tr>\n",
       "  </tbody>\n",
       "</table>\n",
       "</div>"
      ],
      "text/plain": [
       "          날짜    문자  정수  표준정규분포난수    균일분포난수\n",
       "A 2020-10-13   배고파   9  0.799992  0.523944\n",
       "B 2020-10-14   뭐먹지  67 -0.508377  0.800418\n",
       "C 2020-10-15    메뉴  46 -0.738264  0.497684\n",
       "D 2020-10-16   추천좀  67 -0.193731  0.977954\n",
       "E 2020-10-17  해주세요  99  1.684797  0.950934\n",
       "F 2020-10-18    치킨  77  0.741927  0.970611\n",
       "G 2020-10-19    먹고  86 -1.071301  0.884700\n",
       "H 2020-10-20    싶다  32 -0.113964  0.912154\n",
       "I 2020-10-21   먹으로  82 -2.360020  0.123777\n",
       "J 2020-10-22  갈사람?  93 -0.226112  0.088913"
      ]
     },
     "metadata": {},
     "output_type": "display_data"
    },
    {
     "name": "stdout",
     "output_type": "stream",
     "text": [
      "df shape        : (10, 5)\n",
      "df size         : 50\n",
      "df ndim         : 2\n",
      "df index        : Index(['A', 'B', 'C', 'D', 'E', 'F', 'G', 'H', 'I', 'J'], dtype='object')\n",
      "df index type   : <class 'pandas.core.indexes.base.Index'>\n",
      "df columns      : Index(['날짜', '문자', '정수', '표준정규분포난수', '균일분포난수'], dtype='object')\n",
      "df columns type : <class 'pandas.core.indexes.base.Index'>\n"
     ]
    },
    {
     "data": {
      "text/html": [
       "<div>\n",
       "<style scoped>\n",
       "    .dataframe tbody tr th:only-of-type {\n",
       "        vertical-align: middle;\n",
       "    }\n",
       "\n",
       "    .dataframe tbody tr th {\n",
       "        vertical-align: top;\n",
       "    }\n",
       "\n",
       "    .dataframe thead th {\n",
       "        text-align: right;\n",
       "    }\n",
       "</style>\n",
       "<table border=\"1\" class=\"dataframe\">\n",
       "  <thead>\n",
       "    <tr style=\"text-align: right;\">\n",
       "      <th></th>\n",
       "      <th>A</th>\n",
       "      <th>B</th>\n",
       "      <th>C</th>\n",
       "      <th>D</th>\n",
       "      <th>E</th>\n",
       "      <th>F</th>\n",
       "      <th>G</th>\n",
       "      <th>H</th>\n",
       "      <th>I</th>\n",
       "      <th>J</th>\n",
       "    </tr>\n",
       "  </thead>\n",
       "  <tbody>\n",
       "    <tr>\n",
       "      <th>날짜</th>\n",
       "      <td>2020-10-13 00:00:00</td>\n",
       "      <td>2020-10-14 00:00:00</td>\n",
       "      <td>2020-10-15 00:00:00</td>\n",
       "      <td>2020-10-16 00:00:00</td>\n",
       "      <td>2020-10-17 00:00:00</td>\n",
       "      <td>2020-10-18 00:00:00</td>\n",
       "      <td>2020-10-19 00:00:00</td>\n",
       "      <td>2020-10-20 00:00:00</td>\n",
       "      <td>2020-10-21 00:00:00</td>\n",
       "      <td>2020-10-22 00:00:00</td>\n",
       "    </tr>\n",
       "    <tr>\n",
       "      <th>문자</th>\n",
       "      <td>배고파</td>\n",
       "      <td>뭐먹지</td>\n",
       "      <td>메뉴</td>\n",
       "      <td>추천좀</td>\n",
       "      <td>해주세요</td>\n",
       "      <td>치킨</td>\n",
       "      <td>먹고</td>\n",
       "      <td>싶다</td>\n",
       "      <td>먹으로</td>\n",
       "      <td>갈사람?</td>\n",
       "    </tr>\n",
       "    <tr>\n",
       "      <th>정수</th>\n",
       "      <td>9</td>\n",
       "      <td>67</td>\n",
       "      <td>46</td>\n",
       "      <td>67</td>\n",
       "      <td>99</td>\n",
       "      <td>77</td>\n",
       "      <td>86</td>\n",
       "      <td>32</td>\n",
       "      <td>82</td>\n",
       "      <td>93</td>\n",
       "    </tr>\n",
       "    <tr>\n",
       "      <th>표준정규분포난수</th>\n",
       "      <td>0.799992</td>\n",
       "      <td>-0.508377</td>\n",
       "      <td>-0.738264</td>\n",
       "      <td>-0.193731</td>\n",
       "      <td>1.6848</td>\n",
       "      <td>0.741927</td>\n",
       "      <td>-1.0713</td>\n",
       "      <td>-0.113964</td>\n",
       "      <td>-2.36002</td>\n",
       "      <td>-0.226112</td>\n",
       "    </tr>\n",
       "    <tr>\n",
       "      <th>균일분포난수</th>\n",
       "      <td>0.523944</td>\n",
       "      <td>0.800418</td>\n",
       "      <td>0.497684</td>\n",
       "      <td>0.977954</td>\n",
       "      <td>0.950934</td>\n",
       "      <td>0.970611</td>\n",
       "      <td>0.8847</td>\n",
       "      <td>0.912154</td>\n",
       "      <td>0.123777</td>\n",
       "      <td>0.0889126</td>\n",
       "    </tr>\n",
       "  </tbody>\n",
       "</table>\n",
       "</div>"
      ],
      "text/plain": [
       "                            A                    B                    C  \\\n",
       "날짜        2020-10-13 00:00:00  2020-10-14 00:00:00  2020-10-15 00:00:00   \n",
       "문자                        배고파                  뭐먹지                   메뉴   \n",
       "정수                          9                   67                   46   \n",
       "표준정규분포난수             0.799992            -0.508377            -0.738264   \n",
       "균일분포난수               0.523944             0.800418             0.497684   \n",
       "\n",
       "                            D                    E                    F  \\\n",
       "날짜        2020-10-16 00:00:00  2020-10-17 00:00:00  2020-10-18 00:00:00   \n",
       "문자                        추천좀                 해주세요                   치킨   \n",
       "정수                         67                   99                   77   \n",
       "표준정규분포난수            -0.193731               1.6848             0.741927   \n",
       "균일분포난수               0.977954             0.950934             0.970611   \n",
       "\n",
       "                            G                    H                    I  \\\n",
       "날짜        2020-10-19 00:00:00  2020-10-20 00:00:00  2020-10-21 00:00:00   \n",
       "문자                         먹고                   싶다                  먹으로   \n",
       "정수                         86                   32                   82   \n",
       "표준정규분포난수              -1.0713            -0.113964             -2.36002   \n",
       "균일분포난수                 0.8847             0.912154             0.123777   \n",
       "\n",
       "                            J  \n",
       "날짜        2020-10-22 00:00:00  \n",
       "문자                       갈사람?  \n",
       "정수                         93  \n",
       "표준정규분포난수            -0.226112  \n",
       "균일분포난수              0.0889126  "
      ]
     },
     "metadata": {},
     "output_type": "display_data"
    }
   ],
   "source": [
    "## 실습\n",
    "# 아무의미 없는 데이터로 데이터프레임을 한번 만들어 보자\n",
    "\n",
    "from datetime import date, datetime, timedelta\n",
    "\n",
    "# 열의 개수와 행의 개수가 각각 5개이상이어야 한다\n",
    "# 열에는 정수, 문자열, 실수, 날짜데이터가 각각 1개 이상 포함되어야 한다.\n",
    "\n",
    "\n",
    "#### 칼럼 만들기\n",
    "\n",
    "# 정수 칼럼\n",
    "random_int = np.random.randint(1, 100, 10)\n",
    "\n",
    "# 표준정규분포난수 칼럼\n",
    "random_gaussian = np.random.randn(10)\n",
    "\n",
    "# 균일분포난수 칼럼\n",
    "random_uniform = np.random.rand(10)\n",
    "\n",
    "# 날짜 칼럼\n",
    "first_day = datetime(2020, 10, 13)\n",
    "days = [first_day + timedelta(day) for day in range(0, 10)]\n",
    "\n",
    "# 문자 칼럼\n",
    "moonja = ['배고파', '뭐먹지', '메뉴', '추천좀', '해주세요', '치킨', '먹고', '싶다', '먹으로', '갈사람?']\n",
    "\n",
    "#### 데이터 조합\n",
    "data = {\n",
    "        '정수'             : random_int,\n",
    "        '표준정규분포난수' : random_gaussian,\n",
    "        '균일분포난수'     : random_uniform,\n",
    "        '문자'             : moonja,\n",
    "        '날짜'             : days\n",
    "        }\n",
    "\n",
    "\n",
    "#### 데이터프레임 만들기\n",
    "alpha = 'ABCDEFGHIJ'\n",
    "df = pd.DataFrame(data,\n",
    "                  columns = ['날짜', '문자', '정수', '표준정규분포난수', '균일분포난수'],\n",
    "                  index   = [element for element in alpha])\n",
    "display(df)\n",
    "dfinfo(df)\n",
    "display(df.T)"
   ]
  },
  {
   "cell_type": "markdown",
   "metadata": {},
   "source": [
    "## 5. DataFrame 데이터 갱신\n",
    "    - 데이터의 삭제, 추가, 변경 등을 배워보자"
   ]
  },
  {
   "cell_type": "code",
   "execution_count": 314,
   "metadata": {
    "scrolled": true
   },
   "outputs": [
    {
     "data": {
      "text/html": [
       "<div>\n",
       "<style scoped>\n",
       "    .dataframe tbody tr th:only-of-type {\n",
       "        vertical-align: middle;\n",
       "    }\n",
       "\n",
       "    .dataframe tbody tr th {\n",
       "        vertical-align: top;\n",
       "    }\n",
       "\n",
       "    .dataframe thead th {\n",
       "        text-align: right;\n",
       "    }\n",
       "</style>\n",
       "<table border=\"1\" class=\"dataframe\">\n",
       "  <thead>\n",
       "    <tr style=\"text-align: right;\">\n",
       "      <th>특성</th>\n",
       "      <th>지역</th>\n",
       "      <th>2014</th>\n",
       "      <th>2016</th>\n",
       "      <th>2018</th>\n",
       "      <th>2020</th>\n",
       "      <th>증가율</th>\n",
       "    </tr>\n",
       "    <tr>\n",
       "      <th>도시</th>\n",
       "      <th></th>\n",
       "      <th></th>\n",
       "      <th></th>\n",
       "      <th></th>\n",
       "      <th></th>\n",
       "      <th></th>\n",
       "    </tr>\n",
       "  </thead>\n",
       "  <tbody>\n",
       "    <tr>\n",
       "      <th>서울</th>\n",
       "      <td>수도권</td>\n",
       "      <td>8346293</td>\n",
       "      <td>7846293</td>\n",
       "      <td>4846293</td>\n",
       "      <td>9910293</td>\n",
       "      <td>0.2343</td>\n",
       "    </tr>\n",
       "    <tr>\n",
       "      <th>부산</th>\n",
       "      <td>경산권</td>\n",
       "      <td>5715521</td>\n",
       "      <td>1816521</td>\n",
       "      <td>2816521</td>\n",
       "      <td>8384050</td>\n",
       "      <td>0.0434</td>\n",
       "    </tr>\n",
       "    <tr>\n",
       "      <th>경기</th>\n",
       "      <td>수도권</td>\n",
       "      <td>3022185</td>\n",
       "      <td>8952185</td>\n",
       "      <td>3952185</td>\n",
       "      <td>2856372</td>\n",
       "      <td>0.0944</td>\n",
       "    </tr>\n",
       "    <tr>\n",
       "      <th>대구</th>\n",
       "      <td>경상권</td>\n",
       "      <td>7469165</td>\n",
       "      <td>3469165</td>\n",
       "      <td>2469165</td>\n",
       "      <td>9583027</td>\n",
       "      <td>0.0034</td>\n",
       "    </tr>\n",
       "  </tbody>\n",
       "</table>\n",
       "</div>"
      ],
      "text/plain": [
       "특성   지역     2014     2016     2018     2020     증가율\n",
       "도시                                                 \n",
       "서울  수도권  8346293  7846293  4846293  9910293  0.2343\n",
       "부산  경산권  5715521  1816521  2816521  8384050  0.0434\n",
       "경기  수도권  3022185  8952185  3952185  2856372  0.0944\n",
       "대구  경상권  7469165  3469165  2469165  9583027  0.0034"
      ]
     },
     "metadata": {},
     "output_type": "display_data"
    }
   ],
   "source": [
    "# 위에서 만들었던 pop_df를 사용해 봅시다.\n",
    "display(pop_df)"
   ]
  },
  {
   "cell_type": "markdown",
   "metadata": {},
   "source": [
    "##### 칼럼(열) 추가"
   ]
  },
  {
   "cell_type": "code",
   "execution_count": 315,
   "metadata": {
    "scrolled": true
   },
   "outputs": [
    {
     "data": {
      "text/html": [
       "<div>\n",
       "<style scoped>\n",
       "    .dataframe tbody tr th:only-of-type {\n",
       "        vertical-align: middle;\n",
       "    }\n",
       "\n",
       "    .dataframe tbody tr th {\n",
       "        vertical-align: top;\n",
       "    }\n",
       "\n",
       "    .dataframe thead th {\n",
       "        text-align: right;\n",
       "    }\n",
       "</style>\n",
       "<table border=\"1\" class=\"dataframe\">\n",
       "  <thead>\n",
       "    <tr style=\"text-align: right;\">\n",
       "      <th>특성</th>\n",
       "      <th>지역</th>\n",
       "      <th>2014</th>\n",
       "      <th>2016</th>\n",
       "      <th>2018</th>\n",
       "      <th>2020</th>\n",
       "      <th>증가율</th>\n",
       "      <th>2014-2016 증가율</th>\n",
       "    </tr>\n",
       "    <tr>\n",
       "      <th>도시</th>\n",
       "      <th></th>\n",
       "      <th></th>\n",
       "      <th></th>\n",
       "      <th></th>\n",
       "      <th></th>\n",
       "      <th></th>\n",
       "      <th></th>\n",
       "    </tr>\n",
       "  </thead>\n",
       "  <tbody>\n",
       "    <tr>\n",
       "      <th>서울</th>\n",
       "      <td>수도권</td>\n",
       "      <td>8346293</td>\n",
       "      <td>7846293</td>\n",
       "      <td>4846293</td>\n",
       "      <td>9910293</td>\n",
       "      <td>0.2343</td>\n",
       "      <td>-5.99</td>\n",
       "    </tr>\n",
       "    <tr>\n",
       "      <th>부산</th>\n",
       "      <td>경산권</td>\n",
       "      <td>5715521</td>\n",
       "      <td>1816521</td>\n",
       "      <td>2816521</td>\n",
       "      <td>8384050</td>\n",
       "      <td>0.0434</td>\n",
       "      <td>-68.22</td>\n",
       "    </tr>\n",
       "    <tr>\n",
       "      <th>경기</th>\n",
       "      <td>수도권</td>\n",
       "      <td>3022185</td>\n",
       "      <td>8952185</td>\n",
       "      <td>3952185</td>\n",
       "      <td>2856372</td>\n",
       "      <td>0.0944</td>\n",
       "      <td>196.22</td>\n",
       "    </tr>\n",
       "    <tr>\n",
       "      <th>대구</th>\n",
       "      <td>경상권</td>\n",
       "      <td>7469165</td>\n",
       "      <td>3469165</td>\n",
       "      <td>2469165</td>\n",
       "      <td>9583027</td>\n",
       "      <td>0.0034</td>\n",
       "      <td>-53.55</td>\n",
       "    </tr>\n",
       "  </tbody>\n",
       "</table>\n",
       "</div>"
      ],
      "text/plain": [
       "특성   지역     2014     2016     2018     2020     증가율  2014-2016 증가율\n",
       "도시                                                                \n",
       "서울  수도권  8346293  7846293  4846293  9910293  0.2343          -5.99\n",
       "부산  경산권  5715521  1816521  2816521  8384050  0.0434         -68.22\n",
       "경기  수도권  3022185  8952185  3952185  2856372  0.0944         196.22\n",
       "대구  경상권  7469165  3469165  2469165  9583027  0.0034         -53.55"
      ]
     },
     "metadata": {},
     "output_type": "display_data"
    }
   ],
   "source": [
    "# 칼럼 추가\n",
    "\n",
    "pop_df['2014-2016 증가율'] = ( ( ( pop_df['2016'] - pop_df['2014'] ) / pop_df['2014'] ) * 100 ).round(2)\n",
    "display(pop_df)"
   ]
  },
  {
   "cell_type": "markdown",
   "metadata": {},
   "source": [
    "##### 칼럼(열) 삭제"
   ]
  },
  {
   "cell_type": "code",
   "execution_count": 316,
   "metadata": {},
   "outputs": [
    {
     "data": {
      "text/html": [
       "<div>\n",
       "<style scoped>\n",
       "    .dataframe tbody tr th:only-of-type {\n",
       "        vertical-align: middle;\n",
       "    }\n",
       "\n",
       "    .dataframe tbody tr th {\n",
       "        vertical-align: top;\n",
       "    }\n",
       "\n",
       "    .dataframe thead th {\n",
       "        text-align: right;\n",
       "    }\n",
       "</style>\n",
       "<table border=\"1\" class=\"dataframe\">\n",
       "  <thead>\n",
       "    <tr style=\"text-align: right;\">\n",
       "      <th>특성</th>\n",
       "      <th>지역</th>\n",
       "      <th>2014</th>\n",
       "      <th>2016</th>\n",
       "      <th>2018</th>\n",
       "      <th>2020</th>\n",
       "      <th>증가율</th>\n",
       "    </tr>\n",
       "    <tr>\n",
       "      <th>도시</th>\n",
       "      <th></th>\n",
       "      <th></th>\n",
       "      <th></th>\n",
       "      <th></th>\n",
       "      <th></th>\n",
       "      <th></th>\n",
       "    </tr>\n",
       "  </thead>\n",
       "  <tbody>\n",
       "    <tr>\n",
       "      <th>서울</th>\n",
       "      <td>수도권</td>\n",
       "      <td>8346293</td>\n",
       "      <td>7846293</td>\n",
       "      <td>4846293</td>\n",
       "      <td>9910293</td>\n",
       "      <td>0.2343</td>\n",
       "    </tr>\n",
       "    <tr>\n",
       "      <th>부산</th>\n",
       "      <td>경산권</td>\n",
       "      <td>5715521</td>\n",
       "      <td>1816521</td>\n",
       "      <td>2816521</td>\n",
       "      <td>8384050</td>\n",
       "      <td>0.0434</td>\n",
       "    </tr>\n",
       "    <tr>\n",
       "      <th>경기</th>\n",
       "      <td>수도권</td>\n",
       "      <td>3022185</td>\n",
       "      <td>8952185</td>\n",
       "      <td>3952185</td>\n",
       "      <td>2856372</td>\n",
       "      <td>0.0944</td>\n",
       "    </tr>\n",
       "    <tr>\n",
       "      <th>대구</th>\n",
       "      <td>경상권</td>\n",
       "      <td>7469165</td>\n",
       "      <td>3469165</td>\n",
       "      <td>2469165</td>\n",
       "      <td>9583027</td>\n",
       "      <td>0.0034</td>\n",
       "    </tr>\n",
       "  </tbody>\n",
       "</table>\n",
       "</div>"
      ],
      "text/plain": [
       "특성   지역     2014     2016     2018     2020     증가율\n",
       "도시                                                 \n",
       "서울  수도권  8346293  7846293  4846293  9910293  0.2343\n",
       "부산  경산권  5715521  1816521  2816521  8384050  0.0434\n",
       "경기  수도권  3022185  8952185  3952185  2856372  0.0944\n",
       "대구  경상권  7469165  3469165  2469165  9583027  0.0034"
      ]
     },
     "metadata": {},
     "output_type": "display_data"
    }
   ],
   "source": [
    "# 칼럼 삭제\n",
    "del pop_df['2014-2016 증가율']\n",
    "\n",
    "display(pop_df)"
   ]
  },
  {
   "cell_type": "code",
   "execution_count": 130,
   "metadata": {},
   "outputs": [
    {
     "data": {
      "text/html": [
       "<div>\n",
       "<style scoped>\n",
       "    .dataframe tbody tr th:only-of-type {\n",
       "        vertical-align: middle;\n",
       "    }\n",
       "\n",
       "    .dataframe tbody tr th {\n",
       "        vertical-align: top;\n",
       "    }\n",
       "\n",
       "    .dataframe thead th {\n",
       "        text-align: right;\n",
       "    }\n",
       "</style>\n",
       "<table border=\"1\" class=\"dataframe\">\n",
       "  <thead>\n",
       "    <tr style=\"text-align: right;\">\n",
       "      <th>특성</th>\n",
       "      <th>지역</th>\n",
       "      <th>증가율</th>\n",
       "    </tr>\n",
       "    <tr>\n",
       "      <th>도시</th>\n",
       "      <th></th>\n",
       "      <th></th>\n",
       "    </tr>\n",
       "  </thead>\n",
       "  <tbody>\n",
       "    <tr>\n",
       "      <th>서울</th>\n",
       "      <td>수도권</td>\n",
       "      <td>0.2343</td>\n",
       "    </tr>\n",
       "    <tr>\n",
       "      <th>부산</th>\n",
       "      <td>경산권</td>\n",
       "      <td>0.0434</td>\n",
       "    </tr>\n",
       "    <tr>\n",
       "      <th>경기</th>\n",
       "      <td>수도권</td>\n",
       "      <td>0.0944</td>\n",
       "    </tr>\n",
       "    <tr>\n",
       "      <th>대구</th>\n",
       "      <td>경상권</td>\n",
       "      <td>0.0034</td>\n",
       "    </tr>\n",
       "  </tbody>\n",
       "</table>\n",
       "</div>"
      ],
      "text/plain": [
       "특성   지역     증가율\n",
       "도시             \n",
       "서울  수도권  0.2343\n",
       "부산  경산권  0.0434\n",
       "경기  수도권  0.0944\n",
       "대구  경상권  0.0034"
      ]
     },
     "execution_count": 130,
     "metadata": {},
     "output_type": "execute_result"
    }
   ],
   "source": [
    "pop_df[ ['지역', '증가율'] ]"
   ]
  },
  {
   "cell_type": "code",
   "execution_count": 133,
   "metadata": {},
   "outputs": [
    {
     "name": "stdout",
     "output_type": "stream",
     "text": [
      "<class 'pandas.core.series.Series'>\n",
      "<class 'pandas.core.frame.DataFrame'>\n"
     ]
    }
   ],
   "source": [
    "# 뽑아낸 하나의 칼럼의 type을 Series가 아니라 DataFrame으로 뽑아내고 싶다면?\n",
    "\n",
    "print(type(pop_df['증가율']))\n",
    "print(type(pop_df[['증가율']]))"
   ]
  },
  {
   "cell_type": "code",
   "execution_count": 135,
   "metadata": {},
   "outputs": [
    {
     "data": {
      "text/html": [
       "<div>\n",
       "<style scoped>\n",
       "    .dataframe tbody tr th:only-of-type {\n",
       "        vertical-align: middle;\n",
       "    }\n",
       "\n",
       "    .dataframe tbody tr th {\n",
       "        vertical-align: top;\n",
       "    }\n",
       "\n",
       "    .dataframe thead th {\n",
       "        text-align: right;\n",
       "    }\n",
       "</style>\n",
       "<table border=\"1\" class=\"dataframe\">\n",
       "  <thead>\n",
       "    <tr style=\"text-align: right;\">\n",
       "      <th></th>\n",
       "      <th>0</th>\n",
       "      <th>1</th>\n",
       "      <th>2</th>\n",
       "      <th>3</th>\n",
       "    </tr>\n",
       "  </thead>\n",
       "  <tbody>\n",
       "    <tr>\n",
       "      <th>0</th>\n",
       "      <td>0</td>\n",
       "      <td>1</td>\n",
       "      <td>2</td>\n",
       "      <td>3</td>\n",
       "    </tr>\n",
       "    <tr>\n",
       "      <th>1</th>\n",
       "      <td>4</td>\n",
       "      <td>5</td>\n",
       "      <td>6</td>\n",
       "      <td>7</td>\n",
       "    </tr>\n",
       "    <tr>\n",
       "      <th>2</th>\n",
       "      <td>8</td>\n",
       "      <td>9</td>\n",
       "      <td>10</td>\n",
       "      <td>11</td>\n",
       "    </tr>\n",
       "  </tbody>\n",
       "</table>\n",
       "</div>"
      ],
      "text/plain": [
       "   0  1   2   3\n",
       "0  0  1   2   3\n",
       "1  4  5   6   7\n",
       "2  8  9  10  11"
      ]
     },
     "execution_count": 135,
     "metadata": {},
     "output_type": "execute_result"
    }
   ],
   "source": [
    "test_df = pd.DataFrame(np.arange(12).reshape(3, 4))\n",
    "test_df"
   ]
  },
  {
   "cell_type": "code",
   "execution_count": 136,
   "metadata": {
    "scrolled": true
   },
   "outputs": [
    {
     "data": {
      "text/plain": [
       "0     2\n",
       "1     6\n",
       "2    10\n",
       "Name: 2, dtype: int32"
      ]
     },
     "execution_count": 136,
     "metadata": {},
     "output_type": "execute_result"
    }
   ],
   "source": [
    "test_df[2]"
   ]
  },
  {
   "cell_type": "markdown",
   "metadata": {},
   "source": [
    "## 6. DataFrame row indexing\n",
    "  - 열 indexing의 경우 `dataframe['칼럼이름']` 으로 지정했지만\n",
    "  - 행 indexing의 경우 `dataframe[ : '칼럼이름']` 으로 항상 슬라이싱( `:` )을 해야 행 indexing이 적용된다.\n",
    "  - index의 번호뿐만아니라 지정한 이름을 통해서 슬라이싱이 가능하다."
   ]
  },
  {
   "cell_type": "code",
   "execution_count": 147,
   "metadata": {},
   "outputs": [
    {
     "data": {
      "text/plain": [
       "특성\n",
       "지역          수도권\n",
       "2014    8346293\n",
       "2016    7846293\n",
       "2018    4846293\n",
       "2020    9910293\n",
       "증가율      0.2343\n",
       "Name: 서울, dtype: object"
      ]
     },
     "metadata": {},
     "output_type": "display_data"
    },
    {
     "data": {
      "text/html": [
       "<div>\n",
       "<style scoped>\n",
       "    .dataframe tbody tr th:only-of-type {\n",
       "        vertical-align: middle;\n",
       "    }\n",
       "\n",
       "    .dataframe tbody tr th {\n",
       "        vertical-align: top;\n",
       "    }\n",
       "\n",
       "    .dataframe thead th {\n",
       "        text-align: right;\n",
       "    }\n",
       "</style>\n",
       "<table border=\"1\" class=\"dataframe\">\n",
       "  <thead>\n",
       "    <tr style=\"text-align: right;\">\n",
       "      <th>특성</th>\n",
       "      <th>지역</th>\n",
       "      <th>2014</th>\n",
       "      <th>2016</th>\n",
       "      <th>2018</th>\n",
       "      <th>2020</th>\n",
       "      <th>증가율</th>\n",
       "    </tr>\n",
       "    <tr>\n",
       "      <th>도시</th>\n",
       "      <th></th>\n",
       "      <th></th>\n",
       "      <th></th>\n",
       "      <th></th>\n",
       "      <th></th>\n",
       "      <th></th>\n",
       "    </tr>\n",
       "  </thead>\n",
       "  <tbody>\n",
       "    <tr>\n",
       "      <th>서울</th>\n",
       "      <td>수도권</td>\n",
       "      <td>8346293</td>\n",
       "      <td>7846293</td>\n",
       "      <td>4846293</td>\n",
       "      <td>9910293</td>\n",
       "      <td>0.2343</td>\n",
       "    </tr>\n",
       "  </tbody>\n",
       "</table>\n",
       "</div>"
      ],
      "text/plain": [
       "특성   지역     2014     2016     2018     2020     증가율\n",
       "도시                                                 \n",
       "서울  수도권  8346293  7846293  4846293  9910293  0.2343"
      ]
     },
     "metadata": {},
     "output_type": "display_data"
    },
    {
     "data": {
      "text/html": [
       "<div>\n",
       "<style scoped>\n",
       "    .dataframe tbody tr th:only-of-type {\n",
       "        vertical-align: middle;\n",
       "    }\n",
       "\n",
       "    .dataframe tbody tr th {\n",
       "        vertical-align: top;\n",
       "    }\n",
       "\n",
       "    .dataframe thead th {\n",
       "        text-align: right;\n",
       "    }\n",
       "</style>\n",
       "<table border=\"1\" class=\"dataframe\">\n",
       "  <thead>\n",
       "    <tr style=\"text-align: right;\">\n",
       "      <th>특성</th>\n",
       "      <th>지역</th>\n",
       "      <th>2014</th>\n",
       "      <th>2016</th>\n",
       "      <th>2018</th>\n",
       "      <th>2020</th>\n",
       "      <th>증가율</th>\n",
       "    </tr>\n",
       "    <tr>\n",
       "      <th>도시</th>\n",
       "      <th></th>\n",
       "      <th></th>\n",
       "      <th></th>\n",
       "      <th></th>\n",
       "      <th></th>\n",
       "      <th></th>\n",
       "    </tr>\n",
       "  </thead>\n",
       "  <tbody>\n",
       "    <tr>\n",
       "      <th>서울</th>\n",
       "      <td>수도권</td>\n",
       "      <td>8346293</td>\n",
       "      <td>7846293</td>\n",
       "      <td>4846293</td>\n",
       "      <td>9910293</td>\n",
       "      <td>0.2343</td>\n",
       "    </tr>\n",
       "    <tr>\n",
       "      <th>부산</th>\n",
       "      <td>경산권</td>\n",
       "      <td>5715521</td>\n",
       "      <td>1816521</td>\n",
       "      <td>2816521</td>\n",
       "      <td>8384050</td>\n",
       "      <td>0.0434</td>\n",
       "    </tr>\n",
       "    <tr>\n",
       "      <th>경기</th>\n",
       "      <td>수도권</td>\n",
       "      <td>3022185</td>\n",
       "      <td>8952185</td>\n",
       "      <td>3952185</td>\n",
       "      <td>2856372</td>\n",
       "      <td>0.0944</td>\n",
       "    </tr>\n",
       "  </tbody>\n",
       "</table>\n",
       "</div>"
      ],
      "text/plain": [
       "특성   지역     2014     2016     2018     2020     증가율\n",
       "도시                                                 \n",
       "서울  수도권  8346293  7846293  4846293  9910293  0.2343\n",
       "부산  경산권  5715521  1816521  2816521  8384050  0.0434\n",
       "경기  수도권  3022185  8952185  3952185  2856372  0.0944"
      ]
     },
     "metadata": {},
     "output_type": "display_data"
    }
   ],
   "source": [
    "# 지금까지 열 indexing을 다루어 보았다\n",
    "# 이제 행 indexing을 다루어 보자\n",
    "\n",
    "display(pop_df.T['서울'])\n",
    "display(pop_df[:'서울'])\n",
    "display(pop_df[ '서울' : '경기' ])"
   ]
  },
  {
   "cell_type": "code",
   "execution_count": 169,
   "metadata": {},
   "outputs": [
    {
     "name": "stdout",
     "output_type": "stream",
     "text": [
      "첫번째 방법\n",
      "도시\n",
      "서울    9910293\n",
      "Name: 2020, dtype: int64\n",
      "\n",
      "줄바꿈==============================================\n",
      "\n",
      "두번째 방법\n",
      "9910293\n"
     ]
    }
   ],
   "source": [
    "# 서울의 2020년 수치만 뽑아서 출력하라\n",
    "\n",
    "print('첫번째 방법')\n",
    "print(pop_df[:'서울']['2020'])\n",
    "\n",
    "print()\n",
    "print('줄바꿈==============================================')\n",
    "print()\n",
    "\n",
    "print('두번째 방법')\n",
    "print(pop_df['2020']['서울'])"
   ]
  },
  {
   "cell_type": "markdown",
   "metadata": {},
   "source": [
    "##### 실습!"
   ]
  },
  {
   "cell_type": "code",
   "execution_count": 239,
   "metadata": {},
   "outputs": [
    {
     "data": {
      "text/html": [
       "<div>\n",
       "<style scoped>\n",
       "    .dataframe tbody tr th:only-of-type {\n",
       "        vertical-align: middle;\n",
       "    }\n",
       "\n",
       "    .dataframe tbody tr th {\n",
       "        vertical-align: top;\n",
       "    }\n",
       "\n",
       "    .dataframe thead th {\n",
       "        text-align: right;\n",
       "    }\n",
       "</style>\n",
       "<table border=\"1\" class=\"dataframe\">\n",
       "  <thead>\n",
       "    <tr style=\"text-align: right;\">\n",
       "      <th></th>\n",
       "      <th>kor</th>\n",
       "      <th>eng</th>\n",
       "      <th>math</th>\n",
       "    </tr>\n",
       "  </thead>\n",
       "  <tbody>\n",
       "    <tr>\n",
       "      <th>김지은</th>\n",
       "      <td>80</td>\n",
       "      <td>90</td>\n",
       "      <td>90</td>\n",
       "    </tr>\n",
       "    <tr>\n",
       "      <th>황인범</th>\n",
       "      <td>90</td>\n",
       "      <td>70</td>\n",
       "      <td>60</td>\n",
       "    </tr>\n",
       "    <tr>\n",
       "      <th>김정수</th>\n",
       "      <td>70</td>\n",
       "      <td>60</td>\n",
       "      <td>90</td>\n",
       "    </tr>\n",
       "    <tr>\n",
       "      <th>최호진</th>\n",
       "      <td>30</td>\n",
       "      <td>40</td>\n",
       "      <td>70</td>\n",
       "    </tr>\n",
       "  </tbody>\n",
       "</table>\n",
       "</div>"
      ],
      "text/plain": [
       "     kor  eng  math\n",
       "김지은   80   90    90\n",
       "황인범   90   70    60\n",
       "김정수   70   60    90\n",
       "최호진   30   40    70"
      ]
     },
     "metadata": {},
     "output_type": "display_data"
    },
    {
     "data": {
      "text/html": [
       "<div>\n",
       "<style scoped>\n",
       "    .dataframe tbody tr th:only-of-type {\n",
       "        vertical-align: middle;\n",
       "    }\n",
       "\n",
       "    .dataframe tbody tr th {\n",
       "        vertical-align: top;\n",
       "    }\n",
       "\n",
       "    .dataframe thead th {\n",
       "        text-align: right;\n",
       "    }\n",
       "</style>\n",
       "<table border=\"1\" class=\"dataframe\">\n",
       "  <thead>\n",
       "    <tr style=\"text-align: right;\">\n",
       "      <th></th>\n",
       "      <th>kor</th>\n",
       "      <th>eng</th>\n",
       "    </tr>\n",
       "  </thead>\n",
       "  <tbody>\n",
       "    <tr>\n",
       "      <th>김지은</th>\n",
       "      <td>80</td>\n",
       "      <td>90</td>\n",
       "    </tr>\n",
       "    <tr>\n",
       "      <th>황인범</th>\n",
       "      <td>90</td>\n",
       "      <td>70</td>\n",
       "    </tr>\n",
       "    <tr>\n",
       "      <th>김정수</th>\n",
       "      <td>70</td>\n",
       "      <td>60</td>\n",
       "    </tr>\n",
       "    <tr>\n",
       "      <th>최호진</th>\n",
       "      <td>30</td>\n",
       "      <td>40</td>\n",
       "    </tr>\n",
       "  </tbody>\n",
       "</table>\n",
       "</div>"
      ],
      "text/plain": [
       "     kor  eng\n",
       "김지은   80   90\n",
       "황인범   90   70\n",
       "김정수   70   60\n",
       "최호진   30   40"
      ]
     },
     "metadata": {},
     "output_type": "display_data"
    },
    {
     "data": {
      "text/html": [
       "<div>\n",
       "<style scoped>\n",
       "    .dataframe tbody tr th:only-of-type {\n",
       "        vertical-align: middle;\n",
       "    }\n",
       "\n",
       "    .dataframe tbody tr th {\n",
       "        vertical-align: top;\n",
       "    }\n",
       "\n",
       "    .dataframe thead th {\n",
       "        text-align: right;\n",
       "    }\n",
       "</style>\n",
       "<table border=\"1\" class=\"dataframe\">\n",
       "  <thead>\n",
       "    <tr style=\"text-align: right;\">\n",
       "      <th></th>\n",
       "      <th>kor</th>\n",
       "      <th>eng</th>\n",
       "      <th>math</th>\n",
       "      <th>average</th>\n",
       "    </tr>\n",
       "  </thead>\n",
       "  <tbody>\n",
       "    <tr>\n",
       "      <th>김지은</th>\n",
       "      <td>80</td>\n",
       "      <td>90</td>\n",
       "      <td>90</td>\n",
       "      <td>86.666667</td>\n",
       "    </tr>\n",
       "    <tr>\n",
       "      <th>황인범</th>\n",
       "      <td>90</td>\n",
       "      <td>70</td>\n",
       "      <td>60</td>\n",
       "      <td>73.333333</td>\n",
       "    </tr>\n",
       "    <tr>\n",
       "      <th>김정수</th>\n",
       "      <td>70</td>\n",
       "      <td>60</td>\n",
       "      <td>90</td>\n",
       "      <td>73.333333</td>\n",
       "    </tr>\n",
       "    <tr>\n",
       "      <th>최호진</th>\n",
       "      <td>30</td>\n",
       "      <td>40</td>\n",
       "      <td>70</td>\n",
       "      <td>46.666667</td>\n",
       "    </tr>\n",
       "  </tbody>\n",
       "</table>\n",
       "</div>"
      ],
      "text/plain": [
       "     kor  eng  math    average\n",
       "김지은   80   90    90  86.666667\n",
       "황인범   90   70    60  73.333333\n",
       "김정수   70   60    90  73.333333\n",
       "최호진   30   40    70  46.666667"
      ]
     },
     "metadata": {},
     "output_type": "display_data"
    },
    {
     "name": "stderr",
     "output_type": "stream",
     "text": [
      "C:\\Users\\lan41\\Anaconda3\\lib\\site-packages\\ipykernel_launcher.py:23: SettingWithCopyWarning: \n",
      "A value is trying to be set on a copy of a slice from a DataFrame\n",
      "\n",
      "See the caveats in the documentation: https://pandas.pydata.org/pandas-docs/stable/user_guide/indexing.html#returning-a-view-versus-a-copy\n"
     ]
    },
    {
     "data": {
      "text/html": [
       "<div>\n",
       "<style scoped>\n",
       "    .dataframe tbody tr th:only-of-type {\n",
       "        vertical-align: middle;\n",
       "    }\n",
       "\n",
       "    .dataframe tbody tr th {\n",
       "        vertical-align: top;\n",
       "    }\n",
       "\n",
       "    .dataframe thead th {\n",
       "        text-align: right;\n",
       "    }\n",
       "</style>\n",
       "<table border=\"1\" class=\"dataframe\">\n",
       "  <thead>\n",
       "    <tr style=\"text-align: right;\">\n",
       "      <th></th>\n",
       "      <th>kor</th>\n",
       "      <th>eng</th>\n",
       "      <th>math</th>\n",
       "      <th>average</th>\n",
       "    </tr>\n",
       "  </thead>\n",
       "  <tbody>\n",
       "    <tr>\n",
       "      <th>김지은</th>\n",
       "      <td>80</td>\n",
       "      <td>90</td>\n",
       "      <td>90</td>\n",
       "      <td>86.666667</td>\n",
       "    </tr>\n",
       "    <tr>\n",
       "      <th>황인범</th>\n",
       "      <td>90</td>\n",
       "      <td>70</td>\n",
       "      <td>60</td>\n",
       "      <td>73.333333</td>\n",
       "    </tr>\n",
       "    <tr>\n",
       "      <th>김정수</th>\n",
       "      <td>70</td>\n",
       "      <td>60</td>\n",
       "      <td>90</td>\n",
       "      <td>73.333333</td>\n",
       "    </tr>\n",
       "    <tr>\n",
       "      <th>최호진</th>\n",
       "      <td>30</td>\n",
       "      <td>90</td>\n",
       "      <td>70</td>\n",
       "      <td>63.333333</td>\n",
       "    </tr>\n",
       "  </tbody>\n",
       "</table>\n",
       "</div>"
      ],
      "text/plain": [
       "     kor  eng  math    average\n",
       "김지은   80   90    90  86.666667\n",
       "황인범   90   70    60  73.333333\n",
       "김정수   70   60    90  73.333333\n",
       "최호진   30   90    70  63.333333"
      ]
     },
     "metadata": {},
     "output_type": "display_data"
    },
    {
     "data": {
      "text/html": [
       "<div>\n",
       "<style scoped>\n",
       "    .dataframe tbody tr th:only-of-type {\n",
       "        vertical-align: middle;\n",
       "    }\n",
       "\n",
       "    .dataframe tbody tr th {\n",
       "        vertical-align: top;\n",
       "    }\n",
       "\n",
       "    .dataframe thead th {\n",
       "        text-align: right;\n",
       "    }\n",
       "</style>\n",
       "<table border=\"1\" class=\"dataframe\">\n",
       "  <thead>\n",
       "    <tr style=\"text-align: right;\">\n",
       "      <th></th>\n",
       "      <th>kor</th>\n",
       "      <th>eng</th>\n",
       "      <th>math</th>\n",
       "      <th>average</th>\n",
       "    </tr>\n",
       "  </thead>\n",
       "  <tbody>\n",
       "    <tr>\n",
       "      <th>김지은</th>\n",
       "      <td>80</td>\n",
       "      <td>90</td>\n",
       "      <td>90</td>\n",
       "      <td>86.666667</td>\n",
       "    </tr>\n",
       "  </tbody>\n",
       "</table>\n",
       "</div>"
      ],
      "text/plain": [
       "     kor  eng  math    average\n",
       "김지은   80   90    90  86.666667"
      ]
     },
     "metadata": {},
     "output_type": "display_data"
    },
    {
     "data": {
      "text/plain": [
       "kor        70.000000\n",
       "eng        60.000000\n",
       "math       90.000000\n",
       "average    73.333333\n",
       "Name: 김정수, dtype: float64"
      ]
     },
     "metadata": {},
     "output_type": "display_data"
    },
    {
     "name": "stderr",
     "output_type": "stream",
     "text": [
      "C:\\Users\\lan41\\Anaconda3\\lib\\site-packages\\ipykernel_launcher.py:34: SettingWithCopyWarning: \n",
      "A value is trying to be set on a copy of a slice from a DataFrame\n",
      "\n",
      "See the caveats in the documentation: https://pandas.pydata.org/pandas-docs/stable/user_guide/indexing.html#returning-a-view-versus-a-copy\n",
      "C:\\Users\\lan41\\Anaconda3\\lib\\site-packages\\ipykernel_launcher.py:35: SettingWithCopyWarning: \n",
      "A value is trying to be set on a copy of a slice from a DataFrame\n",
      "\n",
      "See the caveats in the documentation: https://pandas.pydata.org/pandas-docs/stable/user_guide/indexing.html#returning-a-view-versus-a-copy\n"
     ]
    },
    {
     "data": {
      "text/html": [
       "<div>\n",
       "<style scoped>\n",
       "    .dataframe tbody tr th:only-of-type {\n",
       "        vertical-align: middle;\n",
       "    }\n",
       "\n",
       "    .dataframe tbody tr th {\n",
       "        vertical-align: top;\n",
       "    }\n",
       "\n",
       "    .dataframe thead th {\n",
       "        text-align: right;\n",
       "    }\n",
       "</style>\n",
       "<table border=\"1\" class=\"dataframe\">\n",
       "  <thead>\n",
       "    <tr style=\"text-align: right;\">\n",
       "      <th></th>\n",
       "      <th>kor</th>\n",
       "      <th>eng</th>\n",
       "      <th>math</th>\n",
       "      <th>average</th>\n",
       "    </tr>\n",
       "  </thead>\n",
       "  <tbody>\n",
       "    <tr>\n",
       "      <th>김지은</th>\n",
       "      <td>80</td>\n",
       "      <td>90</td>\n",
       "      <td>90</td>\n",
       "      <td>86.666667</td>\n",
       "    </tr>\n",
       "    <tr>\n",
       "      <th>황인범</th>\n",
       "      <td>100</td>\n",
       "      <td>70</td>\n",
       "      <td>100</td>\n",
       "      <td>90.000000</td>\n",
       "    </tr>\n",
       "    <tr>\n",
       "      <th>김정수</th>\n",
       "      <td>70</td>\n",
       "      <td>60</td>\n",
       "      <td>90</td>\n",
       "      <td>73.333333</td>\n",
       "    </tr>\n",
       "    <tr>\n",
       "      <th>최호진</th>\n",
       "      <td>30</td>\n",
       "      <td>90</td>\n",
       "      <td>70</td>\n",
       "      <td>63.333333</td>\n",
       "    </tr>\n",
       "  </tbody>\n",
       "</table>\n",
       "</div>"
      ],
      "text/plain": [
       "     kor  eng  math    average\n",
       "김지은   80   90    90  86.666667\n",
       "황인범  100   70   100  90.000000\n",
       "김정수   70   60    90  73.333333\n",
       "최호진   30   90    70  63.333333"
      ]
     },
     "execution_count": 239,
     "metadata": {},
     "output_type": "execute_result"
    }
   ],
   "source": [
    "score_data = {\n",
    "    'kor'  : [80, 90, 70, 30],\n",
    "    'eng'  : [90, 70, 60, 40],\n",
    "    'math' : [90, 60, 90, 70]\n",
    "    \n",
    "}\n",
    "columns = ['kor', 'eng', 'math']\n",
    "index   = ['김지은', '황인범', '김정수', '최호진']\n",
    "\n",
    "exec_df = pd.DataFrame(score_data,\n",
    "                      index   = index,\n",
    "                      columns = columns)\n",
    "display(exec_df)\n",
    "\n",
    "\n",
    "\n",
    "\n",
    "### 실습\n",
    "## 위에서 만든 exec_df라는 데이터프레임을 사용해서 다음 문제를 풀어보자\n",
    "\n",
    "# 모든 학생의 국어와 영어 점수만을 데이터프레임으로 만들어라\n",
    "display(exec_df[[ 'kor', 'eng' ]])\n",
    "\n",
    "# 모든 학생의 각 과목 평균 점수를 새로운 열로 추가하라\n",
    "exec_df['average'] = np.mean(exec_df[ ['kor', 'eng', 'math'] ].T)\n",
    "display(exec_df)\n",
    "\n",
    "# 최호진 학생의 영어점수를 90점으로 수정하고 평균 점수도 다시 계산하라.\n",
    "exec_df['eng']['최호진'] = 90\n",
    "exec_df['average'] = np.mean(exec_df[ ['kor', 'eng', 'math'] ].T)\n",
    "display(exec_df)\n",
    "\n",
    "# 김지은 학생의 점수를 데이터프레임으로 출력하라\n",
    "display(exec_df[:'김지은'])\n",
    "\n",
    "# 김정수 학생의 점수를 시리즈로 출력하라\n",
    "display(exec_df.T['김정수'])\n",
    "\n",
    "# 황인범 학생의 국어점수와 수학점수를 100점으로 수정하고 평균점수도 다시 계산하라\n",
    "exec_df['kor']['황인범'] = 100\n",
    "exec_df['math']['황인범'] = 100\n",
    "\n",
    "exec_df['average'] = np.mean(exec_df[ ['kor', 'eng', 'math'] ].T)\n",
    "exec_df"
   ]
  },
  {
   "cell_type": "markdown",
   "metadata": {},
   "source": [
    "## 7. 데이터 입출력"
   ]
  },
  {
   "cell_type": "markdown",
   "metadata": {},
   "source": [
    "##### 매직명령어 : %%\n",
    "    - 아래의 코드는 csv파일을 매직명령어를 통해 만들어보는 작업 입니다."
   ]
  },
  {
   "cell_type": "code",
   "execution_count": 252,
   "metadata": {},
   "outputs": [
    {
     "name": "stdout",
     "output_type": "stream",
     "text": [
      "Writing sample01.csv\n"
     ]
    }
   ],
   "source": [
    "%%writefile sample01.csv\n",
    "co101, col02, col03\n",
    "1,1,1\n",
    "2,2,2\n",
    "3,3,3"
   ]
  },
  {
   "cell_type": "markdown",
   "metadata": {},
   "source": [
    "##### 데이터 불러오기\n",
    "   - `pd.read_csv` 함수를 사용하여 실습데이터를 불러와 봅시다."
   ]
  },
  {
   "cell_type": "code",
   "execution_count": 317,
   "metadata": {
    "scrolled": true
   },
   "outputs": [
    {
     "data": {
      "text/html": [
       "<div>\n",
       "<style scoped>\n",
       "    .dataframe tbody tr th:only-of-type {\n",
       "        vertical-align: middle;\n",
       "    }\n",
       "\n",
       "    .dataframe tbody tr th {\n",
       "        vertical-align: top;\n",
       "    }\n",
       "\n",
       "    .dataframe thead th {\n",
       "        text-align: right;\n",
       "    }\n",
       "</style>\n",
       "<table border=\"1\" class=\"dataframe\">\n",
       "  <thead>\n",
       "    <tr style=\"text-align: right;\">\n",
       "      <th></th>\n",
       "      <th>법정동코드</th>\n",
       "      <th>법정동명</th>\n",
       "      <th>폐지여부</th>\n",
       "    </tr>\n",
       "  </thead>\n",
       "  <tbody>\n",
       "    <tr>\n",
       "      <th>0</th>\n",
       "      <td>1100000000</td>\n",
       "      <td>서울특별시</td>\n",
       "      <td>존재</td>\n",
       "    </tr>\n",
       "    <tr>\n",
       "      <th>1</th>\n",
       "      <td>1111000000</td>\n",
       "      <td>서울특별시 종로구</td>\n",
       "      <td>존재</td>\n",
       "    </tr>\n",
       "    <tr>\n",
       "      <th>2</th>\n",
       "      <td>1111010100</td>\n",
       "      <td>서울특별시 종로구 청운동</td>\n",
       "      <td>존재</td>\n",
       "    </tr>\n",
       "    <tr>\n",
       "      <th>3</th>\n",
       "      <td>1111010200</td>\n",
       "      <td>서울특별시 종로구 신교동</td>\n",
       "      <td>존재</td>\n",
       "    </tr>\n",
       "    <tr>\n",
       "      <th>4</th>\n",
       "      <td>1111010300</td>\n",
       "      <td>서울특별시 종로구 궁정동</td>\n",
       "      <td>존재</td>\n",
       "    </tr>\n",
       "    <tr>\n",
       "      <th>...</th>\n",
       "      <td>...</td>\n",
       "      <td>...</td>\n",
       "      <td>...</td>\n",
       "    </tr>\n",
       "    <tr>\n",
       "      <th>46175</th>\n",
       "      <td>5013032022</td>\n",
       "      <td>제주특별자치도 서귀포시 표선면 하천리</td>\n",
       "      <td>존재</td>\n",
       "    </tr>\n",
       "    <tr>\n",
       "      <th>46176</th>\n",
       "      <td>5013032023</td>\n",
       "      <td>제주특별자치도 서귀포시 표선면 성읍리</td>\n",
       "      <td>존재</td>\n",
       "    </tr>\n",
       "    <tr>\n",
       "      <th>46177</th>\n",
       "      <td>5013032024</td>\n",
       "      <td>제주특별자치도 서귀포시 표선면 가시리</td>\n",
       "      <td>존재</td>\n",
       "    </tr>\n",
       "    <tr>\n",
       "      <th>46178</th>\n",
       "      <td>5013032025</td>\n",
       "      <td>제주특별자치도 서귀포시 표선면 세화리</td>\n",
       "      <td>존재</td>\n",
       "    </tr>\n",
       "    <tr>\n",
       "      <th>46179</th>\n",
       "      <td>5013032026</td>\n",
       "      <td>제주특별자치도 서귀포시 표선면 토산리</td>\n",
       "      <td>존재</td>\n",
       "    </tr>\n",
       "  </tbody>\n",
       "</table>\n",
       "<p>46180 rows × 3 columns</p>\n",
       "</div>"
      ],
      "text/plain": [
       "            법정동코드                  법정동명 폐지여부\n",
       "0      1100000000                 서울특별시   존재\n",
       "1      1111000000             서울특별시 종로구   존재\n",
       "2      1111010100         서울특별시 종로구 청운동   존재\n",
       "3      1111010200         서울특별시 종로구 신교동   존재\n",
       "4      1111010300         서울특별시 종로구 궁정동   존재\n",
       "...           ...                   ...  ...\n",
       "46175  5013032022  제주특별자치도 서귀포시 표선면 하천리   존재\n",
       "46176  5013032023  제주특별자치도 서귀포시 표선면 성읍리   존재\n",
       "46177  5013032024  제주특별자치도 서귀포시 표선면 가시리   존재\n",
       "46178  5013032025  제주특별자치도 서귀포시 표선면 세화리   존재\n",
       "46179  5013032026  제주특별자치도 서귀포시 표선면 토산리   존재\n",
       "\n",
       "[46180 rows x 3 columns]"
      ]
     },
     "execution_count": 317,
     "metadata": {},
     "output_type": "execute_result"
    }
   ],
   "source": [
    "court_df = pd.read_csv('./실습데이터/court_code.txt', sep='\\t', encoding='CP949')\n",
    "court_df"
   ]
  },
  {
   "cell_type": "code",
   "execution_count": 318,
   "metadata": {},
   "outputs": [
    {
     "name": "stdout",
     "output_type": "stream",
     "text": [
      "df shape        : (46180, 3)\n",
      "df size         : 138540\n",
      "df ndim         : 2\n",
      "df index        : RangeIndex(start=0, stop=46180, step=1)\n",
      "df index type   : <class 'pandas.core.indexes.range.RangeIndex'>\n",
      "df columns      : Index(['법정동코드', '법정동명', '폐지여부'], dtype='object')\n",
      "df columns type : <class 'pandas.core.indexes.base.Index'>\n"
     ]
    }
   ],
   "source": [
    "dfinfo(court_df)"
   ]
  },
  {
   "cell_type": "code",
   "execution_count": 319,
   "metadata": {},
   "outputs": [
    {
     "data": {
      "text/html": [
       "<div>\n",
       "<style scoped>\n",
       "    .dataframe tbody tr th:only-of-type {\n",
       "        vertical-align: middle;\n",
       "    }\n",
       "\n",
       "    .dataframe tbody tr th {\n",
       "        vertical-align: top;\n",
       "    }\n",
       "\n",
       "    .dataframe thead th {\n",
       "        text-align: right;\n",
       "    }\n",
       "</style>\n",
       "<table border=\"1\" class=\"dataframe\">\n",
       "  <thead>\n",
       "    <tr style=\"text-align: right;\">\n",
       "      <th></th>\n",
       "      <th>법정동코드</th>\n",
       "      <th>법정동명</th>\n",
       "      <th>폐지여부</th>\n",
       "    </tr>\n",
       "  </thead>\n",
       "  <tbody>\n",
       "    <tr>\n",
       "      <th>0</th>\n",
       "      <td>1100000000</td>\n",
       "      <td>서울특별시</td>\n",
       "      <td>존재</td>\n",
       "    </tr>\n",
       "    <tr>\n",
       "      <th>1</th>\n",
       "      <td>1111000000</td>\n",
       "      <td>서울특별시 종로구</td>\n",
       "      <td>존재</td>\n",
       "    </tr>\n",
       "    <tr>\n",
       "      <th>2</th>\n",
       "      <td>1111010100</td>\n",
       "      <td>서울특별시 종로구 청운동</td>\n",
       "      <td>존재</td>\n",
       "    </tr>\n",
       "    <tr>\n",
       "      <th>3</th>\n",
       "      <td>1111010200</td>\n",
       "      <td>서울특별시 종로구 신교동</td>\n",
       "      <td>존재</td>\n",
       "    </tr>\n",
       "    <tr>\n",
       "      <th>4</th>\n",
       "      <td>1111010300</td>\n",
       "      <td>서울특별시 종로구 궁정동</td>\n",
       "      <td>존재</td>\n",
       "    </tr>\n",
       "  </tbody>\n",
       "</table>\n",
       "</div>"
      ],
      "text/plain": [
       "        법정동코드           법정동명 폐지여부\n",
       "0  1100000000          서울특별시   존재\n",
       "1  1111000000      서울특별시 종로구   존재\n",
       "2  1111010100  서울특별시 종로구 청운동   존재\n",
       "3  1111010200  서울특별시 종로구 신교동   존재\n",
       "4  1111010300  서울특별시 종로구 궁정동   존재"
      ]
     },
     "execution_count": 319,
     "metadata": {},
     "output_type": "execute_result"
    }
   ],
   "source": [
    "court_df.head()"
   ]
  },
  {
   "cell_type": "code",
   "execution_count": 320,
   "metadata": {},
   "outputs": [
    {
     "data": {
      "text/html": [
       "<div>\n",
       "<style scoped>\n",
       "    .dataframe tbody tr th:only-of-type {\n",
       "        vertical-align: middle;\n",
       "    }\n",
       "\n",
       "    .dataframe tbody tr th {\n",
       "        vertical-align: top;\n",
       "    }\n",
       "\n",
       "    .dataframe thead th {\n",
       "        text-align: right;\n",
       "    }\n",
       "</style>\n",
       "<table border=\"1\" class=\"dataframe\">\n",
       "  <thead>\n",
       "    <tr style=\"text-align: right;\">\n",
       "      <th></th>\n",
       "      <th>법정동코드</th>\n",
       "      <th>법정동명</th>\n",
       "      <th>폐지여부</th>\n",
       "    </tr>\n",
       "  </thead>\n",
       "  <tbody>\n",
       "    <tr>\n",
       "      <th>46175</th>\n",
       "      <td>5013032022</td>\n",
       "      <td>제주특별자치도 서귀포시 표선면 하천리</td>\n",
       "      <td>존재</td>\n",
       "    </tr>\n",
       "    <tr>\n",
       "      <th>46176</th>\n",
       "      <td>5013032023</td>\n",
       "      <td>제주특별자치도 서귀포시 표선면 성읍리</td>\n",
       "      <td>존재</td>\n",
       "    </tr>\n",
       "    <tr>\n",
       "      <th>46177</th>\n",
       "      <td>5013032024</td>\n",
       "      <td>제주특별자치도 서귀포시 표선면 가시리</td>\n",
       "      <td>존재</td>\n",
       "    </tr>\n",
       "    <tr>\n",
       "      <th>46178</th>\n",
       "      <td>5013032025</td>\n",
       "      <td>제주특별자치도 서귀포시 표선면 세화리</td>\n",
       "      <td>존재</td>\n",
       "    </tr>\n",
       "    <tr>\n",
       "      <th>46179</th>\n",
       "      <td>5013032026</td>\n",
       "      <td>제주특별자치도 서귀포시 표선면 토산리</td>\n",
       "      <td>존재</td>\n",
       "    </tr>\n",
       "  </tbody>\n",
       "</table>\n",
       "</div>"
      ],
      "text/plain": [
       "            법정동코드                  법정동명 폐지여부\n",
       "46175  5013032022  제주특별자치도 서귀포시 표선면 하천리   존재\n",
       "46176  5013032023  제주특별자치도 서귀포시 표선면 성읍리   존재\n",
       "46177  5013032024  제주특별자치도 서귀포시 표선면 가시리   존재\n",
       "46178  5013032025  제주특별자치도 서귀포시 표선면 세화리   존재\n",
       "46179  5013032026  제주특별자치도 서귀포시 표선면 토산리   존재"
      ]
     },
     "execution_count": 320,
     "metadata": {},
     "output_type": "execute_result"
    }
   ],
   "source": [
    "court_df.tail()"
   ]
  },
  {
   "cell_type": "code",
   "execution_count": 321,
   "metadata": {},
   "outputs": [
    {
     "name": "stdout",
     "output_type": "stream",
     "text": [
      "<class 'pandas.core.frame.DataFrame'>\n",
      "RangeIndex: 46180 entries, 0 to 46179\n",
      "Data columns (total 3 columns):\n",
      " #   Column  Non-Null Count  Dtype \n",
      "---  ------  --------------  ----- \n",
      " 0   법정동코드   46180 non-null  int64 \n",
      " 1   법정동명    46180 non-null  object\n",
      " 2   폐지여부    46180 non-null  object\n",
      "dtypes: int64(1), object(2)\n",
      "memory usage: 1.1+ MB\n"
     ]
    }
   ],
   "source": [
    "court_df.info()"
   ]
  },
  {
   "cell_type": "markdown",
   "metadata": {},
   "source": [
    "## 8. DataFrame 문자열 처리"
   ]
  },
  {
   "cell_type": "markdown",
   "metadata": {},
   "source": [
    "   - 문자열을 처리하기 위해서는 `[시리즈명].str`을 사용해서 처리한다.\n",
    "   - 실습은 위에서 불러온 `court_df` 데이터 프레임을 사용한다."
   ]
  },
  {
   "cell_type": "code",
   "execution_count": 268,
   "metadata": {},
   "outputs": [
    {
     "data": {
      "text/html": [
       "<div>\n",
       "<style scoped>\n",
       "    .dataframe tbody tr th:only-of-type {\n",
       "        vertical-align: middle;\n",
       "    }\n",
       "\n",
       "    .dataframe tbody tr th {\n",
       "        vertical-align: top;\n",
       "    }\n",
       "\n",
       "    .dataframe thead th {\n",
       "        text-align: right;\n",
       "    }\n",
       "</style>\n",
       "<table border=\"1\" class=\"dataframe\">\n",
       "  <thead>\n",
       "    <tr style=\"text-align: right;\">\n",
       "      <th></th>\n",
       "      <th>법정동코드</th>\n",
       "      <th>법정동명</th>\n",
       "      <th>폐지여부</th>\n",
       "    </tr>\n",
       "  </thead>\n",
       "  <tbody>\n",
       "    <tr>\n",
       "      <th>0</th>\n",
       "      <td>1100000000</td>\n",
       "      <td>서울특별시</td>\n",
       "      <td>존재</td>\n",
       "    </tr>\n",
       "    <tr>\n",
       "      <th>1</th>\n",
       "      <td>1111000000</td>\n",
       "      <td>서울특별시 종로구</td>\n",
       "      <td>존재</td>\n",
       "    </tr>\n",
       "    <tr>\n",
       "      <th>2</th>\n",
       "      <td>1111010100</td>\n",
       "      <td>서울특별시 종로구 청운동</td>\n",
       "      <td>존재</td>\n",
       "    </tr>\n",
       "    <tr>\n",
       "      <th>3</th>\n",
       "      <td>1111010200</td>\n",
       "      <td>서울특별시 종로구 신교동</td>\n",
       "      <td>존재</td>\n",
       "    </tr>\n",
       "    <tr>\n",
       "      <th>4</th>\n",
       "      <td>1111010300</td>\n",
       "      <td>서울특별시 종로구 궁정동</td>\n",
       "      <td>존재</td>\n",
       "    </tr>\n",
       "    <tr>\n",
       "      <th>...</th>\n",
       "      <td>...</td>\n",
       "      <td>...</td>\n",
       "      <td>...</td>\n",
       "    </tr>\n",
       "    <tr>\n",
       "      <th>46175</th>\n",
       "      <td>5013032022</td>\n",
       "      <td>제주특별자치도 서귀포시 표선면 하천리</td>\n",
       "      <td>존재</td>\n",
       "    </tr>\n",
       "    <tr>\n",
       "      <th>46176</th>\n",
       "      <td>5013032023</td>\n",
       "      <td>제주특별자치도 서귀포시 표선면 성읍리</td>\n",
       "      <td>존재</td>\n",
       "    </tr>\n",
       "    <tr>\n",
       "      <th>46177</th>\n",
       "      <td>5013032024</td>\n",
       "      <td>제주특별자치도 서귀포시 표선면 가시리</td>\n",
       "      <td>존재</td>\n",
       "    </tr>\n",
       "    <tr>\n",
       "      <th>46178</th>\n",
       "      <td>5013032025</td>\n",
       "      <td>제주특별자치도 서귀포시 표선면 세화리</td>\n",
       "      <td>존재</td>\n",
       "    </tr>\n",
       "    <tr>\n",
       "      <th>46179</th>\n",
       "      <td>5013032026</td>\n",
       "      <td>제주특별자치도 서귀포시 표선면 토산리</td>\n",
       "      <td>존재</td>\n",
       "    </tr>\n",
       "  </tbody>\n",
       "</table>\n",
       "<p>20544 rows × 3 columns</p>\n",
       "</div>"
      ],
      "text/plain": [
       "            법정동코드                  법정동명 폐지여부\n",
       "0      1100000000                 서울특별시   존재\n",
       "1      1111000000             서울특별시 종로구   존재\n",
       "2      1111010100         서울특별시 종로구 청운동   존재\n",
       "3      1111010200         서울특별시 종로구 신교동   존재\n",
       "4      1111010300         서울특별시 종로구 궁정동   존재\n",
       "...           ...                   ...  ...\n",
       "46175  5013032022  제주특별자치도 서귀포시 표선면 하천리   존재\n",
       "46176  5013032023  제주특별자치도 서귀포시 표선면 성읍리   존재\n",
       "46177  5013032024  제주특별자치도 서귀포시 표선면 가시리   존재\n",
       "46178  5013032025  제주특별자치도 서귀포시 표선면 세화리   존재\n",
       "46179  5013032026  제주특별자치도 서귀포시 표선면 토산리   존재\n",
       "\n",
       "[20544 rows x 3 columns]"
      ]
     },
     "metadata": {},
     "output_type": "display_data"
    },
    {
     "name": "stdout",
     "output_type": "stream",
     "text": [
      "<class 'pandas.core.frame.DataFrame'>\n",
      "Int64Index: 20544 entries, 0 to 46179\n",
      "Data columns (total 3 columns):\n",
      " #   Column  Non-Null Count  Dtype \n",
      "---  ------  --------------  ----- \n",
      " 0   법정동코드   20544 non-null  int64 \n",
      " 1   법정동명    20544 non-null  object\n",
      " 2   폐지여부    20544 non-null  object\n",
      "dtypes: int64(1), object(2)\n",
      "memory usage: 642.0+ KB\n"
     ]
    },
    {
     "data": {
      "text/html": [
       "<div>\n",
       "<style scoped>\n",
       "    .dataframe tbody tr th:only-of-type {\n",
       "        vertical-align: middle;\n",
       "    }\n",
       "\n",
       "    .dataframe tbody tr th {\n",
       "        vertical-align: top;\n",
       "    }\n",
       "\n",
       "    .dataframe thead th {\n",
       "        text-align: right;\n",
       "    }\n",
       "</style>\n",
       "<table border=\"1\" class=\"dataframe\">\n",
       "  <thead>\n",
       "    <tr style=\"text-align: right;\">\n",
       "      <th></th>\n",
       "      <th>법정동코드</th>\n",
       "      <th>법정동명</th>\n",
       "      <th>폐지여부</th>\n",
       "    </tr>\n",
       "  </thead>\n",
       "  <tbody>\n",
       "    <tr>\n",
       "      <th>0</th>\n",
       "      <td>1100000000</td>\n",
       "      <td>서울특별시</td>\n",
       "      <td>존재</td>\n",
       "    </tr>\n",
       "    <tr>\n",
       "      <th>1</th>\n",
       "      <td>1111000000</td>\n",
       "      <td>서울특별시 종로구</td>\n",
       "      <td>존재</td>\n",
       "    </tr>\n",
       "    <tr>\n",
       "      <th>2</th>\n",
       "      <td>1111010100</td>\n",
       "      <td>서울특별시 종로구 청운동</td>\n",
       "      <td>존재</td>\n",
       "    </tr>\n",
       "    <tr>\n",
       "      <th>3</th>\n",
       "      <td>1111010200</td>\n",
       "      <td>서울특별시 종로구 신교동</td>\n",
       "      <td>존재</td>\n",
       "    </tr>\n",
       "    <tr>\n",
       "      <th>4</th>\n",
       "      <td>1111010300</td>\n",
       "      <td>서울특별시 종로구 궁정동</td>\n",
       "      <td>존재</td>\n",
       "    </tr>\n",
       "  </tbody>\n",
       "</table>\n",
       "</div>"
      ],
      "text/plain": [
       "        법정동코드           법정동명 폐지여부\n",
       "0  1100000000          서울특별시   존재\n",
       "1  1111000000      서울특별시 종로구   존재\n",
       "2  1111010100  서울특별시 종로구 청운동   존재\n",
       "3  1111010200  서울특별시 종로구 신교동   존재\n",
       "4  1111010300  서울특별시 종로구 궁정동   존재"
      ]
     },
     "execution_count": 268,
     "metadata": {},
     "output_type": "execute_result"
    }
   ],
   "source": [
    "# 폐지여부가 존재인 것들만 데이터프레임으로 만든다.\n",
    "subset_df = court_df[ court_df['폐지여부'] == '존재' ]\n",
    "display(subset_df)\n",
    "subset_df.info()\n",
    "subset_df.head()\n",
    "\n",
    "### 판다스에서 문자열 전처리\n",
    "## > 반드시 str을 붙여야 문자열 전처리가 가능하다.\n",
    "subset_df['법정동명']\n"
   ]
  },
  {
   "cell_type": "markdown",
   "metadata": {},
   "source": [
    "##### 임의로 문자의 자리수를 지정하여 문자를 출력할 수 있다."
   ]
  },
  {
   "cell_type": "code",
   "execution_count": 272,
   "metadata": {},
   "outputs": [
    {
     "data": {
      "text/plain": [
       "0        시\n",
       "1        구\n",
       "2        동\n",
       "3        동\n",
       "4        동\n",
       "        ..\n",
       "46175    리\n",
       "46176    리\n",
       "46177    리\n",
       "46178    리\n",
       "46179    리\n",
       "Name: 법정동명, Length: 20544, dtype: object"
      ]
     },
     "execution_count": 272,
     "metadata": {},
     "output_type": "execute_result"
    }
   ],
   "source": [
    "###### 데이터 프레임 문자열 처리!!\n",
    "\n",
    "# 법정동명 앞 5자리까지만 추출\n",
    "subset_df['법정동명'].str[:5]\n",
    "\n",
    "\n",
    "# 법정동명 마지막 한자리만 추출\n",
    "subset_df['법정동명'].str[-1]\n",
    "\n"
   ]
  },
  {
   "cell_type": "markdown",
   "metadata": {},
   "source": [
    "##### `[시리즈명].str.[함수]` 형태를 사용하여 문자열을 더욱 다양하게 처리할 수 있다."
   ]
  },
  {
   "cell_type": "markdown",
   "metadata": {},
   "source": [
    "##### `[시리즈명].str.split()`\n",
    "    - 문자열 나누기"
   ]
  },
  {
   "cell_type": "code",
   "execution_count": 275,
   "metadata": {},
   "outputs": [
    {
     "data": {
      "text/plain": [
       "0                          [서울특별시]\n",
       "1                     [서울특별시, 종로구]\n",
       "2                [서울특별시, 종로구, 청운동]\n",
       "3                [서울특별시, 종로구, 신교동]\n",
       "4                [서울특별시, 종로구, 궁정동]\n",
       "                   ...            \n",
       "46175    [제주특별자치도, 서귀포시, 표선면, 하천리]\n",
       "46176    [제주특별자치도, 서귀포시, 표선면, 성읍리]\n",
       "46177    [제주특별자치도, 서귀포시, 표선면, 가시리]\n",
       "46178    [제주특별자치도, 서귀포시, 표선면, 세화리]\n",
       "46179    [제주특별자치도, 서귀포시, 표선면, 토산리]\n",
       "Name: 법정동명, Length: 20544, dtype: object"
      ]
     },
     "metadata": {},
     "output_type": "display_data"
    },
    {
     "data": {
      "text/html": [
       "<div>\n",
       "<style scoped>\n",
       "    .dataframe tbody tr th:only-of-type {\n",
       "        vertical-align: middle;\n",
       "    }\n",
       "\n",
       "    .dataframe tbody tr th {\n",
       "        vertical-align: top;\n",
       "    }\n",
       "\n",
       "    .dataframe thead th {\n",
       "        text-align: right;\n",
       "    }\n",
       "</style>\n",
       "<table border=\"1\" class=\"dataframe\">\n",
       "  <thead>\n",
       "    <tr style=\"text-align: right;\">\n",
       "      <th></th>\n",
       "      <th>0</th>\n",
       "      <th>1</th>\n",
       "      <th>2</th>\n",
       "      <th>3</th>\n",
       "      <th>4</th>\n",
       "    </tr>\n",
       "  </thead>\n",
       "  <tbody>\n",
       "    <tr>\n",
       "      <th>0</th>\n",
       "      <td>서울특별시</td>\n",
       "      <td>None</td>\n",
       "      <td>None</td>\n",
       "      <td>None</td>\n",
       "      <td>None</td>\n",
       "    </tr>\n",
       "    <tr>\n",
       "      <th>1</th>\n",
       "      <td>서울특별시</td>\n",
       "      <td>종로구</td>\n",
       "      <td>None</td>\n",
       "      <td>None</td>\n",
       "      <td>None</td>\n",
       "    </tr>\n",
       "    <tr>\n",
       "      <th>2</th>\n",
       "      <td>서울특별시</td>\n",
       "      <td>종로구</td>\n",
       "      <td>청운동</td>\n",
       "      <td>None</td>\n",
       "      <td>None</td>\n",
       "    </tr>\n",
       "    <tr>\n",
       "      <th>3</th>\n",
       "      <td>서울특별시</td>\n",
       "      <td>종로구</td>\n",
       "      <td>신교동</td>\n",
       "      <td>None</td>\n",
       "      <td>None</td>\n",
       "    </tr>\n",
       "    <tr>\n",
       "      <th>4</th>\n",
       "      <td>서울특별시</td>\n",
       "      <td>종로구</td>\n",
       "      <td>궁정동</td>\n",
       "      <td>None</td>\n",
       "      <td>None</td>\n",
       "    </tr>\n",
       "    <tr>\n",
       "      <th>...</th>\n",
       "      <td>...</td>\n",
       "      <td>...</td>\n",
       "      <td>...</td>\n",
       "      <td>...</td>\n",
       "      <td>...</td>\n",
       "    </tr>\n",
       "    <tr>\n",
       "      <th>46175</th>\n",
       "      <td>제주특별자치도</td>\n",
       "      <td>서귀포시</td>\n",
       "      <td>표선면</td>\n",
       "      <td>하천리</td>\n",
       "      <td>None</td>\n",
       "    </tr>\n",
       "    <tr>\n",
       "      <th>46176</th>\n",
       "      <td>제주특별자치도</td>\n",
       "      <td>서귀포시</td>\n",
       "      <td>표선면</td>\n",
       "      <td>성읍리</td>\n",
       "      <td>None</td>\n",
       "    </tr>\n",
       "    <tr>\n",
       "      <th>46177</th>\n",
       "      <td>제주특별자치도</td>\n",
       "      <td>서귀포시</td>\n",
       "      <td>표선면</td>\n",
       "      <td>가시리</td>\n",
       "      <td>None</td>\n",
       "    </tr>\n",
       "    <tr>\n",
       "      <th>46178</th>\n",
       "      <td>제주특별자치도</td>\n",
       "      <td>서귀포시</td>\n",
       "      <td>표선면</td>\n",
       "      <td>세화리</td>\n",
       "      <td>None</td>\n",
       "    </tr>\n",
       "    <tr>\n",
       "      <th>46179</th>\n",
       "      <td>제주특별자치도</td>\n",
       "      <td>서귀포시</td>\n",
       "      <td>표선면</td>\n",
       "      <td>토산리</td>\n",
       "      <td>None</td>\n",
       "    </tr>\n",
       "  </tbody>\n",
       "</table>\n",
       "<p>20544 rows × 5 columns</p>\n",
       "</div>"
      ],
      "text/plain": [
       "             0     1     2     3     4\n",
       "0        서울특별시  None  None  None  None\n",
       "1        서울특별시   종로구  None  None  None\n",
       "2        서울특별시   종로구   청운동  None  None\n",
       "3        서울특별시   종로구   신교동  None  None\n",
       "4        서울특별시   종로구   궁정동  None  None\n",
       "...        ...   ...   ...   ...   ...\n",
       "46175  제주특별자치도  서귀포시   표선면   하천리  None\n",
       "46176  제주특별자치도  서귀포시   표선면   성읍리  None\n",
       "46177  제주특별자치도  서귀포시   표선면   가시리  None\n",
       "46178  제주특별자치도  서귀포시   표선면   세화리  None\n",
       "46179  제주특별자치도  서귀포시   표선면   토산리  None\n",
       "\n",
       "[20544 rows x 5 columns]"
      ]
     },
     "execution_count": 275,
     "metadata": {},
     "output_type": "execute_result"
    }
   ],
   "source": [
    "# [시리즈명].str 을 좀더 알아볼까요?\n",
    "\n",
    "\n",
    "# 하나의 시리즈에 포함된 문자열을 공백으로 나눌 수 있다.\n",
    "display(subset_df['법정동명'].str.split(' '))\n",
    "\n",
    "\n",
    "# 하나의 시리즈에 포함된 문자열을 공백으로 나누어 데이터프레임으로 만들수있다.\n",
    "display(subset_df['법정동명'].str.split(' ', expand=True))"
   ]
  },
  {
   "cell_type": "markdown",
   "metadata": {},
   "source": [
    "##### 특정글자로 시작하는 데이터만 추출하는 방법 : startswith()"
   ]
  },
  {
   "cell_type": "code",
   "execution_count": 284,
   "metadata": {},
   "outputs": [
    {
     "data": {
      "text/html": [
       "<div>\n",
       "<style scoped>\n",
       "    .dataframe tbody tr th:only-of-type {\n",
       "        vertical-align: middle;\n",
       "    }\n",
       "\n",
       "    .dataframe tbody tr th {\n",
       "        vertical-align: top;\n",
       "    }\n",
       "\n",
       "    .dataframe thead th {\n",
       "        text-align: right;\n",
       "    }\n",
       "</style>\n",
       "<table border=\"1\" class=\"dataframe\">\n",
       "  <thead>\n",
       "    <tr style=\"text-align: right;\">\n",
       "      <th></th>\n",
       "      <th>법정동코드</th>\n",
       "      <th>법정동명</th>\n",
       "      <th>폐지여부</th>\n",
       "    </tr>\n",
       "  </thead>\n",
       "  <tbody>\n",
       "    <tr>\n",
       "      <th>0</th>\n",
       "      <td>1100000000</td>\n",
       "      <td>서울특별시</td>\n",
       "      <td>존재</td>\n",
       "    </tr>\n",
       "    <tr>\n",
       "      <th>1</th>\n",
       "      <td>1111000000</td>\n",
       "      <td>서울특별시 종로구</td>\n",
       "      <td>존재</td>\n",
       "    </tr>\n",
       "    <tr>\n",
       "      <th>2</th>\n",
       "      <td>1111010100</td>\n",
       "      <td>서울특별시 종로구 청운동</td>\n",
       "      <td>존재</td>\n",
       "    </tr>\n",
       "    <tr>\n",
       "      <th>3</th>\n",
       "      <td>1111010200</td>\n",
       "      <td>서울특별시 종로구 신교동</td>\n",
       "      <td>존재</td>\n",
       "    </tr>\n",
       "    <tr>\n",
       "      <th>4</th>\n",
       "      <td>1111010300</td>\n",
       "      <td>서울특별시 종로구 궁정동</td>\n",
       "      <td>존재</td>\n",
       "    </tr>\n",
       "    <tr>\n",
       "      <th>...</th>\n",
       "      <td>...</td>\n",
       "      <td>...</td>\n",
       "      <td>...</td>\n",
       "    </tr>\n",
       "    <tr>\n",
       "      <th>1107</th>\n",
       "      <td>1174010600</td>\n",
       "      <td>서울특별시 강동구 둔촌동</td>\n",
       "      <td>존재</td>\n",
       "    </tr>\n",
       "    <tr>\n",
       "      <th>1108</th>\n",
       "      <td>1174010700</td>\n",
       "      <td>서울특별시 강동구 암사동</td>\n",
       "      <td>존재</td>\n",
       "    </tr>\n",
       "    <tr>\n",
       "      <th>1109</th>\n",
       "      <td>1174010800</td>\n",
       "      <td>서울특별시 강동구 성내동</td>\n",
       "      <td>존재</td>\n",
       "    </tr>\n",
       "    <tr>\n",
       "      <th>1110</th>\n",
       "      <td>1174010900</td>\n",
       "      <td>서울특별시 강동구 천호동</td>\n",
       "      <td>존재</td>\n",
       "    </tr>\n",
       "    <tr>\n",
       "      <th>1111</th>\n",
       "      <td>1174011000</td>\n",
       "      <td>서울특별시 강동구 강일동</td>\n",
       "      <td>존재</td>\n",
       "    </tr>\n",
       "  </tbody>\n",
       "</table>\n",
       "<p>493 rows × 3 columns</p>\n",
       "</div>"
      ],
      "text/plain": [
       "           법정동코드           법정동명 폐지여부\n",
       "0     1100000000          서울특별시   존재\n",
       "1     1111000000      서울특별시 종로구   존재\n",
       "2     1111010100  서울특별시 종로구 청운동   존재\n",
       "3     1111010200  서울특별시 종로구 신교동   존재\n",
       "4     1111010300  서울특별시 종로구 궁정동   존재\n",
       "...          ...            ...  ...\n",
       "1107  1174010600  서울특별시 강동구 둔촌동   존재\n",
       "1108  1174010700  서울특별시 강동구 암사동   존재\n",
       "1109  1174010800  서울특별시 강동구 성내동   존재\n",
       "1110  1174010900  서울특별시 강동구 천호동   존재\n",
       "1111  1174011000  서울특별시 강동구 강일동   존재\n",
       "\n",
       "[493 rows x 3 columns]"
      ]
     },
     "execution_count": 284,
     "metadata": {},
     "output_type": "execute_result"
    }
   ],
   "source": [
    "# 문제 : 서울로 시작하는 데이터만 필터링 한다면?\n",
    "seoul_index = subset_df['법정동명'].str.startswith('서울')\n",
    "subset_df[ seoul_index ]"
   ]
  },
  {
   "cell_type": "markdown",
   "metadata": {},
   "source": [
    "##### 특정글자로 끝나는 데이터만 추출하는 방법 : endswith()"
   ]
  },
  {
   "cell_type": "code",
   "execution_count": 285,
   "metadata": {},
   "outputs": [
    {
     "data": {
      "text/html": [
       "<div>\n",
       "<style scoped>\n",
       "    .dataframe tbody tr th:only-of-type {\n",
       "        vertical-align: middle;\n",
       "    }\n",
       "\n",
       "    .dataframe tbody tr th {\n",
       "        vertical-align: top;\n",
       "    }\n",
       "\n",
       "    .dataframe thead th {\n",
       "        text-align: right;\n",
       "    }\n",
       "</style>\n",
       "<table border=\"1\" class=\"dataframe\">\n",
       "  <thead>\n",
       "    <tr style=\"text-align: right;\">\n",
       "      <th></th>\n",
       "      <th>법정동코드</th>\n",
       "      <th>법정동명</th>\n",
       "      <th>폐지여부</th>\n",
       "    </tr>\n",
       "  </thead>\n",
       "  <tbody>\n",
       "    <tr>\n",
       "      <th>2</th>\n",
       "      <td>1111010100</td>\n",
       "      <td>서울특별시 종로구 청운동</td>\n",
       "      <td>존재</td>\n",
       "    </tr>\n",
       "    <tr>\n",
       "      <th>3</th>\n",
       "      <td>1111010200</td>\n",
       "      <td>서울특별시 종로구 신교동</td>\n",
       "      <td>존재</td>\n",
       "    </tr>\n",
       "    <tr>\n",
       "      <th>4</th>\n",
       "      <td>1111010300</td>\n",
       "      <td>서울특별시 종로구 궁정동</td>\n",
       "      <td>존재</td>\n",
       "    </tr>\n",
       "    <tr>\n",
       "      <th>5</th>\n",
       "      <td>1111010400</td>\n",
       "      <td>서울특별시 종로구 효자동</td>\n",
       "      <td>존재</td>\n",
       "    </tr>\n",
       "    <tr>\n",
       "      <th>6</th>\n",
       "      <td>1111010500</td>\n",
       "      <td>서울특별시 종로구 창성동</td>\n",
       "      <td>존재</td>\n",
       "    </tr>\n",
       "    <tr>\n",
       "      <th>...</th>\n",
       "      <td>...</td>\n",
       "      <td>...</td>\n",
       "      <td>...</td>\n",
       "    </tr>\n",
       "    <tr>\n",
       "      <th>46119</th>\n",
       "      <td>5013011800</td>\n",
       "      <td>제주특별자치도 서귀포시 하원동</td>\n",
       "      <td>존재</td>\n",
       "    </tr>\n",
       "    <tr>\n",
       "      <th>46120</th>\n",
       "      <td>5013011900</td>\n",
       "      <td>제주특별자치도 서귀포시 색달동</td>\n",
       "      <td>존재</td>\n",
       "    </tr>\n",
       "    <tr>\n",
       "      <th>46121</th>\n",
       "      <td>5013012000</td>\n",
       "      <td>제주특별자치도 서귀포시 상예동</td>\n",
       "      <td>존재</td>\n",
       "    </tr>\n",
       "    <tr>\n",
       "      <th>46122</th>\n",
       "      <td>5013012100</td>\n",
       "      <td>제주특별자치도 서귀포시 하예동</td>\n",
       "      <td>존재</td>\n",
       "    </tr>\n",
       "    <tr>\n",
       "      <th>46123</th>\n",
       "      <td>5013012200</td>\n",
       "      <td>제주특별자치도 서귀포시 영남동</td>\n",
       "      <td>존재</td>\n",
       "    </tr>\n",
       "  </tbody>\n",
       "</table>\n",
       "<p>3205 rows × 3 columns</p>\n",
       "</div>"
      ],
      "text/plain": [
       "            법정동코드              법정동명 폐지여부\n",
       "2      1111010100     서울특별시 종로구 청운동   존재\n",
       "3      1111010200     서울특별시 종로구 신교동   존재\n",
       "4      1111010300     서울특별시 종로구 궁정동   존재\n",
       "5      1111010400     서울특별시 종로구 효자동   존재\n",
       "6      1111010500     서울특별시 종로구 창성동   존재\n",
       "...           ...               ...  ...\n",
       "46119  5013011800  제주특별자치도 서귀포시 하원동   존재\n",
       "46120  5013011900  제주특별자치도 서귀포시 색달동   존재\n",
       "46121  5013012000  제주특별자치도 서귀포시 상예동   존재\n",
       "46122  5013012100  제주특별자치도 서귀포시 하예동   존재\n",
       "46123  5013012200  제주특별자치도 서귀포시 영남동   존재\n",
       "\n",
       "[3205 rows x 3 columns]"
      ]
     },
     "execution_count": 285,
     "metadata": {},
     "output_type": "execute_result"
    }
   ],
   "source": [
    "## 문제 : 법정동명 칼럼에서 '동'으로 끝나는 데이터만 필터링 한다면?\n",
    "dong_index = subset_df['법정동명'].str.endswith('동')\n",
    "subset_df[ dong_index ]"
   ]
  },
  {
   "cell_type": "markdown",
   "metadata": {},
   "source": [
    "##### 법정동명 중 특정 글자를 포함하는 데이터만 필터링 : str.contains()"
   ]
  },
  {
   "cell_type": "code",
   "execution_count": 287,
   "metadata": {},
   "outputs": [
    {
     "data": {
      "text/html": [
       "<div>\n",
       "<style scoped>\n",
       "    .dataframe tbody tr th:only-of-type {\n",
       "        vertical-align: middle;\n",
       "    }\n",
       "\n",
       "    .dataframe tbody tr th {\n",
       "        vertical-align: top;\n",
       "    }\n",
       "\n",
       "    .dataframe thead th {\n",
       "        text-align: right;\n",
       "    }\n",
       "</style>\n",
       "<table border=\"1\" class=\"dataframe\">\n",
       "  <thead>\n",
       "    <tr style=\"text-align: right;\">\n",
       "      <th></th>\n",
       "      <th>법정동코드</th>\n",
       "      <th>법정동명</th>\n",
       "      <th>폐지여부</th>\n",
       "    </tr>\n",
       "  </thead>\n",
       "  <tbody>\n",
       "    <tr>\n",
       "      <th>737</th>\n",
       "      <td>1150000000</td>\n",
       "      <td>서울특별시 강서구</td>\n",
       "      <td>존재</td>\n",
       "    </tr>\n",
       "    <tr>\n",
       "      <th>740</th>\n",
       "      <td>1150010100</td>\n",
       "      <td>서울특별시 강서구 염창동</td>\n",
       "      <td>존재</td>\n",
       "    </tr>\n",
       "    <tr>\n",
       "      <th>741</th>\n",
       "      <td>1150010200</td>\n",
       "      <td>서울특별시 강서구 등촌동</td>\n",
       "      <td>존재</td>\n",
       "    </tr>\n",
       "    <tr>\n",
       "      <th>742</th>\n",
       "      <td>1150010300</td>\n",
       "      <td>서울특별시 강서구 화곡동</td>\n",
       "      <td>존재</td>\n",
       "    </tr>\n",
       "    <tr>\n",
       "      <th>743</th>\n",
       "      <td>1150010400</td>\n",
       "      <td>서울특별시 강서구 가양동</td>\n",
       "      <td>존재</td>\n",
       "    </tr>\n",
       "    <tr>\n",
       "      <th>744</th>\n",
       "      <td>1150010500</td>\n",
       "      <td>서울특별시 강서구 마곡동</td>\n",
       "      <td>존재</td>\n",
       "    </tr>\n",
       "    <tr>\n",
       "      <th>745</th>\n",
       "      <td>1150010600</td>\n",
       "      <td>서울특별시 강서구 내발산동</td>\n",
       "      <td>존재</td>\n",
       "    </tr>\n",
       "    <tr>\n",
       "      <th>746</th>\n",
       "      <td>1150010700</td>\n",
       "      <td>서울특별시 강서구 외발산동</td>\n",
       "      <td>존재</td>\n",
       "    </tr>\n",
       "    <tr>\n",
       "      <th>747</th>\n",
       "      <td>1150010800</td>\n",
       "      <td>서울특별시 강서구 공항동</td>\n",
       "      <td>존재</td>\n",
       "    </tr>\n",
       "    <tr>\n",
       "      <th>748</th>\n",
       "      <td>1150010900</td>\n",
       "      <td>서울특별시 강서구 방화동</td>\n",
       "      <td>존재</td>\n",
       "    </tr>\n",
       "    <tr>\n",
       "      <th>749</th>\n",
       "      <td>1150011000</td>\n",
       "      <td>서울특별시 강서구 개화동</td>\n",
       "      <td>존재</td>\n",
       "    </tr>\n",
       "    <tr>\n",
       "      <th>750</th>\n",
       "      <td>1150011100</td>\n",
       "      <td>서울특별시 강서구 과해동</td>\n",
       "      <td>존재</td>\n",
       "    </tr>\n",
       "    <tr>\n",
       "      <th>751</th>\n",
       "      <td>1150011200</td>\n",
       "      <td>서울특별시 강서구 오곡동</td>\n",
       "      <td>존재</td>\n",
       "    </tr>\n",
       "    <tr>\n",
       "      <th>752</th>\n",
       "      <td>1150011300</td>\n",
       "      <td>서울특별시 강서구 오쇠동</td>\n",
       "      <td>존재</td>\n",
       "    </tr>\n",
       "    <tr>\n",
       "      <th>2792</th>\n",
       "      <td>2644000000</td>\n",
       "      <td>부산광역시 강서구</td>\n",
       "      <td>존재</td>\n",
       "    </tr>\n",
       "    <tr>\n",
       "      <th>2793</th>\n",
       "      <td>2644010100</td>\n",
       "      <td>부산광역시 강서구 대저1동</td>\n",
       "      <td>존재</td>\n",
       "    </tr>\n",
       "    <tr>\n",
       "      <th>2794</th>\n",
       "      <td>2644010200</td>\n",
       "      <td>부산광역시 강서구 대저2동</td>\n",
       "      <td>존재</td>\n",
       "    </tr>\n",
       "    <tr>\n",
       "      <th>2795</th>\n",
       "      <td>2644010300</td>\n",
       "      <td>부산광역시 강서구 강동동</td>\n",
       "      <td>존재</td>\n",
       "    </tr>\n",
       "    <tr>\n",
       "      <th>2796</th>\n",
       "      <td>2644010400</td>\n",
       "      <td>부산광역시 강서구 명지동</td>\n",
       "      <td>존재</td>\n",
       "    </tr>\n",
       "    <tr>\n",
       "      <th>2797</th>\n",
       "      <td>2644010500</td>\n",
       "      <td>부산광역시 강서구 죽림동</td>\n",
       "      <td>존재</td>\n",
       "    </tr>\n",
       "    <tr>\n",
       "      <th>2798</th>\n",
       "      <td>2644010600</td>\n",
       "      <td>부산광역시 강서구 식만동</td>\n",
       "      <td>존재</td>\n",
       "    </tr>\n",
       "    <tr>\n",
       "      <th>2799</th>\n",
       "      <td>2644010700</td>\n",
       "      <td>부산광역시 강서구 죽동동</td>\n",
       "      <td>존재</td>\n",
       "    </tr>\n",
       "    <tr>\n",
       "      <th>2800</th>\n",
       "      <td>2644010800</td>\n",
       "      <td>부산광역시 강서구 봉림동</td>\n",
       "      <td>존재</td>\n",
       "    </tr>\n",
       "    <tr>\n",
       "      <th>2801</th>\n",
       "      <td>2644010900</td>\n",
       "      <td>부산광역시 강서구 송정동</td>\n",
       "      <td>존재</td>\n",
       "    </tr>\n",
       "    <tr>\n",
       "      <th>2802</th>\n",
       "      <td>2644011000</td>\n",
       "      <td>부산광역시 강서구 화전동</td>\n",
       "      <td>존재</td>\n",
       "    </tr>\n",
       "    <tr>\n",
       "      <th>2803</th>\n",
       "      <td>2644011100</td>\n",
       "      <td>부산광역시 강서구 녹산동</td>\n",
       "      <td>존재</td>\n",
       "    </tr>\n",
       "    <tr>\n",
       "      <th>2804</th>\n",
       "      <td>2644011200</td>\n",
       "      <td>부산광역시 강서구 생곡동</td>\n",
       "      <td>존재</td>\n",
       "    </tr>\n",
       "    <tr>\n",
       "      <th>2805</th>\n",
       "      <td>2644011300</td>\n",
       "      <td>부산광역시 강서구 구랑동</td>\n",
       "      <td>존재</td>\n",
       "    </tr>\n",
       "    <tr>\n",
       "      <th>2806</th>\n",
       "      <td>2644011400</td>\n",
       "      <td>부산광역시 강서구 지사동</td>\n",
       "      <td>존재</td>\n",
       "    </tr>\n",
       "    <tr>\n",
       "      <th>2807</th>\n",
       "      <td>2644011500</td>\n",
       "      <td>부산광역시 강서구 미음동</td>\n",
       "      <td>존재</td>\n",
       "    </tr>\n",
       "    <tr>\n",
       "      <th>2808</th>\n",
       "      <td>2644011600</td>\n",
       "      <td>부산광역시 강서구 범방동</td>\n",
       "      <td>존재</td>\n",
       "    </tr>\n",
       "    <tr>\n",
       "      <th>2809</th>\n",
       "      <td>2644011700</td>\n",
       "      <td>부산광역시 강서구 신호동</td>\n",
       "      <td>존재</td>\n",
       "    </tr>\n",
       "    <tr>\n",
       "      <th>2810</th>\n",
       "      <td>2644011800</td>\n",
       "      <td>부산광역시 강서구 동선동</td>\n",
       "      <td>존재</td>\n",
       "    </tr>\n",
       "    <tr>\n",
       "      <th>2811</th>\n",
       "      <td>2644011900</td>\n",
       "      <td>부산광역시 강서구 성북동</td>\n",
       "      <td>존재</td>\n",
       "    </tr>\n",
       "    <tr>\n",
       "      <th>2812</th>\n",
       "      <td>2644012000</td>\n",
       "      <td>부산광역시 강서구 눌차동</td>\n",
       "      <td>존재</td>\n",
       "    </tr>\n",
       "    <tr>\n",
       "      <th>2813</th>\n",
       "      <td>2644012100</td>\n",
       "      <td>부산광역시 강서구 천성동</td>\n",
       "      <td>존재</td>\n",
       "    </tr>\n",
       "    <tr>\n",
       "      <th>2814</th>\n",
       "      <td>2644012200</td>\n",
       "      <td>부산광역시 강서구 대항동</td>\n",
       "      <td>존재</td>\n",
       "    </tr>\n",
       "  </tbody>\n",
       "</table>\n",
       "</div>"
      ],
      "text/plain": [
       "           법정동코드            법정동명 폐지여부\n",
       "737   1150000000       서울특별시 강서구   존재\n",
       "740   1150010100   서울특별시 강서구 염창동   존재\n",
       "741   1150010200   서울특별시 강서구 등촌동   존재\n",
       "742   1150010300   서울특별시 강서구 화곡동   존재\n",
       "743   1150010400   서울특별시 강서구 가양동   존재\n",
       "744   1150010500   서울특별시 강서구 마곡동   존재\n",
       "745   1150010600  서울특별시 강서구 내발산동   존재\n",
       "746   1150010700  서울특별시 강서구 외발산동   존재\n",
       "747   1150010800   서울특별시 강서구 공항동   존재\n",
       "748   1150010900   서울특별시 강서구 방화동   존재\n",
       "749   1150011000   서울특별시 강서구 개화동   존재\n",
       "750   1150011100   서울특별시 강서구 과해동   존재\n",
       "751   1150011200   서울특별시 강서구 오곡동   존재\n",
       "752   1150011300   서울특별시 강서구 오쇠동   존재\n",
       "2792  2644000000       부산광역시 강서구   존재\n",
       "2793  2644010100  부산광역시 강서구 대저1동   존재\n",
       "2794  2644010200  부산광역시 강서구 대저2동   존재\n",
       "2795  2644010300   부산광역시 강서구 강동동   존재\n",
       "2796  2644010400   부산광역시 강서구 명지동   존재\n",
       "2797  2644010500   부산광역시 강서구 죽림동   존재\n",
       "2798  2644010600   부산광역시 강서구 식만동   존재\n",
       "2799  2644010700   부산광역시 강서구 죽동동   존재\n",
       "2800  2644010800   부산광역시 강서구 봉림동   존재\n",
       "2801  2644010900   부산광역시 강서구 송정동   존재\n",
       "2802  2644011000   부산광역시 강서구 화전동   존재\n",
       "2803  2644011100   부산광역시 강서구 녹산동   존재\n",
       "2804  2644011200   부산광역시 강서구 생곡동   존재\n",
       "2805  2644011300   부산광역시 강서구 구랑동   존재\n",
       "2806  2644011400   부산광역시 강서구 지사동   존재\n",
       "2807  2644011500   부산광역시 강서구 미음동   존재\n",
       "2808  2644011600   부산광역시 강서구 범방동   존재\n",
       "2809  2644011700   부산광역시 강서구 신호동   존재\n",
       "2810  2644011800   부산광역시 강서구 동선동   존재\n",
       "2811  2644011900   부산광역시 강서구 성북동   존재\n",
       "2812  2644012000   부산광역시 강서구 눌차동   존재\n",
       "2813  2644012100   부산광역시 강서구 천성동   존재\n",
       "2814  2644012200   부산광역시 강서구 대항동   존재"
      ]
     },
     "execution_count": 287,
     "metadata": {},
     "output_type": "execute_result"
    }
   ],
   "source": [
    "# 강서구를 포함하는 데이터 필터링\n",
    "\n",
    "gangseogu_index = subset_df['법정동명'].str.contains('강서구')\n",
    "subset_df[ gangseogu_index ]"
   ]
  },
  {
   "cell_type": "markdown",
   "metadata": {},
   "source": [
    "##### '법정동명'에서 공백을 다른 문자(__)로 대체하고 싶다면 : str.replace()"
   ]
  },
  {
   "cell_type": "code",
   "execution_count": 322,
   "metadata": {},
   "outputs": [
    {
     "data": {
      "text/plain": [
       "0                       서울특별시\n",
       "1                   서울특별시_종로구\n",
       "2               서울특별시_종로구_청운동\n",
       "3               서울특별시_종로구_신교동\n",
       "4               서울특별시_종로구_궁정동\n",
       "                 ...         \n",
       "46175    제주특별자치도_서귀포시_표선면_하천리\n",
       "46176    제주특별자치도_서귀포시_표선면_성읍리\n",
       "46177    제주특별자치도_서귀포시_표선면_가시리\n",
       "46178    제주특별자치도_서귀포시_표선면_세화리\n",
       "46179    제주특별자치도_서귀포시_표선면_토산리\n",
       "Name: 법정동명, Length: 20544, dtype: object"
      ]
     },
     "execution_count": 322,
     "metadata": {},
     "output_type": "execute_result"
    }
   ],
   "source": [
    "subset_df['법정동명'].str.replace(' ', '_')"
   ]
  },
  {
   "cell_type": "code",
   "execution_count": 308,
   "metadata": {},
   "outputs": [
    {
     "data": {
      "text/html": [
       "<div>\n",
       "<style scoped>\n",
       "    .dataframe tbody tr th:only-of-type {\n",
       "        vertical-align: middle;\n",
       "    }\n",
       "\n",
       "    .dataframe tbody tr th {\n",
       "        vertical-align: top;\n",
       "    }\n",
       "\n",
       "    .dataframe thead th {\n",
       "        text-align: right;\n",
       "    }\n",
       "</style>\n",
       "<table border=\"1\" class=\"dataframe\">\n",
       "  <thead>\n",
       "    <tr style=\"text-align: right;\">\n",
       "      <th></th>\n",
       "      <th>col01</th>\n",
       "      <th>col02</th>\n",
       "    </tr>\n",
       "  </thead>\n",
       "  <tbody>\n",
       "    <tr>\n",
       "      <th>0</th>\n",
       "      <td>abcd</td>\n",
       "      <td>aaDDD</td>\n",
       "    </tr>\n",
       "    <tr>\n",
       "      <th>1</th>\n",
       "      <td>FFFght</td>\n",
       "      <td>fhhtu</td>\n",
       "    </tr>\n",
       "    <tr>\n",
       "      <th>2</th>\n",
       "      <td>abCCe</td>\n",
       "      <td>sdfdsa</td>\n",
       "    </tr>\n",
       "  </tbody>\n",
       "</table>\n",
       "</div>"
      ],
      "text/plain": [
       "          col01   col02\n",
       "0      abcd       aaDDD\n",
       "1     FFFght      fhhtu\n",
       "2     abCCe      sdfdsa"
      ]
     },
     "execution_count": 308,
     "metadata": {},
     "output_type": "execute_result"
    }
   ],
   "source": [
    "## 공백이 들어있는 경우 : 공백제거 및 대소문자 처리\n",
    "\n",
    "empty_df = pd.DataFrame({\n",
    "    'col01' : ['abcd    ', '   FFFght   ', 'abCCe    '],\n",
    "    'col02' : ['aaDDD', 'fhhtu', 'sdfdsa']\n",
    "})\n",
    "\n",
    "empty_df"
   ]
  },
  {
   "cell_type": "markdown",
   "metadata": {},
   "source": [
    "### 공백제거 함수들\n",
    "##### str.strip()   :  왼쪽, 오른쪽 공백을 제거\n",
    "##### str.lstrip()  :  왼쪽 공백을 제거\n",
    "##### str.rstrip()  :  오른쪽 공백을 제거"
   ]
  },
  {
   "cell_type": "code",
   "execution_count": 309,
   "metadata": {},
   "outputs": [
    {
     "data": {
      "text/plain": [
       "'   FFFght'"
      ]
     },
     "metadata": {},
     "output_type": "display_data"
    },
    {
     "data": {
      "text/plain": [
       "'FFFght   '"
      ]
     },
     "metadata": {},
     "output_type": "display_data"
    },
    {
     "data": {
      "text/plain": [
       "'FFFght'"
      ]
     },
     "metadata": {},
     "output_type": "display_data"
    }
   ],
   "source": [
    "display( empty_df['col01'].str.rstrip()[1] )\n",
    "display( empty_df['col01'].str.lstrip()[1] )\n",
    "display( empty_df['col01'].str.strip()[1] )"
   ]
  },
  {
   "cell_type": "markdown",
   "metadata": {},
   "source": [
    "### 대소문자 변경 함수들\n",
    "##### str.lower()      :  대문자를 소문자로\n",
    "##### str.upper()      :  소문자를 대문자로\n",
    "##### str.swapcase()   :  대문자는 소문자, 소문자는 대문자로"
   ]
  },
  {
   "cell_type": "code",
   "execution_count": 311,
   "metadata": {
    "scrolled": true
   },
   "outputs": [
    {
     "data": {
      "text/plain": [
       "'aaddd'"
      ]
     },
     "metadata": {},
     "output_type": "display_data"
    },
    {
     "data": {
      "text/plain": [
       "'AADDD'"
      ]
     },
     "metadata": {},
     "output_type": "display_data"
    },
    {
     "data": {
      "text/plain": [
       "'AAddd'"
      ]
     },
     "metadata": {},
     "output_type": "display_data"
    }
   ],
   "source": [
    "display( empty_df['col02'].str.lower()[0] )\n",
    "display( empty_df['col02'].str.upper()[0] )\n",
    "display( empty_df['col02'].str.swapcase()[0] )"
   ]
  }
 ],
 "metadata": {
  "kernelspec": {
   "display_name": "Python 3",
   "language": "python",
   "name": "python3"
  },
  "language_info": {
   "codemirror_mode": {
    "name": "ipython",
    "version": 3
   },
   "file_extension": ".py",
   "mimetype": "text/x-python",
   "name": "python",
   "nbconvert_exporter": "python",
   "pygments_lexer": "ipython3",
   "version": "3.7.6"
  }
 },
 "nbformat": 4,
 "nbformat_minor": 4
}
