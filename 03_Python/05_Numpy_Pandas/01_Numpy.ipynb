{
 "cells": [
  {
   "cell_type": "markdown",
   "metadata": {},
   "source": [
    "###### 2020-10-09 금요일\n",
    "\n",
    "# Numpy\n",
    "\n",
    "#### 학습 목표\n",
    "\n",
    "- 배열과 리스트의 차이점\n",
    "- 배열 생성 다루는 기법\n",
    "- 기술 통계\n",
    "- 결과에 대한 분석하는 방법\n"
   ]
  },
  {
   "cell_type": "markdown",
   "metadata": {},
   "source": [
    "### 넘파이와 판다스가 제공하는 배열의 특징\n",
    "- 넘파이의 배열은 모든 요소가 같은 자료형 이어야 합니다.\n",
    "- resizing X : append. pop 등 함수가 적용이 안됩니다.\n",
    "- vector(1차원 배열) : pandas에서는 Series에 해당되요.\n",
    "- Matrix(2차원 배열) : pandas에서는 DataFrame에 해당되요.\n",
    "- 선형대수(행렬을 이용한 연산이 가능) : 행렬을 연산하는 것을 벡터 오퍼레이션이라고 한다네요"
   ]
  },
  {
   "cell_type": "code",
   "execution_count": 1,
   "metadata": {},
   "outputs": [],
   "source": [
    "import numpy as np"
   ]
  },
  {
   "cell_type": "markdown",
   "metadata": {},
   "source": [
    "- 배열의 차원과 크기, 타입\n",
    "- ndim / shape / dtype"
   ]
  },
  {
   "cell_type": "markdown",
   "metadata": {},
   "source": [
    "배열의 정보를 출력해주는 함수를 한번 만들어봐요"
   ]
  },
  {
   "cell_type": "code",
   "execution_count": 96,
   "metadata": {},
   "outputs": [],
   "source": [
    "def arrinfo(arr):\n",
    "    print('type : {}' .format(type(arr)))\n",
    "    print('shape : {}' .format(arr.shape))\n",
    "    print('dimension : {}' .format(arr.ndim))\n",
    "    print('dtype : {}' .format(arr.dtype))\n",
    "    print('Array Data : \\n', arr)\n",
    "    print()"
   ]
  },
  {
   "cell_type": "markdown",
   "metadata": {},
   "source": [
    "## 1차원 배열 생성\n",
    "- array()"
   ]
  },
  {
   "cell_type": "code",
   "execution_count": 4,
   "metadata": {},
   "outputs": [
    {
     "name": "stdout",
     "output_type": "stream",
     "text": [
      "type : <class 'numpy.ndarray'>\n",
      "shape : (10,)\n",
      "dimension : 1\n",
      "type : int32\n",
      "Array Data : \n",
      " [0 1 2 3 4 5 6 7 8 9]\n"
     ]
    }
   ],
   "source": [
    "oneArr = np.array([0, 1, 2, 3, 4, 5, 6, 7, 8, 9])\n",
    "arrinfo(oneArr)\n"
   ]
  },
  {
   "cell_type": "markdown",
   "metadata": {},
   "source": [
    "### 파이썬 기본 list와 np.array의 차이점\n",
    "- np.array는 vector operation이 가능합니다. > 벡터끼리 더하고 뺴고 곱하고가 가능해요!\n"
   ]
  },
  {
   "cell_type": "code",
   "execution_count": 5,
   "metadata": {},
   "outputs": [
    {
     "data": {
      "text/plain": [
       "[0, 1, 2, 3, 4, 5, 6, 7, 8, 9, 0, 1, 2, 3, 4, 5, 6, 7, 8, 9]"
      ]
     },
     "execution_count": 5,
     "metadata": {},
     "output_type": "execute_result"
    }
   ],
   "source": [
    "# list 연산\n",
    "\n",
    "temp_list = [0, 1, 2, 3, 4, 5, 6, 7, 8, 9]\n",
    "temp_list * 2   # list에 곱하기 연산을 하면 원래의 리스트에 리스트가 붙는 형태가 됩니다"
   ]
  },
  {
   "cell_type": "code",
   "execution_count": 6,
   "metadata": {},
   "outputs": [
    {
     "data": {
      "text/plain": [
       "array([ 0,  2,  4,  6,  8, 10, 12, 14, 16, 18])"
      ]
     },
     "execution_count": 6,
     "metadata": {},
     "output_type": "execute_result"
    }
   ],
   "source": [
    "# np.array 연산\n",
    "\n",
    "oneArr = np.array([0, 1, 2, 3, 4, 5, 6, 7, 8, 9])\n",
    "oneArr * 2    # np.array에 곱하기 연산을 하면 각각의 원소 하나하나에 곱하기 연산이 적용됩니다."
   ]
  },
  {
   "cell_type": "markdown",
   "metadata": {},
   "source": [
    "- 벡터 연산은 비교, 산술, 논리 연산을 포함하는 모든 수학연산에 적용되요"
   ]
  },
  {
   "cell_type": "code",
   "execution_count": 12,
   "metadata": {},
   "outputs": [
    {
     "name": "stdout",
     "output_type": "stream",
     "text": [
      "[11 22 33]\n",
      "[12 24 36]\n",
      "[False  True False]\n",
      "[False False  True]\n",
      "[False False False]\n"
     ]
    }
   ],
   "source": [
    "xArr = np.array([1, 2, 3])\n",
    "yArr = np.array([10, 20, 30])\n",
    "\n",
    "print(xArr + yArr) # 오 ㅎ 더해져요\n",
    "print(2 * xArr + yArr) #오 ㅎ 곱해져요\n",
    "print(xArr == 2) # 오 ㅎ 논리연산자도 가능해요\n",
    "print(yArr > 20) # 오 ㅎ 가능해요\n",
    "print( (xArr > 2) & (yArr == 10) ) # 이야~"
   ]
  },
  {
   "cell_type": "markdown",
   "metadata": {},
   "source": [
    "### 2차원 배열 생성\n",
    "- ndarray(N-dimensioanal Array)\n",
    "- 2차원 이상의 다차원 배열 자료구조\n",
    "- 2차원 배열은 행렬(Matrix)\n"
   ]
  },
  {
   "cell_type": "code",
   "execution_count": 20,
   "metadata": {},
   "outputs": [
    {
     "name": "stdout",
     "output_type": "stream",
     "text": [
      "type : <class 'numpy.ndarray'>\n",
      "shape : (2, 3)\n",
      "dimension : 2\n",
      "type : float64\n",
      "Array Data : \n",
      " [[1. 2. 3.]\n",
      " [4. 5. 6.]]\n"
     ]
    }
   ],
   "source": [
    "# 2개의 행과 3개의 열을 가지는 배열 만든다면\n",
    "twoArr = np.array([ [1, 2, 3], [4, 5, 6] ], dtype=np.float64)\n",
    "arrinfo(twoArr)"
   ]
  },
  {
   "cell_type": "code",
   "execution_count": 19,
   "metadata": {},
   "outputs": [
    {
     "name": "stdout",
     "output_type": "stream",
     "text": [
      "2\n",
      "3\n"
     ]
    }
   ],
   "source": [
    "# 행의 개수와 열의 개수\n",
    "print(len(twoArr))   # 행의개수\n",
    "print(len(twoArr[0]))  # 열의 개수  "
   ]
  },
  {
   "cell_type": "markdown",
   "metadata": {},
   "source": [
    "### 3차원 배열 생성"
   ]
  },
  {
   "cell_type": "code",
   "execution_count": 21,
   "metadata": {},
   "outputs": [
    {
     "name": "stdout",
     "output_type": "stream",
     "text": [
      "type : <class 'numpy.ndarray'>\n",
      "shape : (2, 3, 4)\n",
      "dimension : 3\n",
      "type : int32\n",
      "Array Data : \n",
      " [[[  1   2   3   4]\n",
      "  [ 10  20  30  40]\n",
      "  [100 200 300 400]]\n",
      "\n",
      " [[  1   1   1   1]\n",
      "  [ 10  10  10  10]\n",
      "  [100 100 100 100]]]\n"
     ]
    }
   ],
   "source": [
    "# 2 X 3 X 4 array 생성\n",
    "\n",
    "threeArr = np.array([\n",
    "                        [\n",
    "                            [1, 2, 3, 4],\n",
    "                            [10, 20, 30, 40],\n",
    "                            [100, 200, 300, 400]\n",
    "                        ],\n",
    "                        [\n",
    "                            [1, 1, 1, 1],\n",
    "                            [10, 10, 10 ,10],\n",
    "                            [100, 100, 100, 100]\n",
    "                        ]\n",
    "                    ])\n",
    "arrinfo(threeArr)"
   ]
  },
  {
   "cell_type": "code",
   "execution_count": 26,
   "metadata": {},
   "outputs": [
    {
     "name": "stdout",
     "output_type": "stream",
     "text": [
      "dept 2\n",
      "row 3\n",
      "col 4\n"
     ]
    }
   ],
   "source": [
    "print('dept', len(threeArr))\n",
    "print('row', len(threeArr[0]))\n",
    "print('col', len(threeArr[0][0]))"
   ]
  },
  {
   "cell_type": "markdown",
   "metadata": {},
   "source": [
    "- 요소의 타입을 변경할 때 : [객체].astype()"
   ]
  },
  {
   "cell_type": "code",
   "execution_count": 27,
   "metadata": {},
   "outputs": [
    {
     "name": "stdout",
     "output_type": "stream",
     "text": [
      "type : <class 'numpy.ndarray'>\n",
      "shape : (2, 3, 4)\n",
      "dimension : 3\n",
      "type : float64\n",
      "Array Data : \n",
      " [[[  1.   2.   3.   4.]\n",
      "  [ 10.  20.  30.  40.]\n",
      "  [100. 200. 300. 400.]]\n",
      "\n",
      " [[  1.   1.   1.   1.]\n",
      "  [ 10.  10.  10.  10.]\n",
      "  [100. 100. 100. 100.]]]\n"
     ]
    }
   ],
   "source": [
    "typeChange = threeArr.astype(np.float64)\n",
    "arrinfo(typeChange)"
   ]
  },
  {
   "cell_type": "markdown",
   "metadata": {},
   "source": [
    "배열 인덱싱"
   ]
  },
  {
   "cell_type": "code",
   "execution_count": 29,
   "metadata": {},
   "outputs": [
    {
     "name": "stdout",
     "output_type": "stream",
     "text": [
      "type : <class 'numpy.ndarray'>\n",
      "shape : (7,)\n",
      "dimension : 1\n",
      "type : int32\n",
      "Array Data : \n",
      " [1 2 3 4 5 6 7]\n"
     ]
    },
    {
     "data": {
      "text/plain": [
       "3"
      ]
     },
     "execution_count": 29,
     "metadata": {},
     "output_type": "execute_result"
    }
   ],
   "source": [
    "indexArr = np.array([1, 2, 3, 4, 5, 6, 7])\n",
    "arrinfo(indexArr)"
   ]
  },
  {
   "cell_type": "code",
   "execution_count": 33,
   "metadata": {},
   "outputs": [
    {
     "name": "stdout",
     "output_type": "stream",
     "text": [
      "type : <class 'numpy.ndarray'>\n",
      "shape : (2, 3)\n",
      "dimension : 2\n",
      "type : float64\n",
      "Array Data : \n",
      " [[1. 2. 3.]\n",
      " [4. 5. 6.]]\n",
      "1.0\n",
      "2.0\n",
      "6.0\n"
     ]
    }
   ],
   "source": [
    "# twoArr indexing\n",
    "arrinfo(twoArr)\n",
    "\n",
    "# 첫번째 행의 첫번째 열\n",
    "print(twoArr[0][0])\n",
    "\n",
    "# 첫번째 행의 두번째 열\n",
    "print(twoArr[0][1])\n",
    "\n",
    "# 마지막 행의 마지막열\n",
    "print(twoArr[1][2])"
   ]
  },
  {
   "cell_type": "code",
   "execution_count": 59,
   "metadata": {},
   "outputs": [
    {
     "name": "stdout",
     "output_type": "stream",
     "text": [
      "type : <class 'numpy.ndarray'>\n",
      "shape : (2, 4)\n",
      "dimension : 2\n",
      "type : int32\n",
      "Array Data : \n",
      " [[1 2 3 4]\n",
      " [5 6 7 8]]\n",
      "\n",
      "\n",
      "1.\n",
      "[1 2 3 4]\n",
      "2.\n",
      "[2 6]\n",
      "3.\n",
      "[6 7 8]\n"
     ]
    }
   ],
   "source": [
    "slicingArr = np.array([[1, 2, 3, 4], [5, 6, 7, 8]])\n",
    "arrinfo(slicingArr)\n",
    "print()\n",
    "print()\n",
    "\n",
    "# 첫번째 행의 전체를 출력\n",
    "print('1.')\n",
    "print(slicingArr[0])\n",
    "\n",
    "# 두번째 열의 전체를 출력\n",
    "print('2.')\n",
    "print(slicingArr[:, 1])\n",
    "\n",
    "# 두번째 행의 두번째 열부터 끝까지\n",
    "print('3.')\n",
    "print(slicingArr[1, 1:])"
   ]
  },
  {
   "cell_type": "code",
   "execution_count": 69,
   "metadata": {},
   "outputs": [
    {
     "name": "stdout",
     "output_type": "stream",
     "text": [
      "type : <class 'numpy.ndarray'>\n",
      "shape : (3, 5)\n",
      "dimension : 2\n",
      "type : int32\n",
      "Array Data : \n",
      " [[ 0  1  2  3  4]\n",
      " [ 5  6  7  8  9]\n",
      " [10 11 12 13 14]]\n",
      "\n",
      "1. 값 7을 인덱싱\n",
      "7\n",
      "\n",
      "2. 값 14를 인덱싱\n",
      "14\n",
      "\n",
      "3. 배열 [6, 7]을 인덱싱\n",
      "[6 7]\n",
      "\n",
      "4. 배열 [7, 12]를 인덱싱\n",
      "[ 7 12]\n",
      "\n",
      "5. 배열 [[3, 4], [8, 9]]를 인덱싱\n",
      "[[3 4]\n",
      " [8 9]]\n",
      "\n"
     ]
    }
   ],
   "source": [
    "m = np.array([[ 0,  1,  2,  3,  4],\n",
    "            [ 5,  6,  7,  8,  9],\n",
    "            [10, 11, 12, 13, 14]])\n",
    "\n",
    "arrinfo(m)\n",
    "print()\n",
    "\n",
    "# 1. 값 7을 인덱싱\n",
    "print('1. 값 7을 인덱싱')\n",
    "print(m[1, 2])\n",
    "print()\n",
    "\n",
    "# 2. 값 14를 인덱싱\n",
    "print('2. 값 14를 인덱싱')\n",
    "print(m[2, 4])\n",
    "print()\n",
    "\n",
    "# 3. 배열 [6, 7]을 인덱싱\n",
    "print('3. 배열 [6, 7]을 인덱싱')\n",
    "print(m[1, 1:3])\n",
    "print()\n",
    "\n",
    "# 4. 배열 [7, 12]를 인덱싱\n",
    "print('4. 배열 [7, 12]를 인덱싱')\n",
    "print(m[1:, 2])\n",
    "print()\n",
    "\n",
    "# 5. 배열 [[3, 4], [8, 9]]를 인덱싱\n",
    "print('5. 배열 [[3, 4], [8, 9]]를 인덱싱')\n",
    "print(m[:2, 3:])\n",
    "print()\n"
   ]
  },
  {
   "cell_type": "markdown",
   "metadata": {},
   "source": [
    "#### 넘파이의 아주 강력한 기능\n",
    "- fancy indexing : 배열의 요소 값을 불러올 때, 인덱스의 번지를 지정하여 요소값을 불러올 수 있어요!\n",
    "- boolean indexing : 배열의 인덱스 자리에 boolean값을 넣어 요소값을 불러올 수 있어요!"
   ]
  },
  {
   "cell_type": "code",
   "execution_count": 76,
   "metadata": {},
   "outputs": [
    {
     "name": "stdout",
     "output_type": "stream",
     "text": [
      "type : <class 'numpy.ndarray'>\n",
      "shape : (10,)\n",
      "dimension : 1\n",
      "type : int32\n",
      "Array Data : \n",
      " [0 1 2 3 4 5 6 7 8 9]\n"
     ]
    },
    {
     "data": {
      "text/plain": [
       "array([0, 1, 0, 1, 0, 1, 0, 1, 0, 1])"
      ]
     },
     "execution_count": 76,
     "metadata": {},
     "output_type": "execute_result"
    }
   ],
   "source": [
    "# 다음 np.array에서 짝수 원소만을 뽑아보아라\n",
    "arr = np.array([0, 1, 2, 3, 4, 5, 6, 7, 8, 9])\n",
    "arrinfo(arr)\n",
    "\n",
    "\n",
    "# boolean indexing을 이용해서 추출할 수 있따!\n",
    "idx = np.array([True, False, True, False, True, False, True, False, True, False])\n",
    "arr[idx]\n",
    "\n",
    "\n",
    "# 그렇다면..?\n",
    "arr[arr % 2] # good~"
   ]
  },
  {
   "cell_type": "code",
   "execution_count": 79,
   "metadata": {},
   "outputs": [
    {
     "name": "stdout",
     "output_type": "stream",
     "text": [
      "[0 2 4 6 8]\n"
     ]
    }
   ],
   "source": [
    "# boolean 말고도 index번호로 직접 접근하여 추출할 수 있따.\n",
    "cntidx = np.array([0, 2, 4, 6, 8])\n",
    "print(arr[cntidx])"
   ]
  },
  {
   "cell_type": "code",
   "execution_count": 88,
   "metadata": {},
   "outputs": [
    {
     "name": "stdout",
     "output_type": "stream",
     "text": [
      "type : <class 'numpy.ndarray'>\n",
      "shape : (20,)\n",
      "dimension : 1\n",
      "type : int32\n",
      "Array Data : \n",
      " [ 1  2  3  4  5  6  7  8  9 10 11 12 13 14 15 16 17 18 19 20]\n",
      "\n",
      "1.\n",
      "[ 3  6  9 12 15 18]\n",
      "\n",
      "2.\n",
      "[ 1  5  9 13 17]\n",
      "\n",
      "3.\n",
      "[9]\n",
      "\n"
     ]
    }
   ],
   "source": [
    "x = np.array([1, 2, 3, 4, 5, 6, 7, 8, 9, 10,\n",
    "             11, 12, 13, 14, 15, 16, 17, 18, 19, 20])\n",
    "\n",
    "arrinfo(x)\n",
    "print()\n",
    "\n",
    "# 1. 3의 배수를 찾아라\n",
    "print('1.')\n",
    "print(x[ x % 3 == 0 ])\n",
    "print()\n",
    "\n",
    "# 2. 4로 나누면 1이 남는 수를 찾아라\n",
    "print('2.')\n",
    "print(x[ x % 4 == 1 ])\n",
    "print()\n",
    "\n",
    "# 3. 3으로 나누면 나누어지고 4로 나누면 1이 남는 수를 찾아라\n",
    "print('3.')\n",
    "print(x[( x % 3 == 0 ) & ( x % 4 == 1 )])\n",
    "print()"
   ]
  },
  {
   "cell_type": "code",
   "execution_count": 128,
   "metadata": {
    "scrolled": true
   },
   "outputs": [
    {
     "name": "stdout",
     "output_type": "stream",
     "text": [
      "type : <class 'numpy.ndarray'>\n",
      "shape : (3, 4)\n",
      "dimension : 2\n",
      "dtype : int32\n",
      "Array Data : \n",
      " [[ 0  1  2  3]\n",
      " [ 4  5  6  7]\n",
      " [ 8  9 10 11]]\n",
      "\n",
      "1.\n",
      "10\n",
      "\n",
      "2-1.\n",
      "6\n",
      "\n",
      "2-2.\n",
      "[6]\n",
      "\n",
      "2-3.\n",
      "[[6]]\n",
      "\n",
      "3-1.\n",
      "[ 2 10]\n",
      "\n",
      "3-2.\n",
      "[[ 2]\n",
      " [10]]\n",
      "\n",
      "4\n",
      "[[ 0  2]\n",
      " [ 8 10]]\n",
      "\n"
     ]
    }
   ],
   "source": [
    "# 배열에 index 배열을 전달하여 배열 요소를 참조해 보자\n",
    "\n",
    "# arrange\n",
    "# .reshape : 배열의 배치를 변경\n",
    "\n",
    "fancyArr = np.arange(0, 12, 1).reshape(3, 4)\n",
    "arrinfo(fancyArr)\n",
    "\n",
    "# 10을 가져오고 싶어요\n",
    "print('1.')\n",
    "print(fancyArr[2, 2])\n",
    "print()\n",
    "\n",
    "# 슬라이싱(:)에 따라서 반환되는 값의 타입이 달라집니다\n",
    "# 이런걸 알아야 오류를 줄일 수 있어요\n",
    "# 6을 가져오고 싶어요\n",
    "print('2-1.')\n",
    "print(fancyArr[1, 2])  # 인덱싱에 슬라이싱(:)이 없으면 스칼라 값으로 반환되요\n",
    "print()\n",
    "print('2-2.')\n",
    "print(fancyArr[1:2, 2])  # 인덱싱에 슬라이싱(:)이 하나 있으면 1차원 배열로 반환되요\n",
    "print()\n",
    "print('2-3.')\n",
    "print(fancyArr[1:2, 2:3])  # 인덱싱에 슬라이싱(:)이 두개 있으면 2차원 배열로 반환되요\n",
    "print()\n",
    "\n",
    "\n",
    "# 2와 10을 가져오세요\n",
    "print('3-1.')\n",
    "print( fancyArr[ [0, 2], 2] )\n",
    "print()\n",
    "\n",
    "# 위 결과를 2차원 배열 [[2, 10]]으로 가져오세요\n",
    "print('3-2.')\n",
    "print( fancyArr[ [0, 2], 2:3] )\n",
    "print()\n",
    "\n",
    "# [[0, 2], [8, 10]]의 결과를 불러오세요\n",
    "print('4')\n",
    "print(fancyArr[ [0, 2], : ][ :, [0, 2] ])\n",
    "print()"
   ]
  },
  {
   "cell_type": "markdown",
   "metadata": {},
   "source": [
    "# 배열 변형(타입, 형태)"
   ]
  },
  {
   "cell_type": "code",
   "execution_count": 138,
   "metadata": {},
   "outputs": [
    {
     "name": "stdout",
     "output_type": "stream",
     "text": [
      "type : <class 'numpy.ndarray'>\n",
      "shape : (3,)\n",
      "dimension : 1\n",
      "dtype : <U1\n",
      "Array Data : \n",
      " ['1' '2' '3']\n",
      "\n"
     ]
    }
   ],
   "source": [
    "x = np.array([1, 2, 3], dtype = 'U')\n",
    "arrinfo(x)"
   ]
  },
  {
   "cell_type": "code",
   "execution_count": 139,
   "metadata": {},
   "outputs": [
    {
     "data": {
      "text/plain": [
       "'12'"
      ]
     },
     "execution_count": 139,
     "metadata": {},
     "output_type": "execute_result"
    }
   ],
   "source": [
    "x[0] + x[1]"
   ]
  },
  {
   "cell_type": "markdown",
   "metadata": {},
   "source": [
    "숫자의 정의 형태\n",
    "- inf : 무한대의 숫자\n",
    "- NaN : 숫자로 정의할 수 없을때"
   ]
  },
  {
   "cell_type": "code",
   "execution_count": 141,
   "metadata": {},
   "outputs": [
    {
     "name": "stderr",
     "output_type": "stream",
     "text": [
      "C:\\Users\\lan41\\Anaconda3\\lib\\site-packages\\ipykernel_launcher.py:1: RuntimeWarning: divide by zero encountered in true_divide\n",
      "  \"\"\"Entry point for launching an IPython kernel.\n",
      "C:\\Users\\lan41\\Anaconda3\\lib\\site-packages\\ipykernel_launcher.py:1: RuntimeWarning: invalid value encountered in true_divide\n",
      "  \"\"\"Entry point for launching an IPython kernel.\n"
     ]
    },
    {
     "data": {
      "text/plain": [
       "array([  0.,  inf, -inf,  nan])"
      ]
     },
     "execution_count": 141,
     "metadata": {},
     "output_type": "execute_result"
    }
   ],
   "source": [
    "np.array([0, 1, -1, 0]) / np.array([1, 0, 0, 0])"
   ]
  },
  {
   "cell_type": "markdown",
   "metadata": {},
   "source": [
    "- zeros, ones\n",
    "- zeros_likes, ones_like\n",
    "- empty\n",
    "- arrange\n",
    "- linspace, logspace\n",
    "\n",
    "\n",
    "기존에 만들어진 데이터 배열의 크기를 가져오는 방법입니다. 이 방법은 연산의 속도를 높일 수 있어요.\n",
    "알고리즘으로 치면 `동적 계획법(Dynamic programming)`과 동일한 원리로 작동한다고 생각하면 된다네요!"
   ]
  },
  {
   "cell_type": "code",
   "execution_count": 150,
   "metadata": {},
   "outputs": [
    {
     "name": "stdout",
     "output_type": "stream",
     "text": [
      "type : <class 'numpy.ndarray'>\n",
      "shape : (5,)\n",
      "dimension : 1\n",
      "dtype : float64\n",
      "Array Data : \n",
      " [0. 0. 0. 0. 0.]\n",
      "\n",
      "type : <class 'numpy.ndarray'>\n",
      "shape : (2, 3)\n",
      "dimension : 2\n",
      "dtype : int32\n",
      "Array Data : \n",
      " [[0 0 0]\n",
      " [0 0 0]]\n",
      "\n",
      "type : <class 'numpy.ndarray'>\n",
      "shape : (2, 3)\n",
      "dimension : 2\n",
      "dtype : float32\n",
      "Array Data : \n",
      " [[0. 0. 0.]\n",
      " [0. 0. 0.]]\n",
      "\n"
     ]
    }
   ],
   "source": [
    "z1 = np.zeros(5)\n",
    "arrinfo(z1)\n",
    "\n",
    "z2 = np.zeros((2, 3), dtype='i')\n",
    "arrinfo(z2)\n",
    "\n",
    "z_like = np.zeros_like(z2, dtype='f')\n",
    "arrinfo(z_like)"
   ]
  },
  {
   "cell_type": "code",
   "execution_count": 149,
   "metadata": {},
   "outputs": [
    {
     "name": "stdout",
     "output_type": "stream",
     "text": [
      "[[[1 1 1 1]\n",
      "  [1 1 1 1]\n",
      "  [1 1 1 1]]\n",
      "\n",
      " [[1 1 1 1]\n",
      "  [1 1 1 1]\n",
      "  [1 1 1 1]]]\n",
      "type : <class 'numpy.ndarray'>\n",
      "shape : (2, 3, 4)\n",
      "dimension : 3\n",
      "dtype : float32\n",
      "Array Data : \n",
      " [[[1. 1. 1. 1.]\n",
      "  [1. 1. 1. 1.]\n",
      "  [1. 1. 1. 1.]]\n",
      "\n",
      " [[1. 1. 1. 1.]\n",
      "  [1. 1. 1. 1.]\n",
      "  [1. 1. 1. 1.]]]\n",
      "\n"
     ]
    }
   ],
   "source": [
    "o = np.ones((2, 3, 4), dtype='i')\n",
    "print(o)\n",
    "\n",
    "o_like = np.ones_like(o, dtype='f')\n",
    "arrinfo(o_like)"
   ]
  },
  {
   "cell_type": "code",
   "execution_count": 157,
   "metadata": {},
   "outputs": [
    {
     "name": "stdout",
     "output_type": "stream",
     "text": [
      "type : <class 'numpy.ndarray'>\n",
      "shape : (4, 3)\n",
      "dimension : 2\n",
      "dtype : float64\n",
      "Array Data : \n",
      " [[0.0078125 0.0078125 0.0078125]\n",
      " [0.0078125 0.0078125 0.0078125]\n",
      " [0.0078125 0.0078125 0.0078125]\n",
      " [0.0078125 0.0078125 0.0078125]]\n",
      "\n"
     ]
    }
   ],
   "source": [
    "e = np.empty((4, 3))\n",
    "arrinfo(e)"
   ]
  },
  {
   "cell_type": "code",
   "execution_count": 160,
   "metadata": {},
   "outputs": [
    {
     "name": "stdout",
     "output_type": "stream",
     "text": [
      "type : <class 'numpy.ndarray'>\n",
      "shape : (10,)\n",
      "dimension : 1\n",
      "dtype : int32\n",
      "Array Data : \n",
      " [0 1 2 3 4 5 6 7 8 9]\n",
      "\n"
     ]
    }
   ],
   "source": [
    "a = np.arange(10) # 0 ... n-1\n",
    "arrinfo(a)"
   ]
  },
  {
   "cell_type": "code",
   "execution_count": 163,
   "metadata": {},
   "outputs": [
    {
     "name": "stdout",
     "output_type": "stream",
     "text": [
      "type : <class 'numpy.ndarray'>\n",
      "shape : (9,)\n",
      "dimension : 1\n",
      "dtype : int32\n",
      "Array Data : \n",
      " [ 3  5  7  9 11 13 15 17 19]\n",
      "\n"
     ]
    }
   ],
   "source": [
    "a = np.arange(3, 21, 2)\n",
    "arrinfo(a)"
   ]
  },
  {
   "cell_type": "markdown",
   "metadata": {},
   "source": [
    "- 전치행렬(Transpose matrix)이란?\n",
    "\n",
    "행렬에서 행과 열을 전치시킨 행렬을 뜻한다.\n",
    "\n",
    "- [행렬].T\n",
    "- transpose operation\n"
   ]
  },
  {
   "cell_type": "code",
   "execution_count": 168,
   "metadata": {},
   "outputs": [
    {
     "name": "stdout",
     "output_type": "stream",
     "text": [
      "type : <class 'numpy.ndarray'>\n",
      "shape : (2, 3)\n",
      "dimension : 2\n",
      "dtype : int32\n",
      "Array Data : \n",
      " [[1 2 3]\n",
      " [4 5 6]]\n",
      "\n",
      "type : <class 'numpy.ndarray'>\n",
      "shape : (3, 2)\n",
      "dimension : 2\n",
      "dtype : int32\n",
      "Array Data : \n",
      " [[1 4]\n",
      " [2 5]\n",
      " [3 6]]\n",
      "\n"
     ]
    }
   ],
   "source": [
    "arr = np.array([ [1, 2, 3], [4, 5, 6] ])\n",
    "arrinfo(arr)\n",
    "arrinfo(arr.T)"
   ]
  },
  {
   "cell_type": "code",
   "execution_count": 171,
   "metadata": {},
   "outputs": [
    {
     "name": "stdout",
     "output_type": "stream",
     "text": [
      "type : <class 'numpy.ndarray'>\n",
      "shape : (10,)\n",
      "dimension : 1\n",
      "dtype : int32\n",
      "Array Data : \n",
      " [0 1 2 3 4 5 6 7 8 9]\n",
      "\n",
      "type : <class 'numpy.ndarray'>\n",
      "shape : (10,)\n",
      "dimension : 1\n",
      "dtype : int32\n",
      "Array Data : \n",
      " [0 1 2 3 4 5 6 7 8 9]\n",
      "\n"
     ]
    }
   ],
   "source": [
    "# Vector에 transpose가 가능한가요?\n",
    "vec = np.arange(10)\n",
    "arrinfo(vec)\n",
    "arrinfo(vec.T)"
   ]
  },
  {
   "cell_type": "code",
   "execution_count": 175,
   "metadata": {},
   "outputs": [
    {
     "name": "stdout",
     "output_type": "stream",
     "text": [
      "[[0 1 2 3 4 5 6 7 8 9]]\n",
      "[[0]\n",
      " [1]\n",
      " [2]\n",
      " [3]\n",
      " [4]\n",
      " [5]\n",
      " [6]\n",
      " [7]\n",
      " [8]\n",
      " [9]]\n"
     ]
    }
   ],
   "source": [
    "vec_reshape = vec.reshape(1, 10)\n",
    "print(vec_reshape)\n",
    "print(vec_reshape.T)"
   ]
  },
  {
   "cell_type": "markdown",
   "metadata": {},
   "source": [
    "- 배열의 원소를 순차적으로 access하고자 한다면?\n",
    "- 방법 1 : for (Vector, Matrix)\n",
    "- 방법 2 : iterator (internext(), finished 속성을 이용해서 ndarray 모든 요소를 순차적으로 접근할 수 있다.)\n",
    "\n",
    "\n",
    "\n",
    "> 방법 2 의 경우가 iterator로 연산속도가 빠르다고 해요!\n",
    "\n",
    "\n",
    "\n",
    "\n"
   ]
  },
  {
   "cell_type": "code",
   "execution_count": 183,
   "metadata": {
    "scrolled": false
   },
   "outputs": [
    {
     "name": "stdout",
     "output_type": "stream",
     "text": [
      "type : <class 'numpy.ndarray'>\n",
      "shape : (5,)\n",
      "dimension : 1\n",
      "dtype : int32\n",
      "Array Data : \n",
      " [1 2 3 4 5]\n",
      "\n",
      "1 2 3 4 5 "
     ]
    }
   ],
   "source": [
    "arr = np.array([1, 2, 3, 4, 5])\n",
    "arrinfo(arr)\n",
    "for temp in arr :\n",
    "    print(temp, end=' ')"
   ]
  },
  {
   "cell_type": "code",
   "execution_count": 184,
   "metadata": {},
   "outputs": [
    {
     "name": "stdout",
     "output_type": "stream",
     "text": [
      "1 2 3 4 5 "
     ]
    }
   ],
   "source": [
    "for idx in range(len(arr)) :\n",
    "    print(arr[idx], end=' ')"
   ]
  },
  {
   "cell_type": "code",
   "execution_count": 191,
   "metadata": {},
   "outputs": [
    {
     "name": "stdout",
     "output_type": "stream",
     "text": [
      "1 2 3 4 5 "
     ]
    }
   ],
   "source": [
    "# iterater 객체 사용하기\n",
    "# 일반적인 for loop보다 속도가 빠르기때문에 사용한다.\n",
    "\n",
    "ite = np.nditer(arr, flags=['c_index']) # iterater 객체로 만들어주는 함수 np.nditer()\n",
    "while not ite.finished :\n",
    "    print(arr[ite.index], end=' ')\n",
    "    ite.iternext()"
   ]
  },
  {
   "cell_type": "code",
   "execution_count": 201,
   "metadata": {},
   "outputs": [
    {
     "name": "stdout",
     "output_type": "stream",
     "text": [
      "type : <class 'numpy.ndarray'>\n",
      "shape : (2, 3)\n",
      "dimension : 2\n",
      "dtype : int32\n",
      "Array Data : \n",
      " [[1 2 3]\n",
      " [4 5 6]]\n",
      "\n",
      "1 2 3 4 5 6 \n",
      "1 2 3 4 5 6 "
     ]
    }
   ],
   "source": [
    "import time\n",
    "\n",
    "# 2차원 배열에 대한 순차적 접근 코드 작성\n",
    "\n",
    "\n",
    "arr = np.array([ [1, 2, 3], [4, 5, 6] ])\n",
    "arrinfo(arr)\n",
    "\n",
    "\n",
    "# 1\n",
    "for vector in arr :\n",
    "    for element in vector :\n",
    "        print(element, end=' ')\n",
    "\n",
    "print()\n",
    "\n",
    "# 2 iterater 사용\n",
    "ite = np.nditer(arr, flags=['multi_index'])\n",
    "while not ite.finished :\n",
    "    print(arr[ite.multi_index], end=' ')\n",
    "    ite.iternext()"
   ]
  }
 ],
 "metadata": {
  "kernelspec": {
   "display_name": "Python 3",
   "language": "python",
   "name": "python3"
  },
  "language_info": {
   "codemirror_mode": {
    "name": "ipython",
    "version": 3
   },
   "file_extension": ".py",
   "mimetype": "text/x-python",
   "name": "python",
   "nbconvert_exporter": "python",
   "pygments_lexer": "ipython3",
   "version": "3.7.6"
  }
 },
 "nbformat": 4,
 "nbformat_minor": 4
}
