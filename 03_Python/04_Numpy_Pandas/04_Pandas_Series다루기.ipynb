{
 "cells": [
  {
   "cell_type": "markdown",
   "metadata": {},
   "source": [
    "###### 2020-10-13 화요일\n",
    "\n",
    "\n",
    "# Pandas\n",
    "- 대부분의 데이터는 시계열(Series)이거나 표(table) 형태로 정의해야한다.\n",
    "- Series 클래스와 DataFrame 클래스를 제공한다.\n",
    "\n",
    "\n",
    "\n",
    "\n",
    "\n",
    "##### 목차\n",
    "\n",
    "##### 1. Series 클래스\n",
    "\n",
    "##### 2. Series indexing\n",
    "\n",
    "##### 3. Series 실습 (+ datetime 패키지)"
   ]
  },
  {
   "cell_type": "code",
   "execution_count": 2,
   "metadata": {},
   "outputs": [],
   "source": [
    "# 데이터 분석을 위한 기본이자 필수 패키지들\n",
    "\n",
    "import pandas as pd\n",
    "import numpy as np\n",
    "import matplotlib.pyplot as plt"
   ]
  },
  {
   "cell_type": "markdown",
   "metadata": {},
   "source": [
    "### 1. Series 클래스\n",
    "- Numpy의 1차원 배열과 비슷하지만, 각 데이터의 의미를 표시하는 인덱스를 숫자가 아닌 label로 표시할 수 있다.\n",
    "- Series = index + value"
   ]
  },
  {
   "cell_type": "code",
   "execution_count": 8,
   "metadata": {},
   "outputs": [
    {
     "name": "stdout",
     "output_type": "stream",
     "text": [
      "[1 2 3 4 'Hello']\n",
      "object\n"
     ]
    }
   ],
   "source": [
    "# Series와 Numpy array 비교\n",
    "arr = np.array([1, 2, 3, 4, 'Hello'], dtype=np.object)  # dtype=np.object를 적용해주면 원소의 타입이 달라도 된다.\n",
    "print(arr)\n",
    "print(arr.dtype)"
   ]
  },
  {
   "cell_type": "code",
   "execution_count": 14,
   "metadata": {},
   "outputs": [
    {
     "name": "stdout",
     "output_type": "stream",
     "text": [
      "0    1.0\n",
      "1    2.0\n",
      "2    3.0\n",
      "3    4.0\n",
      "dtype: float64\n",
      "[1. 2. 3. 4.]\n",
      "<class 'numpy.ndarray'>\n",
      "RangeIndex(start=0, stop=4, step=1)\n",
      "<class 'pandas.core.indexes.range.RangeIndex'>\n"
     ]
    }
   ],
   "source": [
    "s = pd.Series([1, 2, 3, 4], dtype=np.float64)\n",
    "print(s)\n",
    "\n",
    "print(s.values) # Series에서 원소값만 np.array 형태로 가져올수 있는 방법\n",
    "print(type(s.values))\n",
    "print(s.index)\n",
    "print(type(s.index))"
   ]
  },
  {
   "cell_type": "markdown",
   "metadata": {},
   "source": [
    "시리즈 타입의 데이터 정보를 출력해 주는 함수"
   ]
  },
  {
   "cell_type": "code",
   "execution_count": 99,
   "metadata": {},
   "outputs": [],
   "source": [
    "def seriesinfo(s):\n",
    "    print('value :', s.values)\n",
    "    print('value type :', type(s.values))\n",
    "    print('index :', s.index)\n",
    "    print('index type :', type(s.index))\n",
    "    print('index + value :\\n', s)"
   ]
  },
  {
   "cell_type": "markdown",
   "metadata": {},
   "source": [
    "Series 인덱스의 라벨은 문자열 뿐만 아니라 날짜, 시간, 정수 등이 가능하다."
   ]
  },
  {
   "cell_type": "code",
   "execution_count": 100,
   "metadata": {},
   "outputs": [
    {
     "name": "stdout",
     "output_type": "stream",
     "text": [
      "value : [ 34436 356345  53246  12346]\n",
      "value type : <class 'numpy.ndarray'>\n",
      "index : Index(['서울', '부산', '대전', '대구'], dtype='object')\n",
      "index type : <class 'pandas.core.indexes.base.Index'>\n",
      "index + value :\n",
      " 서울     34436\n",
      "부산    356345\n",
      "대전     53246\n",
      "대구     12346\n",
      "dtype: int64\n"
     ]
    }
   ],
   "source": [
    "s = pd.Series([34436, 356345, 53246, 12346],\n",
    "              dtype=np.int64,\n",
    "              index=['서울', '부산', '대전', '대구'])\n",
    "seriesinfo(s)"
   ]
  },
  {
   "cell_type": "markdown",
   "metadata": {},
   "source": [
    "Series의 index 이름을 지정할 수 있다."
   ]
  },
  {
   "cell_type": "code",
   "execution_count": 101,
   "metadata": {
    "scrolled": true
   },
   "outputs": [
    {
     "name": "stdout",
     "output_type": "stream",
     "text": [
      "지역별\n",
      "서울     34436\n",
      "부산    356345\n",
      "대전     53246\n",
      "대구     12346\n",
      "dtype: int64\n",
      "지역별\n",
      "서울     344.36\n",
      "부산    3563.45\n",
      "대전     532.46\n",
      "대구     123.46\n",
      "dtype: float64\n"
     ]
    }
   ],
   "source": [
    "s.index.name = '지역별'\n",
    "print(s)\n",
    "print(s / 100)"
   ]
  },
  {
   "cell_type": "markdown",
   "metadata": {},
   "source": [
    "### 2. Series indexing\n",
    "\n",
    "- np.array와 같이 index의 번호를 이용해 indexing에 접근할 수 도있지만, index에 부여한 label을 이용하여 indexing을 진행할 수 있다."
   ]
  },
  {
   "cell_type": "code",
   "execution_count": 34,
   "metadata": {},
   "outputs": [
    {
     "name": "stdout",
     "output_type": "stream",
     "text": [
      "34436\n",
      "34436\n",
      "\n",
      "12346\n",
      "12346\n",
      "\n",
      "지역별\n",
      "서울     34436\n",
      "부산    356345\n",
      "dtype: int64\n",
      "지역별\n",
      "서울     34436\n",
      "부산    356345\n",
      "dtype: int64\n",
      "지역별\n",
      "서울     34436\n",
      "부산    356345\n",
      "dtype: int64\n"
     ]
    }
   ],
   "source": [
    "# 서울의 값을 가져와라\n",
    "print(s['서울'])\n",
    "print(s[0])\n",
    "print()\n",
    "\n",
    "# 대구의 값을 가져와라\n",
    "print(s['대구'])\n",
    "print(s[3])\n",
    "print()\n",
    "\n",
    "# 서울과 부산의 값을 가져와라\n",
    "print(s[0:2])\n",
    "print(s['서울':'부산'])\n",
    "print(s[ ['서울', '부산'] ])"
   ]
  },
  {
   "cell_type": "markdown",
   "metadata": {},
   "source": [
    "또한, Series는 dictionary와 같이 취급할 수 있다!\n"
   ]
  },
  {
   "cell_type": "code",
   "execution_count": 40,
   "metadata": {
    "scrolled": true
   },
   "outputs": [
    {
     "name": "stdout",
     "output_type": "stream",
     "text": [
      "True\n",
      "False\n",
      "\n",
      "\n",
      "key : 서울, value : 34436\n",
      "key : 부산, value : 356345\n",
      "key : 대전, value : 53246\n",
      "key : 대구, value : 12346\n"
     ]
    }
   ],
   "source": [
    "s = pd.Series([34436, 356345, 53246, 12346],\n",
    "              dtype=np.int64,\n",
    "              index=['서울', '부산', '대전', '대구'])\n",
    "\n",
    "print('서울' in s)\n",
    "print('강원' in s)\n",
    "print()\n",
    "print()\n",
    "for key, items in s.items():\n",
    "    print('key : {}, value : {}' .format(key, items))"
   ]
  },
  {
   "cell_type": "code",
   "execution_count": 39,
   "metadata": {},
   "outputs": [
    {
     "name": "stdout",
     "output_type": "stream",
     "text": [
      "key : 서울, value : 34436\n",
      "key : 부산, value : 356345\n",
      "key : 대전, value : 53246\n",
      "key : 대구, value : 12346\n"
     ]
    }
   ],
   "source": [
    "for key, items in s.items():\n",
    "    print('key : {}, value : {}' .format(key, items))"
   ]
  },
  {
   "cell_type": "code",
   "execution_count": 55,
   "metadata": {},
   "outputs": [
    {
     "name": "stdout",
     "output_type": "stream",
     "text": [
      "value : [1 '5' -5 10]\n",
      "value type : <class 'numpy.ndarray'>\n",
      "index : Index(['c', 'b', 'a', 'k'], dtype='object')\n",
      "index type : <class 'pandas.core.indexes.base.Index'>\n",
      "index + value :\n",
      " c     1\n",
      "b     5\n",
      "a    -5\n",
      "k    10\n",
      "dtype: object\n"
     ]
    }
   ],
   "source": [
    "s2 = pd.Series({'c' : 1,\n",
    "               'b' : '5',\n",
    "               'a' : -5,\n",
    "               'k' : 10})\n",
    "\n",
    "seriesinfo(s2)"
   ]
  },
  {
   "cell_type": "code",
   "execution_count": 64,
   "metadata": {
    "scrolled": true
   },
   "outputs": [
    {
     "name": "stdout",
     "output_type": "stream",
     "text": [
      "fancy [0, 2] indexing :\n",
      "c     1\n",
      "a    -5\n",
      "dtype: object\n",
      "\n",
      "k    10.0\n",
      "dtype: float64\n"
     ]
    }
   ],
   "source": [
    "# Fancy indexing & Boolean indexing\n",
    "print('fancy [0, 2] indexing :\\n{}' .format( s2[[0, 2]] ) )\n",
    "print()\n",
    "\n",
    "# boolean indexing 2의 배수인 것\n",
    "s3 = s2.astype('float')\n",
    "print(s3[ s3%2==0 ])\n"
   ]
  },
  {
   "cell_type": "markdown",
   "metadata": {},
   "source": [
    "Series에 dictionary 형태로 데이터를 투입하였다 하더라도 dictionary의 key값을 기준으로 반환하는 것이 아니라\n",
    "\n",
    "index에 부여한 label 값을 기준으로 값을 반환한다.\n",
    "\n",
    "만약 index에만 있고 dictionary에 존재하지 않는 label은 'NaN'이다"
   ]
  },
  {
   "cell_type": "code",
   "execution_count": 67,
   "metadata": {},
   "outputs": [
    {
     "name": "stdout",
     "output_type": "stream",
     "text": [
      "value : [   nan 34436. 12346. 53246.]\n",
      "value type : <class 'numpy.ndarray'>\n",
      "index : Index(['뉴욕', '서울', '대전', '인천'], dtype='object')\n",
      "index type : <class 'pandas.core.indexes.base.Index'>\n",
      "index + value :\n",
      " 뉴욕        NaN\n",
      "서울    34436.0\n",
      "대전    12346.0\n",
      "인천    53246.0\n",
      "dtype: float64\n"
     ]
    }
   ],
   "source": [
    "s3 = pd.Series({'서울' : 34436, \n",
    "                '부산' : 356345, \n",
    "                '인천' : 53246, \n",
    "                '대전' : 12346},\n",
    "              dtype=np.int64,\n",
    "              index=['뉴욕', '서울', '대전', '인천'])\n",
    "seriesinfo(s3)"
   ]
  },
  {
   "cell_type": "markdown",
   "metadata": {},
   "source": [
    "시리즈는 만들때 index이름을 지정해 줄 수 있는데,\n",
    "이 이름을 기반으로 시리즈의 연산을 수행한다.\n",
    "그러므로 index의 이름이 다르다면 연산을 수행할 수 없다."
   ]
  },
  {
   "cell_type": "code",
   "execution_count": 68,
   "metadata": {
    "scrolled": true
   },
   "outputs": [
    {
     "name": "stdout",
     "output_type": "stream",
     "text": [
      "a     NaN\n",
      "b     NaN\n",
      "c     NaN\n",
      "k     NaN\n",
      "대구    NaN\n",
      "대전    NaN\n",
      "부산    NaN\n",
      "서울    NaN\n",
      "dtype: object\n"
     ]
    }
   ],
   "source": [
    "diff_s = s - s2\n",
    "print(diff_s)"
   ]
  },
  {
   "cell_type": "markdown",
   "metadata": {},
   "source": [
    "### 3. Series 실습\n",
    "\n",
    "\n",
    "###### A공장의 2019-01-01 부터 10일 간의 생산량을 Series에 저장\n",
    "###### 생산량은 평균이 50이고, 편차가 5인 정규분포 생성 (각 원소는 정수값만을 가지게한다.)\n",
    "\n",
    "\n",
    "###### B공장의 2019-01-01부터 10일 간의 생산량을 Series에 저장\n",
    "###### 생산량은 평균이 10이고 편차가 8인 정규분포 생성(정수)\n",
    "\n",
    "\n",
    "###### 날짜별로 모든 공장의 생산량 합계를 구한다면?"
   ]
  },
  {
   "cell_type": "code",
   "execution_count": 72,
   "metadata": {},
   "outputs": [],
   "source": [
    "from datetime import date, datetime, timedelta\n",
    "from dateutil.parser import parse"
   ]
  },
  {
   "cell_type": "markdown",
   "metadata": {},
   "source": [
    "`날짜자료형` + timedelta(1) : 날짜에 1일을 더한다."
   ]
  },
  {
   "cell_type": "code",
   "execution_count": 96,
   "metadata": {},
   "outputs": [],
   "source": [
    "start_day = datetime(2019, 1, 1) # 2019년 1월 1일의 datetime 자료형을 생성한다.\n",
    "days = [ start_day + timedelta(day) for day in range(0, 10)]  # timedelta()를 이용해 10일간의 날짜를 만든다.\n",
    "\n",
    "int_list_A = [ int(element) for element in np.random.normal(50, 5, (10, )) ]\n",
    "facA = pd.Series(int_list_A, index=days)\n",
    "facA.index.name = '날짜'\n",
    "\n",
    "int_list_B = [ int(element) for element in np.random.normal(10, 8, (10, )) ]\n",
    "facB = pd.Series(int_list_B, index=days)\n",
    "facB.index.name = '날짜'"
   ]
  },
  {
   "cell_type": "code",
   "execution_count": 97,
   "metadata": {},
   "outputs": [
    {
     "name": "stdout",
     "output_type": "stream",
     "text": [
      "A 공장 :\n",
      " 날짜\n",
      "2019-01-01    56\n",
      "2019-01-02    51\n",
      "2019-01-03    57\n",
      "2019-01-04    47\n",
      "2019-01-05    48\n",
      "2019-01-06    56\n",
      "2019-01-07    41\n",
      "2019-01-08    49\n",
      "2019-01-09    54\n",
      "2019-01-10    53\n",
      "dtype: int64\n",
      "\n",
      "B 공장 :\n",
      " 날짜\n",
      "2019-01-01    10\n",
      "2019-01-02    -6\n",
      "2019-01-03    20\n",
      "2019-01-04     5\n",
      "2019-01-05     6\n",
      "2019-01-06     1\n",
      "2019-01-07     8\n",
      "2019-01-08     3\n",
      "2019-01-09     7\n",
      "2019-01-10    -1\n",
      "dtype: int64\n"
     ]
    }
   ],
   "source": [
    "print('A 공장 :\\n', facA)\n",
    "print()\n",
    "print('B 공장 :\\n', facB)"
   ]
  },
  {
   "cell_type": "code",
   "execution_count": 98,
   "metadata": {},
   "outputs": [
    {
     "name": "stdout",
     "output_type": "stream",
     "text": [
      "날짜\n",
      "2019-01-01    66\n",
      "2019-01-02    45\n",
      "2019-01-03    77\n",
      "2019-01-04    52\n",
      "2019-01-05    54\n",
      "2019-01-06    57\n",
      "2019-01-07    49\n",
      "2019-01-08    52\n",
      "2019-01-09    61\n",
      "2019-01-10    52\n",
      "dtype: int64\n"
     ]
    }
   ],
   "source": [
    "print(facA + facB)"
   ]
  }
 ],
 "metadata": {
  "kernelspec": {
   "display_name": "Python 3",
   "language": "python",
   "name": "python3"
  },
  "language_info": {
   "codemirror_mode": {
    "name": "ipython",
    "version": 3
   },
   "file_extension": ".py",
   "mimetype": "text/x-python",
   "name": "python",
   "nbconvert_exporter": "python",
   "pygments_lexer": "ipython3",
   "version": "3.7.6"
  }
 },
 "nbformat": 4,
 "nbformat_minor": 4
}
