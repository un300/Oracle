{
 "cells": [
  {
   "cell_type": "markdown",
   "metadata": {},
   "source": [
    "# np.array 다루기\n",
    "\n",
    "- Numpy의 배열을 다루는 방법을 배워보자\n",
    "\n",
    "\n",
    "##### 목차\n",
    "\n",
    "##### 1. `넘파이배열` 구조변경\n",
    "\n",
    "##### 2. 배열 연결\n",
    "\n",
    "##### 3. np.delete()함수\n",
    "\n",
    "##### 4. 배열의 연산\n",
    "\n",
    "##### 5. 통계함수\n",
    "\n",
    "##### 6. 정렬"
   ]
  },
  {
   "cell_type": "markdown",
   "metadata": {},
   "source": [
    "Numpy 패키지를 불러온다"
   ]
  },
  {
   "cell_type": "code",
   "execution_count": 2,
   "metadata": {},
   "outputs": [],
   "source": [
    "import numpy as np"
   ]
  },
  {
   "cell_type": "markdown",
   "metadata": {},
   "source": [
    "np.array의 자료형을 쉽게 확인하는 함수를 만들어준다."
   ]
  },
  {
   "cell_type": "code",
   "execution_count": 3,
   "metadata": {},
   "outputs": [],
   "source": [
    "def arrinfo(arr):\n",
    "    print('type : {}' .format(type(arr)))\n",
    "    print('shape : {}' .format(arr.shape))\n",
    "    print('dimension : {}' .format(arr.ndim))\n",
    "    print('dtype : {}' .format(arr.dtype))\n",
    "    print('Array Data : \\n', arr)\n",
    "    print()"
   ]
  },
  {
   "cell_type": "code",
   "execution_count": 5,
   "metadata": {},
   "outputs": [
    {
     "name": "stdout",
     "output_type": "stream",
     "text": [
      "type : <class 'numpy.ndarray'>\n",
      "shape : (12,)\n",
      "dimension : 1\n",
      "dtype : int32\n",
      "Array Data : \n",
      " [ 0  1  2  3  4  5  6  7  8  9 10 11]\n",
      "\n"
     ]
    }
   ],
   "source": [
    "arr = np.arange(0, 12, 1)\n",
    "arrinfo(arr)"
   ]
  },
  {
   "cell_type": "markdown",
   "metadata": {},
   "source": [
    "### 1. `넘파이배열` 구조변경\n",
    "\n",
    "\n",
    "\n",
    "##### `넘파이배열`.reshape(행, 열)\n",
    "\n",
    " - 행과 열을 지정해주어 넘파이배열의 구조를 바꾸어준다."
   ]
  },
  {
   "cell_type": "code",
   "execution_count": 10,
   "metadata": {},
   "outputs": [
    {
     "name": "stdout",
     "output_type": "stream",
     "text": [
      "type : <class 'numpy.ndarray'>\n",
      "shape : (4, 3)\n",
      "dimension : 2\n",
      "dtype : int32\n",
      "Array Data : \n",
      " [[ 0  1  2]\n",
      " [ 3  4  5]\n",
      " [ 6  7  8]\n",
      " [ 9 10 11]]\n",
      "\n",
      "\n",
      "type : <class 'numpy.ndarray'>\n",
      "shape : (4, 3)\n",
      "dimension : 2\n",
      "dtype : int32\n",
      "Array Data : \n",
      " [[ 0  1  2]\n",
      " [ 3  4  5]\n",
      " [ 6  7  8]\n",
      " [ 9 10 11]]\n",
      "\n",
      "type : <class 'numpy.ndarray'>\n",
      "shape : (2, 2, 3)\n",
      "dimension : 3\n",
      "dtype : int32\n",
      "Array Data : \n",
      " [[[ 0  1  2]\n",
      "  [ 3  4  5]]\n",
      "\n",
      " [[ 6  7  8]\n",
      "  [ 9 10 11]]]\n",
      "\n"
     ]
    }
   ],
   "source": [
    "arr1 = arr.reshape(4, 3)\n",
    "arrinfo(arr1)\n",
    "print()\n",
    "\n",
    "\n",
    "# .reshape(a, b)에서 a가 정해지면 b는 고려하지 않아도 된다\n",
    "arr2 = arr.reshape(4, -1)\n",
    "arrinfo(arr2)\n",
    "\n",
    "\n",
    "arr3 = arr.reshape(2, 2, -1)\n",
    "arrinfo(arr3)"
   ]
  },
  {
   "cell_type": "markdown",
   "metadata": {},
   "source": [
    "##### 어떤 형태의 배열이건 무조건 1차원 배열로 변경하고 싶다면\n",
    " 다음 함수를 사용하라\n",
    "- `넘파이배열`.flatten()\n",
    "- `넘파이배열`.ravel()"
   ]
  },
  {
   "cell_type": "code",
   "execution_count": 18,
   "metadata": {},
   "outputs": [
    {
     "name": "stdout",
     "output_type": "stream",
     "text": [
      "type : <class 'numpy.ndarray'>\n",
      "shape : (5,)\n",
      "dimension : 1\n",
      "dtype : int32\n",
      "Array Data : \n",
      " [0 1 2 3 4]\n",
      "\n",
      "type : <class 'numpy.ndarray'>\n",
      "shape : (1, 5)\n",
      "dimension : 2\n",
      "dtype : int32\n",
      "Array Data : \n",
      " [[0 1 2 3 4]]\n",
      "\n",
      "type : <class 'numpy.ndarray'>\n",
      "shape : (5, 1)\n",
      "dimension : 2\n",
      "dtype : int32\n",
      "Array Data : \n",
      " [[0]\n",
      " [1]\n",
      " [2]\n",
      " [3]\n",
      " [4]]\n",
      "\n",
      "[0 1 2 3 4]\n",
      "[0 1 2 3 4]\n"
     ]
    }
   ],
   "source": [
    "arr = np.arange(5)\n",
    "arrinfo(arr)\n",
    "\n",
    "arr1 = arr.reshape(1, 5)\n",
    "arrinfo(arr1)\n",
    "\n",
    "arr2 = arr.reshape(5, 1)\n",
    "arrinfo(arr2)\n",
    "\n",
    "print(arr.flatten())\n",
    "print(arr.ravel())\n"
   ]
  },
  {
   "cell_type": "markdown",
   "metadata": {},
   "source": [
    "- `넘파이배열`.copy() : 원본의 배열을 그대로 두고 새로운 변수에 배열을 할당하는 방법"
   ]
  },
  {
   "cell_type": "code",
   "execution_count": 19,
   "metadata": {},
   "outputs": [
    {
     "name": "stdout",
     "output_type": "stream",
     "text": [
      "type : <class 'numpy.ndarray'>\n",
      "shape : (1, 5)\n",
      "dimension : 2\n",
      "dtype : int32\n",
      "Array Data : \n",
      " [[0 1 2 3 4]]\n",
      "\n"
     ]
    }
   ],
   "source": [
    "arr = arr.reshape(1, 5).copy()\n",
    "arrinfo(arr)"
   ]
  },
  {
   "cell_type": "markdown",
   "metadata": {},
   "source": [
    "### 2. 배열 연결\n",
    " - np.array를 사용하면서 수직으로 혹은 수평으로 배열을 합해야 하는 경우가 있다. 그런 경우 아래의 함수를 사용하라"
   ]
  },
  {
   "cell_type": "markdown",
   "metadata": {},
   "source": [
    "- concatenate\n",
    "- hstack\n",
    "- vstack\n",
    "- dstack\n",
    "- stack\n",
    "- r_\n",
    "- c_\n",
    "- tile"
   ]
  },
  {
   "cell_type": "markdown",
   "metadata": {},
   "source": [
    " - np.hstack() : 두 배열의 행의 수가 같을때 수평 방향으로 배열을 붙일 수 있는 방법\n",
    " - np.vstack() : 두 배열의 열의 수가 같을때 수직 방향으로 배열을 붙일 수 있는 방법"
   ]
  },
  {
   "cell_type": "code",
   "execution_count": 31,
   "metadata": {},
   "outputs": [
    {
     "name": "stdout",
     "output_type": "stream",
     "text": [
      "type : <class 'numpy.ndarray'>\n",
      "shape : (2, 3)\n",
      "dimension : 2\n",
      "dtype : float64\n",
      "Array Data : \n",
      " [[1. 1. 1.]\n",
      " [1. 1. 1.]]\n",
      "\n",
      "type : <class 'numpy.ndarray'>\n",
      "shape : (2, 3)\n",
      "dimension : 2\n",
      "dtype : float64\n",
      "Array Data : \n",
      " [[0. 0. 0.]\n",
      " [0. 0. 0.]]\n",
      "\n"
     ]
    },
    {
     "data": {
      "text/plain": [
       "array([[1., 1., 1.],\n",
       "       [1., 1., 1.],\n",
       "       [0., 0., 0.],\n",
       "       [0., 0., 0.]])"
      ]
     },
     "execution_count": 31,
     "metadata": {},
     "output_type": "execute_result"
    }
   ],
   "source": [
    "\n",
    "\n",
    "h_arr01 = np.ones((2, 3))\n",
    "arrinfo(h_arr01)\n",
    "\n",
    "h_arr02 = np.zeros((2, 3))\n",
    "arrinfo(h_arr02)\n",
    "\n",
    "# hstack\n",
    "np.hstack([h_arr01, h_arr02])\n",
    "\n",
    "# vstack\n",
    "np.vstack([h_arr01, h_arr02])"
   ]
  },
  {
   "cell_type": "markdown",
   "metadata": {},
   "source": [
    " - np.dstack() : "
   ]
  },
  {
   "cell_type": "code",
   "execution_count": 37,
   "metadata": {},
   "outputs": [
    {
     "name": "stdout",
     "output_type": "stream",
     "text": [
      "type : <class 'numpy.ndarray'>\n",
      "shape : (3, 4)\n",
      "dimension : 2\n",
      "dtype : float64\n",
      "Array Data : \n",
      " [[1. 1. 1. 1.]\n",
      " [1. 1. 1. 1.]\n",
      " [1. 1. 1. 1.]]\n",
      "\n",
      "type : <class 'numpy.ndarray'>\n",
      "shape : (3, 4)\n",
      "dimension : 2\n",
      "dtype : float64\n",
      "Array Data : \n",
      " [[0. 0. 0. 0.]\n",
      " [0. 0. 0. 0.]\n",
      " [0. 0. 0. 0.]]\n",
      "\n",
      "type : <class 'numpy.ndarray'>\n",
      "shape : (3, 4, 2)\n",
      "dimension : 3\n",
      "dtype : float64\n",
      "Array Data : \n",
      " [[[1. 0.]\n",
      "  [1. 0.]\n",
      "  [1. 0.]\n",
      "  [1. 0.]]\n",
      "\n",
      " [[1. 0.]\n",
      "  [1. 0.]\n",
      "  [1. 0.]\n",
      "  [1. 0.]]\n",
      "\n",
      " [[1. 0.]\n",
      "  [1. 0.]\n",
      "  [1. 0.]\n",
      "  [1. 0.]]]\n",
      "\n"
     ]
    },
    {
     "data": {
      "text/plain": [
       "(3, 4, 2)"
      ]
     },
     "execution_count": 37,
     "metadata": {},
     "output_type": "execute_result"
    }
   ],
   "source": [
    "# dstack() 함수\n",
    "\n",
    "h_arr01 = np.ones((3, 4))\n",
    "arrinfo(h_arr01)\n",
    "\n",
    "h_arr02 = np.zeros((3, 4))\n",
    "arrinfo(h_arr02)\n",
    "\n",
    "temp_arr = np.dstack([h_arr01, h_arr02])\n",
    "arrinfo(temp_arr)\n",
    "temp_arr.shape\n"
   ]
  },
  {
   "cell_type": "markdown",
   "metadata": {},
   "source": [
    " - np.stack() : axis=0 / axis=1 옵션을 통해 두 배열을 수직 또는 수평방향으로 붙인다."
   ]
  },
  {
   "cell_type": "code",
   "execution_count": 39,
   "metadata": {},
   "outputs": [
    {
     "name": "stdout",
     "output_type": "stream",
     "text": [
      "type : <class 'numpy.ndarray'>\n",
      "shape : (3, 4)\n",
      "dimension : 2\n",
      "dtype : float64\n",
      "Array Data : \n",
      " [[1. 1. 1. 1.]\n",
      " [1. 1. 1. 1.]\n",
      " [1. 1. 1. 1.]]\n",
      "\n",
      "type : <class 'numpy.ndarray'>\n",
      "shape : (3, 4)\n",
      "dimension : 2\n",
      "dtype : float64\n",
      "Array Data : \n",
      " [[0. 0. 0. 0.]\n",
      " [0. 0. 0. 0.]\n",
      " [0. 0. 0. 0.]]\n",
      "\n",
      "type : <class 'numpy.ndarray'>\n",
      "shape : (2, 3, 4)\n",
      "dimension : 3\n",
      "dtype : float64\n",
      "Array Data : \n",
      " [[[1. 1. 1. 1.]\n",
      "  [1. 1. 1. 1.]\n",
      "  [1. 1. 1. 1.]]\n",
      "\n",
      " [[0. 0. 0. 0.]\n",
      "  [0. 0. 0. 0.]\n",
      "  [0. 0. 0. 0.]]]\n",
      "\n"
     ]
    },
    {
     "data": {
      "text/plain": [
       "(2, 3, 4)"
      ]
     },
     "execution_count": 39,
     "metadata": {},
     "output_type": "execute_result"
    }
   ],
   "source": [
    "h_arr01 = np.ones((3, 4))\n",
    "arrinfo(h_arr01)\n",
    "\n",
    "h_arr02 = np.zeros((3, 4))\n",
    "arrinfo(h_arr02)\n",
    "\n",
    "temp_arr = np.stack([h_arr01, h_arr02])\n",
    "arrinfo(temp_arr)\n",
    "temp_arr.shape"
   ]
  },
  {
   "cell_type": "markdown",
   "metadata": {},
   "source": [
    " - np.r_[배열1, 배열2] : `배열1`과 `배열2`를 수평 방향으로 붙인다\n",
    " - np.c_[배열1, 배열2] : `배열1`과 `배열2`를 수직 방향으로 붙인다"
   ]
  },
  {
   "cell_type": "code",
   "execution_count": 43,
   "metadata": {},
   "outputs": [
    {
     "name": "stdout",
     "output_type": "stream",
     "text": [
      "type : <class 'numpy.ndarray'>\n",
      "shape : (6,)\n",
      "dimension : 1\n",
      "dtype : int32\n",
      "Array Data : \n",
      " [1 2 3 4 5 6]\n",
      "\n",
      "type : <class 'numpy.ndarray'>\n",
      "shape : (3, 2)\n",
      "dimension : 2\n",
      "dtype : int32\n",
      "Array Data : \n",
      " [[1 4]\n",
      " [2 5]\n",
      " [3 6]]\n",
      "\n"
     ]
    }
   ],
   "source": [
    "arr1 = np.array([1, 2, 3])\n",
    "arr2 = np.array([4, 5 ,6])\n",
    "\n",
    "temp_arr_r = np.r_[arr1, arr2]\n",
    "arrinfo(temp_arr_r)\n",
    "\n",
    "temp_arr_c = np.c_[arr1, arr2]\n",
    "arrinfo(temp_arr_c)"
   ]
  },
  {
   "cell_type": "markdown",
   "metadata": {},
   "source": [
    " - np.tile : 배열을 반복해주는 함수, 이해가 어려우면 코드를 실행해보자"
   ]
  },
  {
   "cell_type": "code",
   "execution_count": 49,
   "metadata": {},
   "outputs": [
    {
     "name": "stdout",
     "output_type": "stream",
     "text": [
      "type : <class 'numpy.ndarray'>\n",
      "shape : (9, 4)\n",
      "dimension : 2\n",
      "dtype : int32\n",
      "Array Data : \n",
      " [[1 4 1 4]\n",
      " [2 5 2 5]\n",
      " [3 6 3 6]\n",
      " [1 4 1 4]\n",
      " [2 5 2 5]\n",
      " [3 6 3 6]\n",
      " [1 4 1 4]\n",
      " [2 5 2 5]\n",
      " [3 6 3 6]]\n",
      "\n"
     ]
    }
   ],
   "source": [
    "# np.tile : 배열을 반복해주는 함수, 이해가 어려우면 코드를 실행해보아요\n",
    "\n",
    "arr1 = np.array([1, 2, 3])\n",
    "arr2 = np.array([4, 5 ,6])\n",
    "\n",
    "temp_arr_c = np.c_[arr1, arr2]\n",
    "\n",
    "\n",
    "arrinfo(np.tile(temp_arr_c, (3, 2)))"
   ]
  },
  {
   "cell_type": "markdown",
   "metadata": {},
   "source": [
    "### 3. np.delete()함수\n",
    "- axis 기준 행과 열을 삭제할 수 있다.\n",
    "- axis를 지정하지 않으면 1차원 변환 삭제\n",
    "- 원본 배열에 변경하지 않고 새로운 배열 return\n",
    "\n",
    "- np.delete(arr, 1, axis=0) : arr배열의 인덱스가 1인 행을 제거한다\n",
    "- np.delete(arr, 1, axis=1) : arr배열의 인덱스가 1인 열을 제거한다"
   ]
  },
  {
   "cell_type": "code",
   "execution_count": 57,
   "metadata": {},
   "outputs": [
    {
     "name": "stdout",
     "output_type": "stream",
     "text": [
      "type : <class 'numpy.ndarray'>\n",
      "shape : (3, 4)\n",
      "dimension : 2\n",
      "dtype : int32\n",
      "Array Data : \n",
      " [[1 8 8 7]\n",
      " [1 5 0 3]\n",
      " [7 7 3 3]]\n",
      "\n",
      "type : <class 'numpy.ndarray'>\n",
      "shape : (2, 4)\n",
      "dimension : 2\n",
      "dtype : int32\n",
      "Array Data : \n",
      " [[1 8 8 7]\n",
      " [7 7 3 3]]\n",
      "\n",
      "type : <class 'numpy.ndarray'>\n",
      "shape : (3, 3)\n",
      "dimension : 2\n",
      "dtype : int32\n",
      "Array Data : \n",
      " [[1 8 7]\n",
      " [1 0 3]\n",
      " [7 3 3]]\n",
      "\n"
     ]
    }
   ],
   "source": [
    "arr = np.random.randint(0, 10, (3, 4))  # 난수생성\n",
    "arrinfo(arr)\n",
    "\n",
    "result = np.delete(arr, 1, axis=0)\n",
    "arrinfo(result)\n",
    "\n",
    "result = np.delete(arr, 1, axis=1)\n",
    "arrinfo(result)"
   ]
  },
  {
   "cell_type": "markdown",
   "metadata": {},
   "source": [
    "### 4. 배열의 연산\n",
    "- vector operation (명시적으로 반복문을 사용하지 않더라도 모든 원소에 대해서 더하기 빼기와 같은 연산이 가능하다.)"
   ]
  },
  {
   "cell_type": "code",
   "execution_count": 61,
   "metadata": {},
   "outputs": [
    {
     "name": "stdout",
     "output_type": "stream",
     "text": [
      "[    1     2     3 ...  9998  9999 10000]\n",
      "[10001 10002 10003 ... 19998 19999 20000]\n"
     ]
    }
   ],
   "source": [
    "x = np.arange(1, 10001)\n",
    "print(x)\n",
    "\n",
    "y = np.arange(10001, 20001)\n",
    "print(y)"
   ]
  },
  {
   "cell_type": "markdown",
   "metadata": {},
   "source": [
    " ###### for문을 사용한 연산과 사용하지 않은 연산의 비교"
   ]
  },
  {
   "cell_type": "code",
   "execution_count": 71,
   "metadata": {},
   "outputs": [
    {
     "name": "stdout",
     "output_type": "stream",
     "text": [
      "[0 0 0 ... 0 0 0]\n",
      "[10002 10004 10006 10008 10010 10012 10014 10016 10018 10020]\n",
      "Wall time: 9.01 ms\n"
     ]
    }
   ],
   "source": [
    "%%time\n",
    "# vector연산을 하지 않을때\n",
    "\n",
    "z = np.zeros_like(x)\n",
    "print(z)\n",
    "for i in range(10000):\n",
    "    z[i] = x[i] + y[i]\n",
    "    \n",
    "print(z[:10])"
   ]
  },
  {
   "cell_type": "code",
   "execution_count": 70,
   "metadata": {},
   "outputs": [
    {
     "name": "stdout",
     "output_type": "stream",
     "text": [
      "[10002 10004 10006 10008 10010 10012 10014 10016 10018 10020]\n",
      "Wall time: 1 ms\n"
     ]
    }
   ],
   "source": [
    "%%time\n",
    "# vector연산을 할때\n",
    "\n",
    "z = x + y\n",
    "print(z[:10])"
   ]
  },
  {
   "cell_type": "code",
   "execution_count": 75,
   "metadata": {},
   "outputs": [
    {
     "name": "stdout",
     "output_type": "stream",
     "text": [
      "[False  True False  True]\n",
      "[False  True  True  True]\n",
      "False\n",
      "True\n",
      "[10 20 30 40]\n"
     ]
    }
   ],
   "source": [
    "# 비교, 논리 연산도 가능하다.\n",
    "\n",
    "x = np.array([1, 2, 3, 4])\n",
    "y = np.array([4, 2, 2, 4])\n",
    "z = np.array([1, 2, 3, 4])\n",
    "\n",
    "print(x == y)\n",
    "print(x >= y)\n",
    "\n",
    "# 배열의 모든 원소가 같은지 다른지 판단하고 싶다면?\n",
    "print(np.all(x == y))\n",
    "print(np.all(x == z))\n",
    "\n",
    "# 스칼라연산\n",
    "print( x * 10 )"
   ]
  },
  {
   "cell_type": "markdown",
   "metadata": {},
   "source": [
    "##### broadcasting\n",
    "- 벡터 + 스칼라\n",
    "- 베열 + 벡터"
   ]
  },
  {
   "cell_type": "code",
   "execution_count": 76,
   "metadata": {},
   "outputs": [
    {
     "name": "stdout",
     "output_type": "stream",
     "text": [
      "type : <class 'numpy.ndarray'>\n",
      "shape : (3, 4)\n",
      "dimension : 2\n",
      "dtype : int32\n",
      "Array Data : \n",
      " [[ 0  1  2  3]\n",
      " [ 4  5  6  7]\n",
      " [ 8  9 10 11]]\n",
      "\n"
     ]
    }
   ],
   "source": [
    "x = np.arange(12).reshape(3, 4)\n",
    "arrinfo(x)"
   ]
  },
  {
   "cell_type": "code",
   "execution_count": 79,
   "metadata": {},
   "outputs": [
    {
     "name": "stdout",
     "output_type": "stream",
     "text": [
      "[[100 101 102 103]\n",
      " [104 105 106 107]\n",
      " [108 109 110 111]]\n"
     ]
    }
   ],
   "source": [
    "print(x + 100)"
   ]
  },
  {
   "cell_type": "code",
   "execution_count": 80,
   "metadata": {},
   "outputs": [
    {
     "name": "stdout",
     "output_type": "stream",
     "text": [
      "type : <class 'numpy.ndarray'>\n",
      "shape : (5, 3)\n",
      "dimension : 2\n",
      "dtype : int32\n",
      "Array Data : \n",
      " [[0 1 2]\n",
      " [1 2 3]\n",
      " [2 3 4]\n",
      " [3 4 5]\n",
      " [4 5 6]]\n",
      "\n"
     ]
    }
   ],
   "source": [
    "x = np.vstack([range(7)[i:i+3] for i in range(5)])\n",
    "arrinfo(x)"
   ]
  },
  {
   "cell_type": "markdown",
   "metadata": {},
   "source": [
    "### 5. 통계함수"
   ]
  },
  {
   "cell_type": "markdown",
   "metadata": {},
   "source": [
    "- 최대/최소 : min, max, argmin, argmax\n",
    "- 통계 : sum, mean, median, std, var"
   ]
  },
  {
   "cell_type": "code",
   "execution_count": 84,
   "metadata": {},
   "outputs": [
    {
     "data": {
      "text/plain": [
       "10"
      ]
     },
     "execution_count": 84,
     "metadata": {},
     "output_type": "execute_result"
    }
   ],
   "source": [
    "x = np.array([1, 2, 3, 4])\n",
    "np.sum(x)"
   ]
  },
  {
   "cell_type": "code",
   "execution_count": 90,
   "metadata": {},
   "outputs": [
    {
     "name": "stdout",
     "output_type": "stream",
     "text": [
      "1\n",
      "1\n",
      "4\n",
      "4\n",
      "2.5\n",
      "10\n"
     ]
    }
   ],
   "source": [
    "print(x.min())\n",
    "print(x[x.argmin()])\n",
    "print(x.max())\n",
    "print(x[x.argmax()])\n",
    "print(np.median(x))\n",
    "print(np.sum(x))"
   ]
  },
  {
   "cell_type": "code",
   "execution_count": 92,
   "metadata": {},
   "outputs": [
    {
     "name": "stdout",
     "output_type": "stream",
     "text": [
      "type : <class 'numpy.ndarray'>\n",
      "shape : (100, 100)\n",
      "dimension : 2\n",
      "dtype : int32\n",
      "Array Data : \n",
      " [[0 0 0 ... 0 0 0]\n",
      " [0 0 0 ... 0 0 0]\n",
      " [0 0 0 ... 0 0 0]\n",
      " ...\n",
      " [0 0 0 ... 0 0 0]\n",
      " [0 0 0 ... 0 0 0]\n",
      " [0 0 0 ... 0 0 0]]\n",
      "\n",
      "True\n"
     ]
    }
   ],
   "source": [
    "all_matrix = np.zeros((100, 100), dtype=np.int)\n",
    "arrinfo(all_matrix)\n",
    "\n",
    "print(np.any(all_matrix == all_matrix))"
   ]
  },
  {
   "cell_type": "code",
   "execution_count": 97,
   "metadata": {},
   "outputs": [
    {
     "name": "stdout",
     "output_type": "stream",
     "text": [
      "True\n"
     ]
    }
   ],
   "source": [
    "x_vector = np.array([1, 2, 3, 2])\n",
    "y_vector = np.array([2, 2, 3, 2])\n",
    "z_vector = np.array([6, 4, 4, 5])\n",
    "\n",
    "print( ( (x_vector <= y_vector)  & ( y_vector <= z_vector ) ).all()  )"
   ]
  },
  {
   "cell_type": "markdown",
   "metadata": {},
   "source": [
    "###### 2차원인 배열에 통계함수를 적용시켜보자\n",
    "- axis=0 열 연산\n",
    "- axis=1 행연산\n",
    "- axis를 생략한다면 0이 디폴트값"
   ]
  },
  {
   "cell_type": "code",
   "execution_count": 102,
   "metadata": {},
   "outputs": [
    {
     "name": "stdout",
     "output_type": "stream",
     "text": [
      "type : <class 'numpy.ndarray'>\n",
      "shape : (4, 5)\n",
      "dimension : 2\n",
      "dtype : int32\n",
      "Array Data : \n",
      " [[ 1  2  3  4  5]\n",
      " [ 6  7  8  9 10]\n",
      " [11 12 13 14 15]\n",
      " [16 17 18 19 20]]\n",
      "\n",
      "type : <class 'numpy.ndarray'>\n",
      "shape : (5,)\n",
      "dimension : 1\n",
      "dtype : int32\n",
      "Array Data : \n",
      " [34 38 42 46 50]\n",
      "\n",
      "type : <class 'numpy.ndarray'>\n",
      "shape : (4,)\n",
      "dimension : 1\n",
      "dtype : int32\n",
      "Array Data : \n",
      " [15 40 65 90]\n",
      "\n"
     ]
    }
   ],
   "source": [
    "x_matrix = np.arange(1, 21, 1).reshape(4, -1)\n",
    "arrinfo(x_matrix)\n",
    "\n",
    "arrinfo(x_matrix.sum(axis=0)) # 열의 합\n",
    "arrinfo(x_matrix.sum(axis=1)) # 행의 합"
   ]
  },
  {
   "cell_type": "code",
   "execution_count": 118,
   "metadata": {},
   "outputs": [
    {
     "name": "stdout",
     "output_type": "stream",
     "text": [
      "type : <class 'numpy.ndarray'>\n",
      "shape : (5, 6)\n",
      "dimension : 2\n",
      "dtype : int32\n",
      "Array Data : \n",
      " [[71413625  7498688  3508204 68912164 22499246 14741461]\n",
      " [29803595 23453794 99002950 50534730 57276302 56295134]\n",
      " [12851165 38489838  6957783 79956018 93252872 93596638]\n",
      " [41016431 84558998 92295321 34631020 98885657 96713003]\n",
      " [78640630 17099882 90099820 12475642 96106116 64762172]]\n",
      "\n",
      "1. 전체 최대값\n",
      "99002950\n",
      "\n",
      "2. 각행의 합\n",
      "[188573388 316366505 325104314 448100430 359184262]\n",
      "[188573388 316366505 325104314 448100430 359184262]\n",
      "\n",
      "3. 각 행의 최대값\n",
      "[71413625 99002950 93596638 98885657 96106116]\n",
      "[71413625 99002950 93596638 98885657 96106116]\n",
      "\n",
      "4. 각 열의 평균\n",
      "[46745089.2 34220240.  58372815.6 49301914.8 73604038.6 65221681.6]\n",
      "[46745089.2 34220240.  58372815.6 49301914.8 73604038.6 65221681.6]\n",
      "\n",
      "5. 각 열의 최대값\n",
      "[78640630 84558998 99002950 79956018 98885657 96713003]\n",
      "[78640630 84558998 99002950 79956018 98885657 96713003]\n",
      "\n"
     ]
    }
   ],
   "source": [
    "# 실습\n",
    "# 임의의 실수로 구성된 5행 6열 행렬을 만들어라\n",
    "temp_arr = np.random.randint(0, 100000000, [5, 6])\n",
    "arrinfo(temp_arr)\n",
    "\n",
    "# 1. 전체의 최대값\n",
    "print('1. 전체 최대값')\n",
    "print(np.max(temp_arr))\n",
    "print()\n",
    "\n",
    "# 2. 각 행의 합\n",
    "print('2. 각 행의 합')\n",
    "print(temp_arr.sum(axis=1))\n",
    "print(np.sum(temp_arr, axis=1))\n",
    "print()\n",
    "\n",
    "# 3. 각 행의 최대값\n",
    "print('3. 각 행의 최대값')\n",
    "print(temp_arr.max(axis=1))\n",
    "print(np.max(temp_arr, axis=1))\n",
    "print()\n",
    "\n",
    "# 4. 각 열의 평균\n",
    "print('4. 각 열의 평균')\n",
    "print(temp_arr.mean(axis=0))\n",
    "print(np.mean(temp_arr, axis=0))\n",
    "print()\n",
    "\n",
    "# 5 .각 열의 최대값\n",
    "print('5. 각 열의 최대값')\n",
    "print(temp_arr.max(axis=0))\n",
    "print(np.max(temp_arr, axis=0))\n",
    "print()"
   ]
  },
  {
   "cell_type": "markdown",
   "metadata": {},
   "source": [
    "### 6. 정렬\n",
    "- np.sort()\n",
    "- axis=0 : 행을 정렬\n",
    "- axis=1 : 열을 정렬"
   ]
  },
  {
   "cell_type": "code",
   "execution_count": 131,
   "metadata": {},
   "outputs": [
    {
     "name": "stdout",
     "output_type": "stream",
     "text": [
      "[3 4 5 7]\n",
      "**************************************************\n",
      "[4 3 5 7]\n"
     ]
    }
   ],
   "source": [
    "x = np.array([4, 3, 5, 7])\n",
    "print(np.sort(x))  # 원본 array는 그대로 존재한다! 기본 내장함수인 sorted()와 같은 방식이다.\n",
    "print('*' * 50)\n",
    "print(x)"
   ]
  },
  {
   "cell_type": "code",
   "execution_count": 129,
   "metadata": {},
   "outputs": [
    {
     "name": "stdout",
     "output_type": "stream",
     "text": [
      "[[ 3  4  5  7]\n",
      " [ 1  9 11 12]\n",
      " [ 1  2 14 15]]\n",
      "[[ 1  3  1  7]\n",
      " [ 2 12  5  9]\n",
      " [ 4 15 11 14]]\n"
     ]
    }
   ],
   "source": [
    "x = np.array([ [4, 3, 5, 7],\n",
    "               [1, 12, 11, 9],\n",
    "               [2, 15, 1, 14]\n",
    "             ])\n",
    "print(np.sort(x, axis=1))  # 행에 대하여 정렬\n",
    "print(np.sort(x, axis=0))  # 열에 대하여 정렬"
   ]
  },
  {
   "cell_type": "code",
   "execution_count": 130,
   "metadata": {},
   "outputs": [
    {
     "data": {
      "text/plain": [
       "array([[ 3,  4,  5,  7],\n",
       "       [ 1,  9, 11, 12],\n",
       "       [ 1,  2, 14, 15]])"
      ]
     },
     "execution_count": 130,
     "metadata": {},
     "output_type": "execute_result"
    }
   ],
   "source": [
    "x.sort(axis=1)\n",
    "x"
   ]
  },
  {
   "cell_type": "code",
   "execution_count": 134,
   "metadata": {},
   "outputs": [
    {
     "name": "stdout",
     "output_type": "stream",
     "text": [
      "정렬한 인덱스를 출력합니다 :  [1 0 2 3]\n",
      "정렬한 원소 값을 출력합니다 :  [3 4 5 7]\n"
     ]
    }
   ],
   "source": [
    "# np.argsort() : 행렬의 원소 값에 따라서 index를 정렬해준다.\n",
    "\n",
    "x = np.array([4, 3, 5, 7])\n",
    "idx = np.argsort(x)\n",
    "print('정렬한 인덱스를 출력합니다 : ', idx)\n",
    "print('정렬한 원소 값을 출력합니다 : ', x[idx])"
   ]
  },
  {
   "cell_type": "markdown",
   "metadata": {},
   "source": [
    "- 아래의 arr 배열을 가지고 내림차순으로 상위 5%까지만 결과를 출력하라면?"
   ]
  },
  {
   "cell_type": "code",
   "execution_count": 153,
   "metadata": {},
   "outputs": [
    {
     "name": "stdout",
     "output_type": "stream",
     "text": [
      "type : <class 'numpy.ndarray'>\n",
      "shape : (200,)\n",
      "dimension : 1\n",
      "dtype : float64\n",
      "Array Data : \n",
      " [-1.04418218e-01 -1.91978979e+00  8.67821592e-01  1.72271849e+00\n",
      "  5.41929934e-02 -3.84495326e-01 -2.45390796e-01  1.19821445e+00\n",
      "  2.19245595e+00  1.48507776e+00  2.52472499e-01 -1.16806901e+00\n",
      " -1.69972546e-01  1.20523981e+00  1.04780498e+00  1.03683892e+00\n",
      "  2.26018255e+00 -3.16058301e-01 -1.27131216e+00  3.99014031e-01\n",
      " -1.22092228e+00  3.97668139e-01 -1.06625203e+00  1.53977030e+00\n",
      " -1.87679171e+00 -6.19529350e-01 -6.44872453e-01 -4.61292317e-01\n",
      " -9.47688376e-01  6.11597338e-01  4.03468200e-02 -8.49126626e-01\n",
      " -1.64505248e-01  6.08836380e-01  1.06031847e+00  1.49786983e+00\n",
      "  1.34234820e+00  2.64857766e-01 -6.43562555e-01  1.28878669e+00\n",
      "  1.23924715e+00 -8.56248272e-01  5.50569521e-02  3.21639336e-01\n",
      " -5.37696906e-01 -2.45787770e-01 -2.66076813e-01 -1.71207142e+00\n",
      "  6.71482066e-01  1.54783525e+00  1.39003894e+00  1.42923899e+00\n",
      "  1.36658859e+00  5.44516571e-01 -7.12030071e-01  1.14734368e+00\n",
      "  1.39323286e+00  1.21719276e+00 -8.31213599e-01 -6.42397962e-01\n",
      " -1.21983447e+00 -3.81720624e-01  4.30962785e-01 -6.02048793e-01\n",
      "  2.50328908e-01 -2.91850705e+00 -1.06868892e+00  3.55995322e-01\n",
      " -5.33562115e-01  1.54177686e+00  6.39414144e-01 -1.97104141e+00\n",
      " -8.44928009e-01  1.37838553e-01 -2.45365709e+00 -9.02559772e-01\n",
      "  3.80733038e-01 -6.22720221e-01 -6.79437696e-02  7.32430538e-01\n",
      " -1.05801242e-01  5.29023431e-03  8.77242012e-01 -2.55213425e-01\n",
      " -8.97966088e-01  8.62695508e-01  1.26345821e+00 -1.50598884e+00\n",
      "  8.97714739e-01 -2.55921810e-01 -8.38437756e-01  1.65607490e+00\n",
      "  1.11631122e+00  1.57033711e+00 -1.90679881e+00 -8.00016949e-01\n",
      "  7.11888920e-01  8.96441021e-01  1.23465597e+00  1.50858879e+00\n",
      "  2.06397435e+00 -1.09739047e+00  1.21610491e-01 -2.86549340e-01\n",
      " -8.09891954e-02  1.31618927e+00 -1.46443102e+00  3.33624374e-01\n",
      "  1.25760308e+00  5.50007162e-02 -1.40233830e+00  9.13148520e-01\n",
      " -1.66251450e-01 -3.77714809e-01  9.18598902e-01 -4.25550215e-01\n",
      "  4.09191328e-01 -3.25479498e-01 -2.07185807e-01  8.81036338e-01\n",
      "  2.09870230e-01 -1.54116670e+00 -1.04041291e+00  5.65932808e-01\n",
      "  3.80571791e-01  8.37503200e-01 -1.45922793e+00  1.00669546e+00\n",
      " -1.37970427e+00  3.56990329e-01  3.61667397e-01  5.30483264e-01\n",
      " -2.57595842e-02 -1.55020333e+00 -3.45423093e-01 -1.48198352e+00\n",
      "  1.55233427e+00  4.10160417e-01  4.39888625e-01  5.09339520e-01\n",
      "  3.96716049e-01 -7.49551180e-01 -1.34491074e+00  5.07035859e-01\n",
      "  1.00921694e+00 -6.49399460e-01 -2.80592729e-01 -6.10974752e-01\n",
      "  7.13522408e-01 -1.06640910e+00 -1.24048489e+00  1.24697137e-01\n",
      " -1.16928664e+00 -3.15101910e-01  5.84097573e-01  4.23029617e-01\n",
      "  4.18647184e-01  5.02735143e-01 -1.46267738e+00 -2.03668761e+00\n",
      "  1.12955615e+00  4.72178661e-02 -1.01976938e+00 -1.51742270e-01\n",
      " -3.55264989e-01  2.83041070e-03 -8.54657618e-01 -7.30258182e-01\n",
      "  1.71934213e+00 -3.09347228e-01 -1.98450229e-01  9.48974163e-01\n",
      "  1.64110705e+00  1.09661950e+00 -6.19805189e-01  1.53695225e-01\n",
      " -2.45975288e+00 -1.00296731e+00  8.19628291e-01  1.59821802e-01\n",
      "  1.16243584e+00  2.39884185e-01  1.53754968e+00  1.56667438e+00\n",
      " -7.85878723e-01  5.89375571e-01 -1.77396121e+00 -3.09897978e-01\n",
      " -2.36990726e-01 -1.56446397e+00  6.99320440e-02 -7.53873861e-02\n",
      " -4.16410874e-01  1.21291130e+00  1.69567922e-01 -5.88610894e-01\n",
      " -6.22551067e-02  5.38879358e-01  7.34000876e-02  2.96683717e-01]\n",
      "\n"
     ]
    },
    {
     "data": {
      "text/plain": [
       "array([2.26018255, 2.19245595, 2.06397435, 1.72271849, 1.71934213,\n",
       "       1.6560749 , 1.64110705, 1.57033711, 1.56667438, 1.55233427])"
      ]
     },
     "execution_count": 153,
     "metadata": {},
     "output_type": "execute_result"
    }
   ],
   "source": [
    "arr = np.random.randn(200)\n",
    "arrinfo(arr)\n",
    "\n",
    "\n",
    "\n",
    "# 내림차순으로 정렬하기\n",
    "desc_arr = np.sort(arr)[::-1]\n",
    "\n",
    "# 상위 5%인 원소의 index 찾기\n",
    "index = int(len(arr)* 0.05)\n",
    "\n",
    "# 내림차순으로 정렬하여 상위 5%에 드는 원소들을 출력하기\n",
    "desc_arr[:index]\n"
   ]
  },
  {
   "cell_type": "markdown",
   "metadata": {},
   "source": [
    "- np.sort() : 초기 배열의 정렬을 유지한체 정렬한 배열을 반환한다.\n",
    "- [배열명].sort() : 초기 배열을 유지하지 않고 정렬한다."
   ]
  }
 ],
 "metadata": {
  "kernelspec": {
   "display_name": "Python 3",
   "language": "python",
   "name": "python3"
  },
  "language_info": {
   "codemirror_mode": {
    "name": "ipython",
    "version": 3
   },
   "file_extension": ".py",
   "mimetype": "text/x-python",
   "name": "python",
   "nbconvert_exporter": "python",
   "pygments_lexer": "ipython3",
   "version": "3.7.6"
  }
 },
 "nbformat": 4,
 "nbformat_minor": 4
}
