{
 "metadata": {
  "language_info": {
   "codemirror_mode": {
    "name": "ipython",
    "version": 3
   },
   "file_extension": ".py",
   "mimetype": "text/x-python",
   "name": "python",
   "nbconvert_exporter": "python",
   "pygments_lexer": "ipython3",
   "version": "3.8.5-final"
  },
  "orig_nbformat": 2,
  "kernelspec": {
   "name": "python3",
   "display_name": "Python 3.8.5 64-bit (conda)",
   "metadata": {
    "interpreter": {
     "hash": "b2ee7031707d813743392baf37eab919c3528df2636afebf9afebac9717302cf"
    }
   }
  }
 },
 "nbformat": 4,
 "nbformat_minor": 2,
 "cells": [
  {
   "source": [
    "###### 2021-03-22"
   ],
   "cell_type": "markdown",
   "metadata": {}
  },
  {
   "source": [
    "# 01_Iterator\n",
    "- 값을 차레대로 꺼낼 수 았는 객체\n",
    "- `for i in range(100)` 은 0~99까지 값을 차례대로 꺼낼 수 있는 이터레이터를 하나 만들어내는 것임\n",
    "- 만약, 위처럼 연속된 숫자를 미리 만들어 값을 차례대로 사용한다면, 숫자가 적을 때는 상관없지만 많은 상황에서는 메모리 사용을 많이 하게 되므로 성능이 저하될 수 있음\n",
    "- 그래서 파이썬에는 미리 값을 만들어 두는 것이 아니라 **iterator**를 생성하여 **필요할때 값을 만들어 사용하는 방식**을 사용하고 있음\n",
    "- 이런 방식을 **lazy evaluation**이라고 함\n",
    "- 참고로 iterator는 반복자라고 부르기도 함"
   ],
   "cell_type": "markdown",
   "metadata": {}
  },
  {
   "source": [
    "## 1. 반복 가능 객체 알아보기\n",
    "- 반복 가능한 객체는 말 그대로 반복할 수 있는 객체인데 우리가 흔히 사용하는 문자열, 리스트, 딕셔너리, 세트가 반복 가능한 객체임\n",
    "- 즉, 요소가 여러 개 들어있고 한 번에 하나씩 꺼낼 수 있다는 말\n",
    "- 객체가 반복 가능한지를 알아보기 위해서는, `__iter__` 메소드가 들어있는지 확인하면 됨\n",
    "- 다음과 같이 `dir()` 메소드를 사용하여 객체의 메소드를 확인할 수 있다."
   ],
   "cell_type": "markdown",
   "metadata": {}
  },
  {
   "cell_type": "code",
   "execution_count": 3,
   "metadata": {},
   "outputs": [
    {
     "output_type": "stream",
     "name": "stdout",
     "text": [
      "['__add__', '__class__', '__contains__', '__delattr__', '__delitem__', '__dir__', '__doc__', '__eq__', '__format__', '__ge__', '__getattribute__', '__getitem__', '__gt__', '__hash__', '__iadd__', '__imul__', '__init__', '__init_subclass__', '__iter__', '__le__', '__len__', '__lt__', '__mul__', '__ne__', '__new__', '__reduce__', '__reduce_ex__', '__repr__', '__reversed__', '__rmul__', '__setattr__', '__setitem__', '__sizeof__', '__str__', '__subclasshook__', 'append', 'clear', 'copy', 'count', 'extend', 'index', 'insert', 'pop', 'remove', 'reverse', 'sort']\n\n<method-wrapper '__iter__' of list object at 0x0000020D6F13E440>\n"
     ]
    }
   ],
   "source": [
    "print(dir([1, 2, 3]))\n",
    "print()\n",
    "print([1, 2, 3].__iter__)"
   ]
  },
  {
   "source": [
    "- 리스트의 이터레이터를 변수에 저장한 뒤, __next__ 메소드를 호출해보면 리스트 내의 요소를 차례대로 꺼낼 수 있다.\n",
    "- 리스트, 딕셔너리, 문자열, 세트도 iterable함 그러므로 실습은 생략\n",
    "- range() 메소드도 역시 iterable하다"
   ],
   "cell_type": "markdown",
   "metadata": {}
  },
  {
   "cell_type": "code",
   "execution_count": 10,
   "metadata": {},
   "outputs": [
    {
     "output_type": "stream",
     "name": "stdout",
     "text": [
      "1\n2\n3\n\n0\n1\n2\n"
     ]
    }
   ],
   "source": [
    "list_ = [1, 2, 3].__iter__()\n",
    "print(list_.__next__())\n",
    "print(list_.__next__())\n",
    "print(list_.__next__())\n",
    "\n",
    "print()\n",
    "\n",
    "range_ = range(3).__iter__()\n",
    "print(range_.__next__())\n",
    "print(range_.__next__())\n",
    "print(range_.__next__())"
   ]
  },
  {
   "source": [
    "## 2. 반복 가능한 객체(iterable)와 이터레이터(iterator)\n",
    "- iterable과 iterator는 엄연히 다름\n",
    "- `for i in range(3)`의 예로 알아보자\n",
    "- ![화면 캡처 2021-03-22 224001](https://user-images.githubusercontent.com/54063179/111998667-99989600-8b5f-11eb-9a0a-e85b65663a02.png)\n",
    "- `range(3)`(iterable 객체)는 `__iter__` 메소드(iterator)를 가진다.\n",
    "- 이때, `__iter__`는 `__next__` 메소드를 가지는데 이 `__next__`를 사용하여 객체를 차례대로 참조한다."
   ],
   "cell_type": "markdown",
   "metadata": {}
  },
  {
   "source": [
    "## 3. 이터레이터 만들기\n",
    " - `__iter__.__next__` 메서드를 구현해서 직접 이터레이터를 만들어보자\n",
    " - range() 메소드와 같이 작동하는 이터레이터이다."
   ],
   "cell_type": "markdown",
   "metadata": {}
  },
  {
   "cell_type": "code",
   "execution_count": 13,
   "metadata": {
    "tags": []
   },
   "outputs": [
    {
     "output_type": "stream",
     "name": "stdout",
     "text": [
      "0\n1\n2\n"
     ]
    }
   ],
   "source": [
    "class TempIterator:\n",
    "    def __init__(self, stop):\n",
    "        self.current = 0\n",
    "        self.stop = stop\n",
    "\n",
    "    def __iter__(self):\n",
    "        return self\n",
    "\n",
    "    def __next__(self):\n",
    "        if self.current < self.stop:\n",
    "            r = self.current\n",
    "            self.current += 1\n",
    "            return r\n",
    "        else:\n",
    "            raise StopIteration\n",
    "\n",
    "\n",
    "for i in TempIterator(3):\n",
    "    print(i)"
   ]
  },
  {
   "source": [
    "## 4. 이터레이터 언패킹\n",
    "- 이터레이터는 언패킹이 가능하다\n",
    "- 사실 많이 사용하는 방법이다."
   ],
   "cell_type": "markdown",
   "metadata": {}
  },
  {
   "cell_type": "code",
   "execution_count": 14,
   "metadata": {},
   "outputs": [
    {
     "output_type": "stream",
     "name": "stdout",
     "text": [
      "1\n2\n3\n"
     ]
    }
   ],
   "source": [
    "list_ = [1, 2, 3]\n",
    "a, b, c = list_\n",
    "print(a)\n",
    "print(b)\n",
    "print(c)"
   ]
  },
  {
   "source": [
    "- map함수도 이터레이터이다."
   ],
   "cell_type": "markdown",
   "metadata": {}
  },
  {
   "cell_type": "code",
   "execution_count": 18,
   "metadata": {},
   "outputs": [
    {
     "output_type": "stream",
     "name": "stdout",
     "text": [
      "2\n4\n6\n"
     ]
    }
   ],
   "source": [
    "list_ = [1, 2, 3]\n",
    "\n",
    "a, b, c = map(lambda x : x*2, list_)\n",
    "print(a)\n",
    "print(b)\n",
    "print(c)"
   ]
  }
 ]
}