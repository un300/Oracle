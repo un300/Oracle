{
 "cells": [
  {
   "cell_type": "markdown",
   "metadata": {},
   "source": [
    "###### 2020-10-30 금요일\n",
    "###### 2020-11-01 일요일"
   ]
  },
  {
   "cell_type": "markdown",
   "metadata": {},
   "source": [
    "# 05_분류성능평가지표_실습"
   ]
  },
  {
   "cell_type": "markdown",
   "metadata": {},
   "source": [
    "### 목차\n",
    "\n",
    "#### 1. 실습데이터diabetes.csv파일 불러오고 Train / Test 나누기\n",
    "\n",
    "#### 2 .Train Set을 이용한 Cross Validation + Grid search\n",
    "\n",
    "#### 3. 위에서 찾은 최적의 하이퍼파라미터로 Test set 예측 + ROC 그리기\n",
    "\n",
    "#### 4. 가장 성능이 좋은 RandomForest 모델의 최적의 Threshold찾기"
   ]
  },
  {
   "cell_type": "code",
   "execution_count": 1,
   "metadata": {},
   "outputs": [],
   "source": [
    "import warnings\n",
    "warnings.filterwarnings('ignore')"
   ]
  },
  {
   "cell_type": "markdown",
   "metadata": {},
   "source": [
    " - 학습의 목표\n",
    " - 머신러닝의 분류모델을 이용하여, 여러가지 평가지표를 확인해보자\n",
    " - 데이터: 의학(당뇨병 여부 판단)"
   ]
  },
  {
   "cell_type": "code",
   "execution_count": 2,
   "metadata": {},
   "outputs": [],
   "source": [
    "# 모델 임포트\n",
    "from sklearn.tree import DecisionTreeClassifier\n",
    "from sklearn.linear_model import LogisticRegression\n",
    "from sklearn.ensemble import RandomForestClassifier\n",
    "from lightgbm import LGBMClassifier\n",
    "\n",
    "from sklearn.preprocessing import LabelEncoder, OneHotEncoder, StandardScaler, MinMaxScaler, Binarizer\n",
    "from sklearn.model_selection import train_test_split, GridSearchCV, cross_val_score\n",
    "from sklearn.metrics import confusion_matrix, accuracy_score, precision_score, recall_score, f1_score\n",
    "from sklearn.metrics import roc_auc_score, roc_curve, precision_recall_curve, make_scorer\n",
    "\n",
    "import pandas as pd\n",
    "import numpy as np\n",
    "import matplotlib as mpl\n",
    "import matplotlib.pyplot as plt\n",
    "import seaborn as sns\n",
    "import missingno as msno"
   ]
  },
  {
   "cell_type": "markdown",
   "metadata": {},
   "source": [
    "## 1. 실습데이터`diabetes.csv`파일 불러오고 Train / Test 나누기"
   ]
  },
  {
   "cell_type": "code",
   "execution_count": 3,
   "metadata": {},
   "outputs": [],
   "source": [
    "diabates_df = pd.read_csv('./실습데이터/diabetes.csv')"
   ]
  },
  {
   "cell_type": "code",
   "execution_count": 4,
   "metadata": {},
   "outputs": [
    {
     "data": {
      "text/html": [
       "<div>\n",
       "<style scoped>\n",
       "    .dataframe tbody tr th:only-of-type {\n",
       "        vertical-align: middle;\n",
       "    }\n",
       "\n",
       "    .dataframe tbody tr th {\n",
       "        vertical-align: top;\n",
       "    }\n",
       "\n",
       "    .dataframe thead th {\n",
       "        text-align: right;\n",
       "    }\n",
       "</style>\n",
       "<table border=\"1\" class=\"dataframe\">\n",
       "  <thead>\n",
       "    <tr style=\"text-align: right;\">\n",
       "      <th></th>\n",
       "      <th>Pregnancies</th>\n",
       "      <th>Glucose</th>\n",
       "      <th>BloodPressure</th>\n",
       "      <th>SkinThickness</th>\n",
       "      <th>Insulin</th>\n",
       "      <th>BMI</th>\n",
       "      <th>DiabetesPedigreeFunction</th>\n",
       "      <th>Age</th>\n",
       "      <th>Outcome</th>\n",
       "    </tr>\n",
       "  </thead>\n",
       "  <tbody>\n",
       "    <tr>\n",
       "      <th>0</th>\n",
       "      <td>6</td>\n",
       "      <td>148</td>\n",
       "      <td>72</td>\n",
       "      <td>35</td>\n",
       "      <td>0</td>\n",
       "      <td>33.6</td>\n",
       "      <td>0.627</td>\n",
       "      <td>50</td>\n",
       "      <td>1</td>\n",
       "    </tr>\n",
       "    <tr>\n",
       "      <th>1</th>\n",
       "      <td>1</td>\n",
       "      <td>85</td>\n",
       "      <td>66</td>\n",
       "      <td>29</td>\n",
       "      <td>0</td>\n",
       "      <td>26.6</td>\n",
       "      <td>0.351</td>\n",
       "      <td>31</td>\n",
       "      <td>0</td>\n",
       "    </tr>\n",
       "    <tr>\n",
       "      <th>2</th>\n",
       "      <td>8</td>\n",
       "      <td>183</td>\n",
       "      <td>64</td>\n",
       "      <td>0</td>\n",
       "      <td>0</td>\n",
       "      <td>23.3</td>\n",
       "      <td>0.672</td>\n",
       "      <td>32</td>\n",
       "      <td>1</td>\n",
       "    </tr>\n",
       "    <tr>\n",
       "      <th>3</th>\n",
       "      <td>1</td>\n",
       "      <td>89</td>\n",
       "      <td>66</td>\n",
       "      <td>23</td>\n",
       "      <td>94</td>\n",
       "      <td>28.1</td>\n",
       "      <td>0.167</td>\n",
       "      <td>21</td>\n",
       "      <td>0</td>\n",
       "    </tr>\n",
       "    <tr>\n",
       "      <th>4</th>\n",
       "      <td>0</td>\n",
       "      <td>137</td>\n",
       "      <td>40</td>\n",
       "      <td>35</td>\n",
       "      <td>168</td>\n",
       "      <td>43.1</td>\n",
       "      <td>2.288</td>\n",
       "      <td>33</td>\n",
       "      <td>1</td>\n",
       "    </tr>\n",
       "  </tbody>\n",
       "</table>\n",
       "</div>"
      ],
      "text/plain": [
       "   Pregnancies  Glucose  BloodPressure  SkinThickness  Insulin   BMI  \\\n",
       "0            6      148             72             35        0  33.6   \n",
       "1            1       85             66             29        0  26.6   \n",
       "2            8      183             64              0        0  23.3   \n",
       "3            1       89             66             23       94  28.1   \n",
       "4            0      137             40             35      168  43.1   \n",
       "\n",
       "   DiabetesPedigreeFunction  Age  Outcome  \n",
       "0                     0.627   50        1  \n",
       "1                     0.351   31        0  \n",
       "2                     0.672   32        1  \n",
       "3                     0.167   21        0  \n",
       "4                     2.288   33        1  "
      ]
     },
     "execution_count": 4,
     "metadata": {},
     "output_type": "execute_result"
    }
   ],
   "source": [
    "diabates_df.head()"
   ]
  },
  {
   "cell_type": "code",
   "execution_count": 5,
   "metadata": {},
   "outputs": [
    {
     "data": {
      "text/plain": [
       "0    500\n",
       "1    268\n",
       "Name: Outcome, dtype: int64"
      ]
     },
     "execution_count": 5,
     "metadata": {},
     "output_type": "execute_result"
    }
   ],
   "source": [
    "diabates_df['Outcome'].value_counts()"
   ]
  },
  {
   "cell_type": "code",
   "execution_count": 6,
   "metadata": {},
   "outputs": [],
   "source": [
    "# Train Test 나누기\n",
    "X = np.array(diabates_df.drop( ['Outcome'] , axis=1, inplace=False))\n",
    "Y = np.array(diabates_df['Outcome'])"
   ]
  },
  {
   "cell_type": "code",
   "execution_count": 7,
   "metadata": {},
   "outputs": [],
   "source": [
    "X_train, X_test, Y_train, Y_test = train_test_split(X, Y, test_size=0.2, random_state=123)"
   ]
  },
  {
   "cell_type": "markdown",
   "metadata": {},
   "source": [
    "## 2 .Train Set을 이용한 Cross Validation + Grid search\n",
    "> Train set을 활용해서 최적의 하이퍼 파라미터를 찾는것이 목표이다\n",
    "   - Logistic\n",
    "   - DecisionTree\n",
    "   - RandomForest\n",
    "   - LightGBM"
   ]
  },
  {
   "cell_type": "markdown",
   "metadata": {},
   "source": [
    "##### Logistic"
   ]
  },
  {
   "cell_type": "code",
   "execution_count": 8,
   "metadata": {
    "scrolled": true
   },
   "outputs": [
    {
     "name": "stdout",
     "output_type": "stream",
     "text": [
      "Cross Validation 결과 : 0.7084892995340756\n"
     ]
    }
   ],
   "source": [
    "logistic = LogisticRegression()\n",
    "\n",
    "# 로지스틱의 경우 파라매터가 없기 때문에\n",
    "# GridSearchCV대신 cross_val_score 사용\n",
    "logistic_grid = cross_val_score(logistic, \n",
    "                                X_train, Y_train, \n",
    "                                cv          = 3,\n",
    "                                scoring     = make_scorer(roc_auc_score))\n",
    "\n",
    "print(\"Cross Validation 결과 :\", logistic_grid.mean())"
   ]
  },
  {
   "cell_type": "markdown",
   "metadata": {},
   "source": [
    "##### DesicionTree"
   ]
  },
  {
   "cell_type": "code",
   "execution_count": 9,
   "metadata": {},
   "outputs": [
    {
     "name": "stdout",
     "output_type": "stream",
     "text": [
      "{'criterion': 'gini', 'max_depth': 8, 'min_samples_leaf': 10, 'min_samples_split': 2}\n",
      "0.6899944720840243\n"
     ]
    }
   ],
   "source": [
    "decision_tree = DecisionTreeClassifier(random_state=123)\n",
    "\n",
    "params = { \n",
    "    'criterion'         : ['gini', 'entropy'],\n",
    "    'max_depth'         : [8, 10, 12],\n",
    "    'min_samples_leaf'  : [8, 10, 12],\n",
    "    'min_samples_split' : [1, 2, 3]\n",
    "            }\n",
    "\n",
    "\n",
    "decision_tree_grid = GridSearchCV(decision_tree, \n",
    "                                  cv          = 3, \n",
    "                                  param_grid  = params, \n",
    "                                  refit       = True,\n",
    "                                  scoring     = make_scorer(roc_auc_score))\n",
    "\n",
    "decision_tree_grid.fit(X_train, Y_train)\n",
    "\n",
    "print(decision_tree_grid.best_params_)\n",
    "print(decision_tree_grid.best_score_)\n",
    "\n",
    "\n",
    "# 1\n",
    "# {'criterion': 'gini', 'max_depth': 12, 'min_samples_leaf': 6, 'min_samples_split': 2}\n",
    "# 0.670975808786754\n",
    "\n",
    "# 2 \n",
    "# {'criterion': 'entropy', 'max_depth': 10, 'min_samples_leaf': 8, 'min_samples_split': 2}\n",
    "# 0.6718615915133328\n",
    "\n",
    "# 3\n",
    "# {'criterion': 'gini', 'max_depth': 8, 'min_samples_leaf': 10, 'min_samples_split': 2}\n",
    "# 0.6899944720840243\n",
    "\n",
    "# 4 \n",
    "# {'criterion': 'gini', 'max_depth': 8, 'min_samples_leaf': 10, 'min_samples_split': 2} << 최적의 하이퍼 파라미터\n",
    "# 0.6899944720840243"
   ]
  },
  {
   "cell_type": "markdown",
   "metadata": {},
   "source": [
    "##### RandomForest"
   ]
  },
  {
   "cell_type": "code",
   "execution_count": 10,
   "metadata": {
    "scrolled": true
   },
   "outputs": [
    {
     "name": "stdout",
     "output_type": "stream",
     "text": [
      "{'max_depth': 14, 'min_samples_leaf': 4, 'min_samples_split': 2, 'n_estimators': 300}\n",
      "0.7204638184737688\n"
     ]
    }
   ],
   "source": [
    "random_forest = RandomForestClassifier(random_state=123)\n",
    "\n",
    "params = { \n",
    "    'n_estimators' : [200, 300, 400],\n",
    "    'max_depth' : [12, 14, 16],\n",
    "    'min_samples_leaf' : [2, 4, 6],\n",
    "    'min_samples_split' : [1, 2, 4]\n",
    "            }\n",
    "\n",
    "\n",
    "random_forest_grid = GridSearchCV(random_forest, \n",
    "                                  cv          = 3, \n",
    "                                  param_grid  = params, \n",
    "                                  refit       = True,\n",
    "                                  scoring     = make_scorer(roc_auc_score))\n",
    "random_forest_grid.fit(X_train, Y_train)\n",
    "\n",
    "print(random_forest_grid.best_params_)\n",
    "print(random_forest_grid.best_score_)\n",
    "\n",
    "\n",
    "\n",
    "# 1\n",
    "# {'max_depth': 8, 'min_samples_leaf': 8, 'min_samples_split': 6, 'n_estimators': 100}\n",
    "# 0.7050317197083366\n",
    "\n",
    "# 2\n",
    "# {'max_depth': 12, 'min_samples_leaf': 6, 'min_samples_split': 4, 'n_estimators': 200}\n",
    "# 0.7074310984758746\n",
    "\n",
    "# 3\n",
    "# {'max_depth': 14, 'min_samples_leaf': 4, 'min_samples_split': 2, 'n_estimators': 300}\n",
    "# 0.7204638184737688\n",
    "\n",
    "# 4\n",
    "# {'max_depth': 14, 'min_samples_leaf': 4, 'min_samples_split': 2, 'n_estimators': 300}\n",
    "# 0.7204638184737688\n",
    "\n",
    "# 5\n",
    "# {'max_depth': 14, 'min_samples_leaf': 4, 'min_samples_split': 2, 'n_estimators': 300}  < 최적의 하이퍼 파라미터\n",
    "# 0.7204638184737688"
   ]
  },
  {
   "cell_type": "markdown",
   "metadata": {},
   "source": [
    "##### LightGBM"
   ]
  },
  {
   "cell_type": "code",
   "execution_count": 11,
   "metadata": {},
   "outputs": [
    {
     "name": "stdout",
     "output_type": "stream",
     "text": [
      "{'max_depth': 6, 'min_samples_leaf': 1, 'min_samples_split': 1, 'n_estimators': 300}\n",
      "0.6942272763168286\n"
     ]
    }
   ],
   "source": [
    "lightgbm = LGBMClassifier(random_state=123)\n",
    "\n",
    "params = { \n",
    "    'n_estimators' : [200, 300, 400],\n",
    "    'max_depth' : [4, 6, 8],\n",
    "    'min_samples_leaf' : [1, 2],\n",
    "    'min_samples_split' : [1, 2, 3]\n",
    "}\n",
    "\n",
    "LGBM_grid = GridSearchCV(lightgbm,\n",
    "                         param_grid  = params,\n",
    "                         cv          = 3,\n",
    "                         refit       = True,\n",
    "                         scoring     = make_scorer(roc_auc_score))\n",
    "\n",
    "LGBM_grid.fit(X_train, Y_train)\n",
    "\n",
    "print(LGBM_grid.best_params_)\n",
    "print(LGBM_grid.best_score_)\n",
    "\n",
    "\n",
    "# 1\n",
    "# {'max_depth': 12, 'min_samples_leaf': 1, 'min_samples_split': 1, 'n_estimators': 400}\n",
    "# 0.6966411329595408\n",
    "\n",
    "# 2\n",
    "# {'max_depth': 6, 'min_samples_leaf': 1, 'min_samples_split': 1, 'n_estimators': 300}\n",
    "# 0.6942272763168286\n",
    "\n",
    "# 3\n",
    "# {'max_depth': 6, 'min_samples_leaf': 1, 'min_samples_split': 1, 'n_estimators': 300}\n",
    "# 0.6942272763168286"
   ]
  },
  {
   "cell_type": "markdown",
   "metadata": {},
   "source": [
    " - AUC수치를 기준으로한 CrossValidation 결과, FandomForest의 AUC가 `0.7204638184737688`로 가장 좋았다.\n",
    " - 그렇다면 Train set으로 RandomForest를 학습하고, 그 학습기로 Test set을 예측하는 것이 정석 루트이다\n",
    "\n",
    "\n",
    "###### 하지만, 나는 배우는 입장이니 위에서 사용한 모든 머신러닝을 사용해 ROC커브를 그려보자"
   ]
  },
  {
   "cell_type": "markdown",
   "metadata": {},
   "source": [
    "## 3. 위에서 찾은 최적의 하이퍼파라미터로 Test set 예측 + ROC 그리기"
   ]
  },
  {
   "cell_type": "markdown",
   "metadata": {},
   "source": [
    "##### Logistic"
   ]
  },
  {
   "cell_type": "code",
   "execution_count": 12,
   "metadata": {},
   "outputs": [
    {
     "name": "stdout",
     "output_type": "stream",
     "text": [
      "AUC는? : 0.8466235632183908\n"
     ]
    },
    {
     "data": {
      "image/png": "[encoded data removed]",
      "text/plain": [
       "<Figure size 432x288 with 1 Axes>"
      ]
     },
     "metadata": {
      "needs_background": "light"
     },
     "output_type": "display_data"
    }
   ],
   "source": [
    "logistic.fit(X_train, Y_train)\n",
    "\n",
    "\n",
    "# label이 1이 될 확률 담기\n",
    "Y_prob = logistic.predict_proba(X_test)[:, 1]\n",
    "\n",
    "# Threshold변화에 따른 fpr, tpr의 변화\n",
    "fpr_array, tpr_array, threshold_array = roc_curve(Y_test, Y_prob)\n",
    "\n",
    "# 그래프에 threshold를 표시하기위해 인덱스 추출\n",
    "idx_list = np.arange(1, len(threshold_array), 10)\n",
    "\n",
    "\n",
    "# ROC 그래프 그리기\n",
    "plt.plot(fpr_array, tpr_array, \n",
    "         c = 'red', \n",
    "         label = \"AUC :\" + str(roc_auc_score(Y_test, Y_prob)))\n",
    "plt.plot([0, 1], [0,1], ls='--', c='black')\n",
    "plt.title(\"Logistic's ROC\")\n",
    "plt.legend(loc=0)\n",
    "for idx in idx_list:\n",
    "    text = str(round(threshold_array[idx], 2))\n",
    "    plt.text(fpr_array[idx], tpr_array[idx], text)\n",
    "\n",
    "\n",
    "# ROC의 auc는?\n",
    "print('AUC는? :', roc_auc_score(Y_test, Y_prob))"
   ]
  },
  {
   "cell_type": "markdown",
   "metadata": {},
   "source": [
    "##### DecisionTree"
   ]
  },
  {
   "cell_type": "code",
   "execution_count": 13,
   "metadata": {},
   "outputs": [
    {
     "name": "stdout",
     "output_type": "stream",
     "text": [
      "AUC는? : 0.8255208333333333\n"
     ]
    },
    {
     "data": {
      "image/png": "[encoded data removed]",
      "text/plain": [
       "<Figure size 432x288 with 1 Axes>"
      ]
     },
     "metadata": {
      "needs_background": "light"
     },
     "output_type": "display_data"
    }
   ],
   "source": [
    "# label이 1이 될 확률 담기\n",
    "Y_prob = decision_tree_grid.best_estimator_.predict_proba(X_test)[:,1]\n",
    "\n",
    "# Threshold변화에 따른 fpr, tpr의 변화\n",
    "fpr_array, tpr_array, threshold_array = roc_curve(Y_test, Y_prob)\n",
    "\n",
    "# 그래프에 threshold를 표시하기위해 인덱스 추출\n",
    "idx_list = np.arange(1, len(threshold_array), 10)\n",
    "\n",
    "# ROC 그래프 그리기\n",
    "plt.plot([1, 0], [1, 0], c='black', ls='--')\n",
    "plt.plot(fpr_array, tpr_array, c='red', label='AUC : ' + str(roc_auc_score(Y_test, Y_prob)))\n",
    "for idx in idx_list:\n",
    "    text = str(round(threshold_array[idx], 2))\n",
    "    plt.text(fpr_array[idx], tpr_array[idx], text)\n",
    "plt.title(\"DecisionTree's ROC\")\n",
    "plt.legend(loc=0)\n",
    "\n",
    "# ROC의 AUC는?\n",
    "print('AUC는? :', roc_auc_score(Y_test, Y_prob))"
   ]
  },
  {
   "cell_type": "markdown",
   "metadata": {},
   "source": [
    "##### RandomForest"
   ]
  },
  {
   "cell_type": "code",
   "execution_count": 14,
   "metadata": {
    "scrolled": true
   },
   "outputs": [
    {
     "name": "stdout",
     "output_type": "stream",
     "text": [
      "AUC는? : 0.8586566091954023\n"
     ]
    },
    {
     "data": {
      "image/png": "[encoded data removed]",
      "text/plain": [
       "<Figure size 432x288 with 1 Axes>"
      ]
     },
     "metadata": {
      "needs_background": "light"
     },
     "output_type": "display_data"
    }
   ],
   "source": [
    "# label이 1이 될 확률 담기\n",
    "Y_prob = random_forest_grid.best_estimator_.predict_proba(X_test)[:, 1]\n",
    "\n",
    "# Threshold변화에 따른 fpr, tpr의 변화\n",
    "fpr_array, tpr_array, threshold_array = roc_curve(Y_test, Y_prob)\n",
    "\n",
    "# 그래프에 threshold를 표시하기위해 인덱스 추출\n",
    "idx_list = np.arange(1, len(threshold_array), 10)\n",
    "\n",
    "# ROC 그래프 그리기\n",
    "plt.plot([1,0], [1, 0], ls='--', c='black')\n",
    "plt.plot(fpr_array, tpr_array, c='red', label='AUC : ' + str(roc_auc_score(Y_test, Y_prob)))\n",
    "for idx in idx_list:\n",
    "    text = str(round(threshold_array[idx], 2))\n",
    "    plt.text(fpr_array[idx], tpr_array[idx], text)\n",
    "plt.title(\"RandomForest's ROC\")\n",
    "plt.legend(loc=0)\n",
    "\n",
    "# ROC의 AUC는?\n",
    "print('AUC는? :', roc_auc_score(Y_test, Y_prob))"
   ]
  },
  {
   "cell_type": "markdown",
   "metadata": {},
   "source": [
    "##### lightGBM"
   ]
  },
  {
   "cell_type": "code",
   "execution_count": 15,
   "metadata": {
    "scrolled": true
   },
   "outputs": [
    {
     "name": "stdout",
     "output_type": "stream",
     "text": [
      "AUC는? : 0.8371048850574713\n"
     ]
    },
    {
     "data": {
      "image/png": "[encoded data removed]",
      "text/plain": [
       "<Figure size 432x288 with 1 Axes>"
      ]
     },
     "metadata": {
      "needs_background": "light"
     },
     "output_type": "display_data"
    }
   ],
   "source": [
    "# label이 1이 될 확률 담디\n",
    "Y_prob = LGBM_grid.best_estimator_.predict_proba(X_test)[:, 1]\n",
    "\n",
    "# Threshhold 변화에 따른 fpr, tpr 변화\n",
    "fpr_array, tpr_array, threshold_array = roc_curve(Y_test, Y_prob)\n",
    "\n",
    "# 그래프에 threshold를 표시하기위해 인덱스 추출\n",
    "idx_list = np.arange(1, len(threshold_array), 10)\n",
    "\n",
    "\n",
    "plt.plot([0, 1], [0, 1], ls='--', c='black')\n",
    "plt.plot(fpr_array, tpr_array, c='red', label=str(roc_auc_score(Y_test, Y_prob)))\n",
    "\n",
    "# ROC 그래프 그리기\n",
    "plt.title(\"LightGBM's ROC\")\n",
    "plt.legend(loc=0)\n",
    "for idx in idx_list:\n",
    "    text = str(round(threshold_array[idx], 2))\n",
    "    plt.text(fpr_array[idx], tpr_array[idx], text)\n",
    "    \n",
    "print('AUC는? :', roc_auc_score(Y_test, Y_prob))"
   ]
  },
  {
   "cell_type": "markdown",
   "metadata": {},
   "source": [
    " - Test set을 예측하였을때, AUC수치가 가장 높은 모델은 `RandomForest`였다.\n",
    " - 이제 최적의 Threshold를 찾고 그 Threshold값을 사용하여 최종예측을 수행하자"
   ]
  },
  {
   "cell_type": "markdown",
   "metadata": {},
   "source": [
    "## 4. 가장 성능이 좋은 RandomForest 모델의 최적의 Threshold찾고 최종예측하기"
   ]
  },
  {
   "cell_type": "markdown",
   "metadata": {},
   "source": [
    " - 사실 구현하고자 하는 목적에 따라 중요한 성능지표를 선정하고, 선정한 성능지표를 높이는 방향으로 진행하는 것이 좋다\n",
    " - 우리는 실습하는 것이 목적이기에, precision과 recall이 동일한 수치일때(precision과 recall이 동시에 가장 높을 수 있는 지점일때)의 Threshold를 찾고 그 Threshold값을 이용하여 최종 Test set 예측을 시행해보자"
   ]
  },
  {
   "cell_type": "code",
   "execution_count": 16,
   "metadata": {},
   "outputs": [
    {
     "data": {
      "text/plain": [
       "<matplotlib.legend.Legend at 0x2937fed9348>"
      ]
     },
     "execution_count": 16,
     "metadata": {},
     "output_type": "execute_result"
    },
    {
     "data": {
      "image/png": "[encoded data removed]",
      "text/plain": [
       "<Figure size 432x288 with 1 Axes>"
      ]
     },
     "metadata": {
      "needs_background": "light"
     },
     "output_type": "display_data"
    }
   ],
   "source": [
    "Y_prob = random_forest_grid.best_estimator_.predict_proba(X_test)[:, 1]\n",
    "\n",
    "precision_array, recall_array, threshold_array = precision_recall_curve(Y_test, Y_prob)\n",
    "\n",
    "plt.plot(threshold_array, precision_array[0:len(threshold_array)], label='precision')\n",
    "plt.plot(threshold_array, recall_array[0:len(threshold_array)], label='recall')\n",
    "plt.grid()\n",
    "plt.title('precision & recall trade-off')\n",
    "plt.legend(loc=0)"
   ]
  },
  {
   "cell_type": "markdown",
   "metadata": {},
   "source": [
    " - 위 글래프 결과, precision과 recall이 교차하는 지점은 Threshold가 0.4와 0.5사이에 있음을 알수 있다.\n",
    "\n",
    "\n",
    "###### 이제 교차하는 지점을 찾아보자"
   ]
  },
  {
   "cell_type": "code",
   "execution_count": 35,
   "metadata": {},
   "outputs": [
    {
     "data": {
      "text/plain": [
       "0.46860745735745724"
      ]
     },
     "execution_count": 35,
     "metadata": {},
     "output_type": "execute_result"
    }
   ],
   "source": [
    "cha_e = abs(np.array(precision_array) - np.array(recall_array))\n",
    "cross_idx = np.argmin(cha_e)\n",
    "\n",
    "threshold = threshold_array[cross_idx]\n",
    "threshold"
   ]
  },
  {
   "cell_type": "code",
   "execution_count": 18,
   "metadata": {},
   "outputs": [
    {
     "data": {
      "text/plain": [
       "array([0.83765941, 0.28243259, 0.66071324, 0.01839133, 0.14349196,\n",
       "       0.66624749, 0.53671357, 0.49494637, 0.64522676, 0.534779  ,\n",
       "       0.77213554, 0.20455313, 0.14802209, 0.50004178, 0.71601621,\n",
       "       0.01218074, 0.40631866, 0.01208894, 0.02122932, 0.51412484,\n",
       "       0.70165031, 0.07828058, 0.33868784, 0.83382131, 0.75515064,\n",
       "       0.20479582, 0.06134512, 0.1906765 , 0.47479002, 0.76705816,\n",
       "       0.1629465 , 0.45544362, 0.6182381 , 0.22789216, 0.28500492,\n",
       "       0.14798541, 0.69454126, 0.28332171, 0.12798691, 0.19909991,\n",
       "       0.03300748, 0.1059627 , 0.16610361, 0.39150956, 0.10942727,\n",
       "       0.7052642 , 0.67367855, 0.01448942, 0.10752754, 0.03965734,\n",
       "       0.01950209, 0.01768939, 0.3514873 , 0.02563733, 0.14636894,\n",
       "       0.09951662, 0.52662815, 0.43664344, 0.77279246, 0.54654881,\n",
       "       0.46860746, 0.18241973, 0.64589313, 0.07185886, 0.25775185,\n",
       "       0.02260862, 0.87143667, 0.22432135, 0.04935955, 0.2914205 ,\n",
       "       0.20359319, 0.41606578, 0.76281459, 0.29195873, 0.54139875,\n",
       "       0.03629233, 0.10399026, 0.36381277, 0.71890037, 0.18947405,\n",
       "       0.45106929, 0.76006943, 0.18991476, 0.81416165, 0.28004481,\n",
       "       0.01589177, 0.71331835, 0.08691471, 0.83399027, 0.54528486,\n",
       "       0.01979365, 0.50229568, 0.18869312, 0.40028742, 0.7395337 ,\n",
       "       0.06891112, 0.55950452, 0.71411653, 0.21299727, 0.39849451,\n",
       "       0.40847429, 0.67653954, 0.04754078, 0.0289193 , 0.02587364,\n",
       "       0.67965835, 0.01900833, 0.85300981, 0.51970599, 0.09571056,\n",
       "       0.75021569, 0.01166582, 0.6987734 , 0.59722315, 0.45063789,\n",
       "       0.09099498, 0.04319017, 0.72201619, 0.32786001, 0.52382678,\n",
       "       0.37594525, 0.57279299, 0.6037507 , 0.33822642, 0.11782309,\n",
       "       0.76123695, 0.54208423, 0.51002607, 0.24933966, 0.23486199,\n",
       "       0.0225687 , 0.44456412, 0.69816696, 0.02134235, 0.48503292,\n",
       "       0.01987393, 0.0886421 , 0.57436692, 0.15119439, 0.29046199,\n",
       "       0.81277896, 0.44219986, 0.14056845, 0.04213899, 0.377402  ,\n",
       "       0.23432963, 0.36682091, 0.73751251, 0.45871042, 0.01618376,\n",
       "       0.70526134, 0.03017463, 0.19185241, 0.13874115])"
      ]
     },
     "execution_count": 18,
     "metadata": {},
     "output_type": "execute_result"
    }
   ],
   "source": [
    "Y_prob"
   ]
  },
  {
   "cell_type": "code",
   "execution_count": 24,
   "metadata": {
    "scrolled": true
   },
   "outputs": [],
   "source": [
    "Y_label = Y_prob >= threshold"
   ]
  },
  {
   "cell_type": "code",
   "execution_count": 28,
   "metadata": {},
   "outputs": [],
   "source": [
    "from sklearn.metrics import confusion_matrix, accuracy_score, precision_score, recall_score, f1_score"
   ]
  },
  {
   "cell_type": "code",
   "execution_count": 34,
   "metadata": {},
   "outputs": [
    {
     "name": "stdout",
     "output_type": "stream",
     "text": [
      "Confusion Matrix : \n",
      " [[79 17]\n",
      " [17 41]]\n",
      "Accuracy    :  0.7792207792207793\n",
      "precision   :  0.7068965517241379\n",
      "reacll      :  0.7068965517241379\n",
      "f1_score    :  0.7068965517241379\n"
     ]
    }
   ],
   "source": [
    "print('Confusion Matrix : \\n', confusion_matrix(Y_test, Y_label))\n",
    "print('Accuracy    : ', accuracy_score(Y_test, Y_label))\n",
    "print('precision   : ', precision_score(Y_test, Y_label))\n",
    "print('reacll      : ', recall_score(Y_test, Y_label))\n",
    "print('f1_score    : ', f1_score(Y_test, Y_label))"
   ]
  },
  {
   "cell_type": "markdown",
   "metadata": {},
   "source": [
    "##### 결론적으로\n",
    "   - 우리가 진행헀던 4가지 모델중에서 RandomForest의 AUC 수치가 `0.8586566091954023`으로 가장 높았고, 최종모델로 선택하였다.\n",
    "   - RandomForest의 Threshold가 `0.46860745735745724`일 때, 성능지표들은 위와 같은 결과를 나타내고 있다."
   ]
  }
 ],
 "metadata": {
  "kernelspec": {
   "display_name": "Python 3",
   "language": "python",
   "name": "python3"
  },
  "language_info": {
   "codemirror_mode": {
    "name": "ipython",
    "version": 3
   },
   "file_extension": ".py",
   "mimetype": "text/x-python",
   "name": "python",
   "nbconvert_exporter": "python",
   "pygments_lexer": "ipython3",
   "version": "3.7.9"
  }
 },
 "nbformat": 4,
 "nbformat_minor": 4
}
