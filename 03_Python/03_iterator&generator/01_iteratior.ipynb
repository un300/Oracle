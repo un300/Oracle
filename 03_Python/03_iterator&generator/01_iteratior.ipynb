{
 "metadata": {
  "language_info": {
   "codemirror_mode": {
    "name": "ipython",
    "version": 3
   },
   "file_extension": ".py",
   "mimetype": "text/x-python",
   "name": "python",
   "nbconvert_exporter": "python",
   "pygments_lexer": "ipython3",
   "version": "3.8.5-final"
  },
  "orig_nbformat": 2,
  "kernelspec": {
   "name": "python3",
   "display_name": "Python 3.8.5 64-bit (conda)",
   "metadata": {
    "interpreter": {
     "hash": "b2ee7031707d813743392baf37eab919c3528df2636afebf9afebac9717302cf"
    }
   }
  }
 },
 "nbformat": 4,
 "nbformat_minor": 2,
 "cells": [
  {
   "source": [
    "###### 2021-03-22"
   ],
   "cell_type": "markdown",
   "metadata": {}
  },
  {
   "source": [
    "# 01_Iterator\n",
    "- 값을 차레대로 꺼낼 수 았는 객체\n",
    "- `for i in range(100)` 은 0~99까지 값을 차례대로 꺼낼 수 있는 이터레이터를 하나 만들어내는 것임\n",
    "- 만약, 위처럼 연속된 숫자를 미리 만들어 값을 차례대로 사용한다면, 숫자가 적을 때는 상관없지만 많은 상황에서는 메모리 사용을 많이 하게 되므로 성능이 저하될 수 있음\n",
    "- 그래서 파이썬에는 미리 값을 만들어 두는 것이 아니라 **iterator**를 생성하여 **필요할때 값을 만들어 사용하는 방식**을 사용하고 있음\n",
    "- 이런 방식을 **lazy evaluation**이라고 함\n",
    "- 참고로 iterator는 반복자라고 부르기도 함"
   ],
   "cell_type": "markdown",
   "metadata": {}
  },
  {
   "source": [
    "## 1. 반복 가능 객체 알아보기\n",
    "- 반복 가능한 객체는 말 그대로 반복할 수 있는 객체인데 우리가 흔히 사용하는 문자열, 리스트, 딕셔너리, 세트가 반복 가능한 객체임\n",
    "- 즉, 요소가 여러 개 들어있고 한 번에 하나씩 꺼낼 수 있다는 말\n",
    "- 객체가 반복 가능한지를 알아보기 위해서는, `__iter__` 메소드가 들어있는지 확인하면 됨\n",
    "- 다음과 같이 `dir()` 메소드를 사용하여 객체의 메소드를 확인할 수 있다."
   ],
   "cell_type": "markdown",
   "metadata": {}
  },
  {
   "cell_type": "code",
   "execution_count": 3,
   "metadata": {},
   "outputs": [
    {
     "output_type": "stream",
     "name": "stdout",
     "text": [
      "['__add__', '__class__', '__contains__', '__delattr__', '__delitem__', '__dir__', '__doc__', '__eq__', '__format__', '__ge__', '__getattribute__', '__getitem__', '__gt__', '__hash__', '__iadd__', '__imul__', '__init__', '__init_subclass__', '__iter__', '__le__', '__len__', '__lt__', '__mul__', '__ne__', '__new__', '__reduce__', '__reduce_ex__', '__repr__', '__reversed__', '__rmul__', '__setattr__', '__setitem__', '__sizeof__', '__str__', '__subclasshook__', 'append', 'clear', 'copy', 'count', 'extend', 'index', 'insert', 'pop', 'remove', 'reverse', 'sort']\n\n<method-wrapper '__iter__' of list object at 0x0000020D6F13E440>\n"
     ]
    }
   ],
   "source": [
    "print(dir([1, 2, 3]))\n",
    "print()\n",
    "print([1, 2, 3].__iter__)"
   ]
  },
  {
   "source": [
    "- 리스트의 이터레이터를 변수에 저장한 뒤, __next__ 메소드를 호출해보면 리스트 내의 요소를 차례대로 꺼낼 수 있다.\n",
    "- 리스트, 딕셔너리, 문자열, 세트도 iterable함 그러므로 실습은 생략\n",
    "- range() 메소드도 역시 iterable하다"
   ],
   "cell_type": "markdown",
   "metadata": {}
  },
  {
   "cell_type": "code",
   "execution_count": 10,
   "metadata": {},
   "outputs": [
    {
     "output_type": "stream",
     "name": "stdout",
     "text": [
      "1\n2\n3\n\n0\n1\n2\n"
     ]
    }
   ],
   "source": [
    "list_ = [1, 2, 3].__iter__()\n",
    "print(list_.__next__())\n",
    "print(list_.__next__())\n",
    "print(list_.__next__())\n",
    "\n",
    "print()\n",
    "\n",
    "range_ = range(3).__iter__()\n",
    "print(range_.__next__())\n",
    "print(range_.__next__())\n",
    "print(range_.__next__())"
   ]
  },
  {
   "source": [
    "## 2. 반복 가능한 객체(iterable)와 이터레이터(iterator)\n",
    "- iterable과 iterator는 엄연히 다름\n",
    "- `for i in range(3)`의 예로 알아보자\n",
    "- ![화면 캡처 2021-03-22 224001](https://user-images.githubusercontent.com/54063179/111998667-99989600-8b5f-11eb-9a0a-e85b65663a02.png)\n",
    "- `range(3)`(iterable 객체)는 `__iter__` 메소드(iterator)를 가진다.\n",
    "- 이때, `__iter__`는 `__next__` 메소드를 가지는데 이 `__next__`를 사용하여 객체를 차례대로 참조한다."
   ],
   "cell_type": "markdown",
   "metadata": {}
  },
  {
   "source": [
    "## 3. 이터레이터 만들기\n",
    " - `__iter__.__next__` 메서드를 구현해서 직접 이터레이터를 만들어보자\n",
    " - range() 메소드와 같이 작동하는 이터레이터이다."
   ],
   "cell_type": "markdown",
   "metadata": {}
  },
  {
   "cell_type": "code",
   "execution_count": 13,
   "metadata": {
    "tags": []
   },
   "outputs": [
    {
     "output_type": "stream",
     "name": "stdout",
     "text": [
      "0\n1\n2\n"
     ]
    }
   ],
   "source": [
    "class TempIterator:\n",
    "    def __init__(self, stop):\n",
    "        self.current = 0\n",
    "        self.stop = stop\n",
    "\n",
    "    def __iter__(self):\n",
    "        return self\n",
    "\n",
    "    def __next__(self):\n",
    "        if self.current < self.stop:\n",
    "            r = self.current\n",
    "            self.current += 1\n",
    "            return r\n",
    "        else:\n",
    "            raise StopIteration\n",
    "\n",
    "\n",
    "for i in TempIterator(3):\n",
    "    print(i)"
   ]
  },
  {
   "source": [
    "## 4. 이터레이터 언패킹\n",
    "- 이터레이터는 언패킹이 가능하다\n",
    "- 사실 많이 사용하는 방법이다."
   ],
   "cell_type": "markdown",
   "metadata": {}
  },
  {
   "cell_type": "code",
   "execution_count": 14,
   "metadata": {},
   "outputs": [
    {
     "output_type": "stream",
     "name": "stdout",
     "text": [
      "1\n2\n3\n"
     ]
    }
   ],
   "source": [
    "list_ = [1, 2, 3]\n",
    "a, b, c = list_\n",
    "print(a)\n",
    "print(b)\n",
    "print(c)"
   ]
  },
  {
   "source": [
    "- map함수도 이터레이터이다."
   ],
   "cell_type": "markdown",
   "metadata": {}
  },
  {
   "cell_type": "code",
   "execution_count": 18,
   "metadata": {},
   "outputs": [
    {
     "output_type": "stream",
     "name": "stdout",
     "text": [
      "2\n4\n6\n"
     ]
    }
   ],
   "source": [
    "list_ = [1, 2, 3]\n",
    "\n",
    "a, b, c = map(lambda x : x*2, list_)\n",
    "print(a)\n",
    "print(b)\n",
    "print(c)"
   ]
  },
  {
   "source": [
    "## 5. 인덱스로 접근할 수 있는 이터레이터 만들기\n",
    "- 지금까지 `__iter__`와 `__next__`메서드를 구현하는 방식으로 이터레이터를 만들었다.\n",
    "- 이번에는 `__getitem__` 메서드를 구현하여 인덱스로 접근할 수 있는 이터레이터를 만들어보자."
   ],
   "cell_type": "markdown",
   "metadata": {}
  },
  {
   "cell_type": "code",
   "execution_count": 2,
   "metadata": {},
   "outputs": [],
   "source": [
    "class TempIterator:\n",
    "    def __init__(self, stop):\n",
    "        self.stop = stop\n",
    "\n",
    "    def __getitem__(self, index):\n",
    "        if index < self.stop:\n",
    "            return index\n",
    "        else:\n",
    "            raise IndexError"
   ]
  },
  {
   "cell_type": "code",
   "execution_count": 7,
   "metadata": {},
   "outputs": [
    {
     "output_type": "stream",
     "name": "stdout",
     "text": [
      "0 1 2\n0 1 2 "
     ]
    }
   ],
   "source": [
    "print(TempIterator(3)[0], TempIterator(3)[1], TempIterator(3)[2])\n",
    "for i in TempIterator(3):\n",
    "    print(i, end=' ')"
   ]
  },
  {
   "source": [
    "- 다시 정의한 TempIterator 클래스를 잘보면 `__iter__` 메소드와 `__next__` 메소드가 없어도 잘 실행됨을 볼 수 있다.\n",
    "- 이것은 `__getitem__` 메소드를 작성하면 `__itet__`와 `__next__`는 생략해도 되기 때문이다."
   ],
   "cell_type": "markdown",
   "metadata": {}
  },
  {
   "source": [
    "## 6. `iter()`, `next()` 내장함수\n",
    "- 이번에는 `__iter__`나 `__next__`와 같은 메소드가 아니라 파이썬에서 제공해주는 `iter()`, `next()` 내장함수를 알아보자\n",
    "- `iter()`와 `next()`는 객체의 `__iter__` 메소드와 `__next__` 메소드를 호출해주는 함수이다.\n",
    "- 다음의 예를 보자"
   ],
   "cell_type": "markdown",
   "metadata": {}
  },
  {
   "cell_type": "code",
   "execution_count": 13,
   "metadata": {},
   "outputs": [
    {
     "output_type": "stream",
     "name": "stdout",
     "text": [
      "0\n1\n2\n0\n1\n2\n"
     ]
    }
   ],
   "source": [
    "iter_object = iter(range(3))\n",
    "print(next(iter_object))\n",
    "print(next(iter_object))\n",
    "print(next(iter_object))\n",
    "\n",
    "iter_object02 = range(3).__iter__()\n",
    "print(iter_object02.__next__())\n",
    "print(iter_object02.__next__())\n",
    "print(iter_object02.__next__())"
   ]
  },
  {
   "source": [],
   "cell_type": "markdown",
   "metadata": {}
  },
  {
   "source": [
    "## 7. `iter()`\n",
    "- `iter(호출가능한객체, 반복을끝낼값))`\n",
    "- `iter()`함수에 `반복가능한객체`가 아니라 `호출가능한객체`를 입력해야 한다.\n",
    "- `random.randint(0, 5)`에서 4가나오면 반복을 끝내는 예제를 실습해보자"
   ],
   "cell_type": "markdown",
   "metadata": {}
  },
  {
   "cell_type": "code",
   "execution_count": 28,
   "metadata": {},
   "outputs": [
    {
     "output_type": "stream",
     "name": "stdout",
     "text": [
      "3\n5\n1\n"
     ]
    },
    {
     "output_type": "error",
     "ename": "StopIteration",
     "evalue": "",
     "traceback": [
      "\u001b[1;31m---------------------------------------------------------------------------\u001b[0m",
      "\u001b[1;31mStopIteration\u001b[0m                             Traceback (most recent call last)",
      "\u001b[1;32m<ipython-input-28-bf22c232b7e2>\u001b[0m in \u001b[0;36m<module>\u001b[1;34m\u001b[0m\n\u001b[0;32m      5\u001b[0m \u001b[0mprint\u001b[0m\u001b[1;33m(\u001b[0m\u001b[0mnext\u001b[0m\u001b[1;33m(\u001b[0m\u001b[0mit\u001b[0m\u001b[1;33m)\u001b[0m\u001b[1;33m)\u001b[0m\u001b[1;33m\u001b[0m\u001b[1;33m\u001b[0m\u001b[0m\n\u001b[0;32m      6\u001b[0m \u001b[0mprint\u001b[0m\u001b[1;33m(\u001b[0m\u001b[0mnext\u001b[0m\u001b[1;33m(\u001b[0m\u001b[0mit\u001b[0m\u001b[1;33m)\u001b[0m\u001b[1;33m)\u001b[0m\u001b[1;33m\u001b[0m\u001b[1;33m\u001b[0m\u001b[0m\n\u001b[1;32m----> 7\u001b[1;33m \u001b[0mprint\u001b[0m\u001b[1;33m(\u001b[0m\u001b[0mnext\u001b[0m\u001b[1;33m(\u001b[0m\u001b[0mit\u001b[0m\u001b[1;33m)\u001b[0m\u001b[1;33m)\u001b[0m\u001b[1;33m\u001b[0m\u001b[1;33m\u001b[0m\u001b[0m\n\u001b[0m\u001b[0;32m      8\u001b[0m \u001b[0mprint\u001b[0m\u001b[1;33m(\u001b[0m\u001b[0mnext\u001b[0m\u001b[1;33m(\u001b[0m\u001b[0mit\u001b[0m\u001b[1;33m)\u001b[0m\u001b[1;33m)\u001b[0m\u001b[1;33m\u001b[0m\u001b[1;33m\u001b[0m\u001b[0m\n\u001b[0;32m      9\u001b[0m \u001b[0mprint\u001b[0m\u001b[1;33m(\u001b[0m\u001b[0mnext\u001b[0m\u001b[1;33m(\u001b[0m\u001b[0mit\u001b[0m\u001b[1;33m)\u001b[0m\u001b[1;33m)\u001b[0m\u001b[1;33m\u001b[0m\u001b[1;33m\u001b[0m\u001b[0m\n",
      "\u001b[1;31mStopIteration\u001b[0m: "
     ]
    }
   ],
   "source": [
    "import random\n",
    "it = iter(lambda : random.randint(0, 5), 4)\n",
    "\n",
    "print(next(it))\n",
    "print(next(it))\n",
    "print(next(it))\n",
    "print(next(it))\n",
    "print(next(it))\n",
    "print(next(it))\n"
   ]
  },
  {
   "source": [
    "- `next(it)`로 계속 난수를 생성하다보면, `StropIteration`이 만들어진다.\n",
    "- 물론 if 문으로도 위의 코드를 재현할 수 있지만, if 조건문은 매번 확인해야 한다는 점에서 위 코드보다 더욱 복잡한 방법이다."
   ],
   "cell_type": "markdown",
   "metadata": {}
  },
  {
   "cell_type": "code",
   "execution_count": 29,
   "metadata": {},
   "outputs": [
    {
     "output_type": "stream",
     "name": "stdout",
     "text": [
      "5\n4\n1\n4\n3\n0\n"
     ]
    }
   ],
   "source": [
    "import random\n",
    "\n",
    "while True:\n",
    "    i = random.randint(0, 5)\n",
    "    if i == 2:\n",
    "        break\n",
    "    print(i)"
   ]
  },
  {
   "source": [
    "8. `next()`\n",
    "- `next()`는 기본 값을 지정할 수 있다.\n",
    "- `next(반복가능한객체, 기본값)`\n",
    "- 여기서 기본값은 `StopIteration`이 발생하지 않고, 기본값을 출력한다는 것이다."
   ],
   "cell_type": "markdown",
   "metadata": {}
  },
  {
   "cell_type": "code",
   "execution_count": 32,
   "metadata": {},
   "outputs": [
    {
     "output_type": "stream",
     "name": "stdout",
     "text": [
      "0\n1\n2\n10\n10\n"
     ]
    }
   ],
   "source": [
    "it = iter(range(3))\n",
    "print(next(it, 10))\n",
    "print(next(it, 10))\n",
    "print(next(it, 10))\n",
    "print(next(it, 10))\n",
    "print(next(it, 10))"
   ]
  }
 ]
}