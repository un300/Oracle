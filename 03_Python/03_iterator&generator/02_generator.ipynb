{
 "metadata": {
  "language_info": {
   "codemirror_mode": {
    "name": "ipython",
    "version": 3
   },
   "file_extension": ".py",
   "mimetype": "text/x-python",
   "name": "python",
   "nbconvert_exporter": "python",
   "pygments_lexer": "ipython3",
   "version": "3.8.5-final"
  },
  "orig_nbformat": 2,
  "kernelspec": {
   "name": "python3",
   "display_name": "Python 3.8.5 64-bit (conda)",
   "metadata": {
    "interpreter": {
     "hash": "b2ee7031707d813743392baf37eab919c3528df2636afebf9afebac9717302cf"
    }
   }
  }
 },
 "nbformat": 4,
 "nbformat_minor": 2,
 "cells": [
  {
   "source": [
    "###### 2021-03-24\n",
    "# 02_Generator\n",
    "- Generator는 iterator를 생성해주는 함수이다.\n",
    "- iterator는 클래스에 `__iter__`, `__next__` 또는 `__getitem__` 메소드를 구현하여야 하지만, 제너레이터는 함수 안에 `yeild`라는 키워드만 사용하면 된다.\n",
    "- 그래서 Generator는 Iterator보다 훨씬 간단하게 작성할 수 있다.\n",
    "- 참고로 Generator는 발생자라고 부르기도 한다.\n"
   ],
   "cell_type": "markdown",
   "metadata": {}
  },
  {
   "source": [
    "## 1. Generator와 yield 알아보기\n",
    "- 함수 안에서 yield를 사용하면 함수는 제너레이터가 되며, yield에는 값(변수)을 지정한다.\n",
    "- 이제 `yield`를 사용해서 제너레이터를 만들고 for 반목문에서 0, 1, 2 숫자 세 개를 출력해보자."
   ],
   "cell_type": "markdown",
   "metadata": {}
  },
  {
   "cell_type": "code",
   "execution_count": 1,
   "metadata": {},
   "outputs": [
    {
     "output_type": "stream",
     "name": "stdout",
     "text": [
      "0\n1\n2\n"
     ]
    }
   ],
   "source": [
    "def number_generator():\n",
    "    yield 0\n",
    "    yield 1\n",
    "    yield 2\n",
    "\n",
    "for i in number_generator():\n",
    "    print(i)"
   ]
  },
  {
   "source": [
    "## 2. 제너레이터 객체가 이터레이터인지 확인하기\n",
    "- 그럼 number_generator 함수로 만든 객체가 정말 이터레이터인지 살펴보자.\n",
    "- 다음과 같이 `dir`함수로 메서드 목록을 확인해본다.\n",
    "- 목록에 `__iter__` 메소드와 `__next__` 메소드가 들어있다.\n",
    "- 실제로 제너레이터 객체의 `__next__`를 호출해보면, 숫자 0, 1, 2가 나오다가 `StopIteration`이 발생한다."
   ],
   "cell_type": "markdown",
   "metadata": {}
  },
  {
   "cell_type": "code",
   "execution_count": 4,
   "metadata": {},
   "outputs": [
    {
     "output_type": "stream",
     "name": "stdout",
     "text": [
      "['__class__', '__del__', '__delattr__', '__dir__', '__doc__', '__eq__', '__format__', '__ge__', '__getattribute__', '__gt__', '__hash__', '__init__', '__init_subclass__', '__iter__', '__le__', '__lt__', '__name__', '__ne__', '__new__', '__next__', '__qualname__', '__reduce__', '__reduce_ex__', '__repr__', '__setattr__', '__sizeof__', '__str__', '__subclasshook__', 'close', 'gi_code', 'gi_frame', 'gi_running', 'gi_yieldfrom', 'send', 'throw']\n0\n1\n2\n"
     ]
    },
    {
     "output_type": "error",
     "ename": "StopIteration",
     "evalue": "",
     "traceback": [
      "\u001b[1;31m---------------------------------------------------------------------------\u001b[0m",
      "\u001b[1;31mStopIteration\u001b[0m                             Traceback (most recent call last)",
      "\u001b[1;32m<ipython-input-4-36bc2401a58b>\u001b[0m in \u001b[0;36m<module>\u001b[1;34m\u001b[0m\n\u001b[0;32m      5\u001b[0m \u001b[0mprint\u001b[0m\u001b[1;33m(\u001b[0m\u001b[0mg\u001b[0m\u001b[1;33m.\u001b[0m\u001b[0m__next__\u001b[0m\u001b[1;33m(\u001b[0m\u001b[1;33m)\u001b[0m\u001b[1;33m)\u001b[0m\u001b[1;33m\u001b[0m\u001b[1;33m\u001b[0m\u001b[0m\n\u001b[0;32m      6\u001b[0m \u001b[0mprint\u001b[0m\u001b[1;33m(\u001b[0m\u001b[0mg\u001b[0m\u001b[1;33m.\u001b[0m\u001b[0m__next__\u001b[0m\u001b[1;33m(\u001b[0m\u001b[1;33m)\u001b[0m\u001b[1;33m)\u001b[0m\u001b[1;33m\u001b[0m\u001b[1;33m\u001b[0m\u001b[0m\n\u001b[1;32m----> 7\u001b[1;33m \u001b[0mprint\u001b[0m\u001b[1;33m(\u001b[0m\u001b[0mg\u001b[0m\u001b[1;33m.\u001b[0m\u001b[0m__next__\u001b[0m\u001b[1;33m(\u001b[0m\u001b[1;33m)\u001b[0m\u001b[1;33m)\u001b[0m\u001b[1;33m\u001b[0m\u001b[1;33m\u001b[0m\u001b[0m\n\u001b[0m",
      "\u001b[1;31mStopIteration\u001b[0m: "
     ]
    }
   ],
   "source": [
    "g = number_generator()\n",
    "print(dir(g))\n",
    "\n",
    "print(g.__next__())\n",
    "print(g.__next__())\n",
    "print(g.__next__())\n",
    "print(g.__next__())"
   ]
  },
  {
   "source": [
    "## 3. for와 제너레이터\n",
    "- `for`반복문은 반복할 때 마다 `__next__`를 호출함으로 `yield`에서 발생시킨 값을 가져온다.\n",
    "- 그리고 `StopIteration` 예외가 발생하면, 반복을 끝낸다.\n",
    "- ![040001](https://user-images.githubusercontent.com/54063179/112310810-561d6380-8ce8-11eb-9a6e-b56e9f7b7dac.png)\n",
    "- `yield`라는 뜻은 생산하다는 뜻과 양보하다는 뜻 두 가지의 의미를 내포하고 있다.\n",
    "- 여기서는 **양보하다**의 의미로 해석되는 것이 맞다.\n",
    "- `yield`를 사용하면 값을 함수 바깥으로 전달하면서, 코드 실행을 함수 바깥으로 양보하기 때문이다.\n",
    "- 즉, `yield`는 현재 함수를 잠시 중단하면서 함수 바깥의 코드가 실행되도록 만든다\n",
    "- ![040004](https://user-images.githubusercontent.com/54063179/112319728-b1078880-8cf1-11eb-8863-082447f0e7cd.png)\n",
    "- `yield`는 함수가 끝나지 않은 상태에서 함수 내의 값을 함수 밖으로 반환할 수 있다.\n",
    "- 쉽게 설명하면, `return`은 반환 즉시 함수가 종료되지만, `yield`는 함수 밖으로 값을 가져가게하고(함수 밖으로 값을 양보하고) 다시 제너레이터 안의 코드를 계속 실행하는 방식이다.\n"
   ],
   "cell_type": "markdown",
   "metadata": {}
  },
  {
   "cell_type": "code",
   "execution_count": null,
   "metadata": {},
   "outputs": [],
   "source": []
  },
  {
   "cell_type": "code",
   "execution_count": null,
   "metadata": {},
   "outputs": [],
   "source": []
  },
  {
   "cell_type": "code",
   "execution_count": null,
   "metadata": {},
   "outputs": [],
   "source": []
  },
  {
   "cell_type": "code",
   "execution_count": null,
   "metadata": {},
   "outputs": [],
   "source": []
  }
 ]
}