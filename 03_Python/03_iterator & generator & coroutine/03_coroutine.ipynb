{
 "metadata": {
  "language_info": {
   "codemirror_mode": {
    "name": "ipython",
    "version": 3
   },
   "file_extension": ".py",
   "mimetype": "text/x-python",
   "name": "python",
   "nbconvert_exporter": "python",
   "pygments_lexer": "ipython3",
   "version": "3.8.5-final"
  },
  "orig_nbformat": 2,
  "kernelspec": {
   "name": "python3",
   "display_name": "Python 3.8.5 64-bit (conda)",
   "metadata": {
    "interpreter": {
     "hash": "b2ee7031707d813743392baf37eab919c3528df2636afebf9afebac9717302cf"
    }
   }
  }
 },
 "nbformat": 4,
 "nbformat_minor": 2,
 "cells": [
  {
   "source": [
    "###### 2021-03-28"
   ],
   "cell_type": "markdown",
   "metadata": {}
  },
  {
   "source": [
    "# Co-Routine (코루틴)\n",
    "- 코루틴을 알아보기 전에 *메인함수*와 *서브함수*를 알아보자."
   ],
   "cell_type": "markdown",
   "metadata": {}
  },
  {
   "cell_type": "code",
   "execution_count": 4,
   "metadata": {},
   "outputs": [
    {
     "output_type": "stream",
     "name": "stdout",
     "text": [
      "3\n서브 함수\n메인 함수\n"
     ]
    }
   ],
   "source": [
    "def sub_function(a, b):\n",
    "    c = a + b\n",
    "    print(c)\n",
    "    print('서브 함수')\n",
    "\n",
    "def main_function():\n",
    "    sub_function(1, 2)\n",
    "    print('메인 함수')\n",
    "\n",
    "main_function()"
   ]
  },
  {
   "source": [
    "![041001](https://user-images.githubusercontent.com/54063179/112755008-d5c56e00-9019-11eb-9ac1-df59eba60974.png)\n",
    "- 위 그림처럼 메인함수와 서브함수의 관계에서는 `메인함수` > `서브함수` > `메인함수`로 코드를 실행한다.\n",
    "- 또한, `서브함수`를 실행하고 다시 `메인함수`로 돌아오면, `서브함수`의 내용은 모두 사라지게 된다."
   ],
   "cell_type": "markdown",
   "metadata": {}
  },
  {
   "source": [
    "![041002](https://user-images.githubusercontent.com/54063179/112755090-276df880-901a-11eb-9887-cb49a87658df.png)\n",
    "- 반면에 코루틴은 *Copoerative routine*의 줄임말로 서로 협력하는 루틴이다.\n",
    "- 위에서 예시로 들었던 `메인함수`와 `서브함수`처럼 종속의 관계가 아니라 *서로 대등한 관계*이다.\n",
    "- 그러므로 코루틴은 함수가 종료되지 않은 상태에서 메인 루틴의 코드를 실행한 뒤 다시 원래의 코드로 돌아온다. 이때, 코루틴이 종료되어도 코루틴의 내용이 사라지지 않는다."
   ],
   "cell_type": "markdown",
   "metadata": {}
  },
  {
   "source": [
    "## 1. 코루틴에 값 보내기\n",
    "- 코루틴은 제너레이터의 한 종류이다.\n",
    "- 제너레이터는 `yield`로 값을 발생시켰지만, 코루틴은 `yield`로 값을 받아올 수 있습니다.\n",
    "- 다음과 같이 코루틴을 실행할때는 `send`메서드를 사용한다.\n",
    "    - `코루틴객체.send(값)`\n",
    "    - `변수 = (yield)`"
   ],
   "cell_type": "markdown",
   "metadata": {}
  },
  {
   "cell_type": "code",
   "execution_count": 7,
   "metadata": {},
   "outputs": [
    {
     "output_type": "stream",
     "name": "stdout",
     "text": [
      "1\n2\n3\n"
     ]
    }
   ],
   "source": [
    "def number_generator():\n",
    "    while True:  # 코루틴을 무한히 사용하기위해 While True\n",
    "        x = (yield)  # 코루틴 밖에서 send메서드를 이용해 값을 받아옴\n",
    "        print(x)\n",
    "\n",
    "\n",
    "co = number_generator()\n",
    "next(co)  # 코루틴 안에 `yield` 까지 실행\n",
    "          # 코루틴을 최초로 실행 하는 것이라고 보면됨\n",
    "          # `co.send(None)`를 대신 사용해도 된다.\n",
    "          # 자세한건 아래 그림을 참조하자\n",
    "\n",
    "co.send(1)  # 코루틴에 숫자 1 보냄\n",
    "co.send(2)  # 코루틴에 숫자 2 보냄\n",
    "co.send(3)  # 코루틴에 숫자 3 보냄"
   ]
  },
  {
   "source": [
    "- 아래는 위 코드의 실행 과정을 도식화한 것이다.\n",
    "![041003](https://user-images.githubusercontent.com/54063179/112755406-808a5c00-901b-11eb-818a-55edb6972a2d.png)"
   ],
   "cell_type": "markdown",
   "metadata": {}
  },
  {
   "cell_type": "code",
   "execution_count": null,
   "metadata": {},
   "outputs": [],
   "source": []
  },
  {
   "cell_type": "code",
   "execution_count": null,
   "metadata": {},
   "outputs": [],
   "source": []
  },
  {
   "cell_type": "code",
   "execution_count": null,
   "metadata": {},
   "outputs": [],
   "source": []
  },
  {
   "cell_type": "code",
   "execution_count": null,
   "metadata": {},
   "outputs": [],
   "source": []
  }
 ]
}