{
 "cells": [
  {
   "cell_type": "markdown",
   "metadata": {},
   "source": [
    "- 입력문자와 목표문자의 길이는 같다\n",
    "- 카이사르 암호화를 통해 입력문자와 목표문자의 최소한의 길이를 구하고\n",
    "- '문자빼기'와 '문자넣기' 두가지 연산을 통해 입력문자가 목표문자가 되는최소한의 연산개수를 구하여라\n",
    "- 이때 문자빼기와 문자넣기는 각각 하나의 연산을 의미한다."
   ]
  },
  {
   "cell_type": "code",
   "execution_count": 1,
   "metadata": {},
   "outputs": [],
   "source": [
    "from collections import Counter\n",
    "\n",
    "def cycle(x) :\n",
    "    if x > 122 :\n",
    "        x -= 26\n",
    "    return x\n",
    "\n",
    "def editDistance(source, target):\n",
    "    # Write your code here\n",
    "    \n",
    "    # 1. 거리를 찾기 위해 문자의 위치를 숫자로 나타내기\n",
    "    source_list = list(map(lambda x : int(ord(x)), source))\n",
    "    target_list = list(map(lambda x : int(ord(x)), target))\n",
    "    \n",
    "    # 2. 입력값과 타겟값의 최소한의 거리를 찾아보자\n",
    "    minimum = 999999999999999999999999\n",
    "\n",
    "    target_dict = Counter(target_list)\n",
    "    \n",
    "    for i in range(27):\n",
    "        trans_source_list = [ cycle(element+i) for element in source_list ]\n",
    "        \n",
    "        no_exit_lsit = []\n",
    "        source_dict = Counter(trans_source_list)\n",
    "        for key in source_dict.keys() :\n",
    "            if key not in target_dict.keys():\n",
    "                no_exit_lsit.append(source_dict[key])\n",
    "            else :\n",
    "                no_exit_lsit.append(abs(target_dict[key] - source_dict[key]))\n",
    "        \n",
    "        \n",
    "        temp_sum = sum(no_exit_lsit)\n",
    "        if temp_sum < minimum :\n",
    "            minimum = temp_sum\n",
    "    \n",
    "    \n",
    "    # 4. 결과출력\n",
    "    return minimum * 2\n",
    "    "
   ]
  },
  {
   "cell_type": "code",
   "execution_count": null,
   "metadata": {},
   "outputs": [],
   "source": [
    "from collections import Counter\n",
    "\n",
    "def cycle(x) :\n",
    "    if x > 122 :\n",
    "        x = x - 26\n",
    "    return int(x)\n",
    "\n",
    "def editDistance(source, target):\n",
    "    # Write your code here\n",
    "    \n",
    "    # 1. 거리를 찾기 위해 문자의 위치를 숫자로 나타내기\n",
    "    source_list = list(map(lambda x : int(ord(x)), source))\n",
    "    target_list = list(map(lambda x : int(ord(x)), target))\n",
    "    \n",
    "    # 2. 입력값과 타겟값의 최소한의 거리를 찾아보자\n",
    "    max_num = 0\n",
    "\n",
    "    target_dict = Counter(target_list)\n",
    "    \n",
    "    for i in range(26):\n",
    "        trans_source_list = [ cycle(element+i) for element in source_list ]\n",
    "        source_dict = Counter(trans_source_list)\n",
    "        \n",
    "        source_keys = source_dict.keys()\n",
    "        target_keys = target_dict.keys()\n",
    "        \n",
    "        exit_count_list = []\n",
    "        for key in source_keys :\n",
    "            if key in target_keys:\n",
    "                if target_dict[key] >= source_dict[key]:\n",
    "                    exit_count_list.append(source_dict[key])\n",
    "                else : \n",
    "                    exit_count_list.append(target_dict[key])\n",
    "        \n",
    "        temp_sum = sum(exit_count_list)\n",
    "        if temp_sum >= max_num :\n",
    "            max_num = temp_sum\n",
    "    \n",
    "    \n",
    "    # 4. 결과출력\n",
    "    return (len(source) - max_num) * 2"
   ]
  },
  {
   "cell_type": "markdown",
   "metadata": {},
   "source": [
    "아~~~ 맞는거 같은디유 ㅠㅠ 왜 틀린거죠?"
   ]
  },
  {
   "cell_type": "code",
   "execution_count": null,
   "metadata": {},
   "outputs": [],
   "source": [
    "# 입력 mqfsnmygrquczhymvkurxfelpeagkisearktnjrcapbuuawnmcrgsfsnusuprtnnzbuvtoemgiohvicsnkqhbgoomupuvjmfzpqp\n",
    "# 출력 yelitmysnjcfgvvvezaprgaonzkofyqqhfmxseezencanocepyzxocwivnkbjrhcehqlcwsagrfookhiwsrjguzonapppyyodlqx\n",
    "\n",
    "# 답 : 136"
   ]
  }
 ],
 "metadata": {
  "kernelspec": {
   "display_name": "Python 3",
   "language": "python",
   "name": "python3"
  },
  "language_info": {
   "codemirror_mode": {
    "name": "ipython",
    "version": 3
   },
   "file_extension": ".py",
   "mimetype": "text/x-python",
   "name": "python",
   "nbconvert_exporter": "python",
   "pygments_lexer": "ipython3",
   "version": "3.7.9"
  }
 },
 "nbformat": 4,
 "nbformat_minor": 4
}
