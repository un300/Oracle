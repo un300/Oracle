{
 "cells": [
  {
   "cell_type": "code",
   "execution_count": null,
   "metadata": {},
   "outputs": [],
   "source": [
    "## zip 함수\n",
    "\n",
    "a = [1, 2, 3, 4, 5]\n",
    "b = [10, 20, 30, 40, 50]\n",
    "\n",
    "c = [a, b]\n",
    "for i in zip(a, b):\n",
    "    print(i)"
   ]
  },
  {
   "cell_type": "code",
   "execution_count": null,
   "metadata": {},
   "outputs": [],
   "source": [
    "list1 = list(range(0, 21, 1))\n",
    "\n",
    "## 리스트 거꾸로 출력하기!\n",
    "print(list1[::-1])\n",
    "\n",
    "## 리스트 슬라이스\n",
    "print(list1[::2])  ## -> 리스트 인덱스를 2간격 만큼 뽑아주세요!\n"
   ]
  },
  {
   "cell_type": "code",
   "execution_count": null,
   "metadata": {},
   "outputs": [],
   "source": [
    "## enumerate()\n",
    "## 인덱스 값과 원소 값을 반환해준다!\n",
    "\n",
    "a = ['삼겹살', '크리스피치킨', '빈대떡', '소주', '피자']\n",
    "\n",
    "for i, x in enumerate(a):\n",
    "    print(f'인덱스는 {i}, 원소값은 {x}')\n",
    "\n"
   ]
  },
  {
   "cell_type": "code",
   "execution_count": null,
   "metadata": {},
   "outputs": [],
   "source": [
    "## copy() / deepcopy()\n",
    "\n",
    "\n",
    "# 먼저 copy()\n",
    "#  >  얕은 복사라고 함 : 리스트안에 원소가 참조하는 곳까지 복사가 되버림\n",
    "a = [[1, 2, 3], [4, 5, 6]]\n",
    "b = a.copy()\n",
    "\n",
    "\n",
    "a[0][1] = 10\n",
    "\n",
    "print('copy()의 실행결과 입니다.')\n",
    "print(a)\n",
    "print(b)\n",
    "\n",
    "\n",
    "# 다음으로 deepcopy()\n",
    "#  >  깊은 복사라고 함 : 구성 원소만 복사해주는 함수\n",
    "# import copy 가 필요하다\n",
    "\n",
    "import copy\n",
    "\n",
    "\n",
    "x = [[4, 4, 4], [4 ,4 ,4]]\n",
    "y = copy.deepcopy(x)\n",
    "\n",
    "y[0][0] = 10\n",
    "print('deepcopy()의 실행결과 입니다')\n",
    "print(x)\n",
    "print(y)"
   ]
  }
 ],
 "metadata": {
  "kernelspec": {
   "display_name": "Python 3",
   "language": "python",
   "name": "python3"
  },
  "language_info": {
   "codemirror_mode": {
    "name": "ipython",
    "version": 3
   },
   "file_extension": ".py",
   "mimetype": "text/x-python",
   "name": "python",
   "nbconvert_exporter": "python",
   "pygments_lexer": "ipython3",
   "version": "3.7.6"
  }
 },
 "nbformat": 4,
 "nbformat_minor": 4
}
