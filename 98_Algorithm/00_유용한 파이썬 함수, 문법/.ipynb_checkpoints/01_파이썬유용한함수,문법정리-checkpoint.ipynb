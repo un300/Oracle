{
 "cells": [
  {
   "cell_type": "markdown",
   "metadata": {},
   "source": [
    "# zip()"
   ]
  },
  {
   "cell_type": "code",
   "execution_count": null,
   "metadata": {},
   "outputs": [],
   "source": [
    "## zip 함수\n",
    "\n",
    "a = [1, 2, 3, 4, 5]\n",
    "b = [10, 20, 30, 40, 50]\n",
    "\n",
    "c = [a, b]\n",
    "for i in zip(a, b):\n",
    "    print(i)"
   ]
  },
  {
   "cell_type": "markdown",
   "metadata": {},
   "source": [
    "# 리스트 인덱싱"
   ]
  },
  {
   "cell_type": "code",
   "execution_count": 1,
   "metadata": {},
   "outputs": [
    {
     "name": "stdout",
     "output_type": "stream",
     "text": [
      "[20, 19, 18, 17, 16, 15, 14, 13, 12, 11, 10, 9, 8, 7, 6, 5, 4, 3, 2, 1, 0]\n",
      "[0, 2, 4, 6, 8, 10, 12, 14, 16, 18, 20]\n"
     ]
    }
   ],
   "source": [
    "list1 = list(range(0, 21, 1))\n",
    "\n",
    "## 리스트 거꾸로 출력하기!\n",
    "print(list1[::-1])\n",
    "\n",
    "## 리스트 슬라이스\n",
    "print(list1[::2])  ## -> 리스트 인덱스를 2간격 만큼 뽑아주세요!\n"
   ]
  },
  {
   "cell_type": "markdown",
   "metadata": {},
   "source": [
    "# enumerate()"
   ]
  },
  {
   "cell_type": "code",
   "execution_count": null,
   "metadata": {},
   "outputs": [],
   "source": [
    "## enumerate()\n",
    "## 인덱스 값과 원소 값을 반환해준다!\n",
    "\n",
    "a = ['삼겹살', '크리스피치킨', '빈대떡', '소주', '피자']\n",
    "\n",
    "for i, x in enumerate(a):\n",
    "    print(f'인덱스는 {i}, 원소값은 {x}')\n",
    "\n"
   ]
  },
  {
   "cell_type": "markdown",
   "metadata": {},
   "source": [
    "# copy() / deepcopy()"
   ]
  },
  {
   "cell_type": "code",
   "execution_count": null,
   "metadata": {},
   "outputs": [],
   "source": [
    "## copy() / deepcopy()\n",
    "\n",
    "\n",
    "# 먼저 copy()\n",
    "#  >  얕은 복사라고 함 : 리스트안에 원소가 참조하는 곳까지 복사가 되버림\n",
    "a = [[1, 2, 3], [4, 5, 6]]\n",
    "b = a.copy()\n",
    "\n",
    "\n",
    "a[0][1] = 10\n",
    "\n",
    "print('copy()의 실행결과 입니다.')\n",
    "print(a)\n",
    "print(b)\n",
    "\n",
    "\n",
    "# 다음으로 deepcopy()\n",
    "#  >  깊은 복사라고 함 : 구성 원소만 복사해주는 함수\n",
    "# import copy 가 필요하다\n",
    "\n",
    "import copy\n",
    "\n",
    "\n",
    "x = [[4, 4, 4], [4 ,4 ,4]]\n",
    "y = copy.deepcopy(x)\n",
    "\n",
    "y[0][0] = 10\n",
    "print('deepcopy()의 실행결과 입니다')\n",
    "print(x)\n",
    "print(y)"
   ]
  },
  {
   "cell_type": "markdown",
   "metadata": {},
   "source": [
    "# sum([2중리스트], [])"
   ]
  },
  {
   "cell_type": "markdown",
   "metadata": {},
   "source": [
    "   - 간단한 설명을 하자면..\n",
    "       `sum(iterable객체 {, object})`   > {}안은 생략가능.\n",
    "   - {}를 생략하면 `object`는 디폴트 값으로 0이 들어간다.\n",
    "   \n",
    "### 예를들어보자\n",
    "   - `list1 = [1, 2, 3, 4]`일때\n",
    "   - sum(list1)의 작동원리는?\n",
    "   - 0(=object) + 1 + 2 + 3 + 4 =10\n",
    "       \n",
    "### 그렇다면 2중 리스트의 예는?\n",
    "   - list1 = [['A', 'B', 'C'], ['1', '2', '3']] 일때,\n",
    "   - sum(list1, [])의 작동원리는?\n",
    "   - [](=object) + ['A', 'B', 'C'] + ['1', '2', '3'] = ['A', 'B', 'C', '1', '2', '3']\n",
    "   \n",
    "### 그럼 sum(list1)는 안될까?\n",
    "   - 0(=object) + ['A', 'B', 'C'] + ['1', '2', '3'] = Error!\n",
    "   - 리스트 + 리스트 + 0 꼴이기 때문에 (디폴트값이 0이 포함되기 때문에) 에러가 뜬다!"
   ]
  },
  {
   "cell_type": "code",
   "execution_count": 3,
   "metadata": {},
   "outputs": [
    {
     "data": {
      "text/plain": [
       "['A', 'B', 'C', '1', '2', '3']"
      ]
     },
     "execution_count": 3,
     "metadata": {},
     "output_type": "execute_result"
    }
   ],
   "source": [
    "# 2중 리스트 플랫하게 만들기\n",
    "\n",
    "list1 = [['A', 'B', 'C'], ['1', '2', '3']]\n",
    "\n",
    "sum(list1, [])"
   ]
  }
 ],
 "metadata": {
  "kernelspec": {
   "display_name": "Python 3",
   "language": "python",
   "name": "python3"
  },
  "language_info": {
   "codemirror_mode": {
    "name": "ipython",
    "version": 3
   },
   "file_extension": ".py",
   "mimetype": "text/x-python",
   "name": "python",
   "nbconvert_exporter": "python",
   "pygments_lexer": "ipython3",
   "version": "3.7.9"
  }
 },
 "nbformat": 4,
 "nbformat_minor": 4
}
