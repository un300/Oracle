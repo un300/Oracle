{
 "cells": [
  {
   "cell_type": "markdown",
   "metadata": {},
   "source": [
    "###### 2020-10-29 목요일\n",
    "###### 2020-11-02 월요일"
   ]
  },
  {
   "cell_type": "code",
   "execution_count": 1,
   "metadata": {},
   "outputs": [],
   "source": [
    "import warnings\n",
    "warnings.filterwarnings(action='ignore')"
   ]
  },
  {
   "cell_type": "markdown",
   "metadata": {},
   "source": [
    "# 08_원-핫 인코딩\n",
    "   - 원-핫 인코딩을 배우기 전에 먼저 **단어집합(vocabulary)**에 대해서 정의해 보도록 하자.\n",
    "   - 사람에 따라서는 사전이라고도 하나, 단어집합으로 부르겠다.\n",
    "   - **단어집합**에서는 기본적으로 `book`과 `books`와 같이 단어의 변형 형태도 다른 단어로 간주한다.\n",
    "   - 앞으로의 과정은 **단어집합**에 있는 단어들을 숫자로(더 구체적으로는 벡터로) 바꾸는 여러방법에 대해 배울 것이고, 그 여러가지 방법중 하나가 **원-핫 인코딩**이다.\n",
    "   - **원-핫 인코딩**을 진행하기전에 해야할 작업들이 있다.\n",
    "       1. 텍스트의 모든 단어들을 중복을 허용하지 않고 모아놓은 **단어집합**을 만들어야 한다.\n",
    "       2. 만들어진 **단어집합**에 고유한 숫자를 부여하는 **정수 인코딩**을 진행한다."
   ]
  },
  {
   "cell_type": "markdown",
   "metadata": {},
   "source": [
    "### 목차\n",
    "\n",
    "#### 8-1 원-핫 인코딩(One-Hot Encoding)이란?\n",
    "\n",
    "#### 8-2 케라스(keras)를 이용한 원-핫 인코딩(One-Hot Encoding)\n",
    "\n",
    "#### 8-3 원핫 인코딩의 한계"
   ]
  },
  {
   "cell_type": "markdown",
   "metadata": {},
   "source": [
    "## 8-1 원-핫 인코딩(One-Hot Encoding)이란?\n",
    "   - 원핫인코딩은 데이터분석을 하고 파이썬을 이용해 머신러닝 또는 딥러닝을 다루어본 경험이 있는 사람은 한번에 이해할 수 있다.\n",
    "   - 원핫인코딩은 단어 집합의 크기를 벡터의 차원으로 두고, 표현하고 싶은 단어의 인덱스에 1의 값을 다른 단어에는 0을 부여하는 단어의 벡터 표현 방식이다.\n",
    "   - 머신러닝에 범주형 Feature를 넣을때, 수치형으로 변환하기 위해 pd.get_dummies()를 사용한것과 같은 원리이다.\n",
    "\n",
    "\n",
    "\n",
    "##### 백문이 불여일견. 실습해보자"
   ]
  },
  {
   "cell_type": "markdown",
   "metadata": {},
   "source": [
    " - 먼저 `konlqy`의 Okt 형태소 분석기를 통해 문장에 대해 토큰화를 수행하자"
   ]
  },
  {
   "cell_type": "code",
   "execution_count": 2,
   "metadata": {},
   "outputs": [],
   "source": [
    "text = '나는 자연어 처리를 배운다'"
   ]
  },
  {
   "cell_type": "code",
   "execution_count": 3,
   "metadata": {},
   "outputs": [],
   "source": [
    "from konlpy.tag import Okt"
   ]
  },
  {
   "cell_type": "code",
   "execution_count": 4,
   "metadata": {},
   "outputs": [
    {
     "name": "stdout",
     "output_type": "stream",
     "text": [
      "['나', '는', '자연어', '처리', '를', '배운다']\n"
     ]
    }
   ],
   "source": [
    "okt = Okt()\n",
    "token = okt.morphs(text)\n",
    "print(token)"
   ]
  },
  {
   "cell_type": "markdown",
   "metadata": {},
   "source": [
    " - 토큰화 된 텍스트에 정수인덱스를 부여하자"
   ]
  },
  {
   "cell_type": "code",
   "execution_count": 5,
   "metadata": {},
   "outputs": [
    {
     "name": "stdout",
     "output_type": "stream",
     "text": [
      "{'나': 0, '는': 1, '자연어': 2, '처리': 3, '를': 4, '배운다': 5}\n"
     ]
    }
   ],
   "source": [
    "word2index = {}\n",
    "\n",
    "for voca in token:\n",
    "    if voca not in word2index.keys():\n",
    "        word2index[voca] = len(word2index)\n",
    "print(word2index)"
   ]
  },
  {
   "cell_type": "markdown",
   "metadata": {},
   "source": [
    " - 단어 집합에 고유의 정수 인덱스를 부여하였다.\n",
    " - 단어의 수가 많지 않아 단어의 빈도는 고려하지 않았다."
   ]
  },
  {
   "cell_type": "markdown",
   "metadata": {},
   "source": [
    " - 아래 함수는 텍스트와 **단어집합**을 입력했을때, 원핫 인코딩을 수행해 주는 함수이다."
   ]
  },
  {
   "cell_type": "code",
   "execution_count": 6,
   "metadata": {},
   "outputs": [],
   "source": [
    "def one_hot_encoding(word, word2index):\n",
    "       one_hot_vector = [0]*(len(word2index))\n",
    "       index=word2index[word]\n",
    "       one_hot_vector[index]=1\n",
    "       return one_hot_vector"
   ]
  },
  {
   "cell_type": "code",
   "execution_count": 7,
   "metadata": {},
   "outputs": [
    {
     "data": {
      "text/plain": [
       "[0, 0, 1, 0, 0, 0]"
      ]
     },
     "execution_count": 7,
     "metadata": {},
     "output_type": "execute_result"
    }
   ],
   "source": [
    "one_hot_encoding('자연어', word2index)"
   ]
  },
  {
   "cell_type": "markdown",
   "metadata": {},
   "source": [
    "## 8-2 케라스(keras)를 이용한 원-핫 인코딩(One-Hot Encoding)"
   ]
  },
  {
   "cell_type": "markdown",
   "metadata": {},
   "source": [
    "   - 케라스는 원핫인코딩을 구현해주는 함수인 `to_categorical()`함수를 지원한다.\n",
    "   - 이번엔 케라스를 이용한 정수 인코딩과 원핫인코딩을 순차적으로 진행해보도록 하자."
   ]
  },
  {
   "cell_type": "code",
   "execution_count": 8,
   "metadata": {},
   "outputs": [],
   "source": [
    "text=\"나랑 점심 먹으러 갈래 점심 메뉴는 햄버거 갈래 갈래 햄버거 최고야\""
   ]
  },
  {
   "cell_type": "code",
   "execution_count": 9,
   "metadata": {},
   "outputs": [],
   "source": [
    "from tensorflow.keras.preprocessing.text import Tokenizer\n",
    "from tensorflow.keras.utils import to_categorical"
   ]
  },
  {
   "cell_type": "code",
   "execution_count": 11,
   "metadata": {},
   "outputs": [
    {
     "name": "stdout",
     "output_type": "stream",
     "text": [
      "{'갈래': 1, '점심': 2, '햄버거': 3, '나랑': 4, '먹으러': 5, '메뉴는': 6, '최고야': 7}\n"
     ]
    }
   ],
   "source": [
    "t = Tokenizer()\n",
    "t.fit_on_texts([text])\n",
    "print(t.word_index)"
   ]
  },
  {
   "cell_type": "markdown",
   "metadata": {},
   "source": [
    " - `Tokenizer()`함수와 `fit_on_texts`함수를 이용해 정수인코딩을 진행하여 **단어집합**을 만들었다.\n",
    " - 만들어진 **단어집합**에 근거하여 원핫인코딩을 진행해보자"
   ]
  },
  {
   "cell_type": "code",
   "execution_count": 18,
   "metadata": {},
   "outputs": [],
   "source": [
    "sub_text = '점심 먹으러 갈래 메뉴는 햄버거 최고야'"
   ]
  },
  {
   "cell_type": "code",
   "execution_count": 19,
   "metadata": {},
   "outputs": [
    {
     "data": {
      "text/plain": [
       "[2, 5, 1, 6, 3, 7]"
      ]
     },
     "execution_count": 19,
     "metadata": {},
     "output_type": "execute_result"
    }
   ],
   "source": [
    "encoded = t.texts_to_sequences([sub_text])[0]\n",
    "encoded"
   ]
  },
  {
   "cell_type": "markdown",
   "metadata": {},
   "source": [
    " - `texts_to_sequences()`함수는 `06정수인코딩` 챕터에서 많이 다루었다. \n",
    " - 이제 `to_categorical()`함수를 이용해 원핫인코딩을 진행해보자"
   ]
  },
  {
   "cell_type": "code",
   "execution_count": 21,
   "metadata": {},
   "outputs": [
    {
     "data": {
      "text/plain": [
       "array([[0., 0., 1., 0., 0., 0., 0., 0.],\n",
       "       [0., 0., 0., 0., 0., 1., 0., 0.],\n",
       "       [0., 1., 0., 0., 0., 0., 0., 0.],\n",
       "       [0., 0., 0., 0., 0., 0., 1., 0.],\n",
       "       [0., 0., 0., 1., 0., 0., 0., 0.],\n",
       "       [0., 0., 0., 0., 0., 0., 0., 1.]], dtype=float32)"
      ]
     },
     "execution_count": 21,
     "metadata": {},
     "output_type": "execute_result"
    }
   ],
   "source": [
    "one_hot = to_categorical(encoded)\n",
    "one_hot"
   ]
  },
  {
   "cell_type": "markdown",
   "metadata": {},
   "source": [
    "## 8-3 원핫 인코딩의 한계"
   ]
  },
  {
   "cell_type": "markdown",
   "metadata": {},
   "source": [
    "   1. 원핫인코딩은 단어의 개수가 늘어날 수록, 벡터를 저장하기 위해 필요한 공간이 계속 늘어난다는 단점이 있다. 다른 말로는 벡터의 차원이 늘어난다고도 표현한다.\n",
    "   2. 단어의 유사도를 표현하지 못한다는 단점이 있다.\n",
    "       - 예를들어 개, 강아지, 호랑이 고양이라는 4개에 단어에 [1, 0, 0, 0], [0, 1, 0, 0], [0, 0, 1, 0]. [0, 0, 0, 1]이라는 원핫벡터를 부여받았다고 하자. 이때, 개와 강아지가 유사하다는 정도를 표현할 방법이 없다.\n",
    "       - 또한, '삿포로 숙소'라는 단어를 검색한다고하자. 그렇다면, '삿포로 게스트하우스', '삿포로 호텔'과 같은 유사단어의 결과도 '삿포로 숙소'으 검색 결과로 보여줄 수 있어야 한다.\n",
    "       - 이러한 단점을 해결하기 위해 단어의 잠재 의미를 반영하여 다차원 공간에 벡터화 하는 기법으로 크게 두 가지가 있다.\n",
    "           - 첫째로는, **카운트 기반의 벡터화 방법**이다 : `LSA` `HAL`\n",
    "           - 두번째로는 **예측 기반의 벡터화 방법**이다. : ` NNLM`, `RNNLM`, `Word2Vec`, `FastText`"
   ]
  }
 ],
 "metadata": {
  "kernelspec": {
   "display_name": "Python 3",
   "language": "python",
   "name": "python3"
  },
  "language_info": {
   "codemirror_mode": {
    "name": "ipython",
    "version": 3
   },
   "file_extension": ".py",
   "mimetype": "text/x-python",
   "name": "python",
   "nbconvert_exporter": "python",
   "pygments_lexer": "ipython3",
   "version": "3.7.9"
  }
 },
 "nbformat": 4,
 "nbformat_minor": 4
}
