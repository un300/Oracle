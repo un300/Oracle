{
 "cells": [
  {
   "cell_type": "markdown",
   "metadata": {},
   "source": [
    "###### 2020-10-29 목요일"
   ]
  },
  {
   "cell_type": "markdown",
   "metadata": {},
   "source": [
    "# 08_원-핫 인코딩\n",
    "   - 원-핫 인코딩을 배우기 전에 먼저 **단어집합(vocabulary)**에 대해서 정의해 보도록 하자.\n",
    "   - 사람에 따라서는 사전이라고도 하나, 단어집합으로 부르겠다.\n",
    "   - **단어집합**에서는 기본적으로 `book`과 `books`와 같이 단어의 변형 형태도 다른 단어로 간주한다.\n",
    "   - 앞으로의 과정은 **단어집합**에 있는 단어들을 숫자로(더 구체적으로는 벡터로) 바꾸는 여러방법에 대해 배울 것이고, 그 여러가지 방법중 하나가 **원-핫 인코딩**이다.\n",
    "   - **원-핫 인코딩**을 진행하기전에 해야할 작업들이 있다.\n",
    "       1. 텍스트의 모든 단어들을 중복을 허용하지 않고 모아놓은 **단어집합**을 만들어야 한다.\n",
    "       2. 만들어진 **단어집합**에 고유한 숫자를 부여하는 **정수 인코딩**을 진행한다."
   ]
  },
  {
   "cell_type": "markdown",
   "metadata": {},
   "source": [
    "## 8-1 원-핫 인코딩(One-Hot Encoding)이란?\n",
    "   - 원핫인코딩은 데이터분석을 하고 파이썬을 이용해 머신러닝 또는 딥러닝을 다루어본 경험이 있는 사람은 한번에 이해할 수 있다.\n",
    "   - 원핫인코딩은 단어 집합의 크기를 벡터의 차원으로 두고, 표현하고 싶은 단어의 인덱스에 1의 값을 다른 단어에는 0을 부여하는 단어의 벡터 표현 방식이다.\n",
    "   - 머신러닝에 범주형 Feature를 넣을때, 수치형으로 변환하기 위해 pd.get_dummies()를 사용한것과 같은 원리이다.\n",
    "\n",
    "\n",
    "\n",
    "##### 백문이 불여일견. 실습해보자"
   ]
  },
  {
   "cell_type": "markdown",
   "metadata": {},
   "source": [
    " - 먼저 `konlqy`의 Okt 형태소 분석기를 통해 문장에 대해 토큰화를 수행하자"
   ]
  },
  {
   "cell_type": "code",
   "execution_count": 9,
   "metadata": {},
   "outputs": [],
   "source": [
    "text = '나는 자연어 처리를 배운다'"
   ]
  },
  {
   "cell_type": "code",
   "execution_count": 10,
   "metadata": {},
   "outputs": [],
   "source": [
    "from konlpy.tag import Okt"
   ]
  },
  {
   "cell_type": "code",
   "execution_count": 11,
   "metadata": {},
   "outputs": [
    {
     "name": "stdout",
     "output_type": "stream",
     "text": [
      "['나', '는', '자연어', '처리', '를', '배운다']\n"
     ]
    }
   ],
   "source": [
    "okt = Okt()\n",
    "token = okt.morphs(text)\n",
    "print(token)"
   ]
  },
  {
   "cell_type": "markdown",
   "metadata": {},
   "source": [
    " - 토큰화 된 텍스트에 정수인덱스를 부여하자"
   ]
  },
  {
   "cell_type": "code",
   "execution_count": 12,
   "metadata": {},
   "outputs": [
    {
     "name": "stdout",
     "output_type": "stream",
     "text": [
      "{'나': 0, '는': 1, '자연어': 2, '처리': 3, '를': 4, '배운다': 5}\n"
     ]
    }
   ],
   "source": [
    "word2index = {}\n",
    "\n",
    "for voca in token:\n",
    "    if voca not in word2index.keys():\n",
    "        word2index[voca] = len(word2index)\n",
    "print(word2index)"
   ]
  },
  {
   "cell_type": "markdown",
   "metadata": {},
   "source": [
    " - 단어 집합에 고유의 정수 인덱스를 부여하였다.\n",
    " - 단어의 수가 많지 않아 단어의 빈도는 고려하지 않았다."
   ]
  },
  {
   "cell_type": "code",
   "execution_count": null,
   "metadata": {},
   "outputs": [],
   "source": []
  }
 ],
 "metadata": {
  "kernelspec": {
   "display_name": "Python 3",
   "language": "python",
   "name": "python3"
  },
  "language_info": {
   "codemirror_mode": {
    "name": "ipython",
    "version": 3
   },
   "file_extension": ".py",
   "mimetype": "text/x-python",
   "name": "python",
   "nbconvert_exporter": "python",
   "pygments_lexer": "ipython3",
   "version": "3.7.9"
  }
 },
 "nbformat": 4,
 "nbformat_minor": 4
}
