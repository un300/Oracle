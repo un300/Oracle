{
 "cells": [
  {
   "cell_type": "markdown",
   "metadata": {},
   "source": [
    "# 04 불용어(Stopword)\n",
    "   - **유의미한 단어 토큰**만을 선별허기 위해서는, **의미가 없는 단어 토큰**을 제거하여야 한다.\n",
    "   - 여기서 **의미가 없는 단어 토큰**이라 함은 자주 등장하지만 분석에 큰 의미가 없는 단어 토큰들을 의미한다.\n",
    "       - 예를들어, I, my, me, over 등등..\n",
    "   - 이러한 단어들을 **불용어**라고 하며, `NLTK`에서는 위와 같은 100여개 이상의 영어 단어들을 불용어 패키지 내에서 미리 정의하고 있다. \n",
    "   - 또한, 이러한 **불용어**는 개발자가 직접 정의하여 제거할 수 있다.\n",
    "   - 이번 챕터에서는 영어문장에서 `NLTK`가 정의한 영어 불용어를 제거하는 실습과, 한국어 문장에서 `내가 지정한 불용어`를 지정하여 불용어를 제거하여 보자"
   ]
  },
  {
   "cell_type": "markdown",
   "metadata": {},
   "source": [
    "### - 목차\n",
    "\n",
    "####"
   ]
  },
  {
   "cell_type": "markdown",
   "metadata": {},
   "source": [
    "## 4-1 `NLTK`에서 불용어 확인하기\n",
    "   - `nltk`에서 제공해주는 영어 불용어 중에서 10개만 가져와보자\n",
    "   - `nltk`가 제공하는 불용어의 개수는 엄청나게 많기 때문에 10개만 출력해 보는 것이다."
   ]
  },
  {
   "cell_type": "code",
   "execution_count": 2,
   "metadata": {},
   "outputs": [
    {
     "data": {
      "text/plain": [
       "['i', 'me', 'my', 'myself', 'we', 'our', 'ours', 'ourselves', 'you', \"you're\"]"
      ]
     },
     "execution_count": 2,
     "metadata": {},
     "output_type": "execute_result"
    }
   ],
   "source": [
    "from nltk.corpus import stopwords\n",
    "\n",
    "stopwords.words('english')[:10]   # NLTK가 제공하는 불용어(stopwords)에서 10개만 가져오자"
   ]
  },
  {
   "cell_type": "markdown",
   "metadata": {},
   "source": [
    "## 4-2 `NLTK`에서 불용어 제거하기\n",
    "   - 이제 불용어 제거를 실습해보자\n",
    "   - 파이썬 문법만 안다면 간단히 진행 할 수 있을 것이다."
   ]
  },
  {
   "cell_type": "code",
   "execution_count": 6,
   "metadata": {},
   "outputs": [
    {
     "name": "stdout",
     "output_type": "stream",
     "text": [
      "불용어 제거전\n",
      "['Family', 'is', 'not', 'an', 'important', 'thing', '.', 'It', \"'s\", 'everything', '.']\n",
      "\n",
      "불용어 제거전\n",
      "['Family', 'important', 'thing', '.', 'It', \"'s\", 'everything', '.']\n"
     ]
    }
   ],
   "source": [
    "from nltk.corpus import stopwords\n",
    "from nltk.tokenize import word_tokenize\n",
    "\n",
    "example = \"Family is not an important thing. It's everything.\"\n",
    "stop_words = set(stopwords.words('english'))\n",
    "\n",
    "\n",
    "# 단어 토큰화 하기\n",
    "word_tokens = word_tokenize(example)\n",
    "\n",
    "\n",
    "# 불용어 제거\n",
    "result = []\n",
    "for word in word_tokens:\n",
    "    if word not in stop_words:\n",
    "        result.append(word)\n",
    "        \n",
    "        \n",
    "        \n",
    "print('불용어 제거전')\n",
    "print(word_tokens)\n",
    "\n",
    "print()\n",
    "\n",
    "print('불용어 제거전')\n",
    "print(result)"
   ]
  },
  {
   "cell_type": "markdown",
   "metadata": {},
   "source": [
    "## 4-2 한국어에서"
   ]
  },
  {
   "cell_type": "code",
   "execution_count": null,
   "metadata": {},
   "outputs": [],
   "source": []
  },
  {
   "cell_type": "code",
   "execution_count": null,
   "metadata": {},
   "outputs": [],
   "source": []
  },
  {
   "cell_type": "code",
   "execution_count": null,
   "metadata": {},
   "outputs": [],
   "source": []
  },
  {
   "cell_type": "code",
   "execution_count": null,
   "metadata": {},
   "outputs": [],
   "source": []
  },
  {
   "cell_type": "code",
   "execution_count": null,
   "metadata": {},
   "outputs": [],
   "source": []
  },
  {
   "cell_type": "code",
   "execution_count": null,
   "metadata": {},
   "outputs": [],
   "source": []
  },
  {
   "cell_type": "code",
   "execution_count": null,
   "metadata": {},
   "outputs": [],
   "source": []
  },
  {
   "cell_type": "code",
   "execution_count": null,
   "metadata": {},
   "outputs": [],
   "source": []
  },
  {
   "cell_type": "code",
   "execution_count": null,
   "metadata": {},
   "outputs": [],
   "source": []
  },
  {
   "cell_type": "code",
   "execution_count": null,
   "metadata": {},
   "outputs": [],
   "source": []
  }
 ],
 "metadata": {
  "kernelspec": {
   "display_name": "Python 3",
   "language": "python",
   "name": "python3"
  },
  "language_info": {
   "codemirror_mode": {
    "name": "ipython",
    "version": 3
   },
   "file_extension": ".py",
   "mimetype": "text/x-python",
   "name": "python",
   "nbconvert_exporter": "python",
   "pygments_lexer": "ipython3",
   "version": "3.7.9"
  }
 },
 "nbformat": 4,
 "nbformat_minor": 4
}
