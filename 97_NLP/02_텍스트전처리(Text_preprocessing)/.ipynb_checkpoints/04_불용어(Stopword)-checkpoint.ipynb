{
 "cells": [
  {
   "cell_type": "markdown",
   "metadata": {},
   "source": [
    "# 04 불용어(Stopword)\n",
    "   - **유의미한 단어 토큰**만을 선별허기 위해서는, **의미가 없는 단어 토큰**을 제거하여야 한다.\n",
    "   - 여기서 **의미가 없는 단어 토큰**이라 함은 자주 등장하지만 분석에 큰 의미가 없는 단어 토큰들을 의미한다.\n",
    "       - 예를들어, I, my, me, over 등등..\n",
    "   - 이러한 단어들을 **불용어**라고 하며, `NLTK`에서는 위와 같은 100여개 이상의 영어 단어들을 불용어 패키지 내에서 미리 정의하고 있다. \n",
    "   - 또한, 이러한 **불용어**는 개발자가 직접 정의하여 제거할 수 있다.\n",
    "   - 이번 챕터에서는 영어문장에서 `NLTK`가 정의한 영어 불용어를 제거하는 실습과, 한국어 문장에서 `내가 지정한 불용어`를 지정하여 불용어를 제거하여 보자"
   ]
  },
  {
   "cell_type": "markdown",
   "metadata": {},
   "source": [
    "### - 목차\n",
    "\n",
    "####"
   ]
  },
  {
   "cell_type": "markdown",
   "metadata": {},
   "source": [
    "## 4-1 `NLTK`에서 불용어 확인하기\n",
    "   - `nltk`에서 제공해주는 영어 불용어 중에서 10개만 가져와보자\n",
    "   - `nltk`가 제공하는 불용어의 개수는 엄청나게 많기 때문에 10개만 출력해 보는 것이다."
   ]
  },
  {
   "cell_type": "code",
   "execution_count": 2,
   "metadata": {},
   "outputs": [
    {
     "data": {
      "text/plain": [
       "['i', 'me', 'my', 'myself', 'we', 'our', 'ours', 'ourselves', 'you', \"you're\"]"
      ]
     },
     "execution_count": 2,
     "metadata": {},
     "output_type": "execute_result"
    }
   ],
   "source": [
    "from nltk.corpus import stopwords\n",
    "\n",
    "stopwords.words('english')[:10]   # NLTK가 제공하는 불용어(stopwords)에서 10개만 가져오자"
   ]
  },
  {
   "cell_type": "markdown",
   "metadata": {},
   "source": [
    "## 4-2 `NLTK`에서 불용어 제거하기\n",
    "   - 이제 불용어 제거를 실습해보자\n",
    "   - 파이썬 문법만 안다면 간단히 진행 할 수 있을 것이다."
   ]
  },
  {
   "cell_type": "code",
   "execution_count": 6,
   "metadata": {},
   "outputs": [
    {
     "name": "stdout",
     "output_type": "stream",
     "text": [
      "불용어 제거전\n",
      "['Family', 'is', 'not', 'an', 'important', 'thing', '.', 'It', \"'s\", 'everything', '.']\n",
      "\n",
      "불용어 제거전\n",
      "['Family', 'important', 'thing', '.', 'It', \"'s\", 'everything', '.']\n"
     ]
    }
   ],
   "source": [
    "from nltk.corpus import stopwords\n",
    "from nltk.tokenize import word_tokenize\n",
    "\n",
    "example = \"Family is not an important thing. It's everything.\"\n",
    "stop_words = set(stopwords.words('english'))\n",
    "\n",
    "\n",
    "# 단어 토큰화 하기\n",
    "word_tokens = word_tokenize(example)\n",
    "\n",
    "\n",
    "# 불용어 제거\n",
    "result = []\n",
    "for word in word_tokens:\n",
    "    if word not in stop_words:\n",
    "        result.append(word)\n",
    "        \n",
    "        \n",
    "        \n",
    "print('불용어 제거전')\n",
    "print(word_tokens)\n",
    "\n",
    "print()\n",
    "\n",
    "print('불용어 제거전')\n",
    "print(result)"
   ]
  },
  {
   "cell_type": "markdown",
   "metadata": {},
   "source": [
    "## 4-3 한국어에서 불용어 제거하기"
   ]
  },
  {
   "cell_type": "markdown",
   "metadata": {},
   "source": [
    "   - 한국어에서 불용어를 제거하는 가장 간단한 방법은,\n",
    "       - 토큰화 후 **조사**, **접속사** 등을 제거하는 방법이다\n",
    "   - 하지만 한국어에서 불용어를 제거하려 하면, 조사, 접속사 뿐만아니라 명사, 형용사와 같은 단어 중에서 불용어로서 제거하고 싶은 단어들이 존재하는 경우도 빈번하다.\n",
    "   - 결국, **한국어의 경우에는 개발자가 직접 불용어 사전을 만들게 되는 경우가 많다.**\n",
    "   - 그러므로 한국어의 경우 직접 불용어 사전을 정의해보고, 주어진 문장으로부터 직접 정의한 불용어 사전을 참고하여 불용어를 제거해보자."
   ]
  },
  {
   "cell_type": "code",
   "execution_count": 10,
   "metadata": {},
   "outputs": [
    {
     "name": "stdout",
     "output_type": "stream",
     "text": [
      "불용어 제거 전\n",
      "['고기를', '아무렇게나', '구우려고', '하면', '안', '돼', '.', '고기라고', '다', '같은', '게', '아니거든', '.', '예컨대', '삼겹살을', '구울', '때는', '중요한', '게', '있지', '.']\n",
      "\n",
      "불용어 제거 후\n",
      "['고기를', '구우려고', '안', '돼', '.', '고기라고', '다', '같은', '게', '.', '삼겹살을', '구울', '때는', '중요한', '게', '있지', '.']\n"
     ]
    }
   ],
   "source": [
    "from nltk.corpus import stopwords\n",
    "from nltk.tokenize import word_tokenize\n",
    "\n",
    "# 한국어 예시\n",
    "example = \"고기를 아무렇게나 구우려고 하면 안 돼. 고기라고 다 같은 게 아니거든. 예컨대 삼겹살을 구울 때는 중요한 게 있지.\"\n",
    "\n",
    "# 임의의 불용어 지정\n",
    "stop_words = \"아무거나 아무렇게나 어찌하든지 같다 비슷하다 예컨대 이럴정도로 하면 아니거든\"\n",
    "stop_words = stop_words.split(' ')\n",
    "\n",
    "\n",
    "# 단어 토큰화\n",
    "word_tokens = word_tokenize(example)\n",
    "\n",
    "\n",
    "# 불용어제거\n",
    "result = []\n",
    "for word in word_tokens:\n",
    "    if word not in stop_words:\n",
    "        result.append(word)\n",
    "\n",
    "        \n",
    "print('불용어 제거 전')\n",
    "print(word_tokens)\n",
    "\n",
    "print()\n",
    "\n",
    "print('불용어 제거 후')\n",
    "print(result)"
   ]
  },
  {
   "cell_type": "markdown",
   "metadata": {},
   "source": [
    " - 아래의 링크는 보편적으로 선택할 수 있는 한국어 불용어 리스트를 보여준다. (여전히 절대적인 기준은 아니다.)\n",
    "    - 링크 : https://www.ranks.nl/stopwords/korean\n",
    " - 한국어의 불용어를 제거하는 더 좋은 방법은 txt파일이나 csv파일에 불용어를 정의하고 이를 불러와 사용하는 방법이다."
   ]
  }
 ],
 "metadata": {
  "kernelspec": {
   "display_name": "Python 3",
   "language": "python",
   "name": "python3"
  },
  "language_info": {
   "codemirror_mode": {
    "name": "ipython",
    "version": 3
   },
   "file_extension": ".py",
   "mimetype": "text/x-python",
   "name": "python",
   "nbconvert_exporter": "python",
   "pygments_lexer": "ipython3",
   "version": "3.7.9"
  }
 },
 "nbformat": 4,
 "nbformat_minor": 4
}
