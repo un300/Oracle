{
 "cells": [
  {
   "cell_type": "markdown",
   "metadata": {},
   "source": [
    "###### 2020-10-26 월요일"
   ]
  },
  {
   "cell_type": "markdown",
   "metadata": {},
   "source": [
    "# 05 정규표현식(Regular Expression)\n",
    "   - 텍스트데이터를 전처리하다보면, 정규표현식은 아주 유용한 도구로써 사용된다.\n",
    "   - 이번 챕터에서는 파이썬에서 지원하는 정규표현 모듈인 **re**의 사용법과 `NLTK`를 통한 정규표현식을 이용한 토큰화에 대해 알아보자"
   ]
  },
  {
   "cell_type": "markdown",
   "metadata": {},
   "source": [
    "### 목차\n",
    "\n",
    "##### 5-1 정규표현식문법과 모듈함수\n",
    "\n",
    "##### 5-2 정규표현식 실습\n",
    "\n",
    "##### 5-3 정규표현식 모듈함수 예제\n",
    "\n",
    "##### 5-4 정규표현식 텍스트 전처리 예제\n",
    "\n",
    "##### 5-5 정규표현식을 이용한 토큰화"
   ]
  },
  {
   "cell_type": "markdown",
   "metadata": {},
   "source": [
    "## 5-1 정규표현식문법과 모듈함수\n",
    "   - 파이썬에서 지원하는 정규표현식 모듈 **re**를 사용하여 텍스트데이터를 빠르게 정제할 수 있다.\n",
    "   - 본격적인 정규표현식을 알아보기 전에 정규표현식에 사용되는 특수문자와 모듈함수에 대해 알아보자"
   ]
  },
  {
   "cell_type": "markdown",
   "metadata": {},
   "source": [
    "### (1) 정규표현식 문법\n",
    "   **정규표현식을 위해 사용되는 문법 중 특수 문자들은 다음과 같다.**\n"
   ]
  },
  {
   "cell_type": "markdown",
   "metadata": {},
   "source": [
    "   1. `.` : 한 개의 임의의 문자를 나타낸다. (줄바꿈 문자인 `\\n`은 제외)\n",
    "   2. `?` : 앞의 문자가 존재할 수도 있고, 존재하지 않을 수도 있다. (문자가 0개 또는 1개)\n",
    "   3. `*` : 앞의 문자가 무한개로 존재할 수도 있고, 존재하지 않을 수도 있다. (문자가 0개 이상)\n",
    "   4. `+` : 앞의 문자가 최소 한 개 이상 존재한다. (문자가 한개 이상)\n",
    "   5. `^` : 뒤의 문자로 문자열이 시작된다.\n",
    "   6. `$` : 앞의 문자로 문자열이 끝난다.\n",
    "   6. `{숫지}` : 숫자만큼 반복한다.\n",
    "   7. `{숫자1,숫자2}` : `숫자1` 이상 `숫자2`이하만큼 반복한다. `?`, `*`, `+`를 이것으로 대체할 수 있다.\n",
    "   8. `{숫자,}` : `숫자` 이상만큼 반복한다.\n",
    "   9. `[]` : 대괄호 안의 문자들 중 한개의 문자와 매치한다.\n",
    "       - 예를들어 `[amk]`라고 한다면, `a`, `m`, `k`중 하나라도 존재하면 매치를 의미한다.\n",
    "       - `[a-z]`와 같이 `-`를 이용하여 범위를 지정할 수도 있다.\n",
    "       - `[a-zA-Z]`는 알파벳 전체를 의미하고, `[가-힇]`은 한글 전체를 의미한다.\n",
    "   10. `[^문자]` : 해당 문자를 제외한 문자를 매치한다.\n",
    "   11. `|` : `A|B`와 같이 쓰이며 A 또는 B의 의미를 가진다."
   ]
  },
  {
   "cell_type": "markdown",
   "metadata": {},
   "source": [
    "##### 정규표현식문법에는 역 슬래쉬(`\\`)를 이용하여 자주 쓰이는 문자 규칙들이 있다."
   ]
  },
  {
   "cell_type": "markdown",
   "metadata": {},
   "source": [
    "   13. `\\\\` : 역 슬래쉬 문자 자체를 의미한다.\n",
    "   14. `\\d` : 모든 숫자를 의미한다. `[0-9]`와 의미가 같다\n",
    "   15. `\\D` : 숫자를 제외한 모든 문자를 의미한다. `[^0-9]`와 의미가 동일하다.\n",
    "   16. `\\s` : 공백을 의미한다. `[\\t\\n\\t\\f\\v]`와 의미가 동일하다.\n",
    "   17. `\\S` : 공백을 제외한 문자를 의미한다. `[^\\t\\n\\r\\f\\v]`와 의미가 동일하다.\n",
    "   18. `\\w` : 문자 또는 숫자를 의미한다. `[a-zA-Z0-9]`와 의미가 동일하다.\n",
    "   19. `\\W` : 문자 또는 숫자가 아닌 문자를 의미한다. `[^a-zA-Z0-9]`와 의미가 동일하다."
   ]
  },
  {
   "cell_type": "markdown",
   "metadata": {},
   "source": [
    "### (2) 정규표현식 모듈 함수\n",
    "   **정규표현식에서 지원하는 함수들은 다음과 같다.**"
   ]
  },
  {
   "cell_type": "markdown",
   "metadata": {},
   "source": [
    "   1. `re.compile()` : 정규표현식을 컴파일 하는 함수이다. 찾고자 하는 패턴이 빈번한 경우에는 미리 컴파일해놓고 사용하면 속도와 편의성 면에서 유리하다.\n",
    "   2. `re.search()` : 문자열 전체에 대해서 정규표현식과 매치되는지를 검색한다.\n",
    "   3. `re.match()` : 문자열의 처음이 정규표현식과 매치되는지를 검색한다.\n",
    "   4. `re.split()` : 정규표현식을 기준으로 문자열을 분리하여 리스트로 리턴한다.\n",
    "   5. `re.finall()` : 문자열에서 정규표현식과 매치되는 모든 경우의 문자열을 찾아서 리스트로 리턴한다. 만약, 매치되는 문자열이 없다면 빈 리스트가 된다.\n",
    "   6. `re.finditer()` : 문자열에서 정규표현식과 매치되는 모든 경우의 문자열에 대한 이터레이터 객체를 리턴한다.\n",
    "   7. `re.sub()` : 문자열에서 정규표현식과 일치하는 부분에 대해서 다른 문자열로 대체한다."
   ]
  },
  {
   "cell_type": "markdown",
   "metadata": {},
   "source": [
    "## 5-2 정규표현식 실습\n",
    "   - `5-1`에서 정리한 정규표현식문법과 함수에 대해 실습을 진행하자"
   ]
  },
  {
   "cell_type": "markdown",
   "metadata": {},
   "source": [
    "### (1) `.`기호\n",
    "   - `.`은 한개의 임의의 문자를 나타낸다.\n",
    "   - 예를들어 `a.c`라는 정규표현식은 `a`와 `c` 사이에 어떠한 문자 1개가 올 수 있다는 뜻이다.\n",
    "       - 즉, `aBc`, `a5c`, `akc`, `a&c` 따위의 문자는 모두 `a.c`의 정규표현식과 매치된다.\n",
    "   - 실습을 해보자"
   ]
  },
  {
   "cell_type": "code",
   "execution_count": 1,
   "metadata": {},
   "outputs": [],
   "source": [
    "import re\n",
    "r = re.compile('a.c')\n",
    "r.search('kkk')"
   ]
  },
  {
   "cell_type": "markdown",
   "metadata": {},
   "source": [
    "##### 위 결과에서\n",
    "'kkk'라는 문자는 `a.c`라는 정규표현식과 매치되지 않기 때문에 아무런 결과도 출력되지 않는다."
   ]
  },
  {
   "cell_type": "code",
   "execution_count": 2,
   "metadata": {},
   "outputs": [
    {
     "data": {
      "text/plain": [
       "<re.Match object; span=(0, 3), match='abc'>"
      ]
     },
     "execution_count": 2,
     "metadata": {},
     "output_type": "execute_result"
    }
   ],
   "source": [
    "import re\n",
    "r = re.compile('a.c')\n",
    "r.search(\"abc\")"
   ]
  },
  {
   "cell_type": "markdown",
   "metadata": {},
   "source": [
    "##### 위 결과에서\n",
    "'abc'라는 문자는 a.c라는 정규표현식과 매치되기 때문에 매치결과 'abc'를 출력한다."
   ]
  },
  {
   "cell_type": "markdown",
   "metadata": {},
   "source": [
    "### (2) `?`기호\n",
    "   - `?`는 `?`앞의 문자가 존재할 수도 있고 존재하지 않을 수도 있다.\n",
    "   - 더욱 긴소리 하지 않고 실습해보자"
   ]
  },
  {
   "cell_type": "code",
   "execution_count": 9,
   "metadata": {},
   "outputs": [
    {
     "name": "stdout",
     "output_type": "stream",
     "text": [
      "<re.Match object; span=(0, 3), match='abc'>\n",
      "<re.Match object; span=(0, 2), match='ac'>\n"
     ]
    }
   ],
   "source": [
    "import re\n",
    "r = re.compile(\"ab?c\")\n",
    "print(r.search('abc'))\n",
    "print(r.search('ac'))"
   ]
  },
  {
   "cell_type": "markdown",
   "metadata": {},
   "source": [
    "##### 위 결과에서\n",
    "문자열 'abc'와 'ac' 모두 정규표현식 `ab?c`와 매치됨을 확인할 수 있다."
   ]
  },
  {
   "cell_type": "markdown",
   "metadata": {},
   "source": [
    "### (3) `*`기호\n",
    "   - `*`는 *의 바로앞의 문자가 0개 이상일 경우를 나타낸다.\n",
    "   - `*`의 바로 앞의 문자가 하나 혹은 그 이상 존재할 수도 있고 없을 수도 있다."
   ]
  },
  {
   "cell_type": "code",
   "execution_count": 15,
   "metadata": {},
   "outputs": [
    {
     "name": "stdout",
     "output_type": "stream",
     "text": [
      "None\n",
      "<re.Match object; span=(0, 2), match='ac'>\n",
      "<re.Match object; span=(0, 3), match='abc'>\n",
      "<re.Match object; span=(0, 5), match='abbbc'>\n"
     ]
    }
   ],
   "source": [
    "import re\n",
    "r = re.compile(\"ab*c\")\n",
    "print(r.search(\"c\"))\n",
    "print(r.search(\"ac\"))  # *앞에 문자(b)가 존재하지 않거나\n",
    "print(r.search(\"abc\"))  # *앞에 문자(b)가 하나 존재하거나\n",
    "print(r.search(\"abbbc\")) # *앞에 문자(b)가 여러개 존재하거나"
   ]
  },
  {
   "cell_type": "markdown",
   "metadata": {},
   "source": [
    "### (4) `+` 기호\n",
    "   - `+`는 `*`과 유사하지만 한가지 차이점은 `+`앞의 문자는 최소 하나이상 이어야한다."
   ]
  },
  {
   "cell_type": "code",
   "execution_count": 16,
   "metadata": {},
   "outputs": [
    {
     "name": "stdout",
     "output_type": "stream",
     "text": [
      "None\n",
      "<re.Match object; span=(0, 3), match='abc'>\n",
      "<re.Match object; span=(0, 5), match='abbbc'>\n"
     ]
    }
   ],
   "source": [
    "import re\n",
    "r = re.compile('ab+c')\n",
    "print(r.search('ac'))  # + 앞에 지정문자(b)가 존재하지 않는경우 매치되지 않는다\n",
    "print(r.search('abc'))\n",
    "print(r.search('abbbc'))"
   ]
  },
  {
   "cell_type": "markdown",
   "metadata": {},
   "source": [
    "### (5) `^` 기호\n",
    "   - `^`는 시작되는 글자를 지정한다. \n",
    "   - 정규표현식 `^a`는 a로 시작하는 단어들을 매치한다."
   ]
  },
  {
   "cell_type": "code",
   "execution_count": 18,
   "metadata": {},
   "outputs": [
    {
     "name": "stdout",
     "output_type": "stream",
     "text": [
      "<re.Match object; span=(0, 1), match='a'>\n",
      "None\n"
     ]
    }
   ],
   "source": [
    "import re\n",
    "r = re.compile(\"^a\")\n",
    "print(r.search(\"abcdefg\"))\n",
    "print(r.search(\"bbbccc\"))"
   ]
  },
  {
   "cell_type": "markdown",
   "metadata": {},
   "source": [
    "### (6) `{숫자}` 기호\n",
    "   - 문자 뒤에 해당기호`{숫자}`를 붙이면, 해당기호 숫자만큼 문자가 반복되는 것을 의미한다."
   ]
  },
  {
   "cell_type": "code",
   "execution_count": 19,
   "metadata": {},
   "outputs": [
    {
     "name": "stdout",
     "output_type": "stream",
     "text": [
      "None\n",
      "<re.Match object; span=(0, 4), match='abbc'>\n",
      "None\n"
     ]
    }
   ],
   "source": [
    "import re\n",
    "r = re.compile(\"ab{2}c\")\n",
    "print(r.search('abc'))\n",
    "print(r.search('abbc'))\n",
    "print(r.search('abbbc'))"
   ]
  },
  {
   "cell_type": "markdown",
   "metadata": {},
   "source": [
    "### (7) `{숫자1,숫자2}` 기호\n",
    "   - 문자 뒤에 해당기호 `{숫자1, 숫자2}`를 붙이면, 해당 문자를 숫자1이상 숫자2이하 만큼 반복되는 것을 의미한다."
   ]
  },
  {
   "cell_type": "code",
   "execution_count": 21,
   "metadata": {},
   "outputs": [
    {
     "name": "stdout",
     "output_type": "stream",
     "text": [
      "None\n",
      "<re.Match object; span=(0, 4), match='abbc'>\n",
      "None\n"
     ]
    }
   ],
   "source": [
    "import re\n",
    "r = re.compile(\"ab{2,5}c\")\n",
    "print(r.search('abc'))\n",
    "print(r.search('abbc'))\n",
    "print(r.search('abbbbbbc'))"
   ]
  },
  {
   "cell_type": "markdown",
   "metadata": {},
   "source": [
    "### (8) `{숫자,}` 기호\n",
    "   - 문자 뒤에 해당기호 `{숫자,}`를 붙이면, 숫자이상 만큼 반복되는 것을 의미한다."
   ]
  },
  {
   "cell_type": "code",
   "execution_count": 23,
   "metadata": {},
   "outputs": [
    {
     "name": "stdout",
     "output_type": "stream",
     "text": [
      "None\n",
      "<re.Match object; span=(0, 4), match='aabc'>\n",
      "<re.Match object; span=(0, 6), match='aaaabc'>\n"
     ]
    }
   ],
   "source": [
    "import re\n",
    "r = re.compile(\"a{2,}bc\")\n",
    "print(r.search(\"abc\"))\n",
    "print(r.search(\"aabc\"))\n",
    "print(r.search(\"aaaabc\"))"
   ]
  },
  {
   "cell_type": "markdown",
   "metadata": {},
   "source": [
    "### (9) `[ ]` 기호\n",
    "   - `[ ] `안에 문자들을 넣으면, `[ ]`안에 포함된 문자중 한개와 매치되는 것을 의미한다."
   ]
  },
  {
   "cell_type": "code",
   "execution_count": 24,
   "metadata": {},
   "outputs": [
    {
     "name": "stdout",
     "output_type": "stream",
     "text": [
      "None\n",
      "<re.Match object; span=(0, 1), match='a'>\n",
      "<re.Match object; span=(0, 1), match='b'>\n",
      "<re.Match object; span=(0, 1), match='c'>\n",
      "<re.Match object; span=(0, 1), match='a'>\n",
      "<re.Match object; span=(0, 1), match='b'>\n",
      "<re.Match object; span=(0, 1), match='a'>\n"
     ]
    }
   ],
   "source": [
    "import re\n",
    "r = re.compile('[abc]')\n",
    "print(r.search('kkk'))\n",
    "print(r.search('a'))\n",
    "print(r.search('b'))\n",
    "print(r.search('c'))\n",
    "print(r.search('ab'))\n",
    "print(r.search('bc'))\n",
    "print(r.search('abc'))"
   ]
  },
  {
   "cell_type": "markdown",
   "metadata": {},
   "source": [
    "### (10) `[^문자]` 기호\n",
    "   - `(5) ^ 기호`와는 완전 다른 의미이다.\n",
    "   - 괄호안(`[]`)의 `^` 기호는 `^`뒤에 붙은 문자들을 제외한 모든 문자를 매치하는 것을 의미한다.\n",
    "  "
   ]
  },
  {
   "cell_type": "code",
   "execution_count": 26,
   "metadata": {},
   "outputs": [
    {
     "name": "stdout",
     "output_type": "stream",
     "text": [
      "<re.Match object; span=(1, 2), match='h'>\n",
      "<re.Match object; span=(0, 1), match='h'>\n",
      "<re.Match object; span=(1, 2), match='h'>\n",
      "<re.Match object; span=(1, 2), match='h'>\n",
      "None\n",
      "None\n"
     ]
    }
   ],
   "source": [
    "import re\n",
    "r = re.compile(\"[^abc]\")\n",
    "print(r.search(\"ahhhhh\"))\n",
    "print(r.search(\"hhhhh\"))\n",
    "print(r.search(\"bhhhhh\"))\n",
    "print(r.search(\"chhhhh\"))\n",
    "print(r.search(\"ab\"))\n",
    "print(r.search(\"abc\"))"
   ]
  },
  {
   "cell_type": "markdown",
   "metadata": {},
   "source": [
    "## 5-3 정규표현식 모듈함수 예제"
   ]
  },
  {
   "cell_type": "markdown",
   "metadata": {},
   "source": [
    "   - **5-2**에서는 `re.compile()`과 `re.search()`만 사용하였다.\n",
    "\n",
    "\n",
    "###### 이번에는 다른 정규표현식 모듈함수에 대해서도 직접 실습해 보자"
   ]
  },
  {
   "cell_type": "markdown",
   "metadata": {},
   "source": [
    "### (1) `re.match()`와 `re.search()`의 차이\n",
    "   - `re.search()`은 문자열 전체 부분에 대하여 정규표현식에 매치되는 부분이 있으면 모두 찾는다.\n",
    "   - `re.match()`는 문자열의 첫 부분부터 정규표현식과 매치하는지를 확인한다. 만약 문자열 중간에 찾을 패턴이 있더라도, 문자의 시작부분의 패턴이 정규표현식과 일치하지 않는다면, 찾지 않는다"
   ]
  },
  {
   "cell_type": "code",
   "execution_count": 27,
   "metadata": {},
   "outputs": [
    {
     "name": "stdout",
     "output_type": "stream",
     "text": [
      "<re.Match object; span=(3, 6), match='abc'>\n",
      "<re.Match object; span=(0, 3), match='abc'>\n",
      "None\n",
      "<re.Match object; span=(0, 3), match='abc'>\n"
     ]
    }
   ],
   "source": [
    "import re\n",
    "r = re.compile('abc')\n",
    "\n",
    "print(r.search(\"kkkabc\"))\n",
    "print(r.search(\"abckkk\"))\n",
    "\n",
    "print(r.match(\"kkkabc\"))  # re.match()는 문자열 중간에 정규표현식과 매치되는 부분이 있어도, 문자열 시작부분이 일치하지 않기떄문에 매치되지 않는다.\n",
    "print(r.match(\"abckkk\"))"
   ]
  },
  {
   "cell_type": "markdown",
   "metadata": {},
   "source": [
    "### (2) `re.spilt()`\n",
    "   - 입력한 정규표현식을 기준으로 문자열을 나누고 리스트형식으로 리턴한다\n",
    "   - 직접 실습해보는 것이 가장 이해가 빠르다."
   ]
  },
  {
   "cell_type": "code",
   "execution_count": 29,
   "metadata": {},
   "outputs": [
    {
     "name": "stdout",
     "output_type": "stream",
     "text": [
      "['hhh', 'kkk']\n",
      "['사과', '바나나', '딸기', '수박']\n"
     ]
    }
   ],
   "source": [
    "import re\n",
    "\n",
    "r = re.compile('ab')\n",
    "print(r.split(\"hhhabkkk\"))\n",
    "\n",
    "r = re.compile('\\+')\n",
    "print(r.split(\"사과+바나나+딸기+수박\"))"
   ]
  },
  {
   "cell_type": "markdown",
   "metadata": {},
   "source": [
    "##### 위의 `r = re.compile('\\+')`의 경우처럼..\n",
    "   - `+`는 정규표현식문법에서 많이 사용되지만, 앞에 `\\`를 붙인 `\\+` 형태가 된다면, `+`는 더이상 정규표현식 문법이 아니라 문자 그자체로 인식된다. "
   ]
  },
  {
   "cell_type": "markdown",
   "metadata": {},
   "source": [
    "### (3) `re.findall()`\n",
    "   - 문자열에서 정규표현식과 매치되는 모든 문자열을 리스트형태로 반환한다."
   ]
  },
  {
   "cell_type": "code",
   "execution_count": 33,
   "metadata": {},
   "outputs": [
    {
     "data": {
      "text/plain": [
       "['010', '2222', '2999', '9']"
      ]
     },
     "execution_count": 33,
     "metadata": {},
     "output_type": "execute_result"
    }
   ],
   "source": [
    "import re\n",
    "\n",
    "text = \"My number is 010-2222- 2999. Please call me back at 9pm?\"\n",
    "\n",
    "r = re.compile(\"\\d+\")  # 숫자가 하나이상인 경우 매치되었음\n",
    "r.findall(text)"
   ]
  },
  {
   "cell_type": "markdown",
   "metadata": {},
   "source": [
    "### (4) `re.sub()`\n",
    "   - 문자열에서 정규표현식과 일치하는 문자열을 다른 문자열로 대체한다."
   ]
  },
  {
   "cell_type": "code",
   "execution_count": 37,
   "metadata": {},
   "outputs": [
    {
     "data": {
      "text/plain": [
       "'RegularexpressionAregularexpressionregexorregexpsometimescalledarationalexpressionisintheoreticalcomputerscienceandformallanguagetheoryasequenceofcharactersthatdefineasearchpattern'"
      ]
     },
     "execution_count": 37,
     "metadata": {},
     "output_type": "execute_result"
    }
   ],
   "source": [
    "import re\n",
    "text=\"Regular expression : A regular expression, regex or regexp[1] (sometimes called a rational expression)[2][3] is, in theoretical computer science and formal language theory, a sequence of characters that define a search pattern.\"\n",
    "\n",
    "re.sub(\"[^a-zA-Z]\", '', text) # 모든 대소문자 알파벳을 제외한 문자를 지운다"
   ]
  },
  {
   "cell_type": "markdown",
   "metadata": {},
   "source": [
    "## 5-4 정규표현식 텍스트 전처리 예제\n",
    "   - 바로 실습해보자~"
   ]
  },
  {
   "cell_type": "markdown",
   "metadata": {},
   "source": [
    "##### 주어진 텍스트(`text`)에서\n",
    "   1. 빈칸을 기준으로 나누어 `split_list` 리스트에 담아라\n",
    "   2. `text`에서 숫자만을 추출하라\n",
    "   3. `text`에서 대문자로만 이루어진 문자열을 추출하라\n",
    "   4. `text`에서 첫글자가 대문자인 문자열만 추출하라. "
   ]
  },
  {
   "cell_type": "markdown",
   "metadata": {},
   "source": [
    "##### 1. 빈칸을 기준으로 나누어 `split_list` 리스트에 담아라"
   ]
  },
  {
   "cell_type": "code",
   "execution_count": 39,
   "metadata": {},
   "outputs": [
    {
     "name": "stdout",
     "output_type": "stream",
     "text": [
      "['100', 'John', 'PROF', '101', 'James', 'STUD', '102', 'Mac', 'STUD']\n"
     ]
    }
   ],
   "source": [
    "import re\n",
    "\n",
    "text = \"\"\"100 John    PROF\n",
    "101 James   STUD\n",
    "102 Mac   STUD\"\"\"  \n",
    "\n",
    "split_list = re.split('\\s+', text)\n",
    "print(split_list)"
   ]
  },
  {
   "cell_type": "markdown",
   "metadata": {},
   "source": [
    "##### 2. `text`에서 숫자만을 추출하라"
   ]
  },
  {
   "cell_type": "code",
   "execution_count": 42,
   "metadata": {},
   "outputs": [
    {
     "data": {
      "text/plain": [
       "['100', '101', '102']"
      ]
     },
     "execution_count": 42,
     "metadata": {},
     "output_type": "execute_result"
    }
   ],
   "source": [
    "only_number = re.findall(\"\\d+\", text)\n",
    "only_number"
   ]
  },
  {
   "cell_type": "markdown",
   "metadata": {},
   "source": [
    "##### 3. `text`에서 대문자로만 이루어진 문자열을 추출하라"
   ]
  },
  {
   "cell_type": "code",
   "execution_count": 46,
   "metadata": {},
   "outputs": [
    {
     "data": {
      "text/plain": [
       "['PROF', 'STUD', 'STUD']"
      ]
     },
     "execution_count": 46,
     "metadata": {},
     "output_type": "execute_result"
    }
   ],
   "source": [
    "re.findall(\"[A-Z]{2,}\", text)"
   ]
  },
  {
   "cell_type": "markdown",
   "metadata": {},
   "source": [
    "##### 4. `text`에서 첫글자가 대문자인 문자열만 추출하라."
   ]
  },
  {
   "cell_type": "code",
   "execution_count": 53,
   "metadata": {},
   "outputs": [
    {
     "data": {
      "text/plain": [
       "['John', 'James', 'Mac']"
      ]
     },
     "execution_count": 53,
     "metadata": {},
     "output_type": "execute_result"
    }
   ],
   "source": [
    "re.findall(\"[A-Z][a-z]{2,}\", text)"
   ]
  },
  {
   "cell_type": "markdown",
   "metadata": {},
   "source": [
    "보강 예정\n",
    "\n",
    "https://www.machinelearningplus.com/python/python-regex-tutorial-examples/ https://docs.python.org/3.6/library/re.html#re.regex.search https://kimdoky.github.io/tech/2017/06/11/regular-2.html http://blog.naver.com/javaking75/220702756707\n",
    "\n",
    "\n",
    "##### 이게 무슨뜻인지 모르겟다 홈페이지에 이렇게 적혀있던데..?"
   ]
  },
  {
   "cell_type": "markdown",
   "metadata": {},
   "source": [
    "## 5-5 정규표현식을 이용한 토큰화"
   ]
  },
  {
   "cell_type": "markdown",
   "metadata": {},
   "source": [
    "   - `NLTK` 에서는 정규표현식을 사용하여 단어토큰화를 수행하는 `RegexpTokenizer`를 지원한다. \n",
    "   - `RegexpTokenizer()`에서 괄호안에 원하는 정규표현식을 넣어 토큰화를 수행하는 것이다."
   ]
  },
  {
   "cell_type": "code",
   "execution_count": 2,
   "metadata": {},
   "outputs": [
    {
     "name": "stdout",
     "output_type": "stream",
     "text": [
      "['Don', 't', 'be', 'fooled', 'by', 'the', 'dark', 'sounding', 'name', 'Mr', 'Jone', 's', 'Orphanage', 'is', 'as', 'cheery', 'as', 'cheery', 'goes', 'for', 'a', 'pastry', 'shop']\n"
     ]
    }
   ],
   "source": [
    "import nltk\n",
    "from nltk.tokenize import RegexpTokenizer\n",
    "tokenizer=RegexpTokenizer(\"[\\w]+\")\n",
    "print(tokenizer.tokenize(\"Don't be fooled by the dark sounding name, Mr. Jone's Orphanage is as cheery as cheery goes for a pastry shop\"))"
   ]
  },
  {
   "cell_type": "markdown",
   "metadata": {},
   "source": [
    "   - 위 정규표현식 `[\\w]+`는 문자 또는 숫자가 1개이상인 경우를 인식하는 코드이다.\n",
    "   - 즉, 이 코드는 문장에서 구두점을 제외하고, 단어들만을 가지고 토큰화를 수행한다."
   ]
  },
  {
   "cell_type": "markdown",
   "metadata": {},
   "source": [
    "##### 위에서 `RegexpTokenizer()`안에 정규표현식을 입력하고, 정규표현식에 맞는 단어들만 토큰을 진행한다고 하였다.\n",
    "##### `RegexpTokenizer()`안에 정규표현식을 입력하고 `gaps=True`라는 옵션을 주게되면, 토큰을 나누는 `기준`으로 설정할 수도 있다."
   ]
  },
  {
   "cell_type": "code",
   "execution_count": 3,
   "metadata": {},
   "outputs": [
    {
     "name": "stdout",
     "output_type": "stream",
     "text": [
      "[\"Don't\", 'be', 'fooled', 'by', 'the', 'dark', 'sounding', 'name,', 'Mr.', \"Jone's\", 'Orphanage', 'is', 'as', 'cheery', 'as', 'cheery', 'goes', 'for', 'a', 'pastry', 'shop']\n"
     ]
    }
   ],
   "source": [
    "import nltk\n",
    "from nltk.tokenize import RegexpTokenizer\n",
    "tokenizer=RegexpTokenizer(\"[\\s]+\", gaps=True)\n",
    "print(tokenizer.tokenize(\"Don't be fooled by the dark sounding name, Mr. Jone's Orphanage is as cheery as cheery goes for a pastry shop\"))"
   ]
  },
  {
   "cell_type": "markdown",
   "metadata": {},
   "source": [
    "   - `RegexpTokenizer(\"[\\s]+\", gaps=True)`라고 지정하였다. 그러므로 정규표현식인 `[\\s]+`(공백)을 기준으로 토큰화를 진행하였다고 생각하면 된다"
   ]
  }
 ],
 "metadata": {
  "kernelspec": {
   "display_name": "Python 3",
   "language": "python",
   "name": "python3"
  },
  "language_info": {
   "codemirror_mode": {
    "name": "ipython",
    "version": 3
   },
   "file_extension": ".py",
   "mimetype": "text/x-python",
   "name": "python",
   "nbconvert_exporter": "python",
   "pygments_lexer": "ipython3",
   "version": "3.7.9"
  }
 },
 "nbformat": 4,
 "nbformat_minor": 4
}
