{
 "cells": [
  {
   "cell_type": "markdown",
   "metadata": {},
   "source": [
    "###### 2020-10-27 화요일"
   ]
  },
  {
   "cell_type": "markdown",
   "metadata": {},
   "source": [
    "# 06_정수인코딩(Integer Encoding)\n",
    "   - 컴퓨터틑 텍스트보다 숫자를 처리하는 것이 익숙하다.\n",
    "   - 그러므로 자연어처리 또한, 텍스트를 숫자로 바꾸는 여러가지 기법들이 존재한다.\n",
    "   - 그러한 기법들을 본격적으로 적용시키기 위한 첫 단계로 각 단어들을 고유한 정수에 **맵핑(mapping)**시키는 전처리 작업이 필요하다\n",
    "   - 예를들어 가지고 있는 텍스트에 단어가 5,000개라면, 1번부터 5,000번까지 단어와 맵핑되는 고유한 정수(인덱스)를 부여한다.\n",
    "   - 정수(인덱스)를 부여하는 방법은 여러가지가 있을 수 있는데, **보통 빈도수가 높은 단어들만 사용하기 위해서 단어에 대한 빈도수를 기준으로 정렬한 뒤에 정수(인덱스)를 부여한다.**"
   ]
  },
  {
   "cell_type": "markdown",
   "metadata": {},
   "source": [
    "## 6-1 정수인코딩(Integer Encoding)"
   ]
  },
  {
   "cell_type": "markdown",
   "metadata": {},
   "source": [
    "   - 왜 이러한 작업이 필요한지는 뒤에서 `원핫인코딩`과 `워드임베딩` 챕터에서 알아보자\n",
    "   - 어떤 과정으로 단어에 정수 인덱스를 부여하는지 알아보자\n",
    "   \n",
    "   \n",
    "   \n",
    "##### 단어를 빈도수 순으로 정렬한 `단어집합(Vocabulary)`을 만들고, 빈도수가 높은 순서에서 낮은 순서로 정수 인덱스를 부여하는 방법이 있다."
   ]
  },
  {
   "cell_type": "markdown",
   "metadata": {},
   "source": [
    "### (1) dictionary 사용하는 방법"
   ]
  },
  {
   "cell_type": "markdown",
   "metadata": {},
   "source": [
    "##### 정수 인코딩을 위해 실습을 진행해 보자\n",
    " > 아래 실습은 개발자의 실력에 따라 하나의 이 중 for문으로 처리할 수 있지만,\n",
    " >\n",
    " > 나는 처음 자연어처리를 배우는 과정이기에 하나하나 끊어서 천천히 진행할 것이다.\n",
    "   1. `text`로 부터 **문장 토큰화**를 진행한다\n",
    "   2. **문장 토큰**으로 부터 **단어토큰화**를 진행한다.\n",
    "   3. **단어 토큰**에서 **불용어**를 처리한다. 처리하고 `result_tokens`리스트에 담는다.\n",
    "   4. **단어사전(vocab)**을 만들자\n",
    "   5. **단어사전**에 근거하여 빈도수가 높은 단어부터 **정수인덱스**를 부여한다\n",
    "   6. 빈도수 **상위 5개**의 단어만 추출하고 `top5_vocab` 딕셔너리에 저장하라\n",
    "   7. `result_tokens`리스트에 `top5_vocab`를 사용하여 문자로 이루어진 단어들을 숫자로 인코딩하라. 만약 `top5_vocab`에 존재하지 않는 단어들이 있다면 **OOV**로 인코딩한다."
   ]
  },
  {
   "cell_type": "code",
   "execution_count": 1,
   "metadata": {},
   "outputs": [],
   "source": [
    "from nltk.tokenize import sent_tokenize  # 문장 토큰화\n",
    "from nltk.tokenize import word_tokenize  # 단어 토큰화\n",
    "from nltk.corpus import stopwords"
   ]
  },
  {
   "cell_type": "code",
   "execution_count": 2,
   "metadata": {},
   "outputs": [],
   "source": [
    "text = \"A barber is a person. a barber is good person. a barber is huge person. he Knew A Secret! The Secret He Kept is huge secret. Huge secret. His barber kept his word. a barber kept his word. His barber kept his secret. But keeping and keeping such a huge secret to himself was driving the barber crazy. the barber went up a huge mountain.\""
   ]
  },
  {
   "cell_type": "markdown",
   "metadata": {},
   "source": [
    " 1. `text`로 부터 **문장 토큰화**를 진행한다"
   ]
  },
  {
   "cell_type": "code",
   "execution_count": 5,
   "metadata": {},
   "outputs": [
    {
     "name": "stdout",
     "output_type": "stream",
     "text": [
      "['A barber is a person.', 'a barber is good person.', 'a barber is huge person.', 'he Knew A Secret!', 'The Secret He Kept is huge secret.', 'Huge secret.', 'His barber kept his word.', 'a barber kept his word.', 'His barber kept his secret.', 'But keeping and keeping such a huge secret to himself was driving the barber crazy.', 'the barber went up a huge mountain.']\n"
     ]
    }
   ],
   "source": [
    "sentence_tokens = sent_tokenize(text)\n",
    "print(sentence_tokens)"
   ]
  },
  {
   "cell_type": "markdown",
   "metadata": {},
   "source": [
    "2. **문장 토큰**으로 부터 **단어토큰화**를 진행한다."
   ]
  },
  {
   "cell_type": "code",
   "execution_count": 11,
   "metadata": {},
   "outputs": [
    {
     "name": "stdout",
     "output_type": "stream",
     "text": [
      "[['A', 'barber', 'is', 'a', 'person', '.'], ['a', 'barber', 'is', 'good', 'person', '.'], ['a', 'barber', 'is', 'huge', 'person', '.'], ['he', 'Knew', 'A', 'Secret', '!'], ['The', 'Secret', 'He', 'Kept', 'is', 'huge', 'secret', '.'], ['Huge', 'secret', '.'], ['His', 'barber', 'kept', 'his', 'word', '.'], ['a', 'barber', 'kept', 'his', 'word', '.'], ['His', 'barber', 'kept', 'his', 'secret', '.'], ['But', 'keeping', 'and', 'keeping', 'such', 'a', 'huge', 'secret', 'to', 'himself', 'was', 'driving', 'the', 'barber', 'crazy', '.'], ['the', 'barber', 'went', 'up', 'a', 'huge', 'mountain', '.']]\n"
     ]
    }
   ],
   "source": [
    "# 단어 토큰을 담는 리스트\n",
    "word_tokens =[]\n",
    "\n",
    "# 문장 토큰에서 단어 토큰화 진행하기\n",
    "for token in sentence_tokens:\n",
    "    temp_list = list(word_tokenize(token))\n",
    "    word_tokens.append(temp_list)\n",
    "    \n",
    "print(word_tokens)"
   ]
  },
  {
   "cell_type": "markdown",
   "metadata": {},
   "source": [
    "3. **단어 토큰**에서 **불용어**를 처리한다. 처리하고 `result_tokens`리스트에 담는다."
   ]
  },
  {
   "cell_type": "code",
   "execution_count": 17,
   "metadata": {},
   "outputs": [
    {
     "name": "stdout",
     "output_type": "stream",
     "text": [
      "[['barber', 'person'], ['barber', 'good', 'person'], ['barber', 'huge', 'person'], ['knew', 'secret'], ['secret', 'kept', 'huge', 'secret'], ['huge', 'secret'], ['barber', 'kept', 'word'], ['barber', 'kept', 'word'], ['barber', 'kept', 'secret'], ['keeping', 'keeping', 'huge', 'secret', 'driving', 'barber', 'crazy'], ['barber', 'went', 'huge', 'mountain']]\n"
     ]
    }
   ],
   "source": [
    "# nltk에서 영어 불용어 가져오기\n",
    "stop_words = set(stopwords.words('english'))\n",
    "\n",
    "\n",
    "# 불용어를 처리하자\n",
    "result_tokens = []\n",
    "for tokens in word_tokens:\n",
    "    temp_list = []\n",
    "    for token in tokens :\n",
    "        token = token.lower() # 모든 단어를 소문자화하여 단어의 개수를 줄인다.\n",
    "        if (token not in stop_words) & (len(token) > 2) : # 단어토큰이 불용어에 없거나, 길이가 2이하인 단어는 제거한다.\n",
    "            temp_list.append(token)\n",
    "    result_tokens.append(temp_list)\n",
    "    \n",
    "    \n",
    "print(result_tokens)\n"
   ]
  },
  {
   "cell_type": "markdown",
   "metadata": {},
   "source": [
    "4. **단어사전(vocab)**을 만들자"
   ]
  },
  {
   "cell_type": "code",
   "execution_count": 21,
   "metadata": {},
   "outputs": [
    {
     "name": "stdout",
     "output_type": "stream",
     "text": [
      "{'barber': 8, 'person': 3, 'good': 1, 'huge': 5, 'knew': 1, 'secret': 6, 'kept': 4, 'word': 2, 'keeping': 2, 'driving': 1, 'crazy': 1, 'went': 1, 'mountain': 1}\n"
     ]
    }
   ],
   "source": [
    "vocab = {}\n",
    "\n",
    "for tokens in result_tokens:\n",
    "    for token in tokens:\n",
    "        if token not in vocab.keys():\n",
    "            vocab[token] = 0\n",
    "        vocab[token] += 1   \n",
    "        \n",
    "print(vocab)"
   ]
  },
  {
   "cell_type": "markdown",
   "metadata": {},
   "source": [
    "5. **단어사전**에 근거하여 빈도수가 높은 단어부터 **정수인덱스**를 부여한 **단어인덱스사전(index_vocab)**을 만들자"
   ]
  },
  {
   "cell_type": "code",
   "execution_count": 34,
   "metadata": {},
   "outputs": [
    {
     "name": "stdout",
     "output_type": "stream",
     "text": [
      "vocab을 value기준으로 정렬\n",
      "{'barber': 8, 'secret': 6, 'huge': 5, 'kept': 4, 'person': 3, 'word': 2, 'keeping': 2, 'good': 1, 'knew': 1, 'driving': 1, 'crazy': 1, 'went': 1, 'mountain': 1}\n",
      "\n",
      "index_vocab\n",
      "{'barber': 1, 'secret': 2, 'huge': 3, 'kept': 4, 'person': 5, 'word': 6, 'keeping': 7}\n"
     ]
    }
   ],
   "source": [
    "# 단어사전(vocab)의 value를 기준으로 정렬하자\n",
    "sort_vocab = dict(sorted(vocab.items(), key=lambda x : x[1], reverse=True))\n",
    "print('vocab을 value기준으로 정렬')\n",
    "print(sort_vocab)\n",
    "print()\n",
    "\n",
    "index_vocab = {}\n",
    "\n",
    "\n",
    "# vocab의 빈도수를 기준으로 정수인덱스를 부여하자\n",
    "# 단어빈도가 낮은 단어는 제거한다 (정제 : cleaning)\n",
    "\n",
    "idx = 1\n",
    "for key, value in sort_vocab.items():\n",
    "    if value > 1: # chapter02 정제 : 빈도가 낮은 단어는 제거한다! 기억해요\n",
    "        index_vocab[key] = idx\n",
    "        idx += 1\n",
    "    \n",
    "\n",
    "print('index_vocab')    \n",
    "print(index_vocab)"
   ]
  },
  {
   "cell_type": "markdown",
   "metadata": {},
   "source": [
    "   - 단어 빈도수가 큰 단어부터 정수 인덱스를 부여한 ***단어인덱스사전**을 만드는 과정에서 **빈도수가 작은 단어**를 제거하였다\n",
    "   - 빈도수가 작은단어는 자연어처리에서 의미를 가지지 않는 가능성이 높기때문에 제거하였다. 자세한건 `chapter02 정제 and 정규화`를 참조하자"
   ]
  },
  {
   "cell_type": "markdown",
   "metadata": {},
   "source": [
    "6. 빈도수 **상위 5개**의 단어만 추출하고 `top5_vocab` 딕셔너리에 저장하라\n",
    "   - 위말을 다르게 말하면 인덱스 5번까지 추출하라는 말과 같다"
   ]
  },
  {
   "cell_type": "code",
   "execution_count": 40,
   "metadata": {},
   "outputs": [
    {
     "name": "stdout",
     "output_type": "stream",
     "text": [
      "{'barber': 1, 'secret': 2, 'huge': 3, 'kept': 4, 'person': 5}\n"
     ]
    }
   ],
   "source": [
    "top5_list = [word for word, index in index_vocab.items() if index < 6]\n",
    "\n",
    "\n",
    "top5_vocab = {}\n",
    "for element in top5_list:\n",
    "    top5_vocab[element] = index_vocab[element]\n",
    "    \n",
    "print(top5_vocab)"
   ]
  },
  {
   "cell_type": "markdown",
   "metadata": {},
   "source": [
    "7. `result_tokens`리스트에 `top5_vocab`를 사용하여 문자로 이루어진 단어들을 숫자로 인코딩하라. 만약 `top5_vocab`에 존재하지 않는 단어들이 있다면 **OOV**로 인코딩한다.\n",
    "    - 여기서 `OOV`는 `Out-Of-Vocabulary`의 약자이다"
   ]
  },
  {
   "cell_type": "code",
   "execution_count": 48,
   "metadata": {},
   "outputs": [
    {
     "name": "stdout",
     "output_type": "stream",
     "text": [
      "단어토큰화와 불용어 처리가 완료된 리스트\n",
      "[['barber', 'person'], ['barber', 'good', 'person'], ['barber', 'huge', 'person'], ['knew', 'secret'], ['secret', 'kept', 'huge', 'secret'], ['huge', 'secret'], ['barber', 'kept', 'word'], ['barber', 'kept', 'word'], ['barber', 'kept', 'secret'], ['keeping', 'keeping', 'huge', 'secret', 'driving', 'barber', 'crazy'], ['barber', 'went', 'huge', 'mountain']]\n",
      "----------------------------------------------------------------------------------------------------------------------------------\n",
      "\n",
      "빈도수가 높은 순서부터 인댁스를 부여하고 빈도수 상위 5개만 담은 딕셔너리\n",
      "{'barber': 1, 'secret': 2, 'huge': 3, 'kept': 4, 'person': 5}\n",
      "\n"
     ]
    }
   ],
   "source": [
    "print('단어토큰화와 불용어 처리가 완료된 리스트')\n",
    "print(result_tokens)\n",
    "print('-'*130)\n",
    "\n",
    "print()\n",
    "print('빈도수가 높은 순서부터 인댁스를 부여하고 빈도수 상위 5개만 담은 딕셔너리')\n",
    "print(top5_vocab)\n",
    "print()"
   ]
  },
  {
   "cell_type": "code",
   "execution_count": 50,
   "metadata": {},
   "outputs": [
    {
     "name": "stdout",
     "output_type": "stream",
     "text": [
      "[[1, 5], [1, 'OOV', 5], [1, 3, 5], ['OOV', 2], [2, 4, 3, 2], [3, 2], [1, 4, 'OOV'], [1, 4, 'OOV'], [1, 4, 2], ['OOV', 'OOV', 3, 2, 'OOV', 1, 'OOV'], [1, 'OOV', 3, 'OOV']]\n"
     ]
    }
   ],
   "source": [
    "frequency_tokens = []\n",
    "\n",
    "for tokens in result_tokens:\n",
    "    temp_list = []\n",
    "    for token in tokens:\n",
    "        if token in top5_vocab.keys():\n",
    "            temp_list.append(top5_vocab[token])\n",
    "        else :\n",
    "            temp_list.append('OOV')\n",
    "    frequency_tokens.append(temp_list)\n",
    "    \n",
    "print(frequency_tokens)"
   ]
  },
  {
   "cell_type": "code",
   "execution_count": null,
   "metadata": {},
   "outputs": [],
   "source": []
  },
  {
   "cell_type": "code",
   "execution_count": null,
   "metadata": {},
   "outputs": [],
   "source": []
  },
  {
   "cell_type": "code",
   "execution_count": null,
   "metadata": {},
   "outputs": [],
   "source": []
  },
  {
   "cell_type": "code",
   "execution_count": null,
   "metadata": {},
   "outputs": [],
   "source": []
  },
  {
   "cell_type": "code",
   "execution_count": null,
   "metadata": {},
   "outputs": [],
   "source": []
  },
  {
   "cell_type": "code",
   "execution_count": null,
   "metadata": {},
   "outputs": [],
   "source": []
  },
  {
   "cell_type": "code",
   "execution_count": null,
   "metadata": {},
   "outputs": [],
   "source": []
  },
  {
   "cell_type": "code",
   "execution_count": null,
   "metadata": {},
   "outputs": [],
   "source": []
  },
  {
   "cell_type": "code",
   "execution_count": null,
   "metadata": {},
   "outputs": [],
   "source": []
  },
  {
   "cell_type": "code",
   "execution_count": null,
   "metadata": {},
   "outputs": [],
   "source": []
  },
  {
   "cell_type": "code",
   "execution_count": null,
   "metadata": {},
   "outputs": [],
   "source": []
  },
  {
   "cell_type": "code",
   "execution_count": null,
   "metadata": {},
   "outputs": [],
   "source": []
  },
  {
   "cell_type": "code",
   "execution_count": null,
   "metadata": {},
   "outputs": [],
   "source": []
  },
  {
   "cell_type": "code",
   "execution_count": null,
   "metadata": {},
   "outputs": [],
   "source": []
  },
  {
   "cell_type": "code",
   "execution_count": null,
   "metadata": {},
   "outputs": [],
   "source": []
  },
  {
   "cell_type": "code",
   "execution_count": null,
   "metadata": {},
   "outputs": [],
   "source": []
  },
  {
   "cell_type": "code",
   "execution_count": null,
   "metadata": {},
   "outputs": [],
   "source": []
  },
  {
   "cell_type": "code",
   "execution_count": null,
   "metadata": {},
   "outputs": [],
   "source": []
  },
  {
   "cell_type": "code",
   "execution_count": null,
   "metadata": {},
   "outputs": [],
   "source": []
  },
  {
   "cell_type": "code",
   "execution_count": null,
   "metadata": {},
   "outputs": [],
   "source": []
  },
  {
   "cell_type": "code",
   "execution_count": null,
   "metadata": {},
   "outputs": [],
   "source": []
  },
  {
   "cell_type": "code",
   "execution_count": null,
   "metadata": {},
   "outputs": [],
   "source": []
  }
 ],
 "metadata": {
  "kernelspec": {
   "display_name": "Python 3",
   "language": "python",
   "name": "python3"
  },
  "language_info": {
   "codemirror_mode": {
    "name": "ipython",
    "version": 3
   },
   "file_extension": ".py",
   "mimetype": "text/x-python",
   "name": "python",
   "nbconvert_exporter": "python",
   "pygments_lexer": "ipython3",
   "version": "3.7.9"
  }
 },
 "nbformat": 4,
 "nbformat_minor": 4
}
