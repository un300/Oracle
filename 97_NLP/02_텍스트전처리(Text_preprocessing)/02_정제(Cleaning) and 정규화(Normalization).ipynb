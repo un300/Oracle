{
 "cells": [
  {
   "cell_type": "markdown",
   "metadata": {},
   "source": [
    "##### 2020-10-23 금요일"
   ]
  },
  {
   "cell_type": "markdown",
   "metadata": {},
   "source": [
    "# 02 정제(Cleaning) and 정규화(Normalization)\n",
    "   - 코퍼스(말뭉치)에서 용도에 맞게 토큰을 분류하는 작업을 **토큰화**라고 한다.\n",
    "   - **토큰화**작업 전, 후에는 텍스트 데이터를 용도에 맞게 **정제(Cleaning)** 및 **정규화(Normalization)**를 항상 동반한다.\n",
    "       - 정제(cleaning) : 갖고 있는 코퍼스로부터 노이즈 데이터를 제거한다.\n",
    "       - 정규화(normalization) : 표현 방법이 다른 단어들을 통합시켜서 같은 단어로 만들어준다.\n",
    "   - 이 챕터에서는 여러가지 **정제**와 **정규화** 기법에 대해 배워보자"
   ]
  },
  {
   "cell_type": "markdown",
   "metadata": {},
   "source": [
    "## - 목차\n",
    "\n",
    "#### 2-1 규칙에 기반한 표기가 다른 단어들의 통합\n",
    "\n",
    "#### 2-2 대문자 소문자 통합\n",
    "\n",
    "#### 2-3 불필요한 단어의 제거(Removing Unnecessaty Words)\n",
    "\n",
    "#### 2-4 정규 표현식(Regular Expression)"
   ]
  },
  {
   "cell_type": "markdown",
   "metadata": {},
   "source": [
    "## 2-1 규칙에 기반한 표기가 다른 단어들의 통합"
   ]
  },
  {
   "cell_type": "markdown",
   "metadata": {},
   "source": [
    "   - 표기가 다른 언어를 하나의 단어로 **정규화**하는 방법을 사용할 수 있다.\n",
    "   - 예를들어 `USA`, `US`는 같은 의미임으로 하나의 단어로 정규화한다.\n",
    "   - 표기가 다른 단어들을 통합하는 방법인 **어간추출(stemming)**과 **표제어추출(lemmatization)**에 대해서 더 자세히 알아보자"
   ]
  },
  {
   "cell_type": "markdown",
   "metadata": {},
   "source": [
    "## 2-2 대문자 소문자 통합"
   ]
  },
  {
   "cell_type": "markdown",
   "metadata": {},
   "source": [
    "   - 영어의 경우 대부분 문장의 첫글자가 대문자이기 때문에, 대문자에서 소문자로 변환하는 **소문자변환**이 주로 이루어진다.\n",
    "   - 가령 `페라리`를 검색창에서 검색할 때, `Ferrari`와 `ferrari`의 검색결과가 같아야 한다.\n",
    "   - 하지만 무작정 대문자를 소문자로 변경해서는 안된다.\n",
    "   - `US : 미국`과 `us : 우리`의 경우는 의미가 완전히 달라진다. 또한 사람이름의 경우는 대문자를 유지해야한다.\n",
    "   - 대소문자 통합 또한, 함수나 머신러닝으로 규칙을 구현할 수 있다.\n",
    "   - 진행하고자 하는 방향에 따라서 잘 진행하길 바란다"
   ]
  },
  {
   "cell_type": "markdown",
   "metadata": {},
   "source": [
    "## 2-3 불필요한 단어의 제거(Removing Unnecessaty Words)"
   ]
  },
  {
   "cell_type": "markdown",
   "metadata": {},
   "source": [
    "   - 텍스트 정제 작업에서 `노이즈 데이터(Noise Data)`는 아무 의미도 없는 글자들(특히 특수문자)을 의미한다.\n",
    "   - 또한, 의미를 가지지만 분석하고자 하는 목적에 맞지 않는 데이터도 `노이즈 데이터(Noise Data)`로 간주한다.\n",
    "   - 불필요한 단어를 제거하는 방법으로는 **불용어제거** , **등장 빈도가 적은 단어제거**, **길이가 짧은 단어제거**등의 방법들이 있다.\n",
    "   - **불용어제거**는 다가오는 챕터에서 다루기로하고, 지금은 **등장빈 도가 적은 단어제거**와 **길이가 짧은 단어제거**방법에 대해 간략히 설명한다."
   ]
  },
  {
   "cell_type": "markdown",
   "metadata": {},
   "source": [
    "#### (1) 등장 빈도가 적은 단어\n",
    "   - 만약 메일에서 스팸의 유무를 분류하고자 할때, 총 100,000개의 단어에서 5개의 메일에서 A라는 단어가 나타났다면, 스팸유무를 분류하는데 전혀 도움이 되지 않을 것이다. 그러므로 제거한다\n",
    "   "
   ]
  },
  {
   "cell_type": "markdown",
   "metadata": {},
   "source": [
    "#### (2) 길이가 짧은 단어(Removing words with very a short length)\n",
    "   - 영어권의 경우 길이가 짧은 단어를 제거하는 것은 의미없는 단어를 제거하는 효과를 볼 수 있다.\n",
    "   - 하지만 한국어의 경우는 다르다.\n",
    "   - 왜냐하면 영어는 한국어에 비해 단어의 길이가 길기 때문이다.\n",
    "   - 평균적으로 영어 단어의 길이는 6 ~ 7이지만, 한국어의 단어길이는 2~3 정도이다.\n",
    "   - **이러한 특성으로 한국어의 경우 길이가 짧은 단어를 제거하는 것은 의미없는 단어를 제거하는 효과를 기대할 수 없다**"
   ]
  },
  {
   "cell_type": "markdown",
   "metadata": {},
   "source": [
    "영어에서 길이가 1 ~ 2인 단어를 정규표현식`re`를 통해 제거해보자"
   ]
  },
  {
   "cell_type": "code",
   "execution_count": 2,
   "metadata": {},
   "outputs": [],
   "source": [
    "text = \"I was wondering if anyone out there could enlighten me on this car.\""
   ]
  },
  {
   "cell_type": "code",
   "execution_count": 3,
   "metadata": {},
   "outputs": [
    {
     "name": "stdout",
     "output_type": "stream",
     "text": [
      " was wondering anyone out there could enlighten this car.\n"
     ]
    }
   ],
   "source": [
    "import re\n",
    "shortword = re.compile(r'\\W*\\b\\w{1,2}\\b')  # 길이가 1 ~ 2인 단어를 제거하는 정규표현식\n",
    "print(shortword.sub('', text))"
   ]
  },
  {
   "cell_type": "markdown",
   "metadata": {},
   "source": [
    "## 2-4 정규 표현식(Regular Expression)"
   ]
  },
  {
   "cell_type": "markdown",
   "metadata": {},
   "source": [
    "   - 정규표현식은 어디든 유용하게 쓰인다\n",
    "   - 추출해낸 혹은 가지고있는 텍스트데이터가 특정한 패턴을 가지고 있다면, 정규표현식을 통해 처리할 수 있다.\n",
    "   - 정규 표현식은 코퍼스(말뭉치) 내에서 계속해서 등장하는 글자들을 규칙에 기반하여 한 번에 제거하는 방식으로 매우 유용하다\n",
    "   - 정규표현식에 대한 자세한 내용은 다른 챕터에서 집중적으로 다룰 것이다."
   ]
  }
 ],
 "metadata": {
  "kernelspec": {
   "display_name": "Python 3",
   "language": "python",
   "name": "python3"
  },
  "language_info": {
   "codemirror_mode": {
    "name": "ipython",
    "version": 3
   },
   "file_extension": ".py",
   "mimetype": "text/x-python",
   "name": "python",
   "nbconvert_exporter": "python",
   "pygments_lexer": "ipython3",
   "version": "3.7.9"
  }
 },
 "nbformat": 4,
 "nbformat_minor": 4
}
