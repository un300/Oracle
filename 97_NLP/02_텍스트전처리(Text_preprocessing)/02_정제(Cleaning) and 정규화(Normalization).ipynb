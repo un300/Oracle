{
 "cells": [
  {
   "cell_type": "markdown",
   "metadata": {},
   "source": [
    "# 02 정제(Cleaning) and 정규화(Normalization)\n",
    "   - 코퍼스(말뭉치)에서 용도에 맞게 토큰을 분류하는 작업을 **토큰화**라고 한다.\n",
    "   - **토큰화**작업 전, 후에는 텍스트 데이터를 용도에 맞게 **정제(Cleaning)** 및 **정규화(Normalization)**를 항상 동반한다.\n",
    "       - 정제(cleaning) : 갖고 있는 코퍼스로부터 노이즈 데이터를 제거한다.\n",
    "       - 정규화(normalization) : 표현 방법이 다른 단어들을 통합시켜서 같은 단어로 만들어준다.\n",
    "   - 이 챕터에서는 여러가지 **정제**와 **정규화** 기법에 대해 배워보자"
   ]
  },
  {
   "cell_type": "markdown",
   "metadata": {},
   "source": [
    "## - 목차\n",
    "\n",
    "#### 2-1 규칙에 기반한 표기가 다른 단어들의 통합\n",
    "\n",
    "#### 2-2 대문자 소문자 통합"
   ]
  },
  {
   "cell_type": "markdown",
   "metadata": {},
   "source": [
    "## 2-1 규칙에 기반한 표기가 다른 단어들의 통합"
   ]
  },
  {
   "cell_type": "markdown",
   "metadata": {},
   "source": [
    "   - 표기가 다른 언어를 하나의 단어로 **정규화**하는 방법을 사용할 수 있다.\n",
    "   - 예를들어 `USA`, `US`는 같은 의미임으로 하나의 단어로 정규화한다.\n",
    "   - 표기가 다른 단어들을 통합하는 방법인 **어간추출(stemming)**과 **표제어추출(lemmatization)**에 대해서 더 자세히 알아보자"
   ]
  },
  {
   "cell_type": "markdown",
   "metadata": {},
   "source": [
    "## 2-2 대문자 소문자 통합"
   ]
  },
  {
   "cell_type": "markdown",
   "metadata": {},
   "source": [
    "   - 영어의 경우 대부분 문장의 첫글자가 대문자이기 때문에, 대문자에서 소문자로 변환하는 **소문자변환**이 주로 이루어진다.\n",
    "   - 가령 `페라리`를 검색창에서 검색할 때, `Ferrari`와 `ferrari`의 검색결과가 같아야 한다.\n",
    "   - 하지만 무작정 대문자를 소문자로 변경해서는 안된다.\n",
    "   - `US : 미국`과 `us : 우리`의 경우는 의미가 완전히 달라진다. 또한 사람이름의 경우는 대문자를 유지해야한다."
   ]
  },
  {
   "cell_type": "code",
   "execution_count": null,
   "metadata": {},
   "outputs": [],
   "source": []
  },
  {
   "cell_type": "code",
   "execution_count": null,
   "metadata": {},
   "outputs": [],
   "source": []
  },
  {
   "cell_type": "code",
   "execution_count": null,
   "metadata": {},
   "outputs": [],
   "source": []
  },
  {
   "cell_type": "code",
   "execution_count": null,
   "metadata": {},
   "outputs": [],
   "source": []
  },
  {
   "cell_type": "code",
   "execution_count": null,
   "metadata": {},
   "outputs": [],
   "source": []
  }
 ],
 "metadata": {
  "kernelspec": {
   "display_name": "Python 3",
   "language": "python",
   "name": "python3"
  },
  "language_info": {
   "codemirror_mode": {
    "name": "ipython",
    "version": 3
   },
   "file_extension": ".py",
   "mimetype": "text/x-python",
   "name": "python",
   "nbconvert_exporter": "python",
   "pygments_lexer": "ipython3",
   "version": "3.7.9"
  }
 },
 "nbformat": 4,
 "nbformat_minor": 4
}
