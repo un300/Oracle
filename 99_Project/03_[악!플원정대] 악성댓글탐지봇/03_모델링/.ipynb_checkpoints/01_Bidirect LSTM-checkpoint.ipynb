{
 "cells": [
  {
   "cell_type": "markdown",
   "metadata": {
    "id": "qpSbJEyG0Y6S"
   },
   "source": [
    "###### 2020-11-20 금요일"
   ]
  },
  {
   "cell_type": "markdown",
   "metadata": {
    "id": "AJotc78k0baz"
   },
   "source": [
    "# 01_Bidirect LSTM"
   ]
  },
  {
   "cell_type": "code",
   "execution_count": null,
   "metadata": {
    "id": "vpaWHiwLjVob"
   },
   "outputs": [],
   "source": [
    "import warnings\n",
    "warnings.filterwarnings(action='ignore')"
   ]
  },
  {
   "cell_type": "code",
   "execution_count": null,
   "metadata": {
    "id": "CreOeqQnkb1Q"
   },
   "outputs": [],
   "source": [
    "import pandas as pd\n",
    "import numpy as np\n",
    "import re\n",
    "\n",
    "from tqdm import tqdm_notebook"
   ]
  },
  {
   "cell_type": "code",
   "execution_count": null,
   "metadata": {
    "id": "FdPV4xhUkLaT"
   },
   "outputs": [],
   "source": [
    "import pandas as pd\n",
    "import numpy as np\n",
    "import tensorflow as tf\n",
    "\n",
    "\n",
    "from tensorflow.keras.preprocessing.text import Tokenizer\n",
    "from tensorflow.keras.preprocessing.sequence import pad_sequences\n",
    "\n",
    "from sklearn.metrics import accuracy_score, log_loss, confusion_matrix\n",
    "from sklearn.model_selection import StratifiedKFold, train_test_split"
   ]
  },
  {
   "cell_type": "markdown",
   "metadata": {
    "id": "4ETaeSJB0u_s"
   },
   "source": [
    "## 1. 데이터불러오기 & 합치기\n",
    " - 데이터의 특징은 다음과 같다\n",
    "    - 이모티콘, 특수문자는 제거\n",
    "    - 0 : 악플이 아닌경우\n",
    "    - 1 : 특정인을 비방하지는 않지만, 일부 소수에게 불쾌감을 주거나 악플여부를 매기기 애매한 경우\n",
    "    - 2 : 대부분의 사람이 불편함을 느끼는 댓글\n",
    "    "
   ]
  },
  {
   "cell_type": "code",
   "execution_count": null,
   "metadata": {
    "id": "FDgvABLvkLkd"
   },
   "outputs": [],
   "source": [
    "d1 = pd.read_csv('/content/drive/MyDrive/[final_project]_악플원정대/data/division_data1(2020-11-17).csv')\n",
    "d2 = pd.read_csv('/content/drive/MyDrive/[final_project]_악플원정대/data/division_data2(2020-11-17).csv')\n",
    "# division_data3 경우는 인코딩안해주면 에러뜸 ㅠ\n",
    "d3 = pd.read_csv('/content/drive/MyDrive/[final_project]_악플원정대/data/division_data3(2020-11-17).csv', encoding='cp949')\n",
    "# division_data4 경우는 read_excel로 불러와야 에러안뜸 ㅠ\n",
    "d5 = pd.read_excel('/content/drive/MyDrive/[final_project]_악플원정대/data/division_data5(2020-11-17).csv')\n",
    "d6 = pd.read_csv('/content/drive/MyDrive/[final_project]_악플원정대/data/division_data6(재원).csv')"
   ]
  },
  {
   "cell_type": "code",
   "execution_count": null,
   "metadata": {
    "id": "0wJ8YjWvnYhe"
   },
   "outputs": [],
   "source": [
    "df_list = [d1, d2, d3, d5, d6]\n",
    "\n",
    "all_df = d1\n",
    "for df in df_list[1:]:\n",
    "    all_df = pd.concat([all_df, df])"
   ]
  },
  {
   "cell_type": "markdown",
   "metadata": {
    "id": "vB5CCMhM0y1l"
   },
   "source": [
    "## 2. 데이터전처리"
   ]
  },
  {
   "cell_type": "code",
   "execution_count": null,
   "metadata": {
    "id": "_HbqpVhDn8Fc"
   },
   "outputs": [],
   "source": [
    "all_df.drop(['Unnamed: 0', '출처'], axis=1, inplace=True)"
   ]
  },
  {
   "cell_type": "code",
   "execution_count": null,
   "metadata": {
    "id": "QoGn729yn8Dg"
   },
   "outputs": [],
   "source": [
    "index = all_df['악플여부'].isna()\n",
    "raw_df = all_df[~index]"
   ]
  },
  {
   "cell_type": "code",
   "execution_count": null,
   "metadata": {
    "id": "zOgStEetn8Bw"
   },
   "outputs": [],
   "source": [
    "raw_df = raw_df.reset_index()\n",
    "raw_df.drop(['index'], inplace=True, axis=1)"
   ]
  },
  {
   "cell_type": "code",
   "execution_count": null,
   "metadata": {
    "id": "lnud3CREn7_Z"
   },
   "outputs": [],
   "source": [
    "copy_df = raw_df.copy()"
   ]
  },
  {
   "cell_type": "code",
   "execution_count": null,
   "metadata": {
    "id": "dadaFfB2kLnC"
   },
   "outputs": [],
   "source": [
    "# 고정 시드값 지정\n",
    "seed = 123\n",
    "\n",
    "# 댓글 길이 지정\n",
    "comment_len = 400"
   ]
  },
  {
   "cell_type": "code",
   "execution_count": null,
   "metadata": {
    "id": "1T_cSjtPpZbV"
   },
   "outputs": [],
   "source": [
    "copy_df['악플여부'].value_counts()"
   ]
  },
  {
   "cell_type": "code",
   "execution_count": null,
   "metadata": {
    "id": "dsHQVhZ_pZZP"
   },
   "outputs": [],
   "source": [
    "copy_df['댓글'] = copy_df['댓글'].apply(str)"
   ]
  },
  {
   "cell_type": "markdown",
   "metadata": {
    "id": "eMVOcKgB01sf"
   },
   "source": [
    "## 3. Train/Test나누기 & 텍스트 음절단위 토큰화 & 정수인덱싱 & 패딩"
   ]
  },
  {
   "cell_type": "code",
   "execution_count": null,
   "metadata": {
    "id": "o2ad_wIjkLpB"
   },
   "outputs": [],
   "source": [
    "from tensorflow.keras.preprocessing.text import Tokenizer\n",
    "from tensorflow.keras.preprocessing.sequence import pad_sequences\n",
    "\n",
    "from sklearn.model_selection import train_test_split"
   ]
  },
  {
   "cell_type": "markdown",
   "metadata": {
    "id": "2IalzpesRKx1"
   },
   "source": [
    "\n",
    "### Train/Test 나누기"
   ]
  },
  {
   "cell_type": "code",
   "execution_count": null,
   "metadata": {
    "id": "t9dQNhuxkLrM"
   },
   "outputs": [],
   "source": [
    "feature = copy_df['댓글']\n",
    "label = copy_df['악플여부']"
   ]
  },
  {
   "cell_type": "code",
   "execution_count": null,
   "metadata": {
    "id": "hfZk4Ze2kLtI"
   },
   "outputs": [],
   "source": [
    "X_train, X_test, y_train, y_test = train_test_split(feature, label, \n",
    "                                                    test_size=0.2,\n",
    "                                                    random_state=seed)"
   ]
  },
  {
   "cell_type": "markdown",
   "metadata": {
    "id": "NiOxXg5sRPOo"
   },
   "source": [
    "### 텍스트 음절단위 토큰화\n",
    " - 조금 오래... 걸립니다..ㅎ"
   ]
  },
  {
   "cell_type": "code",
   "execution_count": null,
   "metadata": {
    "id": "Se0id6DPqjxz"
   },
   "outputs": [],
   "source": [
    "X_train_split = X_train.apply(list).tolist()\n",
    "X_test_split = X_test.apply(list).tolist()\n",
    "\n",
    "X_train_token_list =  sum(X_train_split, [])"
   ]
  },
  {
   "cell_type": "markdown",
   "metadata": {
    "id": "piSGnsSKRSsV"
   },
   "source": [
    "### 정수인덱싱"
   ]
  },
  {
   "cell_type": "code",
   "execution_count": null,
   "metadata": {
    "id": "QfIBG58akLvb"
   },
   "outputs": [],
   "source": [
    "tokenizer = Tokenizer()\n",
    "tokenizer.fit_on_texts(X_train_token_list)\n",
    "\n",
    "word_index_vocab = tokenizer.word_index\n",
    "word_count_vocab = tokenizer.word_counts\n",
    "\n",
    "X_train_sequences = tokenizer.texts_to_sequences(X_train_split)\n",
    "X_test_sequences = tokenizer.texts_to_sequences(X_test_split)\n",
    "\n"
   ]
  },
  {
   "cell_type": "markdown",
   "metadata": {
    "id": "I_0FF3KARVm3"
   },
   "source": [
    "### 패딩"
   ]
  },
  {
   "cell_type": "code",
   "execution_count": null,
   "metadata": {
    "id": "08W7g9erkLxp"
   },
   "outputs": [],
   "source": [
    "train = pad_sequences(X_train_sequences, padding='post', maxlen=400)\n",
    "test = pad_sequences(X_test_sequences, padding='post', maxlen=400)"
   ]
  },
  {
   "cell_type": "markdown",
   "metadata": {
    "id": "IHOwX6nJ1AqA"
   },
   "source": [
    "## 4. SMOTE를 이용한 라벨 불균형 해소"
   ]
  },
  {
   "cell_type": "code",
   "execution_count": null,
   "metadata": {
    "id": "OkBBTORURbsn"
   },
   "outputs": [],
   "source": [
    "y_train.value_counts()"
   ]
  },
  {
   "cell_type": "markdown",
   "metadata": {
    "id": "DIMVSCS5TqJp"
   },
   "source": [
    " - 라벨 0은 446162, 1은 2897, 2는 4993으로 균형이 잡혀있지않아 recall(재현율)이 떨어질 가능성이 높다\n",
    " - 그래서 SMOTE를 이용하여 라벨이 1과 2인 경우를 복제하여 라벨학습의 균형을 맞추어 주는 것이다\n",
    " - 이것을 `오버샘플링`이라 한다."
   ]
  },
  {
   "cell_type": "code",
   "execution_count": null,
   "metadata": {
    "id": "11xc_iMikL6n"
   },
   "outputs": [],
   "source": [
    "from imblearn.over_sampling import SMOTE"
   ]
  },
  {
   "cell_type": "code",
   "execution_count": null,
   "metadata": {
    "id": "nFXcJor0kL86"
   },
   "outputs": [],
   "source": [
    "smote = SMOTE(random_state=seed)\n",
    "train_over, y_train_over = smote.fit_sample(train, y_train)"
   ]
  },
  {
   "cell_type": "code",
   "execution_count": null,
   "metadata": {
    "id": "hk6BtKDAUSN9"
   },
   "outputs": [],
   "source": [
    "pd.Series(y_train_over).value_counts()"
   ]
  },
  {
   "cell_type": "markdown",
   "metadata": {
    "id": "Jttz-2z41EgV"
   },
   "source": [
    "## 5. Bidirect LSTM 구현"
   ]
  },
  {
   "cell_type": "code",
   "execution_count": null,
   "metadata": {
    "id": "kpaLycFDkL_M"
   },
   "outputs": [],
   "source": [
    "from tensorflow.keras.layers import Embedding, LSTM, Bidirectional, Dense\n",
    "from tensorflow.keras.models import Sequential, load_model\n",
    "from tensorflow.keras.callbacks import EarlyStopping, ModelCheckpoint\n",
    "\n",
    "from sklearn.metrics import f1_score"
   ]
  },
  {
   "cell_type": "code",
   "execution_count": null,
   "metadata": {
    "id": "4sismaAZkMBj"
   },
   "outputs": [],
   "source": [
    "# 음절 단어사전의 크기\n",
    "vocab_size = len(word_index_vocab)\n",
    "embedding_dim = 64\n",
    "comment_len = 400"
   ]
  },
  {
   "cell_type": "code",
   "execution_count": null,
   "metadata": {
    "id": "_vAL4I28ykkE"
   },
   "outputs": [],
   "source": [
    "model = Sequential()\n",
    "model.add(Embedding((vocab_size)+1, embedding_dim, input_length=comment_len))\n",
    "model.add(Bidirectional(LSTM(64, return_sequences=True)))\n",
    "model.add(Bidirectional(LSTM(32, return_sequences=False)))\n",
    "model.add(Dense(3, activation='softmax'))\n",
    "\n",
    "\n",
    "model.compile(loss='sparse_categorical_crossentropy', optimizer='adam', metrics=['acc'])"
   ]
  },
  {
   "cell_type": "code",
   "execution_count": null,
   "metadata": {
    "id": "_3xZZjk9kMDo"
   },
   "outputs": [],
   "source": [
    "# 성능의 변화가 없을때 멈추는 기능\n",
    "es = EarlyStopping(monitor='val_loss', mode='min', verbose=1, patience=4)\n",
    "\n",
    "# 지금까지 가장 좋은 성능이 나왔을때, 노드의 가중치를 저장하는 함수\n",
    "mc = ModelCheckpoint('best_model.h5', monitor= 'val_acc', mode='max', save_best_only=True)"
   ]
  },
  {
   "cell_type": "code",
   "execution_count": null,
   "metadata": {
    "id": "gv7i1lekyd0l"
   },
   "outputs": [],
   "source": [
    "history = model.fit(train_over, y_train_over, \n",
    "                    callbacks        = [es, mc],\n",
    "                    epochs           = 5, \n",
    "                    batch_size       = 128, \n",
    "                    validation_split = 0.2)"
   ]
  },
  {
   "cell_type": "markdown",
   "metadata": {
    "id": "M-_kC_jKWXm8"
   },
   "source": [
    "## 6. Test Set 예측\n",
    " - confusion matrix의 대각선 원소의 수가 많아지도록 모델을 짜주십쇼"
   ]
  },
  {
   "cell_type": "code",
   "execution_count": null,
   "metadata": {
    "id": "tu5pQPS7ydyg"
   },
   "outputs": [],
   "source": [
    "loaded_model = load_model('best_model.h5')\n",
    "y_pred = loaded_model.predict(test)\n",
    "\n",
    "y_pred_class = np.argmax(y_pred)\n",
    "confusion_matrix(y_pred_class, y_test)"
   ]
  }
 ],
 "metadata": {
  "colab": {
   "authorship_tag": "ABX9TyMlHWAGZEXp63ECNIM7kVKY",
   "collapsed_sections": [],
   "mount_file_id": "1MXwe2Gx5pgh4VhXsryWc_vnnOS4WcAr5",
   "name": "01_Bidirect LSTM",
   "private_outputs": true,
   "provenance": []
  },
  "kernelspec": {
   "display_name": "Python 3",
   "language": "python",
   "name": "python3"
  },
  "language_info": {
   "codemirror_mode": {
    "name": "ipython",
    "version": 3
   },
   "file_extension": ".py",
   "mimetype": "text/x-python",
   "name": "python",
   "nbconvert_exporter": "python",
   "pygments_lexer": "ipython3",
   "version": "3.7.9"
  }
 },
 "nbformat": 4,
 "nbformat_minor": 1
}
