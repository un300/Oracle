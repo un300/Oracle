{
 "cells": [
  {
   "cell_type": "code",
   "execution_count": 7,
   "metadata": {},
   "outputs": [],
   "source": [
    "import warnings\n",
    "warnings.filterwarnings('ignore')"
   ]
  },
  {
   "cell_type": "code",
   "execution_count": 11,
   "metadata": {},
   "outputs": [],
   "source": [
    "from selenium import webdriver\n",
    "from bs4 import BeautifulSoup\n",
    "\n",
    "import time\n",
    "import pandas as pd\n",
    "import numpy as pd"
   ]
  },
  {
   "cell_type": "code",
   "execution_count": 67,
   "metadata": {},
   "outputs": [],
   "source": [
    "path='./chrome_Driver/chromedriver.exe'\n",
    "driver = webdriver.Chrome(path)\n",
    "driver.get(\"https://instagram.com\")\n"
   ]
  },
  {
   "cell_type": "code",
   "execution_count": 93,
   "metadata": {},
   "outputs": [
    {
     "data": {
      "text/plain": [
       "[<selenium.webdriver.remote.webelement.WebElement (session=\"186ab94dad078b95fa99a9096bd42eac\", element=\"c2ba7629-5070-4928-ace2-e45ed0e8da3e\")>,\n",
       " <selenium.webdriver.remote.webelement.WebElement (session=\"186ab94dad078b95fa99a9096bd42eac\", element=\"29248409-3b41-4cbf-8094-005d2cb20aa6\")>]"
      ]
     },
     "execution_count": 93,
     "metadata": {},
     "output_type": "execute_result"
    }
   ],
   "source": [
    "driver.find_elements_by_css_selector('div.gr27e > div.EPjEi > form.HmktE > div > div.-MzZI')"
   ]
  },
  {
   "cell_type": "code",
   "execution_count": 60,
   "metadata": {},
   "outputs": [],
   "source": [
    "## 로그인\n",
    "id_input_temp, pwd_input_temp = tuple(driver.find_elements_by_css_selector('div.gr27e > div.EPjEi > form.HmktE > div > div.-MzZI'))\n",
    "\n",
    "id_input  = id_input_temp.find_element_by_css_selector('div > label')\n",
    "pwd_input = pwd_input_temp.find_element_by_css_selector('div > label')\n",
    "\n",
    "id_input.send_keys('lan4148@naver.com')\n",
    "pwd_input.send_keys('')\n",
    "\n",
    "pwd_input.submit()"
   ]
  },
  {
   "cell_type": "code",
   "execution_count": 40,
   "metadata": {},
   "outputs": [
    {
     "data": {
      "text/plain": [
       "<selenium.webdriver.chrome.webdriver.WebDriver (session=\"8da6c1d69aeb2b056a1d0657cf8a6087\")>"
      ]
     },
     "execution_count": 40,
     "metadata": {},
     "output_type": "execute_result"
    }
   ],
   "source": []
  },
  {
   "cell_type": "code",
   "execution_count": 53,
   "metadata": {},
   "outputs": [],
   "source": [
    "# 셀럽찾기\n",
    "\n",
    "find_id = driver.find_element_by_css_selector('nav > div._8MQSO > div > div > div.LWmhU > input')\n",
    "find_id.send_keys('je_one_')\n"
   ]
  },
  {
   "cell_type": "code",
   "execution_count": 58,
   "metadata": {},
   "outputs": [],
   "source": [
    "for_click = driver.find_element_by_css_selector('nav > div._8MQSO > div > div > div.LWmhU > div > div.drKGC > div > a')\n",
    "for_click.click()"
   ]
  }
 ],
 "metadata": {
  "kernelspec": {
   "display_name": "Python 3",
   "language": "python",
   "name": "python3"
  },
  "language_info": {
   "codemirror_mode": {
    "name": "ipython",
    "version": 3
   },
   "file_extension": ".py",
   "mimetype": "text/x-python",
   "name": "python",
   "nbconvert_exporter": "python",
   "pygments_lexer": "ipython3",
   "version": "3.7.9"
  }
 },
 "nbformat": 4,
 "nbformat_minor": 4
}
