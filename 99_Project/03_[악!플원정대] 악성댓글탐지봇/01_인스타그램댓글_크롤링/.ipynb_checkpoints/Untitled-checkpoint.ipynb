{
 "cells": [
  {
   "cell_type": "code",
   "execution_count": 1,
   "metadata": {},
   "outputs": [],
   "source": [
    "import warnings\n",
    "warnings.filterwarnings('ignore')"
   ]
  },
  {
   "cell_type": "code",
   "execution_count": 2,
   "metadata": {},
   "outputs": [],
   "source": [
    "from selenium import webdriver\n",
    "from bs4 import BeautifulSoup\n",
    "\n",
    "import time\n",
    "import pandas as pd\n",
    "import numpy as pd"
   ]
  },
  {
   "cell_type": "code",
   "execution_count": 10,
   "metadata": {},
   "outputs": [],
   "source": [
    "path='./chrome_Driver/chromedriver.exe'\n",
    "driver = webdriver.Chrome(path)\n",
    "driver.get(\"https://instagram.com\")"
   ]
  },
  {
   "cell_type": "code",
   "execution_count": 11,
   "metadata": {},
   "outputs": [],
   "source": [
    "## 로그인\n",
    "id_input_temp, pwd_input_temp = tuple(driver.find_elements_by_css_selector('div.gr27e > div.EPjEi > form.HmktE > div > div.-MzZI'))\n",
    "\n",
    "id_input  = id_input_temp.find_element_by_css_selector('div > label')\n",
    "pwd_input = pwd_input_temp.find_element_by_css_selector('div > label')\n",
    "\n",
    "id_input.send_keys('lan4148@naver.com')\n",
    "pwd_input.send_keys('')\n",
    "\n",
    "pwd_input.submit()"
   ]
  },
  {
   "cell_type": "code",
   "execution_count": 12,
   "metadata": {},
   "outputs": [],
   "source": [
    "# 셀럽찾기\n",
    "\n",
    "find_id = driver.find_element_by_css_selector('nav > div._8MQSO > div > div > div.LWmhU > input')\n",
    "find_id.send_keys('je_one_')\n"
   ]
  },
  {
   "cell_type": "code",
   "execution_count": 13,
   "metadata": {},
   "outputs": [],
   "source": [
    "for_click = driver.find_element_by_css_selector('nav > div._8MQSO > div > div > div.LWmhU > div.drKGC > div > a')\n",
    "for_click.click()"
   ]
  }
 ],
 "metadata": {
  "kernelspec": {
   "display_name": "Python 3",
   "language": "python",
   "name": "python3"
  },
  "language_info": {
   "codemirror_mode": {
    "name": "ipython",
    "version": 3
   },
   "file_extension": ".py",
   "mimetype": "text/x-python",
   "name": "python",
   "nbconvert_exporter": "python",
   "pygments_lexer": "ipython3",
   "version": "3.7.9"
  }
 },
 "nbformat": 4,
 "nbformat_minor": 4
}
