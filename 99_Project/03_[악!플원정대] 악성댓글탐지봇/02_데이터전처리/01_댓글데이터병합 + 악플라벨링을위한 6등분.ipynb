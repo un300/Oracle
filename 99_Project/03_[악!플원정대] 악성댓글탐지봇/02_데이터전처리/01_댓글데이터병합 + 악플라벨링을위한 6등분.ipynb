{
 "cells": [
  {
   "cell_type": "markdown",
   "metadata": {},
   "source": [
    "###### 2020-11-16 월요일"
   ]
  },
  {
   "cell_type": "code",
   "execution_count": 204,
   "metadata": {},
   "outputs": [],
   "source": [
    "import warnings\n",
    "\n",
    "warnings.filterwarnings('ignore')"
   ]
  },
  {
   "cell_type": "code",
   "execution_count": 205,
   "metadata": {},
   "outputs": [],
   "source": [
    "import pandas as pd\n",
    "import numpy\n",
    "import glob\n",
    "\n",
    "import re"
   ]
  },
  {
   "cell_type": "code",
   "execution_count": 206,
   "metadata": {},
   "outputs": [],
   "source": [
    "file_name = glob.glob('./data/*.csv')"
   ]
  },
  {
   "cell_type": "code",
   "execution_count": 207,
   "metadata": {},
   "outputs": [],
   "source": [
    "repl_data = pd.read_csv(file_name[0])\n",
    "repl_data['출처'] = file_name[0]"
   ]
  },
  {
   "cell_type": "code",
   "execution_count": 252,
   "metadata": {
    "scrolled": false
   },
   "outputs": [
    {
     "name": "stdout",
     "output_type": "stream",
     "text": [
      "./data\\kbs댓글.csv\n",
      "./data\\mbc댓글.csv\n",
      "./data\\subusunews.csv\n",
      "./data\\ytnnews.csv\n",
      "./data\\고영욱.csv\n",
      "./data\\김계란.csv\n",
      "./data\\문재인.csv\n",
      "./data\\박성광.csv\n",
      "./data\\배다해.csv\n",
      "./data\\스윙스.csv\n",
      "./data\\에브리타임_댓글_1113.csv\n",
      "./data\\여행에 미치다.csv\n",
      "./data\\위키블루.csv\n",
      "./data\\유머 짤.csv\n",
      "./data\\이상민.csv\n",
      "./data\\이슈 콕.csv\n",
      "./data\\이슈이슈.csv\n",
      "./data\\인사이트.csv\n",
      "./data\\인사이트_biz.csv\n",
      "./data\\인사이트_ent.csv\n",
      "./data\\일베_일간베스트게시물_댓글_최근12페이지.csv\n",
      "./data\\장성규.csv\n",
      "./data\\청와대댓글.csv\n",
      "./data\\최자.csv\n",
      "./data\\함소원.csv\n",
      "./data\\홍석천.csv\n"
     ]
    }
   ],
   "source": [
    "for path in file_name[1:]:\n",
    "    temp_data = pd.read_csv(path)\n",
    "    temp_data['출처'] = path\n",
    "    repl_data = pd.concat([repl_data, temp_data])\n",
    "    print(path)"
   ]
  },
  {
   "cell_type": "markdown",
   "metadata": {},
   "source": [
    "## 1. 중복된 댓글 제거"
   ]
  },
  {
   "cell_type": "code",
   "execution_count": 253,
   "metadata": {},
   "outputs": [],
   "source": [
    "raw_data = repl_data.drop_duplicates(subset='댓글', keep='first', inplace=False)"
   ]
  },
  {
   "cell_type": "code",
   "execution_count": 254,
   "metadata": {},
   "outputs": [],
   "source": [
    "# 정규표현식 전과 후를 비교하기 위해 세로운 데이터프레임 생성\n",
    "preprocessing_df = raw_data.copy()"
   ]
  },
  {
   "cell_type": "markdown",
   "metadata": {},
   "source": [
    "## 2. `@[아이디]` 제거"
   ]
  },
  {
   "cell_type": "code",
   "execution_count": 255,
   "metadata": {},
   "outputs": [],
   "source": [
    "preprocessing_df['댓글'] = preprocessing_df['댓글'].str.replace('@[a-zA-Z가-힇\\w\\.\\_\\d]+', '')"
   ]
  },
  {
   "cell_type": "markdown",
   "metadata": {},
   "source": [
    "## 3. `한글/영어/숫자`를 제외한 문자제거"
   ]
  },
  {
   "cell_type": "markdown",
   "metadata": {},
   "source": [
    " - 이모티콘이나 특수문자를 제거한다"
   ]
  },
  {
   "cell_type": "code",
   "execution_count": 256,
   "metadata": {},
   "outputs": [],
   "source": [
    "preprocessing_df['댓글'] = preprocessing_df['댓글'].str.replace('[^a-zA-Z가-힇0-9ㄱ-ㅎㅏ-ㅣ\\s]', '')"
   ]
  },
  {
   "cell_type": "markdown",
   "metadata": {},
   "source": [
    " - 빈공백 글자 `' '`로 통일\n",
    " - 이제 빈댓글을 제거할때 `''`와 `' '`로 제거한다"
   ]
  },
  {
   "cell_type": "code",
   "execution_count": 257,
   "metadata": {},
   "outputs": [],
   "source": [
    "preprocessing_df['댓글'] = preprocessing_df['댓글'].str.replace('\\s[\\s*]', '')"
   ]
  },
  {
   "cell_type": "markdown",
   "metadata": {},
   "source": [
    "## 4. 양옆에 빈 공백 제거"
   ]
  },
  {
   "cell_type": "code",
   "execution_count": 258,
   "metadata": {},
   "outputs": [],
   "source": [
    "preprocessing_df['댓글'] = preprocessing_df['댓글'].str.rstrip()"
   ]
  },
  {
   "cell_type": "code",
   "execution_count": 259,
   "metadata": {},
   "outputs": [],
   "source": [
    "preprocessing_df['댓글'] = preprocessing_df['댓글'].str.lstrip()"
   ]
  },
  {
   "cell_type": "markdown",
   "metadata": {},
   "source": [
    " - 영어만 있는 행을 제거하기 전에 인덱스를 정렬하자"
   ]
  },
  {
   "cell_type": "markdown",
   "metadata": {},
   "source": [
    "## 5. 빈댓글 제거"
   ]
  },
  {
   "cell_type": "code",
   "execution_count": 260,
   "metadata": {},
   "outputs": [],
   "source": [
    "preprocessing_df = preprocessing_df[preprocessing_df['댓글'] != '']"
   ]
  },
  {
   "cell_type": "code",
   "execution_count": 261,
   "metadata": {},
   "outputs": [],
   "source": [
    "preprocessing_df = preprocessing_df[preprocessing_df['댓글'] != ' ']"
   ]
  },
  {
   "cell_type": "code",
   "execution_count": 262,
   "metadata": {},
   "outputs": [
    {
     "data": {
      "text/plain": [
       "(109612, 3)"
      ]
     },
     "execution_count": 262,
     "metadata": {},
     "output_type": "execute_result"
    }
   ],
   "source": [
    "preprocessing_df.shape"
   ]
  },
  {
   "cell_type": "code",
   "execution_count": 250,
   "metadata": {},
   "outputs": [
    {
     "data": {
      "text/html": [
       "<div>\n",
       "<style scoped>\n",
       "    .dataframe tbody tr th:only-of-type {\n",
       "        vertical-align: middle;\n",
       "    }\n",
       "\n",
       "    .dataframe tbody tr th {\n",
       "        vertical-align: top;\n",
       "    }\n",
       "\n",
       "    .dataframe thead th {\n",
       "        text-align: right;\n",
       "    }\n",
       "</style>\n",
       "<table border=\"1\" class=\"dataframe\">\n",
       "  <thead>\n",
       "    <tr style=\"text-align: right;\">\n",
       "      <th></th>\n",
       "      <th>Unnamed: 0</th>\n",
       "      <th>댓글</th>\n",
       "      <th>출처</th>\n",
       "    </tr>\n",
       "  </thead>\n",
       "  <tbody>\n",
       "    <tr>\n",
       "      <th>1386</th>\n",
       "      <td>1386</td>\n",
       "      <td>NaN</td>\n",
       "      <td>./data\\스윙스.csv</td>\n",
       "    </tr>\n",
       "  </tbody>\n",
       "</table>\n",
       "</div>"
      ],
      "text/plain": [
       "      Unnamed: 0   댓글              출처\n",
       "1386        1386  NaN  ./data\\스윙스.csv"
      ]
     },
     "execution_count": 250,
     "metadata": {},
     "output_type": "execute_result"
    }
   ],
   "source": [
    "preprocessing_df[preprocessing_df['댓글'].str.isspace().isna()]"
   ]
  },
  {
   "cell_type": "markdown",
   "metadata": {},
   "source": [
    "## 6. 결측값제거"
   ]
  },
  {
   "cell_type": "markdown",
   "metadata": {},
   "source": [
    " - 스윙스댓글 1386번째 댓글이 NaN값이 뜬다 제거하자"
   ]
  },
  {
   "cell_type": "code",
   "execution_count": 272,
   "metadata": {},
   "outputs": [],
   "source": [
    "preprocessing_df = preprocessing_df[~preprocessing_df['댓글'].isna()]"
   ]
  },
  {
   "cell_type": "markdown",
   "metadata": {},
   "source": [
    "## 6. 영어만 있는 행 제거"
   ]
  },
  {
   "cell_type": "code",
   "execution_count": 273,
   "metadata": {},
   "outputs": [],
   "source": [
    "preprocessing_df = preprocessing_df.reset_index()\n",
    "preprocessing_df = preprocessing_df.drop(['index', 'Unnamed: 0'], axis=1, inplace=False)"
   ]
  },
  {
   "cell_type": "code",
   "execution_count": 276,
   "metadata": {},
   "outputs": [],
   "source": [
    "preprocessing_df = preprocessing_df[~preprocessing_df['댓글'].str.isalpha()]"
   ]
  },
  {
   "cell_type": "code",
   "execution_count": 277,
   "metadata": {},
   "outputs": [
    {
     "data": {
      "text/plain": [
       "(92055, 2)"
      ]
     },
     "execution_count": 277,
     "metadata": {},
     "output_type": "execute_result"
    }
   ],
   "source": [
    "preprocessing_df.shape"
   ]
  },
  {
   "cell_type": "code",
   "execution_count": 278,
   "metadata": {},
   "outputs": [
    {
     "name": "stdout",
     "output_type": "stream",
     "text": [
      "1번째 : 15342\n",
      "2번째 : 15342\n",
      "3번째 : 15342\n",
      "4번째 : 15342\n",
      "5번째 : 15342\n",
      "6번째 : 15345\n"
     ]
    }
   ],
   "source": [
    "# 6명 균등히 나누기 위해 나누는 작업\n",
    "division = int(preprocessing_df.shape[0]/6)\n",
    "\n",
    "for i in range(6):\n",
    "    if i == 5 :\n",
    "        temp_data = preprocessing_df.iloc[division*i : ]\n",
    "    else : \n",
    "        temp_data = preprocessing_df.iloc[division*i : division*(i+1)]\n",
    "    print(str(i+1) + '번째 :', temp_data.shape[0])\n",
    "        \n",
    "    temp_data.to_csv('./merge_data/division_data' + str(i+1) + '.csv', encoding='utf-8-sig')"
   ]
  }
 ],
 "metadata": {
  "kernelspec": {
   "display_name": "Python 3",
   "language": "python",
   "name": "python3"
  },
  "language_info": {
   "codemirror_mode": {
    "name": "ipython",
    "version": 3
   },
   "file_extension": ".py",
   "mimetype": "text/x-python",
   "name": "python",
   "nbconvert_exporter": "python",
   "pygments_lexer": "ipython3",
   "version": "3.7.9"
  }
 },
 "nbformat": 4,
 "nbformat_minor": 4
}
