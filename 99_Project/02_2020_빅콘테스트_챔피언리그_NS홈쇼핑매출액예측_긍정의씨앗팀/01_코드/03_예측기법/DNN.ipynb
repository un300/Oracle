{
  "nbformat": 4,
  "nbformat_minor": 0,
  "metadata": {
    "colab": {
      "name": "optimizing.ipynb",
      "provenance": [],
      "collapsed_sections": []
    },
    "kernelspec": {
      "name": "python3",
      "display_name": "Python 3"
    },
    "accelerator": "GPU"
  },
  "cells": [
    {
      "cell_type": "code",
      "metadata": {
        "id": "N8zao-8htuRh",
        "outputId": "5d1fbee4-0553-4a56-ed66-1b90ce5ae56c",
        "colab": {
          "base_uri": "https://localhost:8080/",
          "height": 34
        }
      },
      "source": [
        "from google.colab import drive\n",
        "drive.mount('/content/gdrive')"
      ],
      "execution_count": 37,
      "outputs": [
        {
          "output_type": "stream",
          "text": [
            "Drive already mounted at /content/gdrive; to attempt to forcibly remount, call drive.mount(\"/content/gdrive\", force_remount=True).\n"
          ],
          "name": "stdout"
        }
      ]
    },
    {
      "cell_type": "markdown",
      "metadata": {
        "id": "cbuh3lm2cvXz"
      },
      "source": [
        ""
      ]
    },
    {
      "cell_type": "code",
      "metadata": {
        "id": "Q6MlhFR1L7BZ"
      },
      "source": [
        ""
      ],
      "execution_count": 37,
      "outputs": []
    },
    {
      "cell_type": "code",
      "metadata": {
        "id": "-i_6ygbLUxVE"
      },
      "source": [
        "import datetime\n",
        "import numpy as np\n",
        "import pandas as pd\n",
        "import os \n",
        "from pandas import ExcelFile\n",
        "from keras import models \n",
        "from keras import layers\n",
        "import tensorflow as tf\n",
        "from tensorflow.keras import layers  #모듈(변수나 함수를 포함)만 불러오기\n",
        "from sklearn.preprocessing import StandardScaler, MinMaxScaler  #표준 정규화, 최대-최소 정규화\n",
        "\n",
        "\n",
        "import seaborn as sns\n",
        "import matplotlib as mpl\n",
        "import matplotlib.pyplot as plt\n",
        "import matplotlib.font_manager as fm\n",
        "from matplotlib import rc\n"
      ],
      "execution_count": 38,
      "outputs": []
    },
    {
      "cell_type": "code",
      "metadata": {
        "id": "bbSaO0TRVjzw",
        "outputId": "b5664f86-16b5-4973-a538-94193523ef97",
        "colab": {
          "base_uri": "https://localhost:8080/",
          "height": 72
        }
      },
      "source": [
        "pd.set_option('display.max_colwidth',-1)"
      ],
      "execution_count": 39,
      "outputs": [
        {
          "output_type": "stream",
          "text": [
            "/usr/local/lib/python3.6/dist-packages/ipykernel_launcher.py:1: FutureWarning: Passing a negative integer is deprecated in version 1.0 and will not be supported in future version. Instead, use None to not limit the column width.\n",
            "  \"\"\"Entry point for launching an IPython kernel.\n"
          ],
          "name": "stderr"
        }
      ]
    },
    {
      "cell_type": "code",
      "metadata": {
        "id": "7IGwx3TWVj5l"
      },
      "source": [
        "pd.set_option('display.float_format', '{:.4f}'.format)    #과학적 표기법 안쓸래 \n",
        "mpl.rcParams['axes.unicode_minus'] = False               # 마이너스 표기 오류 방지 "
      ],
      "execution_count": 40,
      "outputs": []
    },
    {
      "cell_type": "code",
      "metadata": {
        "id": "JBM05bUKVj8o"
      },
      "source": [
        "base_dir = \"/content/gdrive/My Drive/Colab Notebooks/data/0928_final\"\n",
        "train_file = \"2020train.csv\"\n",
        "test_file = \"2020test.csv\"\n",
        "\n",
        "\n",
        "train_dir = os.path.join(base_dir,train_file)\n",
        "test_dir = os.path.join(base_dir,test_file)"
      ],
      "execution_count": 41,
      "outputs": []
    },
    {
      "cell_type": "code",
      "metadata": {
        "id": "XEJp7cXEVt3p"
      },
      "source": [
        "train_raw = pd.read_csv(train_dir, sep = \",\" , encoding = \"cp949\")   \n",
        "test_raw = pd.read_csv(test_dir, sep = \",\" , encoding = \"cp949\")   "
      ],
      "execution_count": 42,
      "outputs": []
    },
    {
      "cell_type": "code",
      "metadata": {
        "id": "JVQ38wZvVt62"
      },
      "source": [
        "train1 = train_raw\n",
        "test1 = test_raw"
      ],
      "execution_count": 43,
      "outputs": []
    },
    {
      "cell_type": "code",
      "metadata": {
        "id": "wrJ2DJlwWlCU",
        "outputId": "80d6454d-a832-4b2f-adec-0c44a2165591",
        "colab": {
          "base_uri": "https://localhost:8080/",
          "height": 1000
        }
      },
      "source": [
        "train1.info() # 86col , 32519 row"
      ],
      "execution_count": 44,
      "outputs": [
        {
          "output_type": "stream",
          "text": [
            "<class 'pandas.core.frame.DataFrame'>\n",
            "RangeIndex: 35379 entries, 0 to 35378\n",
            "Data columns (total 91 columns):\n",
            " #   Column        Non-Null Count  Dtype  \n",
            "---  ------        --------------  -----  \n",
            " 0   Unnamed: 0    35379 non-null  int64  \n",
            " 1   방송일시          35379 non-null  object \n",
            " 2   노출(분)         35379 non-null  float64\n",
            " 3   마더코드          35379 non-null  int64  \n",
            " 4   상품코드          35379 non-null  int64  \n",
            " 5   상품명           35379 non-null  object \n",
            " 6   상품군           35379 non-null  object \n",
            " 7   판매단가          35379 non-null  int64  \n",
            " 8   취급액           35379 non-null  int64  \n",
            " 9   월             35379 non-null  int64  \n",
            " 10  일             35379 non-null  int64  \n",
            " 11  요일            35379 non-null  object \n",
            " 12  반기            35379 non-null  int64  \n",
            " 13  분기            35379 non-null  object \n",
            " 14  365일          35379 non-null  int64  \n",
            " 15  53주차          35379 non-null  int64  \n",
            " 16  년월일           35379 non-null  object \n",
            " 17  시간            35379 non-null  object \n",
            " 18  시간hour        35379 non-null  int64  \n",
            " 19  날짜            35379 non-null  int64  \n",
            " 20  날짜시간          35379 non-null  int64  \n",
            " 21  계절            35379 non-null  object \n",
            " 22  168시간         35379 non-null  int64  \n",
            " 23  휴일            35379 non-null  int64  \n",
            " 24  방송시간          35379 non-null  float64\n",
            " 25  매진여부          35379 non-null  int64  \n",
            " 26  방송끝나는시간       35379 non-null  object \n",
            " 27  브랜드           35379 non-null  object \n",
            " 28  sale단어        35379 non-null  int64  \n",
            " 29  결제수단          35379 non-null  object \n",
            " 30  상품명change     35379 non-null  object \n",
            " 31  count         35379 non-null  int64  \n",
            " 32  중분류           35379 non-null  object \n",
            " 33  소분류           35379 non-null  object \n",
            " 34  기온            35379 non-null  float64\n",
            " 35  강수량           35379 non-null  float64\n",
            " 36  풍속            35379 non-null  float64\n",
            " 37  습도            35379 non-null  float64\n",
            " 38  적설            35379 non-null  float64\n",
            " 39  전운량           35379 non-null  float64\n",
            " 40  비눈여부          35379 non-null  int64  \n",
            " 41  비눈여부_평균이상     35379 non-null  int64  \n",
            " 42  미세먼지          35379 non-null  float64\n",
            " 43  초미세먼지         35379 non-null  float64\n",
            " 44  판매상품종류수       35379 non-null  int64  \n",
            " 45  판매상품종류비율      35379 non-null  float64\n",
            " 46  그룹코드          35379 non-null  int64  \n",
            " 47  한달_상품군빈도      35379 non-null  float64\n",
            " 48  한달_중분류빈도      35379 non-null  float64\n",
            " 49  한달_소분류빈도      35379 non-null  float64\n",
            " 50  한달_그룹코드빈도     35379 non-null  float64\n",
            " 51  판매단가순위        35379 non-null  int64  \n",
            " 52  상품군판매단가순위     35379 non-null  int64  \n",
            " 53  상품군요일순위       35379 non-null  int64  \n",
            " 54  상품군24시간순위     35379 non-null  int64  \n",
            " 55  중분류요일순위       35379 non-null  int64  \n",
            " 56  중분류24시간순위     35379 non-null  int64  \n",
            " 57  상품군168시간순위    35379 non-null  int64  \n",
            " 58  중분류168시간순위    35379 non-null  int64  \n",
            " 59  판매단가rank      35379 non-null  int64  \n",
            " 60  시간순위          35379 non-null  int64  \n",
            " 61  시간순위168       35379 non-null  int64  \n",
            " 62  브랜드순위         35379 non-null  int64  \n",
            " 63  중분류순위         35379 non-null  int64  \n",
            " 64  소분류순위         35379 non-null  int64  \n",
            " 65  방송내_순서        35379 non-null  int64  \n",
            " 66  방송순서          35379 non-null  int64  \n",
            " 67  그룹코드_전체횟수     35379 non-null  int64  \n",
            " 68  그룹코드_쪽박횟수     35379 non-null  int64  \n",
            " 69  그룹코드_대박횟수     35379 non-null  int64  \n",
            " 70  그룹코드_쪽박확률     35379 non-null  float64\n",
            " 71  그룹코드_대박확률     35379 non-null  float64\n",
            " 72  중분류별_전체횟수     35379 non-null  int64  \n",
            " 73  중분류별_쪽박횟수     35379 non-null  int64  \n",
            " 74  중분류별_대박횟수     35379 non-null  int64  \n",
            " 75  중분류별_쪽박확률     35379 non-null  float64\n",
            " 76  중분류별_대박확률     35379 non-null  float64\n",
            " 77  소분류별_전체횟수     35379 non-null  int64  \n",
            " 78  소분류별_쪽박횟수     35379 non-null  int64  \n",
            " 79  소분류별_대박횟수     35379 non-null  int64  \n",
            " 80  소분류별_쪽박확률     35379 non-null  float64\n",
            " 81  소분류별_대박확률     35379 non-null  float64\n",
            " 82  월_COS         35379 non-null  float64\n",
            " 83  월_SIN         35379 non-null  float64\n",
            " 84  168시간_COS     35379 non-null  float64\n",
            " 85  168시간_SIN     35379 non-null  float64\n",
            " 86  24시간_COS      35379 non-null  float64\n",
            " 87  24시간_SIN      35379 non-null  float64\n",
            " 88  방송내_상품종류별_점수  35379 non-null  int64  \n",
            " 89  방송내_상품선호도     35379 non-null  float64\n",
            " 90  취급액boxcox     35379 non-null  float64\n",
            "dtypes: float64(29), int64(48), object(14)\n",
            "memory usage: 24.6+ MB\n"
          ],
          "name": "stdout"
        }
      ]
    },
    {
      "cell_type": "code",
      "metadata": {
        "id": "xOZphlkyVt9d"
      },
      "source": [
        "train_y = pd.DataFrame(train1['취급액boxcox'])\n",
        "\n",
        "# train_X = train1.drop(['취급액','취급액boxcox','Unnamed: 0','마더코드','상품코드','요일','반기','분기','시간','시간hour','상품명' , '방송일시' , '방송끝나는시간', '시간' , '날짜', '날짜시간','취급액boxcox','브랜드','그룹코드'], axis=1)\n",
        "# train_X = train_X.drop(['상품군','중분류','소분류','계절','상품명change'], axis=1)\n",
        "# train_X = train_X.drop(['년월일','365일','53주차','휴일','방송시간','sale단어','비눈여부','비눈여부_평균이상','월_COS','월_SIN'], axis=1)\n",
        "# # train_X = train_X.drop(['브랜드별_전체횟수','브랜드별_대박횟수','브랜드별_대박확률'], axis=1)\n",
        "# train_X = train_X.drop(['중분류별_전체횟수','중분류별_대박횟수','중분류별_대박확률'], axis=1)\n",
        "# train_X = train_X.drop(['소분류별_전체횟수','소분류별_대박횟수','소분류별_대박확률'], axis=1)\n"
      ],
      "execution_count": 45,
      "outputs": []
    },
    {
      "cell_type": "code",
      "metadata": {
        "id": "fMW3BKdMl4EZ"
      },
      "source": [
        "train_X = pd.DataFrame(train1, columns=['판매단가', '노출(분)',\n",
        "'월', '일', '시간hour'\n",
        "'168시간', '휴일', '방송시간', '매진여부',\n",
        "'결제수단', '기온', '강수량', '풍속', '습도', '적설',\n",
        "'전운량', '미세먼지', '초미세먼지', '판매단가순위',\n",
        "'판매단가rank', '중분류순위', '소분류순위',\n",
        "'방송내_순서', '방송순서', '판매상품종류수', '그룹코드_전체횟수', '그룹코드_대박횟수',\n",
        "'그룹코드_대박확률','그룹코드_쪽박횟수', '그룹코드_쪽박확률',\n",
        "'168시간_COS', '168시간_SIN', '24시간_COS', '24시간_SIN', '그룹코드_쪽박횟수', '그룹코드_쪽박확률',\n",
        "'방송내_상품종류별_점수', '방송내_상품선호도'])"
      ],
      "execution_count": 46,
      "outputs": []
    },
    {
      "cell_type": "code",
      "metadata": {
        "id": "WvZOx6Yzvm29"
      },
      "source": [
        "train_X =pd.get_dummies(train_X)"
      ],
      "execution_count": 47,
      "outputs": []
    },
    {
      "cell_type": "code",
      "metadata": {
        "id": "YAY2549JVt__",
        "outputId": "616883a2-c41a-4f45-8807-a69f3fbfea67",
        "colab": {
          "base_uri": "https://localhost:8080/",
          "height": 826
        }
      },
      "source": [
        "train_X.info()  # 59 col"
      ],
      "execution_count": 48,
      "outputs": [
        {
          "output_type": "stream",
          "text": [
            "<class 'pandas.core.frame.DataFrame'>\n",
            "RangeIndex: 35379 entries, 0 to 35378\n",
            "Data columns (total 39 columns):\n",
            " #   Column        Non-Null Count  Dtype  \n",
            "---  ------        --------------  -----  \n",
            " 0   판매단가          35379 non-null  int64  \n",
            " 1   노출(분)         35379 non-null  float64\n",
            " 2   월             35379 non-null  int64  \n",
            " 3   일             35379 non-null  int64  \n",
            " 4   시간hour168시간   0 non-null      float64\n",
            " 5   휴일            35379 non-null  int64  \n",
            " 6   방송시간          35379 non-null  float64\n",
            " 7   매진여부          35379 non-null  int64  \n",
            " 8   기온            35379 non-null  float64\n",
            " 9   강수량           35379 non-null  float64\n",
            " 10  풍속            35379 non-null  float64\n",
            " 11  습도            35379 non-null  float64\n",
            " 12  적설            35379 non-null  float64\n",
            " 13  전운량           35379 non-null  float64\n",
            " 14  미세먼지          35379 non-null  float64\n",
            " 15  초미세먼지         35379 non-null  float64\n",
            " 16  판매단가순위        35379 non-null  int64  \n",
            " 17  판매단가rank      35379 non-null  int64  \n",
            " 18  중분류순위         35379 non-null  int64  \n",
            " 19  소분류순위         35379 non-null  int64  \n",
            " 20  방송내_순서        35379 non-null  int64  \n",
            " 21  방송순서          35379 non-null  int64  \n",
            " 22  판매상품종류수       35379 non-null  int64  \n",
            " 23  그룹코드_전체횟수     35379 non-null  int64  \n",
            " 24  그룹코드_대박횟수     35379 non-null  int64  \n",
            " 25  그룹코드_대박확률     35379 non-null  float64\n",
            " 26  그룹코드_쪽박횟수     35379 non-null  int64  \n",
            " 27  그룹코드_쪽박확률     35379 non-null  float64\n",
            " 28  168시간_COS     35379 non-null  float64\n",
            " 29  168시간_SIN     35379 non-null  float64\n",
            " 30  24시간_COS      35379 non-null  float64\n",
            " 31  24시간_SIN      35379 non-null  float64\n",
            " 32  그룹코드_쪽박횟수     35379 non-null  int64  \n",
            " 33  그룹코드_쪽박확률     35379 non-null  float64\n",
            " 34  방송내_상품종류별_점수  35379 non-null  int64  \n",
            " 35  방송내_상품선호도     35379 non-null  float64\n",
            " 36  결제수단_결제1      35379 non-null  uint8  \n",
            " 37  결제수단_결제2_무이자  35379 non-null  uint8  \n",
            " 38  결제수단_결제2_일시불  35379 non-null  uint8  \n",
            "dtypes: float64(19), int64(17), uint8(3)\n",
            "memory usage: 9.8 MB\n"
          ],
          "name": "stdout"
        }
      ]
    },
    {
      "cell_type": "code",
      "metadata": {
        "id": "uU5t_aJ2Rm0D"
      },
      "source": [
        "train_data = train_X\n",
        "train_targets = train_y"
      ],
      "execution_count": 49,
      "outputs": []
    },
    {
      "cell_type": "code",
      "metadata": {
        "id": "BzB6m34_VuC7"
      },
      "source": [
        "test_y = pd.DataFrame(test1['취급액boxcox'])\n",
        "\n",
        "# test_X = test1.drop(['취급액','취급액boxcox','Unnamed: 0','마더코드','상품코드','요일','반기','분기','시간','시간hour','상품명' , '방송일시' , '방송끝나는시간', '시간' , '날짜', '날짜시간','취급액boxcox','브랜드','그룹코드'], axis=1)\n",
        "# test_X = test_X.drop(['상품군','중분류','소분류','계절','상품명change'], axis=1)\n",
        "# test_X = test_X.drop(['년월일','365일','53주차','휴일','방송시간','sale단어','비눈여부','비눈여부_평균이상','월_COS','월_SIN'], axis=1)\n",
        "\n",
        "# # test_X = test_X.drop(['브랜드별_전체횟수','브랜드별_대박횟수','브랜드별_대박확률'], axis=1)\n",
        "# test_X = test_X.drop(['중분류별_전체횟수','중분류별_대박횟수','중분류별_대박확률'], axis=1)\n",
        "# test_X = test_X.drop(['소분류별_전체횟수','소분류별_대박횟수','소분류별_대박확률'], axis=1)\n"
      ],
      "execution_count": 50,
      "outputs": []
    },
    {
      "cell_type": "code",
      "metadata": {
        "id": "BnvuZcxgmRMR"
      },
      "source": [
        "test_X = pd.DataFrame(test1, columns=['판매단가', '노출(분)',\n",
        "'월', '일', '시간hour'\n",
        "'168시간', '휴일', '방송시간', '매진여부',\n",
        "'결제수단', '기온', '강수량', '풍속', '습도', '적설',\n",
        "'전운량', '미세먼지', '초미세먼지', '판매단가순위',\n",
        "'판매단가rank', '중분류순위', '소분류순위',\n",
        "'방송내_순서', '방송순서', '판매상품종류수', '그룹코드_전체횟수', '그룹코드_대박횟수',\n",
        "'그룹코드_대박확률','그룹코드_쪽박횟수', '그룹코드_쪽박확률',\n",
        "'168시간_COS', '168시간_SIN', '24시간_COS', '24시간_SIN', '그룹코드_쪽박횟수', '그룹코드_쪽박확률',\n",
        "'방송내_상품종류별_점수', '방송내_상품선호도'])"
      ],
      "execution_count": 51,
      "outputs": []
    },
    {
      "cell_type": "code",
      "metadata": {
        "id": "ce2ALU-YwryE"
      },
      "source": [
        "test_X =pd.get_dummies(test_X)"
      ],
      "execution_count": 52,
      "outputs": []
    },
    {
      "cell_type": "code",
      "metadata": {
        "id": "zUvYdQTkVuEq",
        "outputId": "e35cf9d1-080b-4579-cc2c-e7d35db84a58",
        "colab": {
          "base_uri": "https://localhost:8080/",
          "height": 826
        }
      },
      "source": [
        "test_X.info()  # 59col"
      ],
      "execution_count": 53,
      "outputs": [
        {
          "output_type": "stream",
          "text": [
            "<class 'pandas.core.frame.DataFrame'>\n",
            "RangeIndex: 2716 entries, 0 to 2715\n",
            "Data columns (total 39 columns):\n",
            " #   Column        Non-Null Count  Dtype  \n",
            "---  ------        --------------  -----  \n",
            " 0   판매단가          2716 non-null   int64  \n",
            " 1   노출(분)         2716 non-null   float64\n",
            " 2   월             2716 non-null   int64  \n",
            " 3   일             2716 non-null   int64  \n",
            " 4   시간hour168시간   0 non-null      float64\n",
            " 5   휴일            2716 non-null   int64  \n",
            " 6   방송시간          2716 non-null   float64\n",
            " 7   매진여부          2716 non-null   int64  \n",
            " 8   기온            2716 non-null   float64\n",
            " 9   강수량           2716 non-null   float64\n",
            " 10  풍속            2716 non-null   float64\n",
            " 11  습도            2716 non-null   float64\n",
            " 12  적설            2716 non-null   float64\n",
            " 13  전운량           2716 non-null   float64\n",
            " 14  미세먼지          2716 non-null   float64\n",
            " 15  초미세먼지         2716 non-null   float64\n",
            " 16  판매단가순위        2716 non-null   int64  \n",
            " 17  판매단가rank      2716 non-null   int64  \n",
            " 18  중분류순위         2716 non-null   int64  \n",
            " 19  소분류순위         2716 non-null   int64  \n",
            " 20  방송내_순서        2716 non-null   int64  \n",
            " 21  방송순서          2716 non-null   int64  \n",
            " 22  판매상품종류수       2716 non-null   int64  \n",
            " 23  그룹코드_전체횟수     2716 non-null   int64  \n",
            " 24  그룹코드_대박횟수     2716 non-null   int64  \n",
            " 25  그룹코드_대박확률     2716 non-null   float64\n",
            " 26  그룹코드_쪽박횟수     2716 non-null   int64  \n",
            " 27  그룹코드_쪽박확률     2716 non-null   float64\n",
            " 28  168시간_COS     2716 non-null   float64\n",
            " 29  168시간_SIN     2716 non-null   float64\n",
            " 30  24시간_COS      2716 non-null   float64\n",
            " 31  24시간_SIN      2716 non-null   float64\n",
            " 32  그룹코드_쪽박횟수     2716 non-null   int64  \n",
            " 33  그룹코드_쪽박확률     2716 non-null   float64\n",
            " 34  방송내_상품종류별_점수  2716 non-null   int64  \n",
            " 35  방송내_상품선호도     2716 non-null   float64\n",
            " 36  결제수단_결제1      2716 non-null   uint8  \n",
            " 37  결제수단_결제2_무이자  2716 non-null   uint8  \n",
            " 38  결제수단_결제2_일시불  2716 non-null   uint8  \n",
            "dtypes: float64(19), int64(17), uint8(3)\n",
            "memory usage: 772.0 KB\n"
          ],
          "name": "stdout"
        }
      ]
    },
    {
      "cell_type": "code",
      "metadata": {
        "id": "XflYFzhVXsZ7"
      },
      "source": [
        "\n",
        "test_data = test_X\n",
        "test_targets = test_y"
      ],
      "execution_count": 54,
      "outputs": []
    },
    {
      "cell_type": "markdown",
      "metadata": {
        "id": "TWWa4iu6Skep"
      },
      "source": [
        "# scaling\n"
      ]
    },
    {
      "cell_type": "code",
      "metadata": {
        "id": "jjXZsVeQSKEl",
        "outputId": "2f361a57-5bb9-4d01-91a6-b19f2572fd54",
        "colab": {
          "base_uri": "https://localhost:8080/",
          "height": 87
        }
      },
      "source": [
        "# min max scaler \n",
        "\n",
        "mm_scaler = MinMaxScaler()\n",
        "\n",
        "train_data_scaled = mm_scaler.fit_transform(train_data)\n",
        "test_data_scaled = mm_scaler.transform(test_data)\n",
        "\n",
        "train_data = train_data_scaled\n",
        "test_data = test_data_scaled"
      ],
      "execution_count": 55,
      "outputs": [
        {
          "output_type": "stream",
          "text": [
            "/usr/local/lib/python3.6/dist-packages/sklearn/preprocessing/_data.py:375: RuntimeWarning: All-NaN slice encountered\n",
            "  data_min = np.nanmin(X, axis=0)\n",
            "/usr/local/lib/python3.6/dist-packages/sklearn/preprocessing/_data.py:376: RuntimeWarning: All-NaN slice encountered\n",
            "  data_max = np.nanmax(X, axis=0)\n"
          ],
          "name": "stderr"
        }
      ]
    },
    {
      "cell_type": "code",
      "metadata": {
        "id": "PWEY34S9Xsc4"
      },
      "source": [
        "# ## 정규화  : test도 train의 평균, 표준편차 값으로 정규화를 한다 ##\n",
        "# mean = train_data.mean(axis=0)\n",
        "# train_data -= mean\n",
        "# std = train_data.std(axis=0)\n",
        "# train_data /= std\n",
        "\n",
        "# test_data -= mean\n",
        "# test_data /= std"
      ],
      "execution_count": 56,
      "outputs": []
    },
    {
      "cell_type": "code",
      "metadata": {
        "id": "A3MzQuyn9vdh"
      },
      "source": [
        "import tensorflow as tf\n",
        "import tensorflow.keras.backend as K\n",
        "from tensorflow import nn\n",
        "from tensorflow.keras.backend import shape\n",
        "from tensorflow.keras.layers import Dropout\n",
        "from tensorflow.keras.layers import Input, Dense, Flatten, Activation\n",
        "from tensorflow.keras.models import Model, Sequential, load_model\n",
        "from keras.layers import BatchNormalization\n",
        "from tensorflow.keras.utils import get_custom_objects\n",
        "from keras.callbacks import ModelCheckpoint, EarlyStopping\n",
        "from keras.utils import plot_model\n",
        "\n",
        "\n",
        "def Mish(x):\n",
        "    return x * K.tanh(K.softplus(x))\n",
        "\n",
        "get_custom_objects().update({'mish': Mish})"
      ],
      "execution_count": 57,
      "outputs": []
    },
    {
      "cell_type": "code",
      "metadata": {
        "id": "Qjx0lifNXsfW"
      },
      "source": [
        "def build_model(): \n",
        "    model = models.Sequential()\n",
        "    model.add(layers.Dense(32, activation='mish',\n",
        "                           input_shape=(train_data.shape[1],)))  # train data 의 col 수만큼 입력 \n",
        "    \n",
        "    model.add(BatchNormalization())\n",
        "    model.add(layers.Dense(64, activation='mish'))\n",
        "    model.add(Dropout(0.5))\n",
        "\n",
        "    model.add(BatchNormalization())\n",
        "    model.add(layers.Dense(32, activation='mish'))\n",
        "    model.add(Dropout(0.5))\n",
        "\n",
        "    model.add(layers.Dense(1))\n",
        "    model.compile(optimizer='rmsprop', loss='mape', metrics=['mae'])   # 3. 모델 학습과정 설정하기\n",
        "    return model"
      ],
      "execution_count": 58,
      "outputs": []
    },
    {
      "cell_type": "code",
      "metadata": {
        "id": "uvC0Sj_J9Ygy",
        "outputId": "3895faac-e4ba-43e4-cd57-02b317897be3",
        "colab": {
          "base_uri": "https://localhost:8080/",
          "height": 334
        }
      },
      "source": [
        "k = 4          ## k - fold  횟수\n",
        "\n",
        "num_val_samples = len(train_data) // k\n",
        "num_epochs = 3\n",
        "BATCH_SIZE = 64\n",
        "all_scores = []\n",
        "all_mape_histories=[]\n",
        "\n",
        "\n",
        "for i in range(k):\n",
        "    print('처리중인 폴드 #', i)\n",
        "    val_data = train_data[i * num_val_samples: (i + 1) * num_val_samples]  # 검증 데이터 준비: k번째 분할\n",
        "    val_targets = train_targets[i * num_val_samples: (i + 1) * num_val_samples]\n",
        "\n",
        "    partial_train_data = np.concatenate(  # 훈련 데이터 준비: 다른 분할 전체\n",
        "        [train_data[:i * num_val_samples],\n",
        "         train_data[(i + 1) * num_val_samples:]],\n",
        "        axis=0)\n",
        "    partial_train_targets = np.concatenate(\n",
        "        [train_targets[:i * num_val_samples],\n",
        "         train_targets[(i + 1) * num_val_samples:]],\n",
        "        axis=0)\n",
        "\n",
        "model = build_model()  # 케라스 모델 구성(컴파일 포함)\n",
        "\n",
        "\n",
        "\n",
        "filename = 'checkpoint-epoch-{}-batch-{}-trial-001.h5'.format(num_epochs, BATCH_SIZE)\n",
        "checkpoint = ModelCheckpoint(filename,             # file명을 지정합니다\n",
        "                             monitor='val_loss',   # val_loss 값이 개선되었을때 호출됩니다\n",
        "                             verbose=1,            # 로그를 출력합니다\n",
        "                             save_best_only=True,  # 가장 best 값만 저장합니다\n",
        "                             mode='auto'           # auto는 알아서 best를 찾습니다. min/max\n",
        "                            )\n",
        "\n",
        "earlystopping = EarlyStopping(monitor='val_loss',  # 모니터 기준 설정 (val loss) \n",
        "                              patience=100,         # N회 Epoch동안 개선되지 않는다면 종료\n",
        "                             )\n",
        "\n",
        "hist = model.fit(train_data, train_targets, \n",
        "      validation_data=(val_data, val_targets),\n",
        "      epochs=num_epochs, \n",
        "      batch_size=BATCH_SIZE, \n",
        "      callbacks=[checkpoint, earlystopping], # checkpoint, earlystopping 콜백\n",
        "     )\n",
        "\n",
        "\n",
        "val_mape, val_mae = model.evaluate(val_data, val_targets, verbose=1)\n",
        "all_scores.append(val_mape)\n",
        "\n",
        "# 나중을 위해서 모형 저장해두기\n",
        "model.save(\"d.h5\")\n",
        "print(\"Saved model to disk.\")\n",
        "\n",
        "mape_history = hist.history['val_loss']\n",
        "all_mape_histories.append(mape_history)  "
      ],
      "execution_count": 59,
      "outputs": [
        {
          "output_type": "stream",
          "text": [
            "처리중인 폴드 # 0\n",
            "처리중인 폴드 # 1\n",
            "처리중인 폴드 # 2\n",
            "처리중인 폴드 # 3\n",
            "Epoch 1/3\n",
            "531/553 [===========================>..] - ETA: 0s - loss: nan - mae: nan\n",
            "Epoch 00001: val_loss did not improve from inf\n",
            "553/553 [==============================] - 1s 2ms/step - loss: nan - mae: nan - val_loss: nan - val_mae: nan\n",
            "Epoch 2/3\n",
            "527/553 [===========================>..] - ETA: 0s - loss: nan - mae: nan\n",
            "Epoch 00002: val_loss did not improve from inf\n",
            "553/553 [==============================] - 1s 2ms/step - loss: nan - mae: nan - val_loss: nan - val_mae: nan\n",
            "Epoch 3/3\n",
            "540/553 [============================>.] - ETA: 0s - loss: nan - mae: nan\n",
            "Epoch 00003: val_loss did not improve from inf\n",
            "553/553 [==============================] - 1s 2ms/step - loss: nan - mae: nan - val_loss: nan - val_mae: nan\n",
            "277/277 [==============================] - 0s 971us/step - loss: nan - mae: nan\n",
            "Saved model to disk.\n"
          ],
          "name": "stdout"
        }
      ]
    },
    {
      "cell_type": "code",
      "metadata": {
        "id": "JU_a_bz8XYl0",
        "outputId": "43e0a9a9-c1c0-4128-80fa-d59a39f46f34",
        "colab": {
          "base_uri": "https://localhost:8080/",
          "height": 439
        }
      },
      "source": [
        "model.summary()"
      ],
      "execution_count": 60,
      "outputs": [
        {
          "output_type": "stream",
          "text": [
            "Model: \"sequential\"\n",
            "_________________________________________________________________\n",
            "Layer (type)                 Output Shape              Param #   \n",
            "=================================================================\n",
            "dense (Dense)                (None, 32)                1280      \n",
            "_________________________________________________________________\n",
            "batch_normalization (BatchNo (None, 32)                128       \n",
            "_________________________________________________________________\n",
            "dense_1 (Dense)              (None, 64)                2112      \n",
            "_________________________________________________________________\n",
            "dropout (Dropout)            (None, 64)                0         \n",
            "_________________________________________________________________\n",
            "batch_normalization_1 (Batch (None, 64)                256       \n",
            "_________________________________________________________________\n",
            "dense_2 (Dense)              (None, 32)                2080      \n",
            "_________________________________________________________________\n",
            "dropout_1 (Dropout)          (None, 32)                0         \n",
            "_________________________________________________________________\n",
            "dense_3 (Dense)              (None, 1)                 33        \n",
            "=================================================================\n",
            "Total params: 5,889\n",
            "Trainable params: 5,697\n",
            "Non-trainable params: 192\n",
            "_________________________________________________________________\n"
          ],
          "name": "stdout"
        }
      ]
    },
    {
      "cell_type": "markdown",
      "metadata": {
        "id": "YAK_VYJ5yGG5"
      },
      "source": [
        "# Train 그래프\n"
      ]
    },
    {
      "cell_type": "code",
      "metadata": {
        "id": "yBxIasB0FOiW",
        "outputId": "abaf8022-dacb-4f46-b94e-5822b9765207",
        "colab": {
          "base_uri": "https://localhost:8080/",
          "height": 334
        }
      },
      "source": [
        "fig, loss_ax = plt.subplots(figsize=(15, 5))\n",
        "\n",
        "acc_ax = loss_ax.twinx()\n",
        "\n",
        "loss_ax.plot(hist.history['loss'], 'y', label='train loss')   # 훈련데이터의 loss\n",
        "loss_ax.plot(hist.history['val_loss'], 'r', label='val loss') # 검증데이터의 loss \n",
        "\n",
        "acc_ax.plot(hist.history['mae'], 'b', label='train mae')   # 훈련데이터의 mae\n",
        "acc_ax.plot(hist.history['val_mae'], 'g', label='val mae') # 검증데이터의 mae\n",
        "\n",
        "loss_ax.set_xlabel('epoch')\n",
        "loss_ax.set_ylabel('loss')\n",
        "acc_ax.set_ylabel('mee')\n",
        "\n",
        "loss_ax.legend(loc='upper left')\n",
        "acc_ax.legend(loc='lower left')\n",
        "\n",
        "plt.show()"
      ],
      "execution_count": 61,
      "outputs": [
        {
          "output_type": "display_data",
          "data": {
            "image/png": "[encoded data removed]",
            "text/plain": [
              "<Figure size 1080x360 with 2 Axes>"
            ]
          },
          "metadata": {
            "tags": [],
            "needs_background": "light"
          }
        }
      ]
    },
    {
      "cell_type": "code",
      "metadata": {
        "id": "aQeXwoN2FODk",
        "outputId": "05267561-2c95-4d2b-eb89-7cb1990d642a",
        "colab": {
          "base_uri": "https://localhost:8080/",
          "height": 279
        }
      },
      "source": [
        "def smooth_curve(points, factor=0.9):\n",
        "    smoothed_points = []\n",
        "    for point in points:\n",
        "        if smoothed_points:\n",
        "            previous = smoothed_points[-1]\n",
        "            smoothed_points.append(previous * factor + point * (1 - factor))\n",
        "        else:\n",
        "            smoothed_points.append(point)\n",
        "    return smoothed_points\n",
        "\n",
        "smooth_mape_history = smooth_curve(hist.history['val_loss'][100:])\n",
        "\n",
        "plt.plot(range(1, len(smooth_mape_history) + 1), smooth_mape_history)\n",
        "plt.xlabel('Epochs')\n",
        "plt.ylabel('Validation MAPE')\n",
        "plt.show()"
      ],
      "execution_count": 62,
      "outputs": [
        {
          "output_type": "display_data",
          "data": {
            "image/png": "[encoded data removed]",
            "text/plain": [
              "<Figure size 432x288 with 1 Axes>"
            ]
          },
          "metadata": {
            "tags": [],
            "needs_background": "light"
          }
        }
      ]
    },
    {
      "cell_type": "markdown",
      "metadata": {
        "id": "1DCU0CEuvLND"
      },
      "source": [
        "# TEST"
      ]
    },
    {
      "cell_type": "code",
      "metadata": {
        "id": "neRRh5zVzHd6",
        "outputId": "2242674f-7e0e-4ce2-eb00-188030878f7e",
        "colab": {
          "base_uri": "https://localhost:8080/",
          "height": 369
        }
      },
      "source": [
        "# from tensorflow.keras.models import load_model\n",
        "\n",
        "# model = load_model('checkpoint-epoch-500-batch-64-trial-001.h5', custom_objects={'Mish':Mish})\n",
        "# model = load_model('d.h5', custom_objects={'Mish':Mish})"
      ],
      "execution_count": 63,
      "outputs": [
        {
          "output_type": "error",
          "ename": "OSError",
          "evalue": "ignored",
          "traceback": [
            "\u001b[0;31m---------------------------------------------------------------------------\u001b[0m",
            "\u001b[0;31mOSError\u001b[0m                                   Traceback (most recent call last)",
            "\u001b[0;32m<ipython-input-63-db8bb0aabd05>\u001b[0m in \u001b[0;36m<module>\u001b[0;34m()\u001b[0m\n\u001b[1;32m      1\u001b[0m \u001b[0;31m# from tensorflow.keras.models import load_model\u001b[0m\u001b[0;34m\u001b[0m\u001b[0;34m\u001b[0m\u001b[0;34m\u001b[0m\u001b[0m\n\u001b[1;32m      2\u001b[0m \u001b[0;34m\u001b[0m\u001b[0m\n\u001b[0;32m----> 3\u001b[0;31m \u001b[0mmodel\u001b[0m \u001b[0;34m=\u001b[0m \u001b[0mload_model\u001b[0m\u001b[0;34m(\u001b[0m\u001b[0;34m'checkpoint-epoch-500-batch-64-trial-001.h5'\u001b[0m\u001b[0;34m,\u001b[0m \u001b[0mcustom_objects\u001b[0m\u001b[0;34m=\u001b[0m\u001b[0;34m{\u001b[0m\u001b[0;34m'Mish'\u001b[0m\u001b[0;34m:\u001b[0m\u001b[0mMish\u001b[0m\u001b[0;34m}\u001b[0m\u001b[0;34m)\u001b[0m\u001b[0;34m\u001b[0m\u001b[0;34m\u001b[0m\u001b[0m\n\u001b[0m\u001b[1;32m      4\u001b[0m \u001b[0;31m# model = load_model('d.h5', custom_objects={'Mish':Mish})\u001b[0m\u001b[0;34m\u001b[0m\u001b[0;34m\u001b[0m\u001b[0;34m\u001b[0m\u001b[0m\n",
            "\u001b[0;32m/usr/local/lib/python3.6/dist-packages/tensorflow/python/keras/saving/save.py\u001b[0m in \u001b[0;36mload_model\u001b[0;34m(filepath, custom_objects, compile, options)\u001b[0m\n\u001b[1;32m    184\u001b[0m     \u001b[0mfilepath\u001b[0m \u001b[0;34m=\u001b[0m \u001b[0mpath_to_string\u001b[0m\u001b[0;34m(\u001b[0m\u001b[0mfilepath\u001b[0m\u001b[0;34m)\u001b[0m\u001b[0;34m\u001b[0m\u001b[0;34m\u001b[0m\u001b[0m\n\u001b[1;32m    185\u001b[0m     \u001b[0;32mif\u001b[0m \u001b[0misinstance\u001b[0m\u001b[0;34m(\u001b[0m\u001b[0mfilepath\u001b[0m\u001b[0;34m,\u001b[0m \u001b[0msix\u001b[0m\u001b[0;34m.\u001b[0m\u001b[0mstring_types\u001b[0m\u001b[0;34m)\u001b[0m\u001b[0;34m:\u001b[0m\u001b[0;34m\u001b[0m\u001b[0;34m\u001b[0m\u001b[0m\n\u001b[0;32m--> 186\u001b[0;31m       \u001b[0mloader_impl\u001b[0m\u001b[0;34m.\u001b[0m\u001b[0mparse_saved_model\u001b[0m\u001b[0;34m(\u001b[0m\u001b[0mfilepath\u001b[0m\u001b[0;34m)\u001b[0m\u001b[0;34m\u001b[0m\u001b[0;34m\u001b[0m\u001b[0m\n\u001b[0m\u001b[1;32m    187\u001b[0m       \u001b[0;32mreturn\u001b[0m \u001b[0msaved_model_load\u001b[0m\u001b[0;34m.\u001b[0m\u001b[0mload\u001b[0m\u001b[0;34m(\u001b[0m\u001b[0mfilepath\u001b[0m\u001b[0;34m,\u001b[0m \u001b[0mcompile\u001b[0m\u001b[0;34m,\u001b[0m \u001b[0moptions\u001b[0m\u001b[0;34m)\u001b[0m\u001b[0;34m\u001b[0m\u001b[0;34m\u001b[0m\u001b[0m\n\u001b[1;32m    188\u001b[0m \u001b[0;34m\u001b[0m\u001b[0m\n",
            "\u001b[0;32m/usr/local/lib/python3.6/dist-packages/tensorflow/python/saved_model/loader_impl.py\u001b[0m in \u001b[0;36mparse_saved_model\u001b[0;34m(export_dir)\u001b[0m\n\u001b[1;32m    111\u001b[0m                   (export_dir,\n\u001b[1;32m    112\u001b[0m                    \u001b[0mconstants\u001b[0m\u001b[0;34m.\u001b[0m\u001b[0mSAVED_MODEL_FILENAME_PBTXT\u001b[0m\u001b[0;34m,\u001b[0m\u001b[0;34m\u001b[0m\u001b[0;34m\u001b[0m\u001b[0m\n\u001b[0;32m--> 113\u001b[0;31m                    constants.SAVED_MODEL_FILENAME_PB))\n\u001b[0m\u001b[1;32m    114\u001b[0m \u001b[0;34m\u001b[0m\u001b[0m\n\u001b[1;32m    115\u001b[0m \u001b[0;34m\u001b[0m\u001b[0m\n",
            "\u001b[0;31mOSError\u001b[0m: SavedModel file does not exist at: checkpoint-epoch-500-batch-64-trial-001.h5/{saved_model.pbtxt|saved_model.pb}"
          ]
        }
      ]
    },
    {
      "cell_type": "code",
      "metadata": {
        "id": "05AA-WtWZCkg"
      },
      "source": [
        "test_mape_score, test_mae_score = model.evaluate(test_data, test_targets)\n"
      ],
      "execution_count": null,
      "outputs": []
    },
    {
      "cell_type": "code",
      "metadata": {
        "id": "3Jj7qChOU7-b"
      },
      "source": [
        "import matplotlib.pyplot as plt\n",
        "\n",
        "# test data에 대한 예측값\n",
        "y_pred = model.predict(test_data)\n",
        "\n",
        "plt.figure(figsize=(5,5))  # 그림 가로, 세로 크기\n",
        "plt.scatter(test_targets, y_pred, label=\"취급액 boxcox 예측\", s=3)  #test data의 실제 y값과 예측 y값을 입력\n",
        "plt.title('취급액 boxcox 예측')\n",
        "plt.xlabel('y_actual')   # X축 이름\n",
        "plt.ylabel('y_predicted')# Y축 이름\n",
        "plt.legend()\n",
        "plt.xlim((50,350))  # X축 표시 범위\n",
        "plt.ylim((50,350))  # Y축 표시 범위\n",
        "plt.show()\n",
        "# save_fig(\"prediction result\")"
      ],
      "execution_count": null,
      "outputs": []
    },
    {
      "cell_type": "markdown",
      "metadata": {
        "id": "aiJpmuByrnE1"
      },
      "source": [
        "# 취급액 BOXCOX를 다시 취급액으로 변환\n"
      ]
    },
    {
      "cell_type": "code",
      "metadata": {
        "id": "-wKzFCfIB9by"
      },
      "source": [
        "def original_target(boxcox):\n",
        "    return (0.2222222 * boxcox +1)**(1/0.2222222)"
      ],
      "execution_count": null,
      "outputs": []
    },
    {
      "cell_type": "code",
      "metadata": {
        "id": "Qz_FHhMCLjt0"
      },
      "source": [
        "y_pred_original =original_target(y_pred)\n",
        "test_y_original =original_target(test_y)"
      ],
      "execution_count": null,
      "outputs": []
    },
    {
      "cell_type": "code",
      "metadata": {
        "id": "A65S-6sS7tgP"
      },
      "source": [
        "y_pred_df = pd.DataFrame(y_pred_original)\n",
        "test_y_df = pd.DataFrame(test_y_original)"
      ],
      "execution_count": null,
      "outputs": []
    },
    {
      "cell_type": "code",
      "metadata": {
        "id": "pqn60p76-Cxm"
      },
      "source": [
        "# col 이름 맞춰주기 \n",
        "y_pred_df.columns = ['취급액']\n",
        "test_y_df.columns = ['취급액']\n",
        "\n"
      ],
      "execution_count": null,
      "outputs": []
    },
    {
      "cell_type": "markdown",
      "metadata": {
        "id": "6n0LXLYFbEtE"
      },
      "source": [
        "# 취급액으로 변환한 MAPE\n"
      ]
    },
    {
      "cell_type": "code",
      "metadata": {
        "id": "saY97hkKCtkG"
      },
      "source": [
        "real_MAPE = ((abs(test_y_df - y_pred_df)/test_y_df).sum())/len(test_y_df)*100\n",
        "\n",
        "print(real_MAPE)"
      ],
      "execution_count": null,
      "outputs": []
    },
    {
      "cell_type": "markdown",
      "metadata": {
        "id": "5SscYgKIrr-m"
      },
      "source": [
        "# 예측한 취급액 저장 \n"
      ]
    },
    {
      "cell_type": "code",
      "metadata": {
        "id": "XiVXrKDw-fTV"
      },
      "source": [
        "base_dir_excel = \"/content/gdrive/My Drive/Colab Notebooks/result/y_pred\"\n",
        "base_dir_model = \"/content/gdrive/My Drive/Colab Notebooks/result/model\""
      ],
      "execution_count": null,
      "outputs": []
    },
    {
      "cell_type": "code",
      "metadata": {
        "id": "pLk6cxlnY2jk"
      },
      "source": [
        "now = datetime.datetime.now()"
      ],
      "execution_count": null,
      "outputs": []
    },
    {
      "cell_type": "code",
      "metadata": {
        "id": "Y9If-k0q-iwO"
      },
      "source": [
        "excel_nm = \"{}_epoch_{}_batch_{}.xlsx\".format(now,num_epochs,BATCH_SIZE)\n"
      ],
      "execution_count": null,
      "outputs": []
    },
    {
      "cell_type": "code",
      "metadata": {
        "id": "oczL1JWt-i61"
      },
      "source": [
        "xlxs_dir = os.path.join(base_dir_excel, excel_nm) "
      ],
      "execution_count": null,
      "outputs": []
    },
    {
      "cell_type": "code",
      "metadata": {
        "id": "C0UrhfEYvkjC"
      },
      "source": [
        "# keras.models.save_model(model, base_dir_model, overwrite=True, include_optimizer=True)\n",
        "models.save_model(model, base_dir_model, overwrite=True, include_optimizer=True)"
      ],
      "execution_count": null,
      "outputs": []
    },
    {
      "cell_type": "code",
      "metadata": {
        "id": "wGs_RtKH-C4G"
      },
      "source": [
        "y_pred_df.to_excel(xlxs_dir, # directory and file name to write\n",
        "\n",
        "            sheet_name = 'Sheet1', \n",
        "            na_rep = 'NaN', \n",
        "            float_format = \"%.2f\", \n",
        "            header = True, \n",
        "            #columns = [\"group\", \"value_1\", \"value_2\"], # if header is False\n",
        "            index = True, \n",
        "            index_label = \"id\", \n",
        "            startrow = 1, \n",
        "            startcol = 1, \n",
        "            #engine = 'xlsxwriter', \n",
        "            freeze_panes = (2, 0)\n",
        "            ) \n"
      ],
      "execution_count": null,
      "outputs": []
    },
    {
      "cell_type": "code",
      "metadata": {
        "id": "AbAcycH9xS9e"
      },
      "source": [
        "\n",
        "y_pred_df = pd.DataFrame(y_pred_original)\n",
        "test_y_df = pd.DataFrame(test_y_original)\n"
      ],
      "execution_count": null,
      "outputs": []
    }
  ]
}