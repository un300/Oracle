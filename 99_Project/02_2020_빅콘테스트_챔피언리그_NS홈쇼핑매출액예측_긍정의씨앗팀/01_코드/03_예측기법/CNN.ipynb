{
  "nbformat": 4,
  "nbformat_minor": 0,
  "metadata": {
    "colab": {
      "name": "CNN.ipynb의 사본",
      "provenance": [],
      "collapsed_sections": []
    },
    "kernelspec": {
      "name": "python3",
      "display_name": "Python 3"
    },
    "accelerator": "GPU"
  },
  "cells": [
    {
      "cell_type": "code",
      "metadata": {
        "id": "57lRICOcPH9l"
      },
      "source": [
        ""
      ],
      "execution_count": 267,
      "outputs": []
    },
    {
      "cell_type": "code",
      "metadata": {
        "id": "N8zao-8htuRh",
        "outputId": "c3020f2b-65b3-480a-ec55-c077f92501b5",
        "colab": {
          "base_uri": "https://localhost:8080/",
          "height": 35
        }
      },
      "source": [
        "from google.colab import drive\n",
        "drive.mount('/content/gdrive')"
      ],
      "execution_count": 268,
      "outputs": [
        {
          "output_type": "stream",
          "text": [
            "Drive already mounted at /content/gdrive; to attempt to forcibly remount, call drive.mount(\"/content/gdrive\", force_remount=True).\n"
          ],
          "name": "stdout"
        }
      ]
    },
    {
      "cell_type": "markdown",
      "metadata": {
        "id": "cbuh3lm2cvXz"
      },
      "source": [
        ""
      ]
    },
    {
      "cell_type": "code",
      "metadata": {
        "id": "-i_6ygbLUxVE"
      },
      "source": [
        "import datetime\n",
        "import numpy as np\n",
        "import pandas as pd\n",
        "import os \n",
        "from pandas import ExcelFile\n",
        "from keras import models \n",
        "from keras import layers\n",
        "import tensorflow as tf\n",
        "from tensorflow.keras import layers  #모듈(변수나 함수를 포함)만 불러오기\n",
        "from sklearn.preprocessing import StandardScaler, MinMaxScaler  #표준 정규화, 최대-최소 정규화\n",
        "\n",
        "\n",
        "import seaborn as sns\n",
        "import matplotlib as mpl\n",
        "import matplotlib.pyplot as plt\n",
        "import matplotlib.font_manager as fm\n",
        "from matplotlib import rc\n"
      ],
      "execution_count": 269,
      "outputs": []
    },
    {
      "cell_type": "code",
      "metadata": {
        "id": "bbSaO0TRVjzw",
        "outputId": "9a3b5bb6-26e1-4ac7-b443-512c77c0e016",
        "colab": {
          "base_uri": "https://localhost:8080/",
          "height": 72
        }
      },
      "source": [
        "pd.set_option('display.max_colwidth',-1)"
      ],
      "execution_count": 270,
      "outputs": [
        {
          "output_type": "stream",
          "text": [
            "/usr/local/lib/python3.6/dist-packages/ipykernel_launcher.py:1: FutureWarning: Passing a negative integer is deprecated in version 1.0 and will not be supported in future version. Instead, use None to not limit the column width.\n",
            "  \"\"\"Entry point for launching an IPython kernel.\n"
          ],
          "name": "stderr"
        }
      ]
    },
    {
      "cell_type": "code",
      "metadata": {
        "id": "7IGwx3TWVj5l"
      },
      "source": [
        "pd.set_option('display.float_format', '{:.4f}'.format)    #과학적 표기법 안쓸래 \n",
        "mpl.rcParams['axes.unicode_minus'] = False               # 마이너스 표기 오류 방지 "
      ],
      "execution_count": 271,
      "outputs": []
    },
    {
      "cell_type": "code",
      "metadata": {
        "id": "JBM05bUKVj8o"
      },
      "source": [
        "base_dir = \"/content/gdrive/My Drive/Colab Notebooks/data/0928_final\"\n",
        "train_file = \"2020train.csv\"\n",
        "test_file = \"2020test.csv\"\n",
        "\n",
        "\n",
        "train_dir = os.path.join(base_dir,train_file)\n",
        "test_dir = os.path.join(base_dir,test_file)"
      ],
      "execution_count": 272,
      "outputs": []
    },
    {
      "cell_type": "code",
      "metadata": {
        "id": "XEJp7cXEVt3p"
      },
      "source": [
        "train_raw = pd.read_csv(train_dir, sep = \",\" , encoding = \"cp949\")   \n",
        "test_raw = pd.read_csv(test_dir, sep = \",\" , encoding = \"cp949\")   "
      ],
      "execution_count": 273,
      "outputs": []
    },
    {
      "cell_type": "code",
      "metadata": {
        "id": "JVQ38wZvVt62"
      },
      "source": [
        "train1 = train_raw\n",
        "test1 = test_raw"
      ],
      "execution_count": 274,
      "outputs": []
    },
    {
      "cell_type": "code",
      "metadata": {
        "id": "wrJ2DJlwWlCU",
        "outputId": "ebd22aa7-c97a-463e-f729-ca097ab71e9e",
        "colab": {
          "base_uri": "https://localhost:8080/",
          "height": 1000
        }
      },
      "source": [
        "train1.info() # 89col , 32519 row"
      ],
      "execution_count": 275,
      "outputs": [
        {
          "output_type": "stream",
          "text": [
            "<class 'pandas.core.frame.DataFrame'>\n",
            "RangeIndex: 35379 entries, 0 to 35378\n",
            "Data columns (total 91 columns):\n",
            " #   Column        Non-Null Count  Dtype  \n",
            "---  ------        --------------  -----  \n",
            " 0   Unnamed: 0    35379 non-null  int64  \n",
            " 1   방송일시          35379 non-null  object \n",
            " 2   노출(분)         35379 non-null  float64\n",
            " 3   마더코드          35379 non-null  int64  \n",
            " 4   상품코드          35379 non-null  int64  \n",
            " 5   상품명           35379 non-null  object \n",
            " 6   상품군           35379 non-null  object \n",
            " 7   판매단가          35379 non-null  int64  \n",
            " 8   취급액           35379 non-null  int64  \n",
            " 9   월             35379 non-null  int64  \n",
            " 10  일             35379 non-null  int64  \n",
            " 11  요일            35379 non-null  object \n",
            " 12  반기            35379 non-null  int64  \n",
            " 13  분기            35379 non-null  object \n",
            " 14  365일          35379 non-null  int64  \n",
            " 15  53주차          35379 non-null  int64  \n",
            " 16  년월일           35379 non-null  object \n",
            " 17  시간            35379 non-null  object \n",
            " 18  시간hour        35379 non-null  int64  \n",
            " 19  날짜            35379 non-null  int64  \n",
            " 20  날짜시간          35379 non-null  int64  \n",
            " 21  계절            35379 non-null  object \n",
            " 22  168시간         35379 non-null  int64  \n",
            " 23  휴일            35379 non-null  int64  \n",
            " 24  방송시간          35379 non-null  float64\n",
            " 25  매진여부          35379 non-null  int64  \n",
            " 26  방송끝나는시간       35379 non-null  object \n",
            " 27  브랜드           35379 non-null  object \n",
            " 28  sale단어        35379 non-null  int64  \n",
            " 29  결제수단          35379 non-null  object \n",
            " 30  상품명change     35379 non-null  object \n",
            " 31  count         35379 non-null  int64  \n",
            " 32  중분류           35379 non-null  object \n",
            " 33  소분류           35379 non-null  object \n",
            " 34  기온            35379 non-null  float64\n",
            " 35  강수량           35379 non-null  float64\n",
            " 36  풍속            35379 non-null  float64\n",
            " 37  습도            35379 non-null  float64\n",
            " 38  적설            35379 non-null  float64\n",
            " 39  전운량           35379 non-null  float64\n",
            " 40  비눈여부          35379 non-null  int64  \n",
            " 41  비눈여부_평균이상     35379 non-null  int64  \n",
            " 42  미세먼지          35379 non-null  float64\n",
            " 43  초미세먼지         35379 non-null  float64\n",
            " 44  판매상품종류수       35379 non-null  int64  \n",
            " 45  판매상품종류비율      35379 non-null  float64\n",
            " 46  그룹코드          35379 non-null  int64  \n",
            " 47  한달_상품군빈도      35379 non-null  float64\n",
            " 48  한달_중분류빈도      35379 non-null  float64\n",
            " 49  한달_소분류빈도      35379 non-null  float64\n",
            " 50  한달_그룹코드빈도     35379 non-null  float64\n",
            " 51  판매단가순위        35379 non-null  int64  \n",
            " 52  상품군판매단가순위     35379 non-null  int64  \n",
            " 53  상품군요일순위       35379 non-null  int64  \n",
            " 54  상품군24시간순위     35379 non-null  int64  \n",
            " 55  중분류요일순위       35379 non-null  int64  \n",
            " 56  중분류24시간순위     35379 non-null  int64  \n",
            " 57  상품군168시간순위    35379 non-null  int64  \n",
            " 58  중분류168시간순위    35379 non-null  int64  \n",
            " 59  판매단가rank      35379 non-null  int64  \n",
            " 60  시간순위          35379 non-null  int64  \n",
            " 61  시간순위168       35379 non-null  int64  \n",
            " 62  브랜드순위         35379 non-null  int64  \n",
            " 63  중분류순위         35379 non-null  int64  \n",
            " 64  소분류순위         35379 non-null  int64  \n",
            " 65  방송내_순서        35379 non-null  int64  \n",
            " 66  방송순서          35379 non-null  int64  \n",
            " 67  그룹코드_전체횟수     35379 non-null  int64  \n",
            " 68  그룹코드_쪽박횟수     35379 non-null  int64  \n",
            " 69  그룹코드_대박횟수     35379 non-null  int64  \n",
            " 70  그룹코드_쪽박확률     35379 non-null  float64\n",
            " 71  그룹코드_대박확률     35379 non-null  float64\n",
            " 72  중분류별_전체횟수     35379 non-null  int64  \n",
            " 73  중분류별_쪽박횟수     35379 non-null  int64  \n",
            " 74  중분류별_대박횟수     35379 non-null  int64  \n",
            " 75  중분류별_쪽박확률     35379 non-null  float64\n",
            " 76  중분류별_대박확률     35379 non-null  float64\n",
            " 77  소분류별_전체횟수     35379 non-null  int64  \n",
            " 78  소분류별_쪽박횟수     35379 non-null  int64  \n",
            " 79  소분류별_대박횟수     35379 non-null  int64  \n",
            " 80  소분류별_쪽박확률     35379 non-null  float64\n",
            " 81  소분류별_대박확률     35379 non-null  float64\n",
            " 82  월_COS         35379 non-null  float64\n",
            " 83  월_SIN         35379 non-null  float64\n",
            " 84  168시간_COS     35379 non-null  float64\n",
            " 85  168시간_SIN     35379 non-null  float64\n",
            " 86  24시간_COS      35379 non-null  float64\n",
            " 87  24시간_SIN      35379 non-null  float64\n",
            " 88  방송내_상품종류별_점수  35379 non-null  int64  \n",
            " 89  방송내_상품선호도     35379 non-null  float64\n",
            " 90  취급액boxcox     35379 non-null  float64\n",
            "dtypes: float64(29), int64(48), object(14)\n",
            "memory usage: 24.6+ MB\n"
          ],
          "name": "stdout"
        }
      ]
    },
    {
      "cell_type": "code",
      "metadata": {
        "id": "xOZphlkyVt9d"
      },
      "source": [
        "train_y = pd.DataFrame(train1['취급액boxcox'])"
      ],
      "execution_count": 276,
      "outputs": []
    },
    {
      "cell_type": "code",
      "metadata": {
        "id": "38oNUAkpo5YF"
      },
      "source": [
        "train_X = pd.DataFrame(train1, columns=['판매단가', '노출(분)',\n",
        "'월', '일', '시간hour',\n",
        "'168시간', '휴일', '방송시간', '매진여부',\n",
        "'결제수단', '기온', '강수량', '풍속', '습도', '적설',\n",
        "'전운량', '미세먼지', '초미세먼지', '판매단가순위',\n",
        "'판매단가rank', '중분류순위', '소분류순위',\n",
        "'방송내_순서', '방송순서', '판매상품종류수', '그룹코드_전체횟수', '그룹코드_대박횟수',\n",
        "'그룹코드_대박확률','그룹코드_쪽박횟수', '그룹코드_쪽박확률',\n",
        "'168시간_COS', '168시간_SIN', '24시간_COS', '24시간_SIN', '그룹코드_쪽박횟수', '그룹코드_쪽박확률',\n",
        "'방송내_상품종류별_점수', '방송내_상품선호도'])"
      ],
      "execution_count": 277,
      "outputs": []
    },
    {
      "cell_type": "code",
      "metadata": {
        "id": "WvZOx6Yzvm29"
      },
      "source": [
        "train_X =pd.get_dummies(train_X)"
      ],
      "execution_count": 278,
      "outputs": []
    },
    {
      "cell_type": "code",
      "metadata": {
        "id": "YAY2549JVt__",
        "outputId": "cc2a0b34-f82b-4961-9ddd-d4a066f4919f",
        "colab": {
          "base_uri": "https://localhost:8080/",
          "height": 852
        }
      },
      "source": [
        "train_X.info()  # 40 col"
      ],
      "execution_count": 279,
      "outputs": [
        {
          "output_type": "stream",
          "text": [
            "<class 'pandas.core.frame.DataFrame'>\n",
            "RangeIndex: 35379 entries, 0 to 35378\n",
            "Data columns (total 40 columns):\n",
            " #   Column        Non-Null Count  Dtype  \n",
            "---  ------        --------------  -----  \n",
            " 0   판매단가          35379 non-null  int64  \n",
            " 1   노출(분)         35379 non-null  float64\n",
            " 2   월             35379 non-null  int64  \n",
            " 3   일             35379 non-null  int64  \n",
            " 4   시간hour        35379 non-null  int64  \n",
            " 5   168시간         35379 non-null  int64  \n",
            " 6   휴일            35379 non-null  int64  \n",
            " 7   방송시간          35379 non-null  float64\n",
            " 8   매진여부          35379 non-null  int64  \n",
            " 9   기온            35379 non-null  float64\n",
            " 10  강수량           35379 non-null  float64\n",
            " 11  풍속            35379 non-null  float64\n",
            " 12  습도            35379 non-null  float64\n",
            " 13  적설            35379 non-null  float64\n",
            " 14  전운량           35379 non-null  float64\n",
            " 15  미세먼지          35379 non-null  float64\n",
            " 16  초미세먼지         35379 non-null  float64\n",
            " 17  판매단가순위        35379 non-null  int64  \n",
            " 18  판매단가rank      35379 non-null  int64  \n",
            " 19  중분류순위         35379 non-null  int64  \n",
            " 20  소분류순위         35379 non-null  int64  \n",
            " 21  방송내_순서        35379 non-null  int64  \n",
            " 22  방송순서          35379 non-null  int64  \n",
            " 23  판매상품종류수       35379 non-null  int64  \n",
            " 24  그룹코드_전체횟수     35379 non-null  int64  \n",
            " 25  그룹코드_대박횟수     35379 non-null  int64  \n",
            " 26  그룹코드_대박확률     35379 non-null  float64\n",
            " 27  그룹코드_쪽박횟수     35379 non-null  int64  \n",
            " 28  그룹코드_쪽박확률     35379 non-null  float64\n",
            " 29  168시간_COS     35379 non-null  float64\n",
            " 30  168시간_SIN     35379 non-null  float64\n",
            " 31  24시간_COS      35379 non-null  float64\n",
            " 32  24시간_SIN      35379 non-null  float64\n",
            " 33  그룹코드_쪽박횟수     35379 non-null  int64  \n",
            " 34  그룹코드_쪽박확률     35379 non-null  float64\n",
            " 35  방송내_상품종류별_점수  35379 non-null  int64  \n",
            " 36  방송내_상품선호도     35379 non-null  float64\n",
            " 37  결제수단_결제1      35379 non-null  uint8  \n",
            " 38  결제수단_결제2_무이자  35379 non-null  uint8  \n",
            " 39  결제수단_결제2_일시불  35379 non-null  uint8  \n",
            "dtypes: float64(18), int64(19), uint8(3)\n",
            "memory usage: 10.1 MB\n"
          ],
          "name": "stdout"
        }
      ]
    },
    {
      "cell_type": "code",
      "metadata": {
        "id": "uU5t_aJ2Rm0D"
      },
      "source": [
        "train_data = train_X\n",
        "train_targets = train_y"
      ],
      "execution_count": 280,
      "outputs": []
    },
    {
      "cell_type": "code",
      "metadata": {
        "id": "BzB6m34_VuC7"
      },
      "source": [
        "test_y = pd.DataFrame(test1['취급액boxcox'])"
      ],
      "execution_count": 281,
      "outputs": []
    },
    {
      "cell_type": "code",
      "metadata": {
        "id": "azaW2FjvpXG0"
      },
      "source": [
        "test_X = pd.DataFrame(test1, columns=['판매단가', '노출(분)',\n",
        "'월', '일', '시간hour',\n",
        "'168시간', '휴일', '방송시간', '매진여부',\n",
        "'결제수단', '기온', '강수량', '풍속', '습도', '적설',\n",
        "'전운량', '미세먼지', '초미세먼지', '판매단가순위',\n",
        "'판매단가rank', '중분류순위', '소분류순위',\n",
        "'방송내_순서', '방송순서', '판매상품종류수', '그룹코드_전체횟수', '그룹코드_대박횟수',\n",
        "'그룹코드_대박확률','그룹코드_쪽박횟수', '그룹코드_쪽박확률',\n",
        "'168시간_COS', '168시간_SIN', '24시간_COS', '24시간_SIN', '그룹코드_쪽박횟수', '그룹코드_쪽박확률',\n",
        "'방송내_상품종류별_점수', '방송내_상품선호도'])"
      ],
      "execution_count": 282,
      "outputs": []
    },
    {
      "cell_type": "code",
      "metadata": {
        "id": "ce2ALU-YwryE"
      },
      "source": [
        "test_X =pd.get_dummies(test_X)"
      ],
      "execution_count": 283,
      "outputs": []
    },
    {
      "cell_type": "code",
      "metadata": {
        "id": "zUvYdQTkVuEq",
        "outputId": "1a43d565-dd76-40b7-a7dc-ebd2ce0666fd",
        "colab": {
          "base_uri": "https://localhost:8080/",
          "height": 852
        }
      },
      "source": [
        "test_X.info()  # 40 col"
      ],
      "execution_count": 284,
      "outputs": [
        {
          "output_type": "stream",
          "text": [
            "<class 'pandas.core.frame.DataFrame'>\n",
            "RangeIndex: 2716 entries, 0 to 2715\n",
            "Data columns (total 40 columns):\n",
            " #   Column        Non-Null Count  Dtype  \n",
            "---  ------        --------------  -----  \n",
            " 0   판매단가          2716 non-null   int64  \n",
            " 1   노출(분)         2716 non-null   float64\n",
            " 2   월             2716 non-null   int64  \n",
            " 3   일             2716 non-null   int64  \n",
            " 4   시간hour        2716 non-null   int64  \n",
            " 5   168시간         2716 non-null   int64  \n",
            " 6   휴일            2716 non-null   int64  \n",
            " 7   방송시간          2716 non-null   float64\n",
            " 8   매진여부          2716 non-null   int64  \n",
            " 9   기온            2716 non-null   float64\n",
            " 10  강수량           2716 non-null   float64\n",
            " 11  풍속            2716 non-null   float64\n",
            " 12  습도            2716 non-null   float64\n",
            " 13  적설            2716 non-null   float64\n",
            " 14  전운량           2716 non-null   float64\n",
            " 15  미세먼지          2716 non-null   float64\n",
            " 16  초미세먼지         2716 non-null   float64\n",
            " 17  판매단가순위        2716 non-null   int64  \n",
            " 18  판매단가rank      2716 non-null   int64  \n",
            " 19  중분류순위         2716 non-null   int64  \n",
            " 20  소분류순위         2716 non-null   int64  \n",
            " 21  방송내_순서        2716 non-null   int64  \n",
            " 22  방송순서          2716 non-null   int64  \n",
            " 23  판매상품종류수       2716 non-null   int64  \n",
            " 24  그룹코드_전체횟수     2716 non-null   int64  \n",
            " 25  그룹코드_대박횟수     2716 non-null   int64  \n",
            " 26  그룹코드_대박확률     2716 non-null   float64\n",
            " 27  그룹코드_쪽박횟수     2716 non-null   int64  \n",
            " 28  그룹코드_쪽박확률     2716 non-null   float64\n",
            " 29  168시간_COS     2716 non-null   float64\n",
            " 30  168시간_SIN     2716 non-null   float64\n",
            " 31  24시간_COS      2716 non-null   float64\n",
            " 32  24시간_SIN      2716 non-null   float64\n",
            " 33  그룹코드_쪽박횟수     2716 non-null   int64  \n",
            " 34  그룹코드_쪽박확률     2716 non-null   float64\n",
            " 35  방송내_상품종류별_점수  2716 non-null   int64  \n",
            " 36  방송내_상품선호도     2716 non-null   float64\n",
            " 37  결제수단_결제1      2716 non-null   uint8  \n",
            " 38  결제수단_결제2_무이자  2716 non-null   uint8  \n",
            " 39  결제수단_결제2_일시불  2716 non-null   uint8  \n",
            "dtypes: float64(18), int64(19), uint8(3)\n",
            "memory usage: 793.2 KB\n"
          ],
          "name": "stdout"
        }
      ]
    },
    {
      "cell_type": "code",
      "metadata": {
        "id": "XflYFzhVXsZ7"
      },
      "source": [
        "test_data = test_X\n",
        "test_targets = test_y"
      ],
      "execution_count": 285,
      "outputs": []
    },
    {
      "cell_type": "markdown",
      "metadata": {
        "id": "TWWa4iu6Skep"
      },
      "source": [
        "# scaling\n"
      ]
    },
    {
      "cell_type": "code",
      "metadata": {
        "id": "jjXZsVeQSKEl"
      },
      "source": [
        "# # min max scaler \n",
        "\n",
        "# mm_scaler = MinMaxScaler()\n",
        "\n",
        "# train_data_scaled = mm_scaler.fit_transform(train_data)\n",
        "# test_data_scaled = mm_scaler.transform(test_data)\n",
        "\n",
        "# train_data = train_data_scaled\n",
        "# test_data = test_data_scaled"
      ],
      "execution_count": 286,
      "outputs": []
    },
    {
      "cell_type": "code",
      "metadata": {
        "id": "187Z3ryzf7cS"
      },
      "source": [
        ""
      ],
      "execution_count": 286,
      "outputs": []
    },
    {
      "cell_type": "code",
      "metadata": {
        "id": "PWEY34S9Xsc4"
      },
      "source": [
        "## 정규화  : test도 train의 평균, 표준편차 값으로 정규화를 한다 ##\n",
        "mean = train_data.mean(axis=0)\n",
        "train_data -= mean\n",
        "std = train_data.std(axis=0)\n",
        "train_data /= std\n",
        "\n",
        "test_data -= mean\n",
        "test_data /= std"
      ],
      "execution_count": 287,
      "outputs": []
    },
    {
      "cell_type": "code",
      "metadata": {
        "id": "rJzLR6mw8sfu"
      },
      "source": [
        "from keras.models import Sequential\n",
        "from keras.layers import Dense, Flatten, Convolution1D, Dropout\n",
        "from keras.optimizers import SGD\n",
        "from keras.initializers import random_uniform\n",
        "from keras.callbacks import ModelCheckpoint, EarlyStopping\n",
        "\n",
        "from numpy import array\n",
        "from keras.models import Sequential\n",
        "from keras.layers import Dense\n",
        "from keras.layers import Flatten\n",
        "from keras.layers.convolutional import Conv1D\n",
        "from keras.layers.convolutional import MaxPooling1D\n",
        "\n",
        "import tensorflow.keras.backend as K\n",
        "from tensorflow import nn\n",
        "from tensorflow.keras.backend import shape\n",
        "from tensorflow.keras.layers import Input, Dense, Flatten, Activation\n",
        "from tensorflow.keras.models import Model, Sequential, load_model\n",
        "from keras.layers import BatchNormalization\n",
        "from tensorflow.keras.utils import get_custom_objects\n",
        "from keras.callbacks import ModelCheckpoint, EarlyStopping\n",
        "from keras.utils import plot_model\n",
        "\n",
        "\n",
        "def Mish(x):\n",
        "    return x * K.tanh(K.softplus(x))\n",
        "\n",
        "get_custom_objects().update({'mish': Mish})"
      ],
      "execution_count": 288,
      "outputs": []
    },
    {
      "cell_type": "code",
      "metadata": {
        "id": "12qGkpbI83A9"
      },
      "source": [
        ""
      ],
      "execution_count": 288,
      "outputs": []
    },
    {
      "cell_type": "code",
      "metadata": {
        "id": "6Z0UGVZyFbJm"
      },
      "source": [
        "train_data_ar= np.asarray(train_data)\n",
        "train_targets_ar = np.asarray(train_targets)\n",
        "\n",
        "test_data_ar= np.asarray(test_data)\n",
        "test_targets_ar = np.asarray(test_targets)"
      ],
      "execution_count": 289,
      "outputs": []
    },
    {
      "cell_type": "code",
      "metadata": {
        "id": "ol5oD2-xFNBO"
      },
      "source": [
        "train_data_3d = train_data_ar.reshape((35379,40,1))\n",
        "train_data_3d = np.nan_to_num(train_data_3d, copy=False) \n",
        "\n",
        "train_targets_3d = train_targets_ar.reshape((35379,1,1))\n",
        "train_targets_3d = np.nan_to_num(train_targets_3d, copy=False) \n",
        "\n",
        "\n",
        "test_data_3d = test_data_ar.reshape((2716,40,1))\n",
        "test_data_3d = np.nan_to_num(test_data_3d, copy=False) \n",
        "\n",
        "test_targets_3d = test_targets_ar.reshape((2716,1,1))\n",
        "test_targets_3d = np.nan_to_num(test_targets_3d, copy=False) "
      ],
      "execution_count": 290,
      "outputs": []
    },
    {
      "cell_type": "code",
      "metadata": {
        "id": "bguD5sn7Ql32"
      },
      "source": [
        "\n",
        "test_targets_3d = test_targets_ar.reshape((2716,1,1))\n",
        "# define model\n",
        "\n",
        "def build_model():\n",
        "    model = Sequential()\n",
        "\n",
        "    model.add(Convolution1D(filters=32, kernel_size=2, activation='relu', input_shape=(59,1) ))\n",
        "    model.add(MaxPooling1D(pool_size=3))\n",
        "\n",
        "    model.add(Flatten())\n",
        "    model.add(Dense(64, activation='relu'))\n",
        "\n",
        "    model.add(Flatten())\n",
        "    model.add(Dense(32, activation='relu'))\n",
        "\n",
        "\n",
        "    model.add(Dense(1))\n",
        "    model.compile(optimizer='rmsprop', loss='mape', metrics=['mae']) \n",
        "    return model \n",
        " "
      ],
      "execution_count": 291,
      "outputs": []
    },
    {
      "cell_type": "markdown",
      "metadata": {
        "id": "xtCurpk8dPPa"
      },
      "source": [
        "# 모델 평가 \n"
      ]
    },
    {
      "cell_type": "code",
      "metadata": {
        "id": "pb0rkrAIdFGp"
      },
      "source": [
        "\n",
        "model = build_model()  # 케라스 모델 구성(컴파일 포함)\n",
        "\n",
        "num_epochs = 1\n",
        "BATCH_SIZE = 32\n",
        "all_scores = []\n",
        "all_mape_histories=[]\n",
        "\n",
        "filename = 'checkpoint-epoch-{}-batch-{}-trial-001.h5'.format(num_epochs, BATCH_SIZE)\n",
        "checkpoint = ModelCheckpoint(filename,             # file명을 지정합니다\n",
        "                             monitor='val_loss',   # val_loss 값이 개선되었을때 호출됩니다\n",
        "                             verbose=1,            # 로그를 출력합니다\n",
        "                             save_best_only=True,  # 가장 best 값만 저장합니다\n",
        "                             mode='auto'           # auto는 알아서 best를 찾습니다. min/max\n",
        "                            )\n",
        "\n",
        "earlystopping = EarlyStopping(monitor='val_loss',  # 모니터 기준 설정 (val loss) \n",
        "                              patience=10,         # N회 Epoch동안 개선되지 않는다면 종료\n",
        "                             )\n",
        "\n",
        "hist = model.fit(train_data_3d, train_targets_3d, \n",
        "      epochs=num_epochs, \n",
        "      batch_size=BATCH_SIZE)\n",
        "\n"
      ],
      "execution_count": null,
      "outputs": []
    },
    {
      "cell_type": "markdown",
      "metadata": {
        "id": "f8MWzk4nzw1g"
      },
      "source": [
        "# 테스트 MAPE\n"
      ]
    },
    {
      "cell_type": "code",
      "metadata": {
        "id": "QQhjh1EvdFJa"
      },
      "source": [
        " model.evaluate(test_data_3d, test_targets_3d)"
      ],
      "execution_count": null,
      "outputs": []
    },
    {
      "cell_type": "code",
      "metadata": {
        "id": "9BERpa7OdFNE"
      },
      "source": [
        " y_pred = model.predict(test_data_3d, verbose=1)\n"
      ],
      "execution_count": null,
      "outputs": []
    },
    {
      "cell_type": "code",
      "metadata": {
        "id": "UgyzDOkmdFYV"
      },
      "source": [
        "y_pred"
      ],
      "execution_count": null,
      "outputs": []
    },
    {
      "cell_type": "markdown",
      "metadata": {
        "id": "zS5Jvd4snW3t"
      },
      "source": [
        "# 취급액으로 변환한 MAPE\n"
      ]
    },
    {
      "cell_type": "code",
      "metadata": {
        "id": "-wKzFCfIB9by"
      },
      "source": [
        "def original_target(boxcox):\n",
        "    return (0.2222222 * boxcox +1)**(1/0.2222222)"
      ],
      "execution_count": null,
      "outputs": []
    },
    {
      "cell_type": "code",
      "metadata": {
        "id": "Qz_FHhMCLjt0"
      },
      "source": [
        "y_pred_original =original_target(y_pred)\n",
        "test_y_original =original_target(test_y)"
      ],
      "execution_count": null,
      "outputs": []
    },
    {
      "cell_type": "code",
      "metadata": {
        "id": "AbAcycH9xS9e"
      },
      "source": [
        "y_pred_df = pd.DataFrame(y_pred_original)\n",
        "test_y_df = pd.DataFrame(test_y_original)\n"
      ],
      "execution_count": null,
      "outputs": []
    },
    {
      "cell_type": "code",
      "metadata": {
        "id": "pqn60p76-Cxm"
      },
      "source": [
        "# col 이름 맞춰주기 \n",
        "y_pred_df.columns = ['취급액']\n",
        "test_y_df.columns = ['취급액']"
      ],
      "execution_count": null,
      "outputs": []
    },
    {
      "cell_type": "markdown",
      "metadata": {
        "id": "6n0LXLYFbEtE"
      },
      "source": [
        "# 취급액으로 변환한 MAPE\n"
      ]
    },
    {
      "cell_type": "markdown",
      "metadata": {
        "id": "h_U4vJ1aOQUh"
      },
      "source": [
        ""
      ]
    },
    {
      "cell_type": "code",
      "metadata": {
        "id": "saY97hkKCtkG"
      },
      "source": [
        "real_MAPE = ((abs(test_y_df - y_pred_df)/test_y_df).sum())/len(test_y_df)*100\n",
        "print(real_MAPE)"
      ],
      "execution_count": null,
      "outputs": []
    },
    {
      "cell_type": "markdown",
      "metadata": {
        "id": "_knmnVb6mlL8"
      },
      "source": [
        "#결과 엑셀 저장\n"
      ]
    },
    {
      "cell_type": "code",
      "metadata": {
        "id": "xjWkjzEm25V_"
      },
      "source": [
        "base_dir_excel = \"/content/gdrive/My Drive/Colab Notebooks/result/CNN_result/y_pred\"\n",
        "base_dir_model = \"/content/gdrive/My Drive/Colab Notebooks/result/model\""
      ],
      "execution_count": null,
      "outputs": []
    },
    {
      "cell_type": "code",
      "metadata": {
        "id": "A3MzQuyn9vdh"
      },
      "source": [
        "now = datetime.datetime.now()"
      ],
      "execution_count": null,
      "outputs": []
    },
    {
      "cell_type": "code",
      "metadata": {
        "id": "H4eF3k5AmoR1"
      },
      "source": [
        "excel_nm = \"{}_epoch_{}_batch_{}.xlsx\".format(now,num_epochs,BATCH_SIZE)"
      ],
      "execution_count": null,
      "outputs": []
    },
    {
      "cell_type": "code",
      "metadata": {
        "id": "y-lTet1xmoVY"
      },
      "source": [
        "xlxs_dir = os.path.join(base_dir_excel, excel_nm) "
      ],
      "execution_count": null,
      "outputs": []
    },
    {
      "cell_type": "code",
      "metadata": {
        "id": "kDWuVNS0moXt"
      },
      "source": [
        "# keras.models.save_model(model, base_dir_model, overwrite=True, include_optimizer=True)\n",
        "models.save_model(model, base_dir_model, overwrite=True, include_optimizer=True)"
      ],
      "execution_count": null,
      "outputs": []
    },
    {
      "cell_type": "code",
      "metadata": {
        "id": "NQOz7AdKmoaA"
      },
      "source": [
        "y_pred_df.to_excel(xlxs_dir, # directory and file name to write\n",
        "\n",
        "            sheet_name = 'Sheet1', \n",
        "            na_rep = 'NaN', \n",
        "            float_format = \"%.2f\", \n",
        "            header = True, \n",
        "            #columns = [\"group\", \"value_1\", \"value_2\"], # if header is False\n",
        "            index = True, \n",
        "            index_label = \"id\", \n",
        "            startrow = 1, \n",
        "            startcol = 1, \n",
        "            #engine = 'xlsxwriter', \n",
        "            freeze_panes = (2, 0)\n",
        "            ) \n"
      ],
      "execution_count": null,
      "outputs": []
    },
    {
      "cell_type": "code",
      "metadata": {
        "id": "ARadVg6smofY"
      },
      "source": [
        ""
      ],
      "execution_count": null,
      "outputs": []
    }
  ]
}